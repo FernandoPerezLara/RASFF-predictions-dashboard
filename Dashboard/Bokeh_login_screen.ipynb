{
 "cells": [
  {
   "cell_type": "code",
   "execution_count": 1,
   "metadata": {
    "ExecuteTime": {
     "end_time": "2019-09-25T11:16:06.267538Z",
     "start_time": "2019-09-25T11:16:05.515251Z"
    }
   },
   "outputs": [],
   "source": [
    "from bokeh.models.widgets import PasswordInput, TextInput, PreText, Button\n",
    "from bokeh.layouts import column, row\n",
    "from bokeh.plotting import show, output_file\n",
    "from bokeh.models.callbacks import CustomJS"
   ]
  },
  {
   "cell_type": "code",
   "execution_count": 2,
   "metadata": {
    "ExecuteTime": {
     "end_time": "2019-09-25T11:16:07.003389Z",
     "start_time": "2019-09-25T11:16:06.874734Z"
    }
   },
   "outputs": [],
   "source": [
    "USER = \"Mau\"\n",
    "PASSWD = \"Bok3h\"\n",
    "\n",
    "text = PreText(text=\"LOGIN TO KNOW\\nTHE SECRET:\")\n",
    "user = TextInput(placeholder=\"username\", title=\"(UserName: \"+USER+\")\")\n",
    "pwd = PasswordInput(placeholder=\"password\", title=\"(Password: \"+PASSWD+\")\")\n",
    "btn = Button(label=\"GO!\",width=150)\n",
    "\n",
    "secret = PreText() # Secret information displayed if correct password entered\n",
    "\n",
    "## Verify if the password typed is bokeh using a JS script\n",
    "verify_pwd = CustomJS(args=dict(user=user, pwd=pwd, secret=secret), code=\"\"\"\n",
    "    secret.text = 'Wrong Password.';\n",
    "    if (user.value == %r && pwd.value == %r) {\n",
    "        secret.text = 'Right Password. The Secret is 42.';\n",
    "    }\n",
    "\"\"\" % (USER, PASSWD))\n",
    "\n",
    "#user.callback = verify_pwd # Check password pressing enter.\n",
    "pwd.callback = verify_pwd # Check password pressing enter.\n",
    "btn.callback = verify_pwd # Check password clicking on the Button.\n",
    "\n",
    "output_file(\"using_password_input.html\", title=\"Password Field\")\n",
    "page = row(column(text,user, pwd,btn),secret)\n",
    "show(page)"
   ]
  }
 ],
 "metadata": {
  "kernelspec": {
   "display_name": "Python 3",
   "language": "python",
   "name": "python3"
  },
  "language_info": {
   "codemirror_mode": {
    "name": "ipython",
    "version": 3
   },
   "file_extension": ".py",
   "mimetype": "text/x-python",
   "name": "python",
   "nbconvert_exporter": "python",
   "pygments_lexer": "ipython3",
   "version": "3.6.8"
  },
  "toc": {
   "base_numbering": 1,
   "nav_menu": {},
   "number_sections": true,
   "sideBar": true,
   "skip_h1_title": false,
   "title_cell": "Table of Contents",
   "title_sidebar": "Contents",
   "toc_cell": false,
   "toc_position": {},
   "toc_section_display": true,
   "toc_window_display": false
  }
 },
 "nbformat": 4,
 "nbformat_minor": 2
}
