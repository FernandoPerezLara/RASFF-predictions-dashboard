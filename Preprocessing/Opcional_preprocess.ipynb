{
 "cells": [
  {
   "cell_type": "code",
   "execution_count": 1,
   "metadata": {
    "ExecuteTime": {
     "end_time": "2019-03-14T13:59:02.047094Z",
     "start_time": "2019-03-14T13:59:01.776559Z"
    }
   },
   "outputs": [],
   "source": [
    "import numpy as np\n",
    "import pandas as pd"
   ]
  },
  {
   "cell_type": "code",
   "execution_count": 2,
   "metadata": {
    "ExecuteTime": {
     "end_time": "2019-03-14T13:59:02.288448Z",
     "start_time": "2019-03-14T13:59:02.272491Z"
    }
   },
   "outputs": [],
   "source": [
    "data = pd.read_csv('./../full_RASFF_DATA.csv', sep=';', \n",
    "                header=0, index_col = 0)\n",
    "data1=data"
   ]
  },
  {
   "cell_type": "code",
   "execution_count": 3,
   "metadata": {
    "ExecuteTime": {
     "end_time": "2019-03-14T13:27:42.311514Z",
     "start_time": "2019-03-14T13:27:42.258659Z"
    }
   },
   "outputs": [],
   "source": [
    "data1.drop(data1.loc[data1['PROD_CAT']== 'animal_by-products_-_(obsolete)'].index, inplace=True)\n",
    "data1.drop(data1.loc[data1['PROD_CAT']== 'animal_nutrition_-_(obsolete)'].index, inplace=True)"
   ]
  },
  {
   "cell_type": "code",
   "execution_count": 4,
   "metadata": {
    "ExecuteTime": {
     "end_time": "2019-03-14T13:27:46.238845Z",
     "start_time": "2019-03-14T13:27:46.114800Z"
    }
   },
   "outputs": [],
   "source": [
    "data1.replace('molluscs_and_products_thereof_-_(obsolete)','bivalve_molluscs_and_products_thereof',inplace = True)\n",
    "data1.replace('feed_for_food-producing_animals_-_(obsolete)','feed_materials',inplace = True)"
   ]
  },
  {
   "cell_type": "code",
   "execution_count": 5,
   "metadata": {
    "ExecuteTime": {
     "end_time": "2019-03-14T11:48:54.421798Z",
     "start_time": "2019-03-14T11:48:54.406835Z"
    },
    "scrolled": true
   },
   "outputs": [
    {
     "name": "stdout",
     "output_type": "stream",
     "text": [
      "PROD_CAT\n",
      "animal by-products - (obsolete)                                                                24\n",
      "gastropods                                                                                     45\n",
      "farmed fish and products thereof (other than crustaceans and molluscs) - (obsolete)            46\n",
      "feed premixtures                                                                               52\n",
      "water for human consumption (other)                                                            54\n",
      "wine                                                                                           56\n",
      "natural mineral water                                                                          71\n",
      "wild caught crustaceans and products thereof - (obsolete)                                      79\n",
      "farmed crustaceans and products thereof - (obsolete)                                           83\n",
      "alcoholic beverages                                                                           114\n",
      "wild caught fish and products thereof (other than crustaceans and molluscs) - (obsolete)      120\n",
      "food additives and flavourings                                                                128\n",
      "feed additives                                                                                129\n",
      "ices and desserts                                                                             138\n",
      "compound feeds                                                                                174\n",
      "feed for food-producing animals - (obsolete)                                                  267\n",
      "honey and royal jelly                                                                         382\n",
      "animal nutrition - (obsolete)                                                                 387\n",
      "eggs and egg products                                                                         403\n",
      "other food product / mixed                                                                    483\n",
      "cephalopods and products thereof                                                              499\n",
      "non-alcoholic beverages                                                                       549\n",
      "fats and oils                                                                                 554\n",
      "molluscs and products thereof - (obsolete)                                                    564\n",
      "pet food                                                                                      621\n",
      "prepared dishes and snacks                                                                    710\n",
      "soups, broths, sauces and condiments                                                          751\n",
      "confectionery                                                                                 941\n",
      "cocoa and cocoa preparations, coffee and tea                                                  950\n",
      "milk and milk products                                                                       1096\n",
      "bivalve molluscs and products thereof                                                        1144\n",
      "crustaceans and products thereof                                                             2094\n",
      "feed materials                                                                               2176\n",
      "cereals and bakery products                                                                  2353\n",
      "dietetic foods, food supplements, fortified foods                                            2714\n",
      "herbs and spices                                                                             3016\n",
      "food contact materials                                                                       3033\n",
      "meat and meat products (other than poultry)                                                  3229\n",
      "poultry meat and poultry meat products                                                       3260\n",
      "fish and fish products                                                                       6166\n",
      "fruits and vegetables                                                                        8716\n",
      "nuts, nut products and seeds                                                                10807\n",
      "dtype: int64\n",
      "59178\n",
      "42\n"
     ]
    }
   ],
   "source": [
    "datag = data1.groupby('PROD_CAT').size().sort_values(ascending=True)\n",
    "print(datag)\n",
    "print(sum(datag))\n",
    "print(len(datag))"
   ]
  },
  {
   "cell_type": "code",
   "execution_count": 6,
   "metadata": {
    "ExecuteTime": {
     "end_time": "2019-03-14T11:51:34.179815Z",
     "start_time": "2019-03-14T11:51:34.166850Z"
    },
    "scrolled": true
   },
   "outputs": [
    {
     "name": "stdout",
     "output_type": "stream",
     "text": [
      "NOT_COUNTRY\n",
      "Australia                 1\n",
      "Russia                    1\n",
      "Canada                    3\n",
      "United States             6\n",
      "Iceland                  57\n",
      "Commission Services      73\n",
      "Croatia                 189\n",
      "Romania                 225\n",
      "Luxembourg              253\n",
      "Estonia                 287\n",
      "Malta                   313\n",
      "Hungary                 345\n",
      "Switzerland             364\n",
      "Latvia                  401\n",
      "Portugal                575\n",
      "Ireland                 628\n",
      "Lithuania               693\n",
      "Slovakia                698\n",
      "Cyprus                  731\n",
      "Slovenia                762\n",
      "Bulgaria               1024\n",
      "Norway                 1079\n",
      "Czech Republic         1164\n",
      "Austria                1195\n",
      "Sweden                 1470\n",
      "Finland                1562\n",
      "Greece                 1985\n",
      "Denmark                1986\n",
      "Poland                 2041\n",
      "Belgium                2553\n",
      "France                 3560\n",
      "Spain                  4566\n",
      "Netherlands            4641\n",
      "United Kingdom         6342\n",
      "Germany                8049\n",
      "Italy                  9356\n",
      "dtype: int64\n",
      "59178\n",
      "36\n"
     ]
    }
   ],
   "source": [
    "datag = data1.groupby('NOT_COUNTRY').size().sort_values(ascending=True)\n",
    "print(datag)\n",
    "print(sum(datag))\n",
    "print(len(datag))"
   ]
  },
  {
   "cell_type": "code",
   "execution_count": 7,
   "metadata": {
    "ExecuteTime": {
     "end_time": "2019-03-14T11:52:10.998052Z",
     "start_time": "2019-03-14T11:52:10.968156Z"
    }
   },
   "outputs": [],
   "source": [
    "data1.drop(data1.loc[data1['NOT_COUNTRY']== 'Iceland'].index, inplace=True)"
   ]
  },
  {
   "cell_type": "code",
   "execution_count": 8,
   "metadata": {
    "ExecuteTime": {
     "end_time": "2019-03-14T11:55:35.516458Z",
     "start_time": "2019-03-14T11:55:35.494489Z"
    },
    "scrolled": true
   },
   "outputs": [
    {
     "name": "stdout",
     "output_type": "stream",
     "text": [
      "DISTRIBUTION_STAT\n",
      "no distribution to other member countries                         142\n",
      "product past best before date                                     199\n",
      "no stock left                                                     265\n",
      "distribution to non-member countries                              287\n",
      "product traded online                                             398\n",
      "product past use-by date                                          608\n",
      "product already consumed                                          733\n",
      "product allowed to travel to destination under customs seals      746\n",
      "no distribution from notifying country                           2044\n",
      "product (presumably) no longer on the market                     2052\n",
      "information on distribution not (yet) available                  2121\n",
      "distribution on the market (possible)                            6194\n",
      "distribution to other member countries                           6604\n",
      "distribution restricted to notifying country                     7035\n",
      "                                                                 7449\n",
      "product not (yet) placed on the market                           9421\n",
      "no distribution                                                 12823\n",
      "dtype: int64\n",
      "59121\n",
      "17\n"
     ]
    }
   ],
   "source": [
    "datag = data.groupby('DISTRIBUTION_STAT').size().sort_values(ascending=True)\n",
    "print(datag)\n",
    "print(sum(datag))\n",
    "print(len(datag))"
   ]
  },
  {
   "cell_type": "code",
   "execution_count": 9,
   "metadata": {
    "ExecuteTime": {
     "end_time": "2019-03-14T11:55:12.500423Z",
     "start_time": "2019-03-14T11:55:12.438588Z"
    }
   },
   "outputs": [],
   "source": [
    "data1.replace('no_distribution_to_other_member_countries','distribution_to_non-member_countries',inplace = True)"
   ]
  },
  {
   "cell_type": "code",
   "execution_count": 10,
   "metadata": {
    "ExecuteTime": {
     "end_time": "2019-03-14T13:28:19.206045Z",
     "start_time": "2019-03-14T13:28:18.562836Z"
    }
   },
   "outputs": [],
   "source": [
    "data1.to_csv('splited_alerts_strings_2.0.csv', sep=';')"
   ]
  }
 ],
 "metadata": {
  "kernelspec": {
   "display_name": "Python 3",
   "language": "python",
   "name": "python3"
  },
  "language_info": {
   "codemirror_mode": {
    "name": "ipython",
    "version": 3
   },
   "file_extension": ".py",
   "mimetype": "text/x-python",
   "name": "python",
   "nbconvert_exporter": "python",
   "pygments_lexer": "ipython3",
   "version": "3.7.4"
  },
  "toc": {
   "base_numbering": 1,
   "nav_menu": {},
   "number_sections": true,
   "sideBar": true,
   "skip_h1_title": false,
   "title_cell": "Table of Contents",
   "title_sidebar": "Contents",
   "toc_cell": false,
   "toc_position": {},
   "toc_section_display": true,
   "toc_window_display": false
  }
 },
 "nbformat": 4,
 "nbformat_minor": 2
}
