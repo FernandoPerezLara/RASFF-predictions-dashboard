{
 "cells": [
  {
   "cell_type": "code",
   "execution_count": 2,
   "metadata": {
    "ExecuteTime": {
     "end_time": "2019-10-24T10:16:55.745178Z",
     "start_time": "2019-10-24T10:16:55.359217Z"
    }
   },
   "outputs": [],
   "source": [
    "import numpy as np\n",
    "import pandas as pd"
   ]
  },
  {
   "cell_type": "code",
   "execution_count": null,
   "metadata": {},
   "outputs": [],
   "source": [
    "data = pd.read_csv('../RASFF_DATA_from_13-09-2019_fixed_3.csv', sep=';', header=0, index_col = 0)"
   ]
  },
  {
   "cell_type": "code",
   "execution_count": 6,
   "metadata": {
    "ExecuteTime": {
     "end_time": "2019-10-24T10:17:38.708890Z",
     "start_time": "2019-10-24T10:17:38.703933Z"
    }
   },
   "outputs": [
    {
     "data": {
      "text/plain": [
       "NUMBER               float64\n",
       "CLASSIF               object\n",
       "DATE_CASE             object\n",
       "REF                  float64\n",
       "NOT_COUNTRY           object\n",
       "SUBJET                object\n",
       "PROD_CAT              object\n",
       "TYPE                  object\n",
       "RISK_DECISION         object\n",
       "ACTION_TAKEN          object\n",
       "DISTRIBUTION_STAT     object\n",
       "PRODUCT               object\n",
       "HAZARDS               object\n",
       "HAZARDS_CAT           object\n",
       "COUNT_ORIGEN          object\n",
       "COUNT_DESTIN          object\n",
       "COUNT_CONCERN         object\n",
       "dtype: object"
      ]
     },
     "execution_count": 6,
     "metadata": {},
     "output_type": "execute_result"
    }
   ],
   "source": [
    "data.dtypes"
   ]
  },
  {
   "cell_type": "code",
   "execution_count": null,
   "metadata": {},
   "outputs": [],
   "source": [
    "data = data.drop_duplicates(subset='REF')\n",
    "data = data.fillna(\" \")\n",
    "data ['CLASSIF'] = data ['CLASSIF'].str.lower()\n",
    "data ['PROD_CAT'] = data ['PROD_CAT'].str.lower()\n",
    "data ['TYPE'] = data ['TYPE'].str.lower()\n",
    "data ['RISK_DECISION'] = data ['RISK_DECISION'].str.lower()\n",
    "data ['ACTION_TAKEN'] = data ['ACTION_TAKEN'].str.lower()\n",
    "data ['DISTRIBUTION_STAT'] = data ['DISTRIBUTION_STAT'].str.lower()\n",
    "data ['PRODUCT'] = data ['PRODUCT'].str.lower()\n",
    "data ['HAZARDS'] = data ['HAZARDS'].str.lower()\n",
    "data ['HAZARDS_CAT'] = data ['HAZARDS_CAT'].str.lower()"
   ]
  },
  {
   "cell_type": "code",
   "execution_count": 13,
   "metadata": {
    "ExecuteTime": {
     "end_time": "2019-10-14T11:04:32.243354Z",
     "start_time": "2019-10-14T11:04:31.740355Z"
    }
   },
   "outputs": [],
   "source": [
    "data.to_csv('../RASFF_DATA_from_13-09-2019_fixed_4.csv', sep=';')"
   ]
  }
 ],
 "metadata": {
  "kernelspec": {
   "display_name": "Python 3",
   "language": "python",
   "name": "python3"
  },
  "language_info": {
   "codemirror_mode": {
    "name": "ipython",
    "version": 3
   },
   "file_extension": ".py",
   "mimetype": "text/x-python",
   "name": "python",
   "nbconvert_exporter": "python",
   "pygments_lexer": "ipython3",
   "version": "3.7.4"
  },
  "toc": {
   "base_numbering": 1,
   "nav_menu": {},
   "number_sections": true,
   "sideBar": true,
   "skip_h1_title": false,
   "title_cell": "Table of Contents",
   "title_sidebar": "Contents",
   "toc_cell": false,
   "toc_position": {},
   "toc_section_display": true,
   "toc_window_display": false
  }
 },
 "nbformat": 4,
 "nbformat_minor": 2
}
