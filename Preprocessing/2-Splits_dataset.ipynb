{
 "cells": [
  {
   "cell_type": "code",
   "execution_count": 1,
   "metadata": {
    "ExecuteTime": {
     "end_time": "2019-11-22T10:49:20.257954Z",
     "start_time": "2019-11-22T10:49:18.481284Z"
    }
   },
   "outputs": [],
   "source": [
    "import numpy as np\n",
    "import pandas as pd\n",
    "import numpy as np\n",
    "from itertools import chain"
   ]
  },
  {
   "cell_type": "markdown",
   "metadata": {},
   "source": [
    "# Creación de dataset con las alertas desacopladas"
   ]
  },
  {
   "cell_type": "code",
   "execution_count": 2,
   "metadata": {},
   "outputs": [],
   "source": [
    "data = pd.read_csv('../full_RASFF_DATA.csv', sep=';', \n",
    "                   header=0, index_col = 0)\n",
    "data = data.drop(columns=['NUMBER','REF','CLASSIF','SUBJET','PRODUCT','HAZARDS'])\n",
    "data = data.fillna(\" \")\n",
    "\n",
    "#display(data)"
   ]
  },
  {
   "cell_type": "code",
   "execution_count": 3,
   "metadata": {
    "ExecuteTime": {
     "end_time": "2019-11-22T10:49:50.420545Z",
     "start_time": "2019-11-22T10:49:50.417552Z"
    }
   },
   "outputs": [],
   "source": [
    "def chainer(s):\n",
    "    return list(chain.from_iterable(s.str.split(',')))"
   ]
  },
  {
   "cell_type": "code",
   "execution_count": 4,
   "metadata": {
    "ExecuteTime": {
     "end_time": "2019-11-22T10:49:52.466143Z",
     "start_time": "2019-11-22T10:49:52.352420Z"
    }
   },
   "outputs": [],
   "source": [
    "lens = data['HAZARDS_CAT'].str.split(',').map(len)\n",
    "#lens = len(data['HAZARDS_CAT'].str.split(','))\n",
    "split1 = pd.DataFrame({'DATE_CASE': np.repeat(data['DATE_CASE'], lens),\n",
    "                    'NOT_COUNTRY': np.repeat(data['NOT_COUNTRY'], lens),\n",
    "                    'PROD_CAT': np.repeat(data['PROD_CAT'], lens),\n",
    "                    'TYPE': np.repeat(data['TYPE'], lens),\n",
    "                    'RISK_DECISION': np.repeat(data['RISK_DECISION'], lens),\n",
    "                    'ACTION_TAKEN': np.repeat(data['ACTION_TAKEN'], lens),\n",
    "                    'DISTRIBUTION_STAT': np.repeat(data['DISTRIBUTION_STAT'], lens),\n",
    "                    'HAZARDS_CAT': chainer(data['HAZARDS_CAT']),                      #Column I separate\n",
    "                    'COUNT_ORIGEN': np.repeat(data['COUNT_ORIGEN'], lens),\n",
    "                    'COUNT_DESTIN': np.repeat(data['COUNT_DESTIN'], lens),\n",
    "                    'COUNT_CONCERN': np.repeat(data['COUNT_CONCERN'], lens)})"
   ]
  },
  {
   "cell_type": "code",
   "execution_count": 5,
   "metadata": {
    "ExecuteTime": {
     "end_time": "2019-11-22T10:49:58.198500Z",
     "start_time": "2019-11-22T10:49:58.080788Z"
    }
   },
   "outputs": [],
   "source": [
    "lens = split1['COUNT_ORIGEN'].str.split(',').map(len)\n",
    "#lens = len(split1['COUNT_ORIGEN'].str.split(','))\n",
    "\n",
    "split2 = pd.DataFrame({'DATE_CASE': np.repeat(split1['DATE_CASE'], lens),\n",
    "                    'NOT_COUNTRY': np.repeat(split1['NOT_COUNTRY'], lens),\n",
    "                    'PROD_CAT': np.repeat(split1['PROD_CAT'], lens),\n",
    "                    'TYPE': np.repeat(split1['TYPE'], lens),\n",
    "                    'RISK_DECISION': np.repeat(split1['RISK_DECISION'], lens),\n",
    "                    'ACTION_TAKEN': np.repeat(split1['ACTION_TAKEN'], lens),\n",
    "                    'DISTRIBUTION_STAT': np.repeat(split1['DISTRIBUTION_STAT'], lens),\n",
    "                    'HAZARDS_CAT': np.repeat(split1['HAZARDS_CAT'], lens),\n",
    "                    'COUNT_ORIGEN': chainer(split1['COUNT_ORIGEN']),                #Column I separate\n",
    "                    'COUNT_DESTIN': np.repeat(split1['COUNT_DESTIN'], lens),\n",
    "                    'COUNT_CONCERN': np.repeat(split1['COUNT_CONCERN'], lens)})\n"
   ]
  },
  {
   "cell_type": "code",
   "execution_count": 6,
   "metadata": {
    "ExecuteTime": {
     "end_time": "2019-11-22T10:49:59.835154Z",
     "start_time": "2019-11-22T10:49:59.666606Z"
    }
   },
   "outputs": [],
   "source": [
    "lens = split2['COUNT_DESTIN'].str.split(',').map(len)\n",
    "#lens = len(split2['COUNT_DESTIN'].str.split(','))\n",
    "\n",
    "split3 = pd.DataFrame({'DATE_CASE': np.repeat(split2['DATE_CASE'], lens),\n",
    "                    'NOT_COUNTRY': np.repeat(split2['NOT_COUNTRY'], lens),\n",
    "                    'PROD_CAT': np.repeat(split2['PROD_CAT'], lens),\n",
    "                    'TYPE': np.repeat(split2['TYPE'], lens),\n",
    "                    'RISK_DECISION': np.repeat(split2['RISK_DECISION'], lens),\n",
    "                    'ACTION_TAKEN': np.repeat(split2['ACTION_TAKEN'], lens),\n",
    "                    'DISTRIBUTION_STAT': np.repeat(split2['DISTRIBUTION_STAT'], lens),\n",
    "                    'HAZARDS_CAT': np.repeat(split2['HAZARDS_CAT'], lens),\n",
    "                    'COUNT_ORIGEN': np.repeat(split2['COUNT_ORIGEN'], lens),\n",
    "                    'COUNT_DESTIN': chainer(split2['COUNT_DESTIN']),             #Column I separate\n",
    "                    'COUNT_CONCERN': np.repeat(split2['COUNT_CONCERN'], lens)})"
   ]
  },
  {
   "cell_type": "code",
   "execution_count": 7,
   "metadata": {
    "ExecuteTime": {
     "end_time": "2019-11-22T10:50:02.758576Z",
     "start_time": "2019-11-22T10:50:02.529191Z"
    }
   },
   "outputs": [],
   "source": [
    "lens = split3['COUNT_CONCERN'].str.split(',').map(len)\n",
    "#lens = len(split3['COUNT_CONCERN'].str.split(','))\n",
    "\n",
    "split4 = pd.DataFrame({'DATE_CASE': np.repeat(split3['DATE_CASE'], lens),\n",
    "                    'NOT_COUNTRY': np.repeat(split3['NOT_COUNTRY'], lens),\n",
    "                    'PROD_CAT': np.repeat(split3['PROD_CAT'], lens),\n",
    "                    'TYPE': np.repeat(split3['TYPE'], lens),\n",
    "                    'RISK_DECISION': np.repeat(split3['RISK_DECISION'], lens),\n",
    "                    'ACTION_TAKEN': np.repeat(split3['ACTION_TAKEN'], lens),\n",
    "                    'DISTRIBUTION_STAT': np.repeat(split3['DISTRIBUTION_STAT'], lens),\n",
    "                    'HAZARDS_CAT': np.repeat(split3['HAZARDS_CAT'], lens),\n",
    "                    'COUNT_ORIGEN': np.repeat(split3['COUNT_ORIGEN'], lens),\n",
    "                    'COUNT_DESTIN': np.repeat(split3['COUNT_DESTIN'], lens),\n",
    "                    'COUNT_CONCERN': chainer(split3['COUNT_CONCERN'])})        #Column I separate"
   ]
  },
  {
   "cell_type": "code",
   "execution_count": 8,
   "metadata": {
    "ExecuteTime": {
     "end_time": "2019-11-22T10:50:15.032891Z",
     "start_time": "2019-11-22T10:50:14.995967Z"
    },
    "scrolled": true
   },
   "outputs": [],
   "source": [
    "split4 = split4.reset_index(drop = True)\n",
    "#split4"
   ]
  },
  {
   "cell_type": "code",
   "execution_count": 9,
   "metadata": {
    "ExecuteTime": {
     "end_time": "2019-11-22T10:50:06.410934Z",
     "start_time": "2019-11-22T10:50:06.305190Z"
    }
   },
   "outputs": [
    {
     "name": "stdout",
     "output_type": "stream",
     "text": [
      "37 37 43 43 4 4 4 4 26 26 18 18 33 549 193 1448 216 5007 145 1460\n"
     ]
    }
   ],
   "source": [
    "print(len(split4['NOT_COUNTRY'].unique()), len(data['NOT_COUNTRY'].unique()),len(split4['PROD_CAT'].unique()),len(data['PROD_CAT'].unique()),\n",
    "     len(split4['TYPE'].unique()),len(data['TYPE'].unique()),len(split4['RISK_DECISION'].unique()),len(data['RISK_DECISION'].unique()),\n",
    "     len(split4['ACTION_TAKEN'].unique()),len(data['ACTION_TAKEN'].unique()),len(split4['DISTRIBUTION_STAT'].unique()),\n",
    "     len(data['DISTRIBUTION_STAT'].unique()),len(split4['HAZARDS_CAT'].unique()),\n",
    "     len(data['HAZARDS_CAT'].unique()),len(split4['COUNT_ORIGEN'].unique()),len(data['COUNT_ORIGEN'].unique()),\n",
    "     len(split4['COUNT_DESTIN'].unique()),len(data['COUNT_DESTIN'].unique()),\n",
    "     len(split4['COUNT_CONCERN'].unique()),len(data['COUNT_CONCERN'].unique()))"
   ]
  },
  {
   "cell_type": "code",
   "execution_count": 10,
   "metadata": {},
   "outputs": [],
   "source": [
    "split4 = split4.dropna(subset = ['DATE_CASE'])"
   ]
  },
  {
   "cell_type": "code",
   "execution_count": 11,
   "metadata": {
    "ExecuteTime": {
     "end_time": "2019-11-22T10:50:54.677853Z",
     "start_time": "2019-11-22T10:50:54.049536Z"
    }
   },
   "outputs": [],
   "source": [
    "split4.to_csv('../splited_full_RASFF_DATA.csv', sep=';')"
   ]
  },
  {
   "cell_type": "markdown",
   "metadata": {},
   "source": [
    "# Check del dataset"
   ]
  },
  {
   "cell_type": "code",
   "execution_count": 12,
   "metadata": {
    "ExecuteTime": {
     "end_time": "2019-10-30T10:59:59.758171Z",
     "start_time": "2019-10-30T10:59:59.701353Z"
    },
    "scrolled": true
   },
   "outputs": [
    {
     "data": {
      "text/html": [
       "<div>\n",
       "<style scoped>\n",
       "    .dataframe tbody tr th:only-of-type {\n",
       "        vertical-align: middle;\n",
       "    }\n",
       "\n",
       "    .dataframe tbody tr th {\n",
       "        vertical-align: top;\n",
       "    }\n",
       "\n",
       "    .dataframe thead th {\n",
       "        text-align: right;\n",
       "    }\n",
       "</style>\n",
       "<table border=\"1\" class=\"dataframe\">\n",
       "  <thead>\n",
       "    <tr style=\"text-align: right;\">\n",
       "      <th></th>\n",
       "      <th>DATE_CASE</th>\n",
       "      <th>NOT_COUNTRY</th>\n",
       "      <th>PROD_CAT</th>\n",
       "      <th>TYPE</th>\n",
       "      <th>RISK_DECISION</th>\n",
       "      <th>ACTION_TAKEN</th>\n",
       "      <th>DISTRIBUTION_STAT</th>\n",
       "      <th>HAZARDS_CAT</th>\n",
       "      <th>COUNT_ORIGEN</th>\n",
       "      <th>COUNT_DESTIN</th>\n",
       "      <th>COUNT_CONCERN</th>\n",
       "    </tr>\n",
       "  </thead>\n",
       "  <tbody>\n",
       "    <tr>\n",
       "      <th>0</th>\n",
       "      <td>2020-10-16</td>\n",
       "      <td>France</td>\n",
       "      <td>meat and meat products (other than poultry)</td>\n",
       "      <td>food</td>\n",
       "      <td>serious</td>\n",
       "      <td>recall from consumers</td>\n",
       "      <td>distribution to other member countries</td>\n",
       "      <td>microbial contaminants (other)</td>\n",
       "      <td>France</td>\n",
       "      <td>Czech Republic</td>\n",
       "      <td></td>\n",
       "    </tr>\n",
       "    <tr>\n",
       "      <th>1</th>\n",
       "      <td>2020-10-16</td>\n",
       "      <td>France</td>\n",
       "      <td>meat and meat products (other than poultry)</td>\n",
       "      <td>food</td>\n",
       "      <td>serious</td>\n",
       "      <td>recall from consumers</td>\n",
       "      <td>distribution to other member countries</td>\n",
       "      <td>microbial contaminants (other)</td>\n",
       "      <td>France</td>\n",
       "      <td>United Kingdom</td>\n",
       "      <td></td>\n",
       "    </tr>\n",
       "    <tr>\n",
       "      <th>2</th>\n",
       "      <td>2020-10-16</td>\n",
       "      <td>Bulgaria</td>\n",
       "      <td>fruits and vegetables</td>\n",
       "      <td>food</td>\n",
       "      <td>serious</td>\n",
       "      <td>destruction</td>\n",
       "      <td>product not (yet) placed on the market</td>\n",
       "      <td>pesticide residues</td>\n",
       "      <td>Turkey</td>\n",
       "      <td></td>\n",
       "      <td>Bulgaria</td>\n",
       "    </tr>\n",
       "    <tr>\n",
       "      <th>3</th>\n",
       "      <td>2020-10-16</td>\n",
       "      <td>Bulgaria</td>\n",
       "      <td>fruits and vegetables</td>\n",
       "      <td>food</td>\n",
       "      <td>serious</td>\n",
       "      <td>re-dispatch</td>\n",
       "      <td>product not (yet) placed on the market</td>\n",
       "      <td>pesticide residues</td>\n",
       "      <td>Turkey</td>\n",
       "      <td></td>\n",
       "      <td>Bulgaria</td>\n",
       "    </tr>\n",
       "    <tr>\n",
       "      <th>4</th>\n",
       "      <td>2020-10-16</td>\n",
       "      <td>Germany</td>\n",
       "      <td>feed materials</td>\n",
       "      <td>feed</td>\n",
       "      <td>not serious</td>\n",
       "      <td>withdrawal from the market</td>\n",
       "      <td>distribution to other member countries</td>\n",
       "      <td>pathogenic micro-organisms</td>\n",
       "      <td>Germany</td>\n",
       "      <td>Austria</td>\n",
       "      <td></td>\n",
       "    </tr>\n",
       "    <tr>\n",
       "      <th>...</th>\n",
       "      <td>...</td>\n",
       "      <td>...</td>\n",
       "      <td>...</td>\n",
       "      <td>...</td>\n",
       "      <td>...</td>\n",
       "      <td>...</td>\n",
       "      <td>...</td>\n",
       "      <td>...</td>\n",
       "      <td>...</td>\n",
       "      <td>...</td>\n",
       "      <td>...</td>\n",
       "    </tr>\n",
       "    <tr>\n",
       "      <th>168183</th>\n",
       "      <td>1980-04-10</td>\n",
       "      <td>Belgium</td>\n",
       "      <td>crustaceans and products thereof</td>\n",
       "      <td>food</td>\n",
       "      <td>undecided</td>\n",
       "      <td></td>\n",
       "      <td></td>\n",
       "      <td>microbial contaminants (other)</td>\n",
       "      <td>Malaysia</td>\n",
       "      <td></td>\n",
       "      <td>Belgium</td>\n",
       "    </tr>\n",
       "    <tr>\n",
       "      <th>168184</th>\n",
       "      <td>1980-03-24</td>\n",
       "      <td>United Kingdom</td>\n",
       "      <td>meat and meat products (other than poultry)</td>\n",
       "      <td>food</td>\n",
       "      <td>undecided</td>\n",
       "      <td></td>\n",
       "      <td></td>\n",
       "      <td>packaging defective / incorrect</td>\n",
       "      <td>United Kingdom</td>\n",
       "      <td></td>\n",
       "      <td></td>\n",
       "    </tr>\n",
       "    <tr>\n",
       "      <th>168185</th>\n",
       "      <td>1980-01-26</td>\n",
       "      <td>France</td>\n",
       "      <td>fish and fish products</td>\n",
       "      <td>food</td>\n",
       "      <td>undecided</td>\n",
       "      <td></td>\n",
       "      <td></td>\n",
       "      <td>organoleptic aspects</td>\n",
       "      <td>South Africa</td>\n",
       "      <td></td>\n",
       "      <td>France</td>\n",
       "    </tr>\n",
       "    <tr>\n",
       "      <th>168186</th>\n",
       "      <td>1979-09-15</td>\n",
       "      <td>Commission Services</td>\n",
       "      <td>molluscs and products thereof - (obsolete)</td>\n",
       "      <td>food</td>\n",
       "      <td>undecided</td>\n",
       "      <td></td>\n",
       "      <td></td>\n",
       "      <td>organoleptic aspects</td>\n",
       "      <td>unknown origin</td>\n",
       "      <td></td>\n",
       "      <td>Commission Services</td>\n",
       "    </tr>\n",
       "    <tr>\n",
       "      <th>168187</th>\n",
       "      <td></td>\n",
       "      <td>NOT_COUNTRY</td>\n",
       "      <td>prod_cat</td>\n",
       "      <td>type</td>\n",
       "      <td>risk_decision</td>\n",
       "      <td>action_taken</td>\n",
       "      <td>distribution_stat</td>\n",
       "      <td>hazards_cat</td>\n",
       "      <td>COUNT_ORIGEN</td>\n",
       "      <td>COUNT_DESTIN</td>\n",
       "      <td>COUNT_CONCERN</td>\n",
       "    </tr>\n",
       "  </tbody>\n",
       "</table>\n",
       "<p>168188 rows × 11 columns</p>\n",
       "</div>"
      ],
      "text/plain": [
       "         DATE_CASE          NOT_COUNTRY  \\\n",
       "0       2020-10-16               France   \n",
       "1       2020-10-16               France   \n",
       "2       2020-10-16             Bulgaria   \n",
       "3       2020-10-16             Bulgaria   \n",
       "4       2020-10-16              Germany   \n",
       "...            ...                  ...   \n",
       "168183  1980-04-10              Belgium   \n",
       "168184  1980-03-24       United Kingdom   \n",
       "168185  1980-01-26               France   \n",
       "168186  1979-09-15  Commission Services   \n",
       "168187                      NOT_COUNTRY   \n",
       "\n",
       "                                           PROD_CAT  TYPE  RISK_DECISION  \\\n",
       "0       meat and meat products (other than poultry)  food        serious   \n",
       "1       meat and meat products (other than poultry)  food        serious   \n",
       "2                             fruits and vegetables  food        serious   \n",
       "3                             fruits and vegetables  food        serious   \n",
       "4                                    feed materials  feed    not serious   \n",
       "...                                             ...   ...            ...   \n",
       "168183             crustaceans and products thereof  food      undecided   \n",
       "168184  meat and meat products (other than poultry)  food      undecided   \n",
       "168185                       fish and fish products  food      undecided   \n",
       "168186   molluscs and products thereof - (obsolete)  food      undecided   \n",
       "168187                                     prod_cat  type  risk_decision   \n",
       "\n",
       "                      ACTION_TAKEN                       DISTRIBUTION_STAT  \\\n",
       "0            recall from consumers  distribution to other member countries   \n",
       "1            recall from consumers  distribution to other member countries   \n",
       "2                      destruction  product not (yet) placed on the market   \n",
       "3                      re-dispatch  product not (yet) placed on the market   \n",
       "4       withdrawal from the market  distribution to other member countries   \n",
       "...                            ...                                     ...   \n",
       "168183                                                                       \n",
       "168184                                                                       \n",
       "168185                                                                       \n",
       "168186                                                                       \n",
       "168187                action_taken                       distribution_stat   \n",
       "\n",
       "                            HAZARDS_CAT    COUNT_ORIGEN    COUNT_DESTIN  \\\n",
       "0        microbial contaminants (other)          France  Czech Republic   \n",
       "1        microbial contaminants (other)          France  United Kingdom   \n",
       "2                    pesticide residues          Turkey                   \n",
       "3                    pesticide residues          Turkey                   \n",
       "4            pathogenic micro-organisms         Germany         Austria   \n",
       "...                                 ...             ...             ...   \n",
       "168183   microbial contaminants (other)        Malaysia                   \n",
       "168184  packaging defective / incorrect  United Kingdom                   \n",
       "168185             organoleptic aspects    South Africa                   \n",
       "168186             organoleptic aspects  unknown origin                   \n",
       "168187                      hazards_cat    COUNT_ORIGEN    COUNT_DESTIN   \n",
       "\n",
       "              COUNT_CONCERN  \n",
       "0                            \n",
       "1                            \n",
       "2                  Bulgaria  \n",
       "3                  Bulgaria  \n",
       "4                            \n",
       "...                     ...  \n",
       "168183              Belgium  \n",
       "168184                       \n",
       "168185               France  \n",
       "168186  Commission Services  \n",
       "168187        COUNT_CONCERN  \n",
       "\n",
       "[168188 rows x 11 columns]"
      ]
     },
     "execution_count": 12,
     "metadata": {},
     "output_type": "execute_result"
    }
   ],
   "source": [
    "data = pd.read_csv('../splited_full_RASFF_DATA.csv', sep=';', \n",
    "                   header=0, index_col = 0)\n",
    "data"
   ]
  },
  {
   "cell_type": "code",
   "execution_count": 13,
   "metadata": {
    "ExecuteTime": {
     "end_time": "2019-10-30T11:00:05.592089Z",
     "start_time": "2019-10-30T11:00:05.586131Z"
    }
   },
   "outputs": [
    {
     "name": "stdout",
     "output_type": "stream",
     "text": [
      "['microbial contaminants (other)' 'pesticide residues'\n",
      " 'pathogenic micro-organisms' 'metals' 'novel food' 'composition'\n",
      " 'allergens' 'mycotoxins' 'food additives and flavourings'\n",
      " 'foreign bodies' 'migration' 'residues of veterinary medicinal products'\n",
      " 'environmental pollutants' 'poor or insufficient controls'\n",
      " 'genetically modified food or feed' 'industrial contaminants'\n",
      " 'packaging defective / incorrect' 'adulteration / fraud'\n",
      " 'not determined / other' 'parasitic infestation'\n",
      " 'biological contaminants (other)' 'natural toxins (other)'\n",
      " 'feed additives' 'labelling absent/incomplete/incorrect'\n",
      " 'process contaminants' 'tses' 'radiation' 'organoleptic aspects'\n",
      " 'chemical contaminants (other)' ' ' nan 'unauthorised transit'\n",
      " 'hazards_cat']\n"
     ]
    },
    {
     "data": {
      "text/plain": [
       "33"
      ]
     },
     "execution_count": 13,
     "metadata": {},
     "output_type": "execute_result"
    }
   ],
   "source": [
    "print(data['HAZARDS_CAT'].unique())\n",
    "len(data['HAZARDS_CAT'].unique())"
   ]
  },
  {
   "cell_type": "code",
   "execution_count": 14,
   "metadata": {
    "ExecuteTime": {
     "end_time": "2019-10-30T11:00:19.288326Z",
     "start_time": "2019-10-30T11:00:19.282319Z"
    }
   },
   "outputs": [
    {
     "name": "stdout",
     "output_type": "stream",
     "text": [
      "['France' 'Turkey' 'Germany' 'Greece' 'India' 'Belgium' 'Egypt'\n",
      " 'United States' 'unknown origin' 'Portugal' 'Netherlands' 'Italy'\n",
      " 'Poland' 'Sweden' 'Guyana' 'Nigeria' 'Belarus' 'Brazil' 'Madagascar'\n",
      " 'Sri Lanka' 'China' 'Bulgaria' ' ' 'United Kingdom' 'South Africa'\n",
      " 'Lithuania' 'Pakistan' 'Denmark' 'Australia' 'Vietnam' 'Hungary' 'Chile'\n",
      " 'Laos' 'Hong Kong' 'Mozambique' 'Ethiopia' 'Austria' 'Bangladesh'\n",
      " 'Argentina' 'United Arab Emirates' 'Slovenia' 'Uganda'\n",
      " 'Republic of North Macedonia' 'Spain' 'Czech Republic' 'Indonesia' 'Fiji'\n",
      " 'Colombia' 'Croatia' 'Peru' 'Romania' 'Seychelles' 'Russia' 'Thailand'\n",
      " 'Senegal' 'Ghana' 'Iran' 'Albania' 'Japan' 'Georgia' 'Togo' 'Slovakia'\n",
      " 'Latvia' 'Iceland' 'Singapore' 'Bahamas' 'Switzerland' 'Venezuela'\n",
      " 'Morocco' 'Taiwan' 'Ireland' 'Kenya' 'Cambodia' 'Trinidad and Tobago'\n",
      " 'Namibia' 'Israel' 'Mexico' 'Cameroon' 'Ukraine' 'Malaysia' 'Uzbekistan'\n",
      " 'New Zealand' 'Oman' 'Syria' 'North Korea' 'Finland' 'Nepal'\n",
      " 'El Salvador' 'Bolivia' 'Algeria' 'Uruguay' \"Côte d'Ivoire\" 'Luxembourg'\n",
      " 'Serbia' 'Ecuador' 'Philippines' 'Canada' 'Lebanon' 'Norway' 'Moldova'\n",
      " 'Maldives' 'Kazakhstan' 'Mauritania' 'Bosnia and Herzegovina'\n",
      " 'South Korea' 'Gibraltar' 'Dominican Republic' 'Paraguay' 'Sudan'\n",
      " 'Jordan' 'Panama' 'Estonia' 'West Bank and Gaza Strip' 'Afghanistan'\n",
      " 'Honduras' 'Tunisia' 'Guinea' 'Gambia' 'Azerbaijan' 'Saudi Arabia'\n",
      " 'Burkina Faso' 'Guinea-Bissau' 'Falkland Islands' 'Myanmar' 'Tajikistan'\n",
      " 'Solomon Islands' 'Tanzania' 'Angola' 'French Polynesia' 'Nicaragua'\n",
      " 'Grenada' 'Suriname' 'Mauritius' 'Cyprus' 'Kosovo' 'Guatemala'\n",
      " 'Papua New Guinea' 'Niger' 'Liechtenstein' 'Kyrgyzstan' 'Barbados'\n",
      " 'Costa Rica' 'Chad' 'Belize' 'Cuba' 'Faeroe Islands' 'Sierra Leone'\n",
      " 'Mali' 'Greenland' 'Malta' 'Benin' 'Zimbabwe' 'Zambia' 'Mongolia'\n",
      " 'Eswatini' 'Malawi' 'Brunei' 'Cape Verde' 'Yemen' 'Montenegro' 'Andorra'\n",
      " 'Jamaica' 'Kuwait' 'Réunion' 'Curaçao' 'Burundi' 'Netherlands Antilles'\n",
      " 'Democratic Republic of the Congo' 'Armenia' 'Dominica' 'San Marino'\n",
      " 'Guadeloupe' 'British Virgin Islands' 'Monaco' 'Congo' 'Bahrain' 'Iraq'\n",
      " 'Jersey' 'Qatar' 'Aruba' 'Puerto Rico' 'Rwanda' 'Guernsey' 'Gabon'\n",
      " 'Macao' 'Haiti' 'Tonga' 'Serbia and Montenegro' 'Comoros' 'Eritrea'\n",
      " 'Botswana' 'Swaziland' 'COUNT_ORIGEN']\n"
     ]
    },
    {
     "data": {
      "text/plain": [
       "193"
      ]
     },
     "execution_count": 14,
     "metadata": {},
     "output_type": "execute_result"
    }
   ],
   "source": [
    "print(data['COUNT_ORIGEN'].unique())\n",
    "len(data['COUNT_ORIGEN'].unique())"
   ]
  },
  {
   "cell_type": "code",
   "execution_count": 15,
   "metadata": {
    "ExecuteTime": {
     "end_time": "2019-10-30T11:00:22.088657Z",
     "start_time": "2019-10-30T11:00:22.081669Z"
    }
   },
   "outputs": [
    {
     "name": "stdout",
     "output_type": "stream",
     "text": [
      "['Czech Republic' 'United Kingdom' ' ' 'Austria' 'Netherlands' 'Germany'\n",
      " 'France' 'Sweden' 'Belgium' 'Finland' 'Ireland' 'Italy' 'Denmark'\n",
      " 'Greece' 'Romania' 'Slovenia' 'Bulgaria' 'Lithuania' 'Poland' 'Spain'\n",
      " 'Latvia' 'Slovakia' 'Hungary' 'Luxembourg' 'Cyprus' 'Montenegro' 'Norway'\n",
      " 'Portugal' 'Australia' 'Bahrain' 'Chile' 'Estonia' 'Iceland' 'Kuwait'\n",
      " 'Malta' 'Panama' 'Qatar' 'Saudi Arabia' 'Singapore'\n",
      " 'United Arab Emirates' 'Russia' 'Ghana' 'San Marino' 'Canada' 'Croatia'\n",
      " 'Kosovo' 'Switzerland' 'United States' 'China' 'Jersey' 'Taiwan'\n",
      " 'Afghanistan' 'Madagascar' 'Mauritius' 'New Caledonia' 'Belarus'\n",
      " 'Andorra' 'Guernsey' 'Isle of Man' 'Democratic Republic of the Congo'\n",
      " 'Albania' 'Philippines' 'Venezuela' 'Comoros' 'Liberia' 'Argentina'\n",
      " 'Colombia' 'Mexico' 'French Polynesia' 'Gambia' 'Ukraine' 'Åland Islands'\n",
      " 'Hong Kong' 'Benin' 'Seychelles' 'South Korea' 'Lebanon'\n",
      " 'Republic of North Macedonia' 'Egypt' 'Gibraltar' 'India' 'Iraq' 'Jordan'\n",
      " 'Mali' 'Somalia' 'South Africa' 'Bosnia and Herzegovina' 'Moldova'\n",
      " 'Vietnam' 'Brunei' 'Falkland Islands' 'Israel' 'Saint Helena' 'Thailand'\n",
      " 'Serbia' 'Kazakhstan' 'Monaco' 'New Zealand' 'Dominican Republic'\n",
      " 'Morocco' \"Côte d'Ivoire\" 'Suriname' 'Antigua and Barbuda' 'Bermuda'\n",
      " 'Gabon' 'Sierra Leone' 'Guinea' 'Angola' 'Algeria' 'Nigeria'\n",
      " 'Central African Republic' 'Brazil' 'Liechtenstein' 'Equatorial Guinea'\n",
      " 'Faeroe Islands' 'Cameroon' 'Uganda' 'Burkina Faso' 'Djibouti'\n",
      " 'Mauritania' 'Niger' 'Mozambique' 'Barbados' 'Burundi' 'Malaysia'\n",
      " 'Georgia' 'Greenland' 'Marshall Islands' 'Rwanda' 'Turkey' 'Uzbekistan'\n",
      " 'Armenia' 'Sri Lanka' 'Japan' 'Maldives' 'Macao' 'Azerbaijan' 'Bahamas'\n",
      " 'Cayman Islands' 'Togo' 'Haiti' 'Mayotte' 'American Samoa' 'Congo'\n",
      " 'Senegal' 'Aruba' 'Curaçao' 'Sint Maarten' 'Indonesia' 'Réunion'\n",
      " 'Saint Barthélemy' 'Uruguay' 'Saint Martin' 'Jamaica' 'Pakistan'\n",
      " 'Trinidad and Tobago' 'Tunisia' 'Guadeloupe' 'Honduras'\n",
      " 'Saint Pierre and Miquelon' 'Zimbabwe' 'Oman' 'Peru' 'Libya' 'Myanmar'\n",
      " 'Bolivia' 'Cape Verde' 'Saint Kitts and Nevis' 'Saint Lucia'\n",
      " 'Saint Vincent and the Grenadines' 'Martinique' 'Iran' 'Kyrgyzstan'\n",
      " 'Kenya' 'São Tomé and Príncipe' 'East Timor' 'Cuba' 'Zambia'\n",
      " 'British Virgin Islands' 'Mongolia' 'Guatemala' 'Costa Rica' 'Chad'\n",
      " 'Ecuador' 'Vanuatu' 'Nepal' 'Vatican City' 'Belize' 'Namibia'\n",
      " 'El Salvador' 'Puerto Rico' 'US Virgin Islands' 'Sudan' 'Bangladesh'\n",
      " 'Cambodia' 'Paraguay' 'Syria' 'Yemen' 'Nicaragua'\n",
      " 'Turks and Caicos Islands' 'Turkmenistan' 'Tanzania'\n",
      " 'West Bank and Gaza Strip' 'Anguilla' 'Eswatini' 'Ethiopia'\n",
      " 'French Guiana' 'Netherlands Antilles' 'Dominica' 'Laos' 'Tajikistan'\n",
      " 'Guyana' 'Wallis and Futuna' 'Grenada' 'Serbia and Montenegro'\n",
      " 'COUNT_DESTIN']\n"
     ]
    },
    {
     "data": {
      "text/plain": [
       "216"
      ]
     },
     "execution_count": 15,
     "metadata": {},
     "output_type": "execute_result"
    }
   ],
   "source": [
    "print(data['COUNT_DESTIN'].unique())\n",
    "len(data['COUNT_DESTIN'].unique())"
   ]
  },
  {
   "cell_type": "code",
   "execution_count": 16,
   "metadata": {
    "ExecuteTime": {
     "end_time": "2019-10-30T11:00:24.889241Z",
     "start_time": "2019-10-30T11:00:24.882286Z"
    }
   },
   "outputs": [
    {
     "name": "stdout",
     "output_type": "stream",
     "text": [
      "[' ' 'Bulgaria' 'INFOSAN' 'Sweden' 'Netherlands' 'Malaysia'\n",
      " 'United Kingdom' 'United States' 'Germany' 'France' 'Belgium' 'Slovenia'\n",
      " 'Romania' 'Turkey' 'Denmark' 'Czech Republic' 'Jersey' 'Austria' 'Poland'\n",
      " 'Commission Services' 'Portugal' 'unknown origin' 'Italy' 'Hong Kong'\n",
      " 'Malta' 'Switzerland' 'Greece' 'Gibraltar' 'Spain' 'Norway' 'Luxembourg'\n",
      " 'Latvia' 'Lithuania' 'Hungary' 'Russia' 'Slovakia' 'Ukraine' 'Estonia'\n",
      " 'Finland' 'Bahrain' 'China' 'Israel' 'Iran' 'Ireland' 'Kuwait' 'Thailand'\n",
      " 'India' 'Bosnia and Herzegovina' 'European Food Safety Authority'\n",
      " 'Iceland' 'Andorra' 'Cyprus' 'San Marino' 'Croatia' 'Venezuela'\n",
      " 'South Korea' 'Australia' 'Taiwan' 'Pakistan' 'Nigeria' 'Tunisia'\n",
      " 'United Arab Emirates' 'Canada' 'Chile' 'New Zealand' 'Singapore'\n",
      " 'Monaco' 'Egypt' 'Saudi Arabia' 'Serbia' 'Kazakhstan' 'Ghana' 'Moldova'\n",
      " 'Japan' 'Cameroon' 'Bangladesh' 'Bahamas' 'Panama' 'Liechtenstein' 'Peru'\n",
      " 'Uruguay' 'Greenland' \"Côte d'Ivoire\" 'Morocco' 'Iraq' 'Vietnam'\n",
      " 'Argentina' 'Lebanon' 'Bermuda' 'Belarus' 'Philippines' 'Guernsey'\n",
      " 'Jordan' 'Sri Lanka' 'Colombia' 'Albania' 'Kosovo' 'Montenegro'\n",
      " 'Republic of North Macedonia' 'Vatican City' 'Norfolk Island' 'Paraguay'\n",
      " 'Cambodia' 'Algeria' 'Brazil' 'Indonesia' 'Cape Verde' 'Sint Maarten'\n",
      " 'Turkmenistan' 'Mexico' 'South Africa' 'Georgia' 'Belize' 'Afghanistan'\n",
      " 'Gabon' 'Costa Rica' 'Mauritius' 'French Polynesia' 'Seychelles'\n",
      " 'Isle of Man' 'Liberia' 'Democratic Republic of the Congo' 'Macao'\n",
      " 'Benin' 'Eritrea' 'Namibia' 'Armenia' 'Gambia' 'Qatar' 'Eswatini'\n",
      " 'British Virgin Islands' 'Guinea' 'Senegal' 'Libya' 'Saint Barthélemy'\n",
      " 'Mauritania' 'Mongolia' 'Niger' 'New Caledonia' 'Uganda' 'Ecuador'\n",
      " 'Swaziland' 'Saint Helena' 'Oman' 'COUNT_CONCERN']\n"
     ]
    },
    {
     "data": {
      "text/plain": [
       "145"
      ]
     },
     "execution_count": 16,
     "metadata": {},
     "output_type": "execute_result"
    }
   ],
   "source": [
    "print(data['COUNT_CONCERN'].unique())\n",
    "len(data['COUNT_CONCERN'].unique())"
   ]
  },
  {
   "cell_type": "code",
   "execution_count": 17,
   "metadata": {
    "ExecuteTime": {
     "end_time": "2019-10-30T11:00:26.169382Z",
     "start_time": "2019-10-30T11:00:26.162395Z"
    }
   },
   "outputs": [
    {
     "name": "stdout",
     "output_type": "stream",
     "text": [
      "['distribution to other member countries'\n",
      " 'product not (yet) placed on the market'\n",
      " 'product (presumably) no longer on the market'\n",
      " 'distribution restricted to notifying country' 'product traded online'\n",
      " 'no distribution from notifying country'\n",
      " 'information on distribution not (yet) available'\n",
      " 'distribution to non-member countries'\n",
      " 'product allowed to travel to destination under customs seals'\n",
      " 'no distribution to other member countries' 'product past use-by date'\n",
      " 'no distribution' 'product already consumed' 'no stock left'\n",
      " 'product past best before date' 'distribution on the market (possible)'\n",
      " ' ' 'distribution_stat']\n"
     ]
    },
    {
     "data": {
      "text/plain": [
       "18"
      ]
     },
     "execution_count": 17,
     "metadata": {},
     "output_type": "execute_result"
    }
   ],
   "source": [
    "print(data['DISTRIBUTION_STAT'].unique())\n",
    "len(data['DISTRIBUTION_STAT'].unique())"
   ]
  },
  {
   "cell_type": "code",
   "execution_count": null,
   "metadata": {},
   "outputs": [],
   "source": []
  }
 ],
 "metadata": {
  "kernelspec": {
   "display_name": "Python 3",
   "language": "python",
   "name": "python3"
  },
  "language_info": {
   "codemirror_mode": {
    "name": "ipython",
    "version": 3
   },
   "file_extension": ".py",
   "mimetype": "text/x-python",
   "name": "python",
   "nbconvert_exporter": "python",
   "pygments_lexer": "ipython3",
   "version": "3.7.4"
  },
  "toc": {
   "base_numbering": 1,
   "nav_menu": {},
   "number_sections": true,
   "sideBar": true,
   "skip_h1_title": false,
   "title_cell": "Table of Contents",
   "title_sidebar": "Contents",
   "toc_cell": false,
   "toc_position": {},
   "toc_section_display": true,
   "toc_window_display": false
  }
 },
 "nbformat": 4,
 "nbformat_minor": 2
}
