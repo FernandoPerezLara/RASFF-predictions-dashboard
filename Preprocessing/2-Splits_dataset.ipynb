{
 "cells": [
  {
   "cell_type": "code",
   "execution_count": 72,
   "metadata": {
    "ExecuteTime": {
     "end_time": "2019-11-22T10:49:20.257954Z",
     "start_time": "2019-11-22T10:49:18.481284Z"
    }
   },
   "outputs": [],
   "source": [
    "import numpy as np\n",
    "import pandas as pd\n",
    "import numpy as np\n",
    "from itertools import chain"
   ]
  },
  {
   "cell_type": "markdown",
   "metadata": {},
   "source": [
    "# Creación de dataset con las alertas desacopladas"
   ]
  },
  {
   "cell_type": "code",
   "execution_count": 82,
   "metadata": {},
   "outputs": [],
   "source": [
    "data = pd.read_csv('../full_RASFF_DATA.csv', sep=';', \n",
    "                   header=0, index_col = 0)\n",
    "data = data.drop(columns=['NUMBER','REF','CLASSIF','SUBJET','PRODUCT','HAZARDS'])"
   ]
  },
  {
   "cell_type": "code",
   "execution_count": 83,
   "metadata": {
    "ExecuteTime": {
     "end_time": "2019-11-22T10:49:50.420545Z",
     "start_time": "2019-11-22T10:49:50.417552Z"
    }
   },
   "outputs": [],
   "source": [
    "def chainer(s):\n",
    "    return list(chain.from_iterable(s.str.split(',')))"
   ]
  },
  {
   "cell_type": "code",
   "execution_count": 86,
   "metadata": {},
   "outputs": [
    {
     "data": {
      "text/html": [
       "<div>\n",
       "<style scoped>\n",
       "    .dataframe tbody tr th:only-of-type {\n",
       "        vertical-align: middle;\n",
       "    }\n",
       "\n",
       "    .dataframe tbody tr th {\n",
       "        vertical-align: top;\n",
       "    }\n",
       "\n",
       "    .dataframe thead th {\n",
       "        text-align: right;\n",
       "    }\n",
       "</style>\n",
       "<table border=\"1\" class=\"dataframe\">\n",
       "  <thead>\n",
       "    <tr style=\"text-align: right;\">\n",
       "      <th></th>\n",
       "      <th>DATE_CASE</th>\n",
       "      <th>NOT_COUNTRY</th>\n",
       "      <th>PROD_CAT</th>\n",
       "      <th>TYPE</th>\n",
       "      <th>RISK_DECISION</th>\n",
       "      <th>ACTION_TAKEN</th>\n",
       "      <th>DISTRIBUTION_STAT</th>\n",
       "      <th>HAZARDS_CAT</th>\n",
       "      <th>COUNT_ORIGEN</th>\n",
       "      <th>COUNT_DESTIN</th>\n",
       "      <th>COUNT_CONCERN</th>\n",
       "    </tr>\n",
       "  </thead>\n",
       "  <tbody>\n",
       "    <tr>\n",
       "      <th>5</th>\n",
       "      <td>2020-10-16</td>\n",
       "      <td>Netherlands</td>\n",
       "      <td>nuts, nut products and seeds</td>\n",
       "      <td>food</td>\n",
       "      <td>serious</td>\n",
       "      <td>informing recipient(s)</td>\n",
       "      <td>distribution to other member countries</td>\n",
       "      <td>pesticide residues</td>\n",
       "      <td>India</td>\n",
       "      <td>France,Germany,Netherlands,Sweden</td>\n",
       "      <td>INFOSAN</td>\n",
       "    </tr>\n",
       "    <tr>\n",
       "      <th>11</th>\n",
       "      <td>2020-10-16</td>\n",
       "      <td>Netherlands</td>\n",
       "      <td>nuts, nut products and seeds</td>\n",
       "      <td>food</td>\n",
       "      <td>serious</td>\n",
       "      <td>informing recipient(s)</td>\n",
       "      <td>distribution to other member countries</td>\n",
       "      <td>pesticide residues</td>\n",
       "      <td>India</td>\n",
       "      <td>France,Ireland</td>\n",
       "      <td>INFOSAN,Netherlands</td>\n",
       "    </tr>\n",
       "    <tr>\n",
       "      <th>20</th>\n",
       "      <td>2020-10-15</td>\n",
       "      <td>Germany</td>\n",
       "      <td>cereals and bakery products</td>\n",
       "      <td>food</td>\n",
       "      <td>serious</td>\n",
       "      <td>withdrawal from recipient(s)</td>\n",
       "      <td>distribution to other member countries</td>\n",
       "      <td>mycotoxins</td>\n",
       "      <td>India</td>\n",
       "      <td>Netherlands</td>\n",
       "      <td>Germany,INFOSAN</td>\n",
       "    </tr>\n",
       "    <tr>\n",
       "      <th>27</th>\n",
       "      <td>2020-10-15</td>\n",
       "      <td>Belgium</td>\n",
       "      <td>herbs and spices</td>\n",
       "      <td>food</td>\n",
       "      <td>serious</td>\n",
       "      <td>informing authorities</td>\n",
       "      <td>distribution to other member countries</td>\n",
       "      <td>composition</td>\n",
       "      <td>Nigeria</td>\n",
       "      <td>United Kingdom</td>\n",
       "      <td>Belgium,INFOSAN,Netherlands</td>\n",
       "    </tr>\n",
       "    <tr>\n",
       "      <th>35</th>\n",
       "      <td>2020-10-14</td>\n",
       "      <td>Poland</td>\n",
       "      <td>food contact materials</td>\n",
       "      <td>fcm</td>\n",
       "      <td>serious</td>\n",
       "      <td>public warning - press release</td>\n",
       "      <td>distribution to other member countries</td>\n",
       "      <td>migration</td>\n",
       "      <td>unknown origin</td>\n",
       "      <td>Czech Republic,Slovakia,Poland</td>\n",
       "      <td>Netherlands,Slovenia</td>\n",
       "    </tr>\n",
       "    <tr>\n",
       "      <th>...</th>\n",
       "      <td>...</td>\n",
       "      <td>...</td>\n",
       "      <td>...</td>\n",
       "      <td>...</td>\n",
       "      <td>...</td>\n",
       "      <td>...</td>\n",
       "      <td>...</td>\n",
       "      <td>...</td>\n",
       "      <td>...</td>\n",
       "      <td>...</td>\n",
       "      <td>...</td>\n",
       "    </tr>\n",
       "    <tr>\n",
       "      <th>60060</th>\n",
       "      <td>1980-04-10</td>\n",
       "      <td>Belgium</td>\n",
       "      <td>meat and meat products (other than poultry)</td>\n",
       "      <td>food</td>\n",
       "      <td>undecided</td>\n",
       "      <td></td>\n",
       "      <td></td>\n",
       "      <td>organoleptic aspects</td>\n",
       "      <td>Malaysia</td>\n",
       "      <td></td>\n",
       "      <td>Belgium</td>\n",
       "    </tr>\n",
       "    <tr>\n",
       "      <th>60061</th>\n",
       "      <td>1980-04-10</td>\n",
       "      <td>Belgium</td>\n",
       "      <td>crustaceans and products thereof</td>\n",
       "      <td>food</td>\n",
       "      <td>undecided</td>\n",
       "      <td></td>\n",
       "      <td></td>\n",
       "      <td>microbial contaminants (other)</td>\n",
       "      <td>Malaysia</td>\n",
       "      <td></td>\n",
       "      <td>Belgium</td>\n",
       "    </tr>\n",
       "    <tr>\n",
       "      <th>60062</th>\n",
       "      <td>1980-03-24</td>\n",
       "      <td>United Kingdom</td>\n",
       "      <td>meat and meat products (other than poultry)</td>\n",
       "      <td>food</td>\n",
       "      <td>undecided</td>\n",
       "      <td></td>\n",
       "      <td></td>\n",
       "      <td>packaging defective / incorrect</td>\n",
       "      <td>United Kingdom</td>\n",
       "      <td></td>\n",
       "      <td></td>\n",
       "    </tr>\n",
       "    <tr>\n",
       "      <th>60063</th>\n",
       "      <td>1980-01-26</td>\n",
       "      <td>France</td>\n",
       "      <td>fish and fish products</td>\n",
       "      <td>food</td>\n",
       "      <td>undecided</td>\n",
       "      <td></td>\n",
       "      <td></td>\n",
       "      <td>organoleptic aspects</td>\n",
       "      <td>South Africa</td>\n",
       "      <td></td>\n",
       "      <td>France</td>\n",
       "    </tr>\n",
       "    <tr>\n",
       "      <th>60064</th>\n",
       "      <td>1979-09-15</td>\n",
       "      <td>Commission Services</td>\n",
       "      <td>molluscs and products thereof - (obsolete)</td>\n",
       "      <td>food</td>\n",
       "      <td>undecided</td>\n",
       "      <td></td>\n",
       "      <td></td>\n",
       "      <td>organoleptic aspects</td>\n",
       "      <td>unknown origin</td>\n",
       "      <td></td>\n",
       "      <td>Commission Services</td>\n",
       "    </tr>\n",
       "  </tbody>\n",
       "</table>\n",
       "<p>37148 rows × 11 columns</p>\n",
       "</div>"
      ],
      "text/plain": [
       "        DATE_CASE          NOT_COUNTRY  \\\n",
       "5      2020-10-16          Netherlands   \n",
       "11     2020-10-16          Netherlands   \n",
       "20     2020-10-15              Germany   \n",
       "27     2020-10-15              Belgium   \n",
       "35     2020-10-14               Poland   \n",
       "...           ...                  ...   \n",
       "60060  1980-04-10              Belgium   \n",
       "60061  1980-04-10              Belgium   \n",
       "60062  1980-03-24       United Kingdom   \n",
       "60063  1980-01-26               France   \n",
       "60064  1979-09-15  Commission Services   \n",
       "\n",
       "                                          PROD_CAT  TYPE RISK_DECISION  \\\n",
       "5                     nuts, nut products and seeds  food       serious   \n",
       "11                    nuts, nut products and seeds  food       serious   \n",
       "20                     cereals and bakery products  food       serious   \n",
       "27                                herbs and spices  food       serious   \n",
       "35                          food contact materials   fcm       serious   \n",
       "...                                            ...   ...           ...   \n",
       "60060  meat and meat products (other than poultry)  food     undecided   \n",
       "60061             crustaceans and products thereof  food     undecided   \n",
       "60062  meat and meat products (other than poultry)  food     undecided   \n",
       "60063                       fish and fish products  food     undecided   \n",
       "60064   molluscs and products thereof - (obsolete)  food     undecided   \n",
       "\n",
       "                         ACTION_TAKEN                       DISTRIBUTION_STAT  \\\n",
       "5              informing recipient(s)  distribution to other member countries   \n",
       "11             informing recipient(s)  distribution to other member countries   \n",
       "20       withdrawal from recipient(s)  distribution to other member countries   \n",
       "27              informing authorities  distribution to other member countries   \n",
       "35     public warning - press release  distribution to other member countries   \n",
       "...                               ...                                     ...   \n",
       "60060                                                                           \n",
       "60061                                                                           \n",
       "60062                                                                           \n",
       "60063                                                                           \n",
       "60064                                                                           \n",
       "\n",
       "                           HAZARDS_CAT    COUNT_ORIGEN  \\\n",
       "5                   pesticide residues           India   \n",
       "11                  pesticide residues           India   \n",
       "20                          mycotoxins           India   \n",
       "27                         composition         Nigeria   \n",
       "35                           migration  unknown origin   \n",
       "...                                ...             ...   \n",
       "60060             organoleptic aspects        Malaysia   \n",
       "60061   microbial contaminants (other)        Malaysia   \n",
       "60062  packaging defective / incorrect  United Kingdom   \n",
       "60063             organoleptic aspects    South Africa   \n",
       "60064             organoleptic aspects  unknown origin   \n",
       "\n",
       "                            COUNT_DESTIN                COUNT_CONCERN  \n",
       "5      France,Germany,Netherlands,Sweden                      INFOSAN  \n",
       "11                        France,Ireland          INFOSAN,Netherlands  \n",
       "20                           Netherlands              Germany,INFOSAN  \n",
       "27                        United Kingdom  Belgium,INFOSAN,Netherlands  \n",
       "35        Czech Republic,Slovakia,Poland         Netherlands,Slovenia  \n",
       "...                                  ...                          ...  \n",
       "60060                                                         Belgium  \n",
       "60061                                                         Belgium  \n",
       "60062                                                                  \n",
       "60063                                                          France  \n",
       "60064                                             Commission Services  \n",
       "\n",
       "[37148 rows x 11 columns]"
      ]
     },
     "metadata": {},
     "output_type": "display_data"
    },
    {
     "data": {
      "text/plain": [
       "DATE_CASE            object\n",
       "NOT_COUNTRY          object\n",
       "PROD_CAT             object\n",
       "TYPE                 object\n",
       "RISK_DECISION        object\n",
       "ACTION_TAKEN         object\n",
       "DISTRIBUTION_STAT    object\n",
       "HAZARDS_CAT          object\n",
       "COUNT_ORIGEN         object\n",
       "COUNT_DESTIN         object\n",
       "COUNT_CONCERN        object\n",
       "dtype: object"
      ]
     },
     "metadata": {},
     "output_type": "display_data"
    },
    {
     "ename": "TypeError",
     "evalue": "__init__() takes from 1 to 7 positional arguments but 12 were given",
     "output_type": "error",
     "traceback": [
      "\u001b[1;31m---------------------------------------------------------------------------\u001b[0m",
      "\u001b[1;31mTypeError\u001b[0m                                 Traceback (most recent call last)",
      "\u001b[1;32m<ipython-input-86-e4ba7a72bd1e>\u001b[0m in \u001b[0;36m<module>\u001b[1;34m\u001b[0m\n\u001b[0;32m      7\u001b[0m \u001b[1;33m\u001b[0m\u001b[0m\n\u001b[0;32m      8\u001b[0m pd.concat([pd.Series(row['DATE_CASE'], row['NOT_COUNTRY'], row['PROD_CAT'], row['TYPE'], row['RISK_DECISION'], row['ACTION_TAKEN'], row['DISTRIBUTION_STAT'], row['HAZARDS_CAT'].split(','), row['COUNT_ORIGEN'].split(','), row['COUNT_DESTIN'].split(','), row['COUNT_CONCERN'].split(','))              \n\u001b[1;32m----> 9\u001b[1;33m                     for index, row in data.iterrows()]).reset_index()\n\u001b[0m\u001b[0;32m     10\u001b[0m \u001b[1;33m\u001b[0m\u001b[0m\n\u001b[0;32m     11\u001b[0m \u001b[1;33m\u001b[0m\u001b[0m\n",
      "\u001b[1;32m<ipython-input-86-e4ba7a72bd1e>\u001b[0m in \u001b[0;36m<listcomp>\u001b[1;34m(.0)\u001b[0m\n\u001b[0;32m      7\u001b[0m \u001b[1;33m\u001b[0m\u001b[0m\n\u001b[0;32m      8\u001b[0m pd.concat([pd.Series(row['DATE_CASE'], row['NOT_COUNTRY'], row['PROD_CAT'], row['TYPE'], row['RISK_DECISION'], row['ACTION_TAKEN'], row['DISTRIBUTION_STAT'], row['HAZARDS_CAT'].split(','), row['COUNT_ORIGEN'].split(','), row['COUNT_DESTIN'].split(','), row['COUNT_CONCERN'].split(','))              \n\u001b[1;32m----> 9\u001b[1;33m                     for index, row in data.iterrows()]).reset_index()\n\u001b[0m\u001b[0;32m     10\u001b[0m \u001b[1;33m\u001b[0m\u001b[0m\n\u001b[0;32m     11\u001b[0m \u001b[1;33m\u001b[0m\u001b[0m\n",
      "\u001b[1;31mTypeError\u001b[0m: __init__() takes from 1 to 7 positional arguments but 12 were given"
     ]
    }
   ],
   "source": [
    "data.dropna(inplace = True)\n",
    "\n",
    "display(data)\n",
    "#display(len(data['HAZARDS_CAT'].str.split(',')))\n",
    "#lens = data['HAZARDS_CAT'].str.split(',').map(len)\n",
    "display(data.dtypes)\n",
    "\n",
    "#pd.concat([pd.Series(row['DATE_CASE'], row['NOT_COUNTRY'], row['PROD_CAT'], row['TYPE'], row['RISK_DECISION'], row['ACTION_TAKEN'], row['DISTRIBUTION_STAT'], row['HAZARDS_CAT'].split(','), row['COUNT_ORIGEN'].split(','), row['COUNT_DESTIN'].split(','), row['COUNT_CONCERN'].split(','))              \n",
    "#                    for index, row in data.iterrows()]).reset_index()\n",
    "\n",
    "\n",
    "'''\n",
    "#, 'REF','NOT_COUNTRY','PROD_CAT','TYPE','RISK_DECISION','ACTION_TAKEN','DISTRIBUTION_STAT'\n",
    "(display((data.set_index(['REF',''])\n",
    "         .apply(lambda x: x.str.split(',').explode())\n",
    "         .reset_index())))  \n",
    "\n",
    "(df.set_index(['DATE_CASE','NOT_COUNTRY','PROD_CAT','TYPE','RISK_DECISION','ACTION_TAKEN','DISTRIBUTION_STAT']).apply(lambda x : x.str.split(',')).stack()\n",
    "    .apply(pd.Series).stack().unstack(level=2)\n",
    "    .reset_index(level=[0,1]))\n",
    "\n",
    "data[\"HAZARDS_CAT\"] = data[\"HAZARDS_CAT\"].str.split(\",\")\n",
    "data[\"COUNT_ORIGEN\"] = data[\"COUNT_ORIGEN\"].str.split(\",\")\n",
    "data[\"COUNT_DESTIN\"] = data[\"COUNT_DESTIN\"].str.split(\",\")\n",
    "data[\"COUNT_CONCERN\"] = data[\"COUNT_CONCERN\"].str.split(\",\")\n",
    "\n",
    "# Explode the entire data frame\n",
    "df = data.apply(pd.Series.explode )\n",
    "\n",
    "display(df)\n",
    "'''\n",
    "\n",
    "'''\n",
    "display(len(data['COUNT_ORIGEN']))\n",
    "display(len(data['COUNT_ORIGEN'].str.split(',')))\n",
    "\n",
    "display(len(data['COUNT_DESTIN']))\n",
    "display(len(data['COUNT_DESTIN'].str.split(',')))\n",
    "\n",
    "display(len(data['COUNT_CONCERN']))\n",
    "display(len(data['COUNT_CONCERN'].str.split(',')))\n",
    "'''"
   ]
  },
  {
   "cell_type": "code",
   "execution_count": 34,
   "metadata": {
    "ExecuteTime": {
     "end_time": "2019-11-22T10:49:52.466143Z",
     "start_time": "2019-11-22T10:49:52.352420Z"
    }
   },
   "outputs": [
    {
     "ename": "MemoryError",
     "evalue": "",
     "output_type": "error",
     "traceback": [
      "\u001b[1;31m---------------------------------------------------------------------------\u001b[0m",
      "\u001b[1;31mMemoryError\u001b[0m                               Traceback (most recent call last)",
      "\u001b[1;32m<ipython-input-34-2294414b944e>\u001b[0m in \u001b[0;36m<module>\u001b[1;34m\u001b[0m\n\u001b[0;32m      1\u001b[0m \u001b[1;31m#lens = data['HAZARDS_CAT'].str.split(',').map(len)\u001b[0m\u001b[1;33m\u001b[0m\u001b[1;33m\u001b[0m\u001b[1;33m\u001b[0m\u001b[0m\n\u001b[0;32m      2\u001b[0m \u001b[0mlens\u001b[0m \u001b[1;33m=\u001b[0m \u001b[0mlen\u001b[0m\u001b[1;33m(\u001b[0m\u001b[0mdata\u001b[0m\u001b[1;33m[\u001b[0m\u001b[1;34m'HAZARDS_CAT'\u001b[0m\u001b[1;33m]\u001b[0m\u001b[1;33m.\u001b[0m\u001b[0mstr\u001b[0m\u001b[1;33m.\u001b[0m\u001b[0msplit\u001b[0m\u001b[1;33m(\u001b[0m\u001b[1;34m','\u001b[0m\u001b[1;33m)\u001b[0m\u001b[1;33m)\u001b[0m\u001b[1;33m\u001b[0m\u001b[1;33m\u001b[0m\u001b[0m\n\u001b[1;32m----> 3\u001b[1;33m split1 = pd.DataFrame({'DATE_CASE': np.repeat(data['DATE_CASE'], lens),\n\u001b[0m\u001b[0;32m      4\u001b[0m                     \u001b[1;34m'NOT_COUNTRY'\u001b[0m\u001b[1;33m:\u001b[0m \u001b[0mnp\u001b[0m\u001b[1;33m.\u001b[0m\u001b[0mrepeat\u001b[0m\u001b[1;33m(\u001b[0m\u001b[0mdata\u001b[0m\u001b[1;33m[\u001b[0m\u001b[1;34m'NOT_COUNTRY'\u001b[0m\u001b[1;33m]\u001b[0m\u001b[1;33m,\u001b[0m \u001b[0mlens\u001b[0m\u001b[1;33m)\u001b[0m\u001b[1;33m,\u001b[0m\u001b[1;33m\u001b[0m\u001b[1;33m\u001b[0m\u001b[0m\n\u001b[0;32m      5\u001b[0m                     \u001b[1;34m'PROD_CAT'\u001b[0m\u001b[1;33m:\u001b[0m \u001b[0mnp\u001b[0m\u001b[1;33m.\u001b[0m\u001b[0mrepeat\u001b[0m\u001b[1;33m(\u001b[0m\u001b[0mdata\u001b[0m\u001b[1;33m[\u001b[0m\u001b[1;34m'PROD_CAT'\u001b[0m\u001b[1;33m]\u001b[0m\u001b[1;33m,\u001b[0m \u001b[0mlens\u001b[0m\u001b[1;33m)\u001b[0m\u001b[1;33m,\u001b[0m\u001b[1;33m\u001b[0m\u001b[1;33m\u001b[0m\u001b[0m\n",
      "\u001b[1;32mL:\\Anaconda\\lib\\site-packages\\numpy\\core\\fromnumeric.py\u001b[0m in \u001b[0;36mrepeat\u001b[1;34m(a, repeats, axis)\u001b[0m\n\u001b[0;32m    469\u001b[0m \u001b[1;33m\u001b[0m\u001b[0m\n\u001b[0;32m    470\u001b[0m     \"\"\"\n\u001b[1;32m--> 471\u001b[1;33m     \u001b[1;32mreturn\u001b[0m \u001b[0m_wrapfunc\u001b[0m\u001b[1;33m(\u001b[0m\u001b[0ma\u001b[0m\u001b[1;33m,\u001b[0m \u001b[1;34m'repeat'\u001b[0m\u001b[1;33m,\u001b[0m \u001b[0mrepeats\u001b[0m\u001b[1;33m,\u001b[0m \u001b[0maxis\u001b[0m\u001b[1;33m=\u001b[0m\u001b[0maxis\u001b[0m\u001b[1;33m)\u001b[0m\u001b[1;33m\u001b[0m\u001b[1;33m\u001b[0m\u001b[0m\n\u001b[0m\u001b[0;32m    472\u001b[0m \u001b[1;33m\u001b[0m\u001b[0m\n\u001b[0;32m    473\u001b[0m \u001b[1;33m\u001b[0m\u001b[0m\n",
      "\u001b[1;32mL:\\Anaconda\\lib\\site-packages\\numpy\\core\\fromnumeric.py\u001b[0m in \u001b[0;36m_wrapfunc\u001b[1;34m(obj, method, *args, **kwds)\u001b[0m\n\u001b[0;32m     54\u001b[0m \u001b[1;32mdef\u001b[0m \u001b[0m_wrapfunc\u001b[0m\u001b[1;33m(\u001b[0m\u001b[0mobj\u001b[0m\u001b[1;33m,\u001b[0m \u001b[0mmethod\u001b[0m\u001b[1;33m,\u001b[0m \u001b[1;33m*\u001b[0m\u001b[0margs\u001b[0m\u001b[1;33m,\u001b[0m \u001b[1;33m**\u001b[0m\u001b[0mkwds\u001b[0m\u001b[1;33m)\u001b[0m\u001b[1;33m:\u001b[0m\u001b[1;33m\u001b[0m\u001b[1;33m\u001b[0m\u001b[0m\n\u001b[0;32m     55\u001b[0m     \u001b[1;32mtry\u001b[0m\u001b[1;33m:\u001b[0m\u001b[1;33m\u001b[0m\u001b[1;33m\u001b[0m\u001b[0m\n\u001b[1;32m---> 56\u001b[1;33m         \u001b[1;32mreturn\u001b[0m \u001b[0mgetattr\u001b[0m\u001b[1;33m(\u001b[0m\u001b[0mobj\u001b[0m\u001b[1;33m,\u001b[0m \u001b[0mmethod\u001b[0m\u001b[1;33m)\u001b[0m\u001b[1;33m(\u001b[0m\u001b[1;33m*\u001b[0m\u001b[0margs\u001b[0m\u001b[1;33m,\u001b[0m \u001b[1;33m**\u001b[0m\u001b[0mkwds\u001b[0m\u001b[1;33m)\u001b[0m\u001b[1;33m\u001b[0m\u001b[1;33m\u001b[0m\u001b[0m\n\u001b[0m\u001b[0;32m     57\u001b[0m \u001b[1;33m\u001b[0m\u001b[0m\n\u001b[0;32m     58\u001b[0m     \u001b[1;31m# An AttributeError occurs if the object does not have\u001b[0m\u001b[1;33m\u001b[0m\u001b[1;33m\u001b[0m\u001b[1;33m\u001b[0m\u001b[0m\n",
      "\u001b[1;32mL:\\Anaconda\\lib\\site-packages\\pandas\\core\\series.py\u001b[0m in \u001b[0;36mrepeat\u001b[1;34m(self, repeats, axis)\u001b[0m\n\u001b[0;32m   1153\u001b[0m         \u001b[0mnv\u001b[0m\u001b[1;33m.\u001b[0m\u001b[0mvalidate_repeat\u001b[0m\u001b[1;33m(\u001b[0m\u001b[0mtuple\u001b[0m\u001b[1;33m(\u001b[0m\u001b[1;33m)\u001b[0m\u001b[1;33m,\u001b[0m \u001b[0mdict\u001b[0m\u001b[1;33m(\u001b[0m\u001b[0maxis\u001b[0m\u001b[1;33m=\u001b[0m\u001b[0maxis\u001b[0m\u001b[1;33m)\u001b[0m\u001b[1;33m)\u001b[0m\u001b[1;33m\u001b[0m\u001b[1;33m\u001b[0m\u001b[0m\n\u001b[0;32m   1154\u001b[0m         \u001b[0mnew_index\u001b[0m \u001b[1;33m=\u001b[0m \u001b[0mself\u001b[0m\u001b[1;33m.\u001b[0m\u001b[0mindex\u001b[0m\u001b[1;33m.\u001b[0m\u001b[0mrepeat\u001b[0m\u001b[1;33m(\u001b[0m\u001b[0mrepeats\u001b[0m\u001b[1;33m)\u001b[0m\u001b[1;33m\u001b[0m\u001b[1;33m\u001b[0m\u001b[0m\n\u001b[1;32m-> 1155\u001b[1;33m         \u001b[0mnew_values\u001b[0m \u001b[1;33m=\u001b[0m \u001b[0mself\u001b[0m\u001b[1;33m.\u001b[0m\u001b[0m_values\u001b[0m\u001b[1;33m.\u001b[0m\u001b[0mrepeat\u001b[0m\u001b[1;33m(\u001b[0m\u001b[0mrepeats\u001b[0m\u001b[1;33m)\u001b[0m\u001b[1;33m\u001b[0m\u001b[1;33m\u001b[0m\u001b[0m\n\u001b[0m\u001b[0;32m   1156\u001b[0m         return self._constructor(new_values, index=new_index).__finalize__(\n\u001b[0;32m   1157\u001b[0m             \u001b[0mself\u001b[0m\u001b[1;33m,\u001b[0m \u001b[0mmethod\u001b[0m\u001b[1;33m=\u001b[0m\u001b[1;34m\"repeat\"\u001b[0m\u001b[1;33m\u001b[0m\u001b[1;33m\u001b[0m\u001b[0m\n",
      "\u001b[1;31mMemoryError\u001b[0m: "
     ]
    }
   ],
   "source": [
    "lens = data['HAZARDS_CAT'].str.split(',').map(len)\n",
    "#lens = len(data['HAZARDS_CAT'].str.split(','))\n",
    "split1 = pd.DataFrame({'DATE_CASE': np.repeat(data['DATE_CASE'], lens),\n",
    "                    'NOT_COUNTRY': np.repeat(data['NOT_COUNTRY'], lens),\n",
    "                    'PROD_CAT': np.repeat(data['PROD_CAT'], lens),\n",
    "                    'TYPE': np.repeat(data['TYPE'], lens),\n",
    "                    'RISK_DECISION': np.repeat(data['RISK_DECISION'], lens),\n",
    "                    'ACTION_TAKEN': np.repeat(data['ACTION_TAKEN'], lens),\n",
    "                    'DISTRIBUTION_STAT': np.repeat(data['DISTRIBUTION_STAT'], lens),\n",
    "                    'HAZARDS_CAT': chainer(data['HAZARDS_CAT']),                      #Column I separate\n",
    "                    'COUNT_ORIGEN': np.repeat(data['COUNT_ORIGEN'], lens),\n",
    "                    'COUNT_DESTIN': np.repeat(data['COUNT_DESTIN'], lens),\n",
    "                    'COUNT_CONCERN': np.repeat(data['COUNT_CONCERN'], lens)})"
   ]
  },
  {
   "cell_type": "code",
   "execution_count": null,
   "metadata": {
    "ExecuteTime": {
     "end_time": "2019-11-22T10:49:58.198500Z",
     "start_time": "2019-11-22T10:49:58.080788Z"
    }
   },
   "outputs": [],
   "source": [
    "lens = split1['COUNT_ORIGEN'].str.split(',').map(len)\n",
    "#lens = len(split1['COUNT_ORIGEN'].str.split(','))\n",
    "\n",
    "split2 = pd.DataFrame({'DATE_CASE': np.repeat(split1['DATE_CASE'], lens),\n",
    "                    'NOT_COUNTRY': np.repeat(split1['NOT_COUNTRY'], lens),\n",
    "                    'PROD_CAT': np.repeat(split1['PROD_CAT'], lens),\n",
    "                    'TYPE': np.repeat(split1['TYPE'], lens),\n",
    "                    'RISK_DECISION': np.repeat(split1['RISK_DECISION'], lens),\n",
    "                    'ACTION_TAKEN': np.repeat(split1['ACTION_TAKEN'], lens),\n",
    "                    'DISTRIBUTION_STAT': np.repeat(split1['DISTRIBUTION_STAT'], lens),\n",
    "                    'HAZARDS_CAT': np.repeat(split1['HAZARDS_CAT'], lens),\n",
    "                    'COUNT_ORIGEN': chainer(split1['COUNT_ORIGEN']),                #Column I separate\n",
    "                    'COUNT_DESTIN': np.repeat(split1['COUNT_DESTIN'], lens),\n",
    "                    'COUNT_CONCERN': np.repeat(split1['COUNT_CONCERN'], lens)})\n"
   ]
  },
  {
   "cell_type": "code",
   "execution_count": null,
   "metadata": {
    "ExecuteTime": {
     "end_time": "2019-11-22T10:49:59.835154Z",
     "start_time": "2019-11-22T10:49:59.666606Z"
    }
   },
   "outputs": [],
   "source": [
    "lens = split2['COUNT_DESTIN'].str.split(',').map(len)\n",
    "#lens = len(split2['COUNT_DESTIN'].str.split(','))\n",
    "\n",
    "split3 = pd.DataFrame({'DATE_CASE': np.repeat(split2['DATE_CASE'], lens),\n",
    "                    'NOT_COUNTRY': np.repeat(split2['NOT_COUNTRY'], lens),\n",
    "                    'PROD_CAT': np.repeat(split2['PROD_CAT'], lens),\n",
    "                    'TYPE': np.repeat(split2['TYPE'], lens),\n",
    "                    'RISK_DECISION': np.repeat(split2['RISK_DECISION'], lens),\n",
    "                    'ACTION_TAKEN': np.repeat(split2['ACTION_TAKEN'], lens),\n",
    "                    'DISTRIBUTION_STAT': np.repeat(split2['DISTRIBUTION_STAT'], lens),\n",
    "                    'HAZARDS_CAT': np.repeat(split2['HAZARDS_CAT'], lens),\n",
    "                    'COUNT_ORIGEN': np.repeat(split2['COUNT_ORIGEN'], lens),\n",
    "                    'COUNT_DESTIN': chainer(split2['COUNT_DESTIN']),             #Column I separate\n",
    "                    'COUNT_CONCERN': np.repeat(split2['COUNT_CONCERN'], lens)})"
   ]
  },
  {
   "cell_type": "code",
   "execution_count": null,
   "metadata": {
    "ExecuteTime": {
     "end_time": "2019-11-22T10:50:02.758576Z",
     "start_time": "2019-11-22T10:50:02.529191Z"
    }
   },
   "outputs": [],
   "source": [
    "lens = split3['COUNT_CONCERN'].str.split(',').map(len)\n",
    "#lens = len(split3['COUNT_CONCERN'].str.split(','))\n",
    "\n",
    "split4 = pd.DataFrame({'DATE_CASE': np.repeat(split3['DATE_CASE'], lens),\n",
    "                    'NOT_COUNTRY': np.repeat(split3['NOT_COUNTRY'], lens),\n",
    "                    'PROD_CAT': np.repeat(split3['PROD_CAT'], lens),\n",
    "                    'TYPE': np.repeat(split3['TYPE'], lens),\n",
    "                    'RISK_DECISION': np.repeat(split3['RISK_DECISION'], lens),\n",
    "                    'ACTION_TAKEN': np.repeat(split3['ACTION_TAKEN'], lens),\n",
    "                    'DISTRIBUTION_STAT': np.repeat(split3['DISTRIBUTION_STAT'], lens),\n",
    "                    'HAZARDS_CAT': np.repeat(split3['HAZARDS_CAT'], lens),\n",
    "                    'COUNT_ORIGEN': np.repeat(split3['COUNT_ORIGEN'], lens),\n",
    "                    'COUNT_DESTIN': np.repeat(split3['COUNT_DESTIN'], lens),\n",
    "                    'COUNT_CONCERN': chainer(split3['COUNT_CONCERN'])})        #Column I separate"
   ]
  },
  {
   "cell_type": "code",
   "execution_count": null,
   "metadata": {
    "ExecuteTime": {
     "end_time": "2019-11-22T10:50:15.032891Z",
     "start_time": "2019-11-22T10:50:14.995967Z"
    },
    "scrolled": true
   },
   "outputs": [],
   "source": [
    "split4 = split4.reset_index(drop = True)\n",
    "split4"
   ]
  },
  {
   "cell_type": "code",
   "execution_count": null,
   "metadata": {
    "ExecuteTime": {
     "end_time": "2019-11-22T10:50:06.410934Z",
     "start_time": "2019-11-22T10:50:06.305190Z"
    }
   },
   "outputs": [],
   "source": [
    "print(len(split4['NOT_COUNTRY'].unique()), len(data['NOT_COUNTRY'].unique()),len(split4['PROD_CAT'].unique()),len(data['PROD_CAT'].unique()),\n",
    "     len(split4['TYPE'].unique()),len(data['TYPE'].unique()),len(split4['RISK_DECISION'].unique()),len(data['RISK_DECISION'].unique()),\n",
    "     len(split4['ACTION_TAKEN'].unique()),len(data['ACTION_TAKEN'].unique()),len(split4['DISTRIBUTION_STAT'].unique()),\n",
    "     len(data['DISTRIBUTION_STAT'].unique()),len(split4['HAZARDS_CAT'].unique()),\n",
    "     len(data['HAZARDS_CAT'].unique()),len(split4['COUNT_ORIGEN'].unique()),len(data['COUNT_ORIGEN'].unique()),\n",
    "     len(split4['COUNT_DESTIN'].unique()),len(data['COUNT_DESTIN'].unique()),\n",
    "     len(split4['COUNT_CONCERN'].unique()),len(data['COUNT_CONCERN'].unique()))"
   ]
  },
  {
   "cell_type": "code",
   "execution_count": null,
   "metadata": {},
   "outputs": [],
   "source": [
    "#Añadido aqui\n",
    "data = data.drop(columns=['NUMBER','CLASSIF','SUBJET','PRODUCT','HAZARDS'])"
   ]
  },
  {
   "cell_type": "code",
   "execution_count": null,
   "metadata": {
    "ExecuteTime": {
     "end_time": "2019-11-22T10:50:54.677853Z",
     "start_time": "2019-11-22T10:50:54.049536Z"
    }
   },
   "outputs": [],
   "source": [
    "split4.to_csv('splited_full_RASFF_DATA.csv', sep=';')"
   ]
  },
  {
   "cell_type": "markdown",
   "metadata": {},
   "source": [
    "# Check del dataset"
   ]
  },
  {
   "cell_type": "code",
   "execution_count": null,
   "metadata": {
    "ExecuteTime": {
     "end_time": "2019-10-30T10:59:59.758171Z",
     "start_time": "2019-10-30T10:59:59.701353Z"
    },
    "scrolled": true
   },
   "outputs": [],
   "source": [
    "data = pd.read_csv('../splited_2019_RASFF_DATA_16092019.csv', sep=';', \n",
    "                   header=0, index_col = 0)')\n",
    "data"
   ]
  },
  {
   "cell_type": "code",
   "execution_count": null,
   "metadata": {
    "ExecuteTime": {
     "end_time": "2019-10-30T11:00:05.592089Z",
     "start_time": "2019-10-30T11:00:05.586131Z"
    }
   },
   "outputs": [],
   "source": [
    "print(data['HAZARDS_CAT'].unique())\n",
    "len(data['HAZARDS_CAT'].unique())"
   ]
  },
  {
   "cell_type": "code",
   "execution_count": null,
   "metadata": {
    "ExecuteTime": {
     "end_time": "2019-10-30T11:00:19.288326Z",
     "start_time": "2019-10-30T11:00:19.282319Z"
    }
   },
   "outputs": [],
   "source": [
    "print(data['COUNT_ORIGEN'].unique())\n",
    "len(data['COUNT_ORIGEN'].unique())"
   ]
  },
  {
   "cell_type": "code",
   "execution_count": null,
   "metadata": {
    "ExecuteTime": {
     "end_time": "2019-10-30T11:00:22.088657Z",
     "start_time": "2019-10-30T11:00:22.081669Z"
    }
   },
   "outputs": [],
   "source": [
    "print(data['COUNT_DESTIN'].unique())\n",
    "len(data['COUNT_DESTIN'].unique())"
   ]
  },
  {
   "cell_type": "code",
   "execution_count": null,
   "metadata": {
    "ExecuteTime": {
     "end_time": "2019-10-30T11:00:24.889241Z",
     "start_time": "2019-10-30T11:00:24.882286Z"
    }
   },
   "outputs": [],
   "source": [
    "print(data['COUNT_CONCERN'].unique())\n",
    "len(data['COUNT_CONCERN'].unique())"
   ]
  },
  {
   "cell_type": "code",
   "execution_count": null,
   "metadata": {
    "ExecuteTime": {
     "end_time": "2019-10-30T11:00:26.169382Z",
     "start_time": "2019-10-30T11:00:26.162395Z"
    }
   },
   "outputs": [],
   "source": [
    "print(data['DISTRIBUTION_STAT'].unique())\n",
    "len(data['DISTRIBUTION_STAT'].unique())"
   ]
  }
 ],
 "metadata": {
  "kernelspec": {
   "display_name": "Python 3",
   "language": "python",
   "name": "python3"
  },
  "language_info": {
   "codemirror_mode": {
    "name": "ipython",
    "version": 3
   },
   "file_extension": ".py",
   "mimetype": "text/x-python",
   "name": "python",
   "nbconvert_exporter": "python",
   "pygments_lexer": "ipython3",
   "version": "3.7.4"
  },
  "toc": {
   "base_numbering": 1,
   "nav_menu": {},
   "number_sections": true,
   "sideBar": true,
   "skip_h1_title": false,
   "title_cell": "Table of Contents",
   "title_sidebar": "Contents",
   "toc_cell": false,
   "toc_position": {},
   "toc_section_display": true,
   "toc_window_display": false
  }
 },
 "nbformat": 4,
 "nbformat_minor": 2
}
