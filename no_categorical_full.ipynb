{
  "nbformat": 4,
  "nbformat_minor": 2,
  "metadata": {
    "orig_nbformat": 4,
    "language_info": {
      "name": "python",
      "version": "3.8.11",
      "mimetype": "text/x-python",
      "codemirror_mode": {
        "name": "ipython",
        "version": 3
      },
      "pygments_lexer": "ipython3",
      "nbconvert_exporter": "python",
      "file_extension": ".py"
    },
    "kernelspec": {
      "name": "python3",
      "display_name": "Python 3.8.11 64-bit ('ceiec': conda)"
    },
    "interpreter": {
      "hash": "d98ed641ffb0afae769cd9f96943c7d5fe6ff4d949b5ee86e4a8c8a547fca37e"
    },
    "colab": {
      "name": "categorical_full.ipynb",
      "provenance": []
    },
    "accelerator": "GPU"
  },
  "cells": [
    {
      "cell_type": "markdown",
      "source": [
        "# Categorical Embedding"
      ],
      "metadata": {
        "id": "P2kqk3ht5ek2"
      }
    },
    {
      "cell_type": "markdown",
      "source": [
        "## Libraries"
      ],
      "metadata": {
        "id": "0gyEZY_v5ek6"
      }
    },
    {
      "cell_type": "code",
      "execution_count": 1,
      "source": [
        "import pandas as pd\r\n",
        "import numpy as np\r\n",
        "import matplotlib.pyplot as plt\r\n",
        "import tensorflow as tf\r\n",
        "import functools\r\n",
        "\r\n",
        "from keras import backend as K\r\n",
        "from itertools import chain\r\n",
        "from sklearn.preprocessing import OneHotEncoder\r\n",
        "from sklearn.model_selection import train_test_split\r\n",
        "from keras.metrics import top_k_categorical_accuracy\r\n",
        "from keras.models import Model, Sequential\r\n",
        "from keras.layers import Dense, Dropout, Input, Embedding,Reshape, Concatenate, Conv1D, BatchNormalization, GlobalMaxPooling1D, MaxPooling1D\r\n",
        "from sklearn.metrics import classification_report, confusion_matrix, ConfusionMatrixDisplay, recall_score, precision_score, accuracy_score"
      ],
      "outputs": [],
      "metadata": {
        "id": "VTgc06pl5ek6"
      }
    },
    {
      "cell_type": "markdown",
      "source": [
        "## Data"
      ],
      "metadata": {
        "id": "YxyURCCH5ek8"
      }
    },
    {
      "cell_type": "code",
      "execution_count": 2,
      "source": [
        "data = pd.read_csv(\"./data/splited_full_RASFF_DATA.csv\", sep=\";\", header=0, index_col=0)\r\n",
        "data = data.sample(frac=1)\r\n",
        "\r\n",
        "data.head(1)"
      ],
      "outputs": [
        {
          "output_type": "execute_result",
          "data": {
            "text/html": [
              "<div>\n",
              "<style scoped>\n",
              "    .dataframe tbody tr th:only-of-type {\n",
              "        vertical-align: middle;\n",
              "    }\n",
              "\n",
              "    .dataframe tbody tr th {\n",
              "        vertical-align: top;\n",
              "    }\n",
              "\n",
              "    .dataframe thead th {\n",
              "        text-align: right;\n",
              "    }\n",
              "</style>\n",
              "<table border=\"1\" class=\"dataframe\">\n",
              "  <thead>\n",
              "    <tr style=\"text-align: right;\">\n",
              "      <th></th>\n",
              "      <th>DATE_CASE</th>\n",
              "      <th>NOT_COUNTRY</th>\n",
              "      <th>PROD_CAT</th>\n",
              "      <th>TYPE</th>\n",
              "      <th>RISK_DECISION</th>\n",
              "      <th>ACTION_TAKEN</th>\n",
              "      <th>DISTRIBUTION_STAT</th>\n",
              "      <th>HAZARDS_CAT</th>\n",
              "      <th>COUNT_ORIGEN</th>\n",
              "      <th>COUNT_DESTIN</th>\n",
              "      <th>COUNT_CONCERN</th>\n",
              "    </tr>\n",
              "  </thead>\n",
              "  <tbody>\n",
              "    <tr>\n",
              "      <th>122787</th>\n",
              "      <td>2009-10-15</td>\n",
              "      <td>Poland</td>\n",
              "      <td>herbs and spices</td>\n",
              "      <td>food</td>\n",
              "      <td>undecided</td>\n",
              "      <td>official detention</td>\n",
              "      <td>no distribution</td>\n",
              "      <td>mycotoxins</td>\n",
              "      <td>India</td>\n",
              "      <td></td>\n",
              "      <td>Poland</td>\n",
              "    </tr>\n",
              "  </tbody>\n",
              "</table>\n",
              "</div>"
            ],
            "text/plain": [
              "         DATE_CASE NOT_COUNTRY          PROD_CAT  TYPE RISK_DECISION  \\\n",
              "122787  2009-10-15      Poland  herbs and spices  food     undecided   \n",
              "\n",
              "              ACTION_TAKEN DISTRIBUTION_STAT HAZARDS_CAT COUNT_ORIGEN  \\\n",
              "122787  official detention   no distribution  mycotoxins        India   \n",
              "\n",
              "       COUNT_DESTIN COUNT_CONCERN  \n",
              "122787                     Poland  "
            ]
          },
          "metadata": {},
          "execution_count": 2
        }
      ],
      "metadata": {
        "id": "kL7kuM_55ek9",
        "outputId": "d2b01c36-210e-4787-da00-258fb1f4b0e7",
        "colab": {
          "base_uri": "https://localhost:8080/",
          "height": 80
        }
      }
    },
    {
      "cell_type": "code",
      "execution_count": 3,
      "source": [
        "class Stage:\r\n",
        "\tdef __init__(self, input, output):\r\n",
        "\t\tself.input = input\r\n",
        "\t\tself.output = output\r\n",
        "\r\n",
        "\t\tself.x = data.iloc[:, input]\r\n",
        "\t\tself.y = data.iloc[:, output]\r\n",
        "\r\n",
        "\t\tself.x_train, self.y_train = None, None\r\n",
        "\t\tself.x_val, self.y_val = None, None\r\n",
        "\t\tself.x_test, self.y_test = None, None\r\n",
        "\r\n",
        "\t\tself.__transform()\r\n",
        "\r\n",
        "\tdef __transform(self):\r\n",
        "\t\tstrategy_x = OneHotEncoder(handle_unknown=\"ignore\")\r\n",
        "\t\tstrategy_y = OneHotEncoder(handle_unknown=\"ignore\", sparse=False)\r\n",
        "\r\n",
        "\t\tstrategy_x.fit(self.x.values)\r\n",
        "\t\tstrategy_y.fit(self.y.values)\r\n",
        "\r\n",
        "\t\tself.x = strategy_x.transform(self.x.values)\r\n",
        "\t\tself.y = strategy_y.transform(self.y.values)\r\n",
        "\r\n",
        "\t\tself.x_train, self.x_test, self.y_train, self.y_test = train_test_split(self.x, self.y, test_size=0.2)\r\n",
        "\t\tself.x_train, self.x_val, self.y_train, self.y_val = train_test_split(self.x_train, self.y_train, test_size=0.25, random_state=42, shuffle=True)\r\n",
        "\r\n",
        "\tdef get_metrics(self):\r\n",
        "\t\tresult = model.predict(self.x_test, batch_size=64)\r\n",
        "\t\tresult = np.argmax(result, axis=-1)\r\n",
        "\r\n",
        "\t\tprint(f\"- Accuracy: {round(accuracy_score(np.argmax(self.y_test, axis=-1), result)*100, 2)}%\")\r\n",
        "\t\tprint(f\"- Specifity: {round(get_specifity(np.argmax(self.y_test, axis=-1), result)*100, 2)}%\")\r\n",
        "\t\tprint(f\"- Sensitivity: {round(recall_score(np.argmax(self.y_test, axis=-1), result, average='macro', zero_division=0)*100, 2)}%\")\r\n",
        "\t\tprint(f\"- Precision: {round(precision_score(np.argmax(self.y_test, axis=-1), result, average='macro', zero_division=0)*100, 2)}%\")\r\n",
        "\r\n",
        "\t\tprint(classification_report(np.argmax(self.y_test, axis=-1), result, zero_division=True))\r\n",
        "\r\n",
        "\t\tcm = confusion_matrix(np.argmax(self.y_test, axis=-1), result)\r\n",
        "\t\tcm = ConfusionMatrixDisplay(confusion_matrix=cm, display_labels=list(range(0, cm.shape[0])))\r\n",
        "\r\n",
        "\t\t_, ax = plt.subplots(figsize=(10, 10))\r\n",
        "\t\tcm.plot(ax=ax)\r\n",
        "\r\n",
        "\t\tplt.show()"
      ],
      "outputs": [],
      "metadata": {
        "id": "rCLp9pxV5ek9"
      }
    },
    {
      "cell_type": "markdown",
      "source": [
        "## Preprocessing"
      ],
      "metadata": {
        "id": "Ou0L8kNh5ek-"
      }
    },
    {
      "cell_type": "code",
      "execution_count": 4,
      "source": [
        "data.DATE_CASE = data.DATE_CASE.astype(str)\r\n",
        "data.HAZARDS_CAT = data.HAZARDS_CAT.astype(str)"
      ],
      "outputs": [],
      "metadata": {
        "id": "07xaGlha5ek_"
      }
    },
    {
      "cell_type": "code",
      "execution_count": 5,
      "source": [
        "def get_specifity(y_actual, y_pred):\r\n",
        "    TN = []\r\n",
        "    FP = []\r\n",
        "\r\n",
        "    for index ,_id in enumerate(np.union1d(y_actual, y_pred)):\r\n",
        "        FP.append(0)\r\n",
        "        TN.append(0)\r\n",
        "\r\n",
        "        for i in range(len(y_pred)):\r\n",
        "            if y_pred[i] == _id and y_actual[i] != y_pred[i]:\r\n",
        "                FP[index] += 1\r\n",
        "            if y_actual[i] == y_pred[i] != _id:\r\n",
        "                TN[index] += 1\r\n",
        "\r\n",
        "    TN = sum(TN)\r\n",
        "    FP = sum(FP)\r\n",
        "\r\n",
        "    return TN/(TN + FP)"
      ],
      "outputs": [],
      "metadata": {
        "id": "KTYtwzp_5elA"
      }
    },
    {
      "cell_type": "markdown",
      "source": [
        "## Data Mining"
      ],
      "metadata": {
        "id": "oPdLbXbZ5elG"
      }
    },
    {
      "cell_type": "code",
      "execution_count": 6,
      "source": [
        "stage1 = Stage(\r\n",
        "\tinput=[0, 1, 6, 8],\r\n",
        "\toutput=[2]\r\n",
        ")"
      ],
      "outputs": [],
      "metadata": {
        "id": "ERASg1JQ5elG"
      }
    },
    {
      "cell_type": "code",
      "execution_count": 7,
      "source": [
        "K.clear_session()\r\n",
        "\r\n",
        "model = Sequential()\r\n",
        "model.add(Reshape(input_shape=(6051, ), target_shape=(6051, 1)))\r\n",
        "model.add(Conv1D(filters=128,kernel_size=4, activation = \"relu\"))\r\n",
        "model.add(Conv1D(filters=128,kernel_size=4, activation = \"relu\"))\r\n",
        "model.add(BatchNormalization())\r\n",
        "model.add(MaxPooling1D(pool_size=2))\r\n",
        "model.add(Conv1D(filters=256,kernel_size=3, activation = \"relu\"))\r\n",
        "model.add(Conv1D(filters=256,kernel_size=3, activation = \"relu\"))\r\n",
        "model.add(BatchNormalization())\r\n",
        "model.add(GlobalMaxPooling1D())\r\n",
        "model.add(Dense(512, activation = \"relu\"))\r\n",
        "model.add(Dense(256, activation = \"relu\"))\r\n",
        "model.add(Dense(43, activation='softmax'))\r\n",
        "\r\n",
        "model.compile(loss='categorical_crossentropy', optimizer=\"adam\", metrics=['categorical_accuracy'])\r\n",
        "\r\n",
        "model.summary()"
      ],
      "outputs": [
        {
          "output_type": "stream",
          "name": "stdout",
          "text": [
            "Model: \"sequential\"\n",
            "_________________________________________________________________\n",
            "Layer (type)                 Output Shape              Param #   \n",
            "=================================================================\n",
            "reshape (Reshape)            (None, 6051, 1)           0         \n",
            "_________________________________________________________________\n",
            "conv1d (Conv1D)              (None, 6048, 128)         640       \n",
            "_________________________________________________________________\n",
            "conv1d_1 (Conv1D)            (None, 6045, 128)         65664     \n",
            "_________________________________________________________________\n",
            "batch_normalization (BatchNo (None, 6045, 128)         512       \n",
            "_________________________________________________________________\n",
            "max_pooling1d (MaxPooling1D) (None, 3022, 128)         0         \n",
            "_________________________________________________________________\n",
            "conv1d_2 (Conv1D)            (None, 3020, 256)         98560     \n",
            "_________________________________________________________________\n",
            "conv1d_3 (Conv1D)            (None, 3018, 256)         196864    \n",
            "_________________________________________________________________\n",
            "batch_normalization_1 (Batch (None, 3018, 256)         1024      \n",
            "_________________________________________________________________\n",
            "global_max_pooling1d (Global (None, 256)               0         \n",
            "_________________________________________________________________\n",
            "dense (Dense)                (None, 512)               131584    \n",
            "_________________________________________________________________\n",
            "dense_1 (Dense)              (None, 256)               131328    \n",
            "_________________________________________________________________\n",
            "dense_2 (Dense)              (None, 43)                11051     \n",
            "=================================================================\n",
            "Total params: 637,227\n",
            "Trainable params: 636,459\n",
            "Non-trainable params: 768\n",
            "_________________________________________________________________\n"
          ]
        }
      ],
      "metadata": {}
    },
    {
      "cell_type": "code",
      "execution_count": 8,
      "source": [
        "hist = model.fit(stage1.x_train, stage1.y_train, epochs=170, validation_data=(stage1.x_val, stage1.y_val), batch_size=500)"
      ],
      "outputs": [
        {
          "output_type": "stream",
          "name": "stdout",
          "text": [
            "Epoch 1/170\n"
          ]
        },
        {
          "output_type": "error",
          "ename": "TypeError",
          "evalue": "in user code:\n\n    C:\\Users\\ferna\\AppData\\Roaming\\Python\\Python38\\site-packages\\keras\\engine\\training.py:853 train_function  *\n        return step_function(self, iterator)\n    C:\\Users\\ferna\\AppData\\Roaming\\Python\\Python38\\site-packages\\keras\\engine\\training.py:842 step_function  **\n        outputs = model.distribute_strategy.run(run_step, args=(data,))\n    C:\\Users\\ferna\\AppData\\Roaming\\Python\\Python38\\site-packages\\tensorflow\\python\\distribute\\distribute_lib.py:1286 run\n        return self._extended.call_for_each_replica(fn, args=args, kwargs=kwargs)\n    C:\\Users\\ferna\\AppData\\Roaming\\Python\\Python38\\site-packages\\tensorflow\\python\\distribute\\distribute_lib.py:2849 call_for_each_replica\n        return self._call_for_each_replica(fn, args, kwargs)\n    C:\\Users\\ferna\\AppData\\Roaming\\Python\\Python38\\site-packages\\tensorflow\\python\\distribute\\distribute_lib.py:3632 _call_for_each_replica\n        return fn(*args, **kwargs)\n    C:\\Users\\ferna\\AppData\\Roaming\\Python\\Python38\\site-packages\\keras\\engine\\training.py:835 run_step  **\n        outputs = model.train_step(data)\n    C:\\Users\\ferna\\AppData\\Roaming\\Python\\Python38\\site-packages\\keras\\engine\\training.py:787 train_step\n        y_pred = self(x, training=True)\n    C:\\Users\\ferna\\AppData\\Roaming\\Python\\Python38\\site-packages\\keras\\engine\\base_layer.py:1037 __call__\n        outputs = call_fn(inputs, *args, **kwargs)\n    C:\\Users\\ferna\\AppData\\Roaming\\Python\\Python38\\site-packages\\keras\\engine\\sequential.py:369 call\n        return super(Sequential, self).call(inputs, training=training, mask=mask)\n    C:\\Users\\ferna\\AppData\\Roaming\\Python\\Python38\\site-packages\\keras\\engine\\functional.py:414 call\n        return self._run_internal_graph(\n    C:\\Users\\ferna\\AppData\\Roaming\\Python\\Python38\\site-packages\\keras\\engine\\functional.py:550 _run_internal_graph\n        outputs = node.layer(*args, **kwargs)\n    C:\\Users\\ferna\\AppData\\Roaming\\Python\\Python38\\site-packages\\keras\\engine\\base_layer.py:1037 __call__\n        outputs = call_fn(inputs, *args, **kwargs)\n    C:\\Users\\ferna\\AppData\\Roaming\\Python\\Python38\\site-packages\\keras\\layers\\core.py:534 call\n        result = tf.reshape(\n    C:\\Users\\ferna\\AppData\\Roaming\\Python\\Python38\\site-packages\\tensorflow\\python\\util\\dispatch.py:206 wrapper\n        return target(*args, **kwargs)\n    C:\\Users\\ferna\\AppData\\Roaming\\Python\\Python38\\site-packages\\tensorflow\\python\\ops\\array_ops.py:196 reshape\n        result = gen_array_ops.reshape(tensor, shape, name)\n    C:\\Users\\ferna\\AppData\\Roaming\\Python\\Python38\\site-packages\\tensorflow\\python\\ops\\gen_array_ops.py:8402 reshape\n        _, _, _op, _outputs = _op_def_library._apply_op_helper(\n    C:\\Users\\ferna\\AppData\\Roaming\\Python\\Python38\\site-packages\\tensorflow\\python\\framework\\op_def_library.py:525 _apply_op_helper\n        raise err\n    C:\\Users\\ferna\\AppData\\Roaming\\Python\\Python38\\site-packages\\tensorflow\\python\\framework\\op_def_library.py:517 _apply_op_helper\n        values = ops.convert_to_tensor(\n    C:\\Users\\ferna\\AppData\\Roaming\\Python\\Python38\\site-packages\\tensorflow\\python\\profiler\\trace.py:163 wrapped\n        return func(*args, **kwargs)\n    C:\\Users\\ferna\\AppData\\Roaming\\Python\\Python38\\site-packages\\tensorflow\\python\\framework\\ops.py:1566 convert_to_tensor\n        ret = conversion_func(value, dtype=dtype, name=name, as_ref=as_ref)\n    C:\\Users\\ferna\\AppData\\Roaming\\Python\\Python38\\site-packages\\tensorflow\\python\\framework\\constant_op.py:346 _constant_tensor_conversion_function\n        return constant(v, dtype=dtype, name=name)\n    C:\\Users\\ferna\\AppData\\Roaming\\Python\\Python38\\site-packages\\tensorflow\\python\\framework\\constant_op.py:271 constant\n        return _constant_impl(value, dtype, shape, name, verify_shape=False,\n    C:\\Users\\ferna\\AppData\\Roaming\\Python\\Python38\\site-packages\\tensorflow\\python\\framework\\constant_op.py:288 _constant_impl\n        tensor_util.make_tensor_proto(\n    C:\\Users\\ferna\\AppData\\Roaming\\Python\\Python38\\site-packages\\tensorflow\\python\\framework\\tensor_util.py:551 make_tensor_proto\n        raise TypeError(\"Failed to convert object of type %s to Tensor. \"\n\n    TypeError: Failed to convert object of type <class 'tensorflow.python.framework.sparse_tensor.SparseTensor'> to Tensor. Contents: SparseTensor(indices=Tensor(\"DeserializeSparse:0\", shape=(None, 2), dtype=int64), values=Tensor(\"DeserializeSparse:1\", shape=(None,), dtype=float32), dense_shape=Tensor(\"stack:0\", shape=(2,), dtype=int64)). Consider casting elements to a supported type.\n",
          "traceback": [
            "\u001b[1;31m---------------------------------------------------------------------------\u001b[0m",
            "\u001b[1;31mTypeError\u001b[0m                                 Traceback (most recent call last)",
            "\u001b[1;32m~\\AppData\\Local\\Temp/ipykernel_4500/3880894477.py\u001b[0m in \u001b[0;36m<module>\u001b[1;34m\u001b[0m\n\u001b[1;32m----> 1\u001b[1;33m \u001b[0mhist\u001b[0m \u001b[1;33m=\u001b[0m \u001b[0mmodel\u001b[0m\u001b[1;33m.\u001b[0m\u001b[0mfit\u001b[0m\u001b[1;33m(\u001b[0m\u001b[0mstage1\u001b[0m\u001b[1;33m.\u001b[0m\u001b[0mx_train\u001b[0m\u001b[1;33m,\u001b[0m \u001b[0mstage1\u001b[0m\u001b[1;33m.\u001b[0m\u001b[0my_train\u001b[0m\u001b[1;33m,\u001b[0m \u001b[0mepochs\u001b[0m\u001b[1;33m=\u001b[0m\u001b[1;36m170\u001b[0m\u001b[1;33m,\u001b[0m \u001b[0mvalidation_data\u001b[0m\u001b[1;33m=\u001b[0m\u001b[1;33m(\u001b[0m\u001b[0mstage1\u001b[0m\u001b[1;33m.\u001b[0m\u001b[0mx_val\u001b[0m\u001b[1;33m,\u001b[0m \u001b[0mstage1\u001b[0m\u001b[1;33m.\u001b[0m\u001b[0my_val\u001b[0m\u001b[1;33m)\u001b[0m\u001b[1;33m,\u001b[0m \u001b[0mbatch_size\u001b[0m\u001b[1;33m=\u001b[0m\u001b[1;36m500\u001b[0m\u001b[1;33m)\u001b[0m\u001b[1;33m\u001b[0m\u001b[1;33m\u001b[0m\u001b[0m\n\u001b[0m",
            "\u001b[1;32m~\\AppData\\Roaming\\Python\\Python38\\site-packages\\keras\\engine\\training.py\u001b[0m in \u001b[0;36mfit\u001b[1;34m(self, x, y, batch_size, epochs, verbose, callbacks, validation_split, validation_data, shuffle, class_weight, sample_weight, initial_epoch, steps_per_epoch, validation_steps, validation_batch_size, validation_freq, max_queue_size, workers, use_multiprocessing)\u001b[0m\n\u001b[0;32m   1182\u001b[0m                 _r=1):\n\u001b[0;32m   1183\u001b[0m               \u001b[0mcallbacks\u001b[0m\u001b[1;33m.\u001b[0m\u001b[0mon_train_batch_begin\u001b[0m\u001b[1;33m(\u001b[0m\u001b[0mstep\u001b[0m\u001b[1;33m)\u001b[0m\u001b[1;33m\u001b[0m\u001b[1;33m\u001b[0m\u001b[0m\n\u001b[1;32m-> 1184\u001b[1;33m               \u001b[0mtmp_logs\u001b[0m \u001b[1;33m=\u001b[0m \u001b[0mself\u001b[0m\u001b[1;33m.\u001b[0m\u001b[0mtrain_function\u001b[0m\u001b[1;33m(\u001b[0m\u001b[0miterator\u001b[0m\u001b[1;33m)\u001b[0m\u001b[1;33m\u001b[0m\u001b[1;33m\u001b[0m\u001b[0m\n\u001b[0m\u001b[0;32m   1185\u001b[0m               \u001b[1;32mif\u001b[0m \u001b[0mdata_handler\u001b[0m\u001b[1;33m.\u001b[0m\u001b[0mshould_sync\u001b[0m\u001b[1;33m:\u001b[0m\u001b[1;33m\u001b[0m\u001b[1;33m\u001b[0m\u001b[0m\n\u001b[0;32m   1186\u001b[0m                 \u001b[0mcontext\u001b[0m\u001b[1;33m.\u001b[0m\u001b[0masync_wait\u001b[0m\u001b[1;33m(\u001b[0m\u001b[1;33m)\u001b[0m\u001b[1;33m\u001b[0m\u001b[1;33m\u001b[0m\u001b[0m\n",
            "\u001b[1;32m~\\AppData\\Roaming\\Python\\Python38\\site-packages\\tensorflow\\python\\eager\\def_function.py\u001b[0m in \u001b[0;36m__call__\u001b[1;34m(self, *args, **kwds)\u001b[0m\n\u001b[0;32m    883\u001b[0m \u001b[1;33m\u001b[0m\u001b[0m\n\u001b[0;32m    884\u001b[0m       \u001b[1;32mwith\u001b[0m \u001b[0mOptionalXlaContext\u001b[0m\u001b[1;33m(\u001b[0m\u001b[0mself\u001b[0m\u001b[1;33m.\u001b[0m\u001b[0m_jit_compile\u001b[0m\u001b[1;33m)\u001b[0m\u001b[1;33m:\u001b[0m\u001b[1;33m\u001b[0m\u001b[1;33m\u001b[0m\u001b[0m\n\u001b[1;32m--> 885\u001b[1;33m         \u001b[0mresult\u001b[0m \u001b[1;33m=\u001b[0m \u001b[0mself\u001b[0m\u001b[1;33m.\u001b[0m\u001b[0m_call\u001b[0m\u001b[1;33m(\u001b[0m\u001b[1;33m*\u001b[0m\u001b[0margs\u001b[0m\u001b[1;33m,\u001b[0m \u001b[1;33m**\u001b[0m\u001b[0mkwds\u001b[0m\u001b[1;33m)\u001b[0m\u001b[1;33m\u001b[0m\u001b[1;33m\u001b[0m\u001b[0m\n\u001b[0m\u001b[0;32m    886\u001b[0m \u001b[1;33m\u001b[0m\u001b[0m\n\u001b[0;32m    887\u001b[0m       \u001b[0mnew_tracing_count\u001b[0m \u001b[1;33m=\u001b[0m \u001b[0mself\u001b[0m\u001b[1;33m.\u001b[0m\u001b[0mexperimental_get_tracing_count\u001b[0m\u001b[1;33m(\u001b[0m\u001b[1;33m)\u001b[0m\u001b[1;33m\u001b[0m\u001b[1;33m\u001b[0m\u001b[0m\n",
            "\u001b[1;32m~\\AppData\\Roaming\\Python\\Python38\\site-packages\\tensorflow\\python\\eager\\def_function.py\u001b[0m in \u001b[0;36m_call\u001b[1;34m(self, *args, **kwds)\u001b[0m\n\u001b[0;32m    931\u001b[0m       \u001b[1;31m# This is the first call of __call__, so we have to initialize.\u001b[0m\u001b[1;33m\u001b[0m\u001b[1;33m\u001b[0m\u001b[1;33m\u001b[0m\u001b[0m\n\u001b[0;32m    932\u001b[0m       \u001b[0minitializers\u001b[0m \u001b[1;33m=\u001b[0m \u001b[1;33m[\u001b[0m\u001b[1;33m]\u001b[0m\u001b[1;33m\u001b[0m\u001b[1;33m\u001b[0m\u001b[0m\n\u001b[1;32m--> 933\u001b[1;33m       \u001b[0mself\u001b[0m\u001b[1;33m.\u001b[0m\u001b[0m_initialize\u001b[0m\u001b[1;33m(\u001b[0m\u001b[0margs\u001b[0m\u001b[1;33m,\u001b[0m \u001b[0mkwds\u001b[0m\u001b[1;33m,\u001b[0m \u001b[0madd_initializers_to\u001b[0m\u001b[1;33m=\u001b[0m\u001b[0minitializers\u001b[0m\u001b[1;33m)\u001b[0m\u001b[1;33m\u001b[0m\u001b[1;33m\u001b[0m\u001b[0m\n\u001b[0m\u001b[0;32m    934\u001b[0m     \u001b[1;32mfinally\u001b[0m\u001b[1;33m:\u001b[0m\u001b[1;33m\u001b[0m\u001b[1;33m\u001b[0m\u001b[0m\n\u001b[0;32m    935\u001b[0m       \u001b[1;31m# At this point we know that the initialization is complete (or less\u001b[0m\u001b[1;33m\u001b[0m\u001b[1;33m\u001b[0m\u001b[1;33m\u001b[0m\u001b[0m\n",
            "\u001b[1;32m~\\AppData\\Roaming\\Python\\Python38\\site-packages\\tensorflow\\python\\eager\\def_function.py\u001b[0m in \u001b[0;36m_initialize\u001b[1;34m(self, args, kwds, add_initializers_to)\u001b[0m\n\u001b[0;32m    757\u001b[0m     \u001b[0mself\u001b[0m\u001b[1;33m.\u001b[0m\u001b[0m_graph_deleter\u001b[0m \u001b[1;33m=\u001b[0m \u001b[0mFunctionDeleter\u001b[0m\u001b[1;33m(\u001b[0m\u001b[0mself\u001b[0m\u001b[1;33m.\u001b[0m\u001b[0m_lifted_initializer_graph\u001b[0m\u001b[1;33m)\u001b[0m\u001b[1;33m\u001b[0m\u001b[1;33m\u001b[0m\u001b[0m\n\u001b[0;32m    758\u001b[0m     self._concrete_stateful_fn = (\n\u001b[1;32m--> 759\u001b[1;33m         self._stateful_fn._get_concrete_function_internal_garbage_collected(  # pylint: disable=protected-access\n\u001b[0m\u001b[0;32m    760\u001b[0m             *args, **kwds))\n\u001b[0;32m    761\u001b[0m \u001b[1;33m\u001b[0m\u001b[0m\n",
            "\u001b[1;32m~\\AppData\\Roaming\\Python\\Python38\\site-packages\\tensorflow\\python\\eager\\function.py\u001b[0m in \u001b[0;36m_get_concrete_function_internal_garbage_collected\u001b[1;34m(self, *args, **kwargs)\u001b[0m\n\u001b[0;32m   3064\u001b[0m       \u001b[0margs\u001b[0m\u001b[1;33m,\u001b[0m \u001b[0mkwargs\u001b[0m \u001b[1;33m=\u001b[0m \u001b[1;32mNone\u001b[0m\u001b[1;33m,\u001b[0m \u001b[1;32mNone\u001b[0m\u001b[1;33m\u001b[0m\u001b[1;33m\u001b[0m\u001b[0m\n\u001b[0;32m   3065\u001b[0m     \u001b[1;32mwith\u001b[0m \u001b[0mself\u001b[0m\u001b[1;33m.\u001b[0m\u001b[0m_lock\u001b[0m\u001b[1;33m:\u001b[0m\u001b[1;33m\u001b[0m\u001b[1;33m\u001b[0m\u001b[0m\n\u001b[1;32m-> 3066\u001b[1;33m       \u001b[0mgraph_function\u001b[0m\u001b[1;33m,\u001b[0m \u001b[0m_\u001b[0m \u001b[1;33m=\u001b[0m \u001b[0mself\u001b[0m\u001b[1;33m.\u001b[0m\u001b[0m_maybe_define_function\u001b[0m\u001b[1;33m(\u001b[0m\u001b[0margs\u001b[0m\u001b[1;33m,\u001b[0m \u001b[0mkwargs\u001b[0m\u001b[1;33m)\u001b[0m\u001b[1;33m\u001b[0m\u001b[1;33m\u001b[0m\u001b[0m\n\u001b[0m\u001b[0;32m   3067\u001b[0m     \u001b[1;32mreturn\u001b[0m \u001b[0mgraph_function\u001b[0m\u001b[1;33m\u001b[0m\u001b[1;33m\u001b[0m\u001b[0m\n\u001b[0;32m   3068\u001b[0m \u001b[1;33m\u001b[0m\u001b[0m\n",
            "\u001b[1;32m~\\AppData\\Roaming\\Python\\Python38\\site-packages\\tensorflow\\python\\eager\\function.py\u001b[0m in \u001b[0;36m_maybe_define_function\u001b[1;34m(self, args, kwargs)\u001b[0m\n\u001b[0;32m   3461\u001b[0m \u001b[1;33m\u001b[0m\u001b[0m\n\u001b[0;32m   3462\u001b[0m           \u001b[0mself\u001b[0m\u001b[1;33m.\u001b[0m\u001b[0m_function_cache\u001b[0m\u001b[1;33m.\u001b[0m\u001b[0mmissed\u001b[0m\u001b[1;33m.\u001b[0m\u001b[0madd\u001b[0m\u001b[1;33m(\u001b[0m\u001b[0mcall_context_key\u001b[0m\u001b[1;33m)\u001b[0m\u001b[1;33m\u001b[0m\u001b[1;33m\u001b[0m\u001b[0m\n\u001b[1;32m-> 3463\u001b[1;33m           \u001b[0mgraph_function\u001b[0m \u001b[1;33m=\u001b[0m \u001b[0mself\u001b[0m\u001b[1;33m.\u001b[0m\u001b[0m_create_graph_function\u001b[0m\u001b[1;33m(\u001b[0m\u001b[0margs\u001b[0m\u001b[1;33m,\u001b[0m \u001b[0mkwargs\u001b[0m\u001b[1;33m)\u001b[0m\u001b[1;33m\u001b[0m\u001b[1;33m\u001b[0m\u001b[0m\n\u001b[0m\u001b[0;32m   3464\u001b[0m           \u001b[0mself\u001b[0m\u001b[1;33m.\u001b[0m\u001b[0m_function_cache\u001b[0m\u001b[1;33m.\u001b[0m\u001b[0mprimary\u001b[0m\u001b[1;33m[\u001b[0m\u001b[0mcache_key\u001b[0m\u001b[1;33m]\u001b[0m \u001b[1;33m=\u001b[0m \u001b[0mgraph_function\u001b[0m\u001b[1;33m\u001b[0m\u001b[1;33m\u001b[0m\u001b[0m\n\u001b[0;32m   3465\u001b[0m \u001b[1;33m\u001b[0m\u001b[0m\n",
            "\u001b[1;32m~\\AppData\\Roaming\\Python\\Python38\\site-packages\\tensorflow\\python\\eager\\function.py\u001b[0m in \u001b[0;36m_create_graph_function\u001b[1;34m(self, args, kwargs, override_flat_arg_shapes)\u001b[0m\n\u001b[0;32m   3296\u001b[0m     \u001b[0marg_names\u001b[0m \u001b[1;33m=\u001b[0m \u001b[0mbase_arg_names\u001b[0m \u001b[1;33m+\u001b[0m \u001b[0mmissing_arg_names\u001b[0m\u001b[1;33m\u001b[0m\u001b[1;33m\u001b[0m\u001b[0m\n\u001b[0;32m   3297\u001b[0m     graph_function = ConcreteFunction(\n\u001b[1;32m-> 3298\u001b[1;33m         func_graph_module.func_graph_from_py_func(\n\u001b[0m\u001b[0;32m   3299\u001b[0m             \u001b[0mself\u001b[0m\u001b[1;33m.\u001b[0m\u001b[0m_name\u001b[0m\u001b[1;33m,\u001b[0m\u001b[1;33m\u001b[0m\u001b[1;33m\u001b[0m\u001b[0m\n\u001b[0;32m   3300\u001b[0m             \u001b[0mself\u001b[0m\u001b[1;33m.\u001b[0m\u001b[0m_python_function\u001b[0m\u001b[1;33m,\u001b[0m\u001b[1;33m\u001b[0m\u001b[1;33m\u001b[0m\u001b[0m\n",
            "\u001b[1;32m~\\AppData\\Roaming\\Python\\Python38\\site-packages\\tensorflow\\python\\framework\\func_graph.py\u001b[0m in \u001b[0;36mfunc_graph_from_py_func\u001b[1;34m(name, python_func, args, kwargs, signature, func_graph, autograph, autograph_options, add_control_dependencies, arg_names, op_return_value, collections, capture_by_value, override_flat_arg_shapes, acd_record_initial_resource_uses)\u001b[0m\n\u001b[0;32m   1005\u001b[0m         \u001b[0m_\u001b[0m\u001b[1;33m,\u001b[0m \u001b[0moriginal_func\u001b[0m \u001b[1;33m=\u001b[0m \u001b[0mtf_decorator\u001b[0m\u001b[1;33m.\u001b[0m\u001b[0munwrap\u001b[0m\u001b[1;33m(\u001b[0m\u001b[0mpython_func\u001b[0m\u001b[1;33m)\u001b[0m\u001b[1;33m\u001b[0m\u001b[1;33m\u001b[0m\u001b[0m\n\u001b[0;32m   1006\u001b[0m \u001b[1;33m\u001b[0m\u001b[0m\n\u001b[1;32m-> 1007\u001b[1;33m       \u001b[0mfunc_outputs\u001b[0m \u001b[1;33m=\u001b[0m \u001b[0mpython_func\u001b[0m\u001b[1;33m(\u001b[0m\u001b[1;33m*\u001b[0m\u001b[0mfunc_args\u001b[0m\u001b[1;33m,\u001b[0m \u001b[1;33m**\u001b[0m\u001b[0mfunc_kwargs\u001b[0m\u001b[1;33m)\u001b[0m\u001b[1;33m\u001b[0m\u001b[1;33m\u001b[0m\u001b[0m\n\u001b[0m\u001b[0;32m   1008\u001b[0m \u001b[1;33m\u001b[0m\u001b[0m\n\u001b[0;32m   1009\u001b[0m       \u001b[1;31m# invariant: `func_outputs` contains only Tensors, CompositeTensors,\u001b[0m\u001b[1;33m\u001b[0m\u001b[1;33m\u001b[0m\u001b[1;33m\u001b[0m\u001b[0m\n",
            "\u001b[1;32m~\\AppData\\Roaming\\Python\\Python38\\site-packages\\tensorflow\\python\\eager\\def_function.py\u001b[0m in \u001b[0;36mwrapped_fn\u001b[1;34m(*args, **kwds)\u001b[0m\n\u001b[0;32m    666\u001b[0m         \u001b[1;31m# the function a weak reference to itself to avoid a reference cycle.\u001b[0m\u001b[1;33m\u001b[0m\u001b[1;33m\u001b[0m\u001b[1;33m\u001b[0m\u001b[0m\n\u001b[0;32m    667\u001b[0m         \u001b[1;32mwith\u001b[0m \u001b[0mOptionalXlaContext\u001b[0m\u001b[1;33m(\u001b[0m\u001b[0mcompile_with_xla\u001b[0m\u001b[1;33m)\u001b[0m\u001b[1;33m:\u001b[0m\u001b[1;33m\u001b[0m\u001b[1;33m\u001b[0m\u001b[0m\n\u001b[1;32m--> 668\u001b[1;33m           \u001b[0mout\u001b[0m \u001b[1;33m=\u001b[0m \u001b[0mweak_wrapped_fn\u001b[0m\u001b[1;33m(\u001b[0m\u001b[1;33m)\u001b[0m\u001b[1;33m.\u001b[0m\u001b[0m__wrapped__\u001b[0m\u001b[1;33m(\u001b[0m\u001b[1;33m*\u001b[0m\u001b[0margs\u001b[0m\u001b[1;33m,\u001b[0m \u001b[1;33m**\u001b[0m\u001b[0mkwds\u001b[0m\u001b[1;33m)\u001b[0m\u001b[1;33m\u001b[0m\u001b[1;33m\u001b[0m\u001b[0m\n\u001b[0m\u001b[0;32m    669\u001b[0m         \u001b[1;32mreturn\u001b[0m \u001b[0mout\u001b[0m\u001b[1;33m\u001b[0m\u001b[1;33m\u001b[0m\u001b[0m\n\u001b[0;32m    670\u001b[0m \u001b[1;33m\u001b[0m\u001b[0m\n",
            "\u001b[1;32m~\\AppData\\Roaming\\Python\\Python38\\site-packages\\tensorflow\\python\\framework\\func_graph.py\u001b[0m in \u001b[0;36mwrapper\u001b[1;34m(*args, **kwargs)\u001b[0m\n\u001b[0;32m    992\u001b[0m           \u001b[1;32mexcept\u001b[0m \u001b[0mException\u001b[0m \u001b[1;32mas\u001b[0m \u001b[0me\u001b[0m\u001b[1;33m:\u001b[0m  \u001b[1;31m# pylint:disable=broad-except\u001b[0m\u001b[1;33m\u001b[0m\u001b[1;33m\u001b[0m\u001b[0m\n\u001b[0;32m    993\u001b[0m             \u001b[1;32mif\u001b[0m \u001b[0mhasattr\u001b[0m\u001b[1;33m(\u001b[0m\u001b[0me\u001b[0m\u001b[1;33m,\u001b[0m \u001b[1;34m\"ag_error_metadata\"\u001b[0m\u001b[1;33m)\u001b[0m\u001b[1;33m:\u001b[0m\u001b[1;33m\u001b[0m\u001b[1;33m\u001b[0m\u001b[0m\n\u001b[1;32m--> 994\u001b[1;33m               \u001b[1;32mraise\u001b[0m \u001b[0me\u001b[0m\u001b[1;33m.\u001b[0m\u001b[0mag_error_metadata\u001b[0m\u001b[1;33m.\u001b[0m\u001b[0mto_exception\u001b[0m\u001b[1;33m(\u001b[0m\u001b[0me\u001b[0m\u001b[1;33m)\u001b[0m\u001b[1;33m\u001b[0m\u001b[1;33m\u001b[0m\u001b[0m\n\u001b[0m\u001b[0;32m    995\u001b[0m             \u001b[1;32melse\u001b[0m\u001b[1;33m:\u001b[0m\u001b[1;33m\u001b[0m\u001b[1;33m\u001b[0m\u001b[0m\n\u001b[0;32m    996\u001b[0m               \u001b[1;32mraise\u001b[0m\u001b[1;33m\u001b[0m\u001b[1;33m\u001b[0m\u001b[0m\n",
            "\u001b[1;31mTypeError\u001b[0m: in user code:\n\n    C:\\Users\\ferna\\AppData\\Roaming\\Python\\Python38\\site-packages\\keras\\engine\\training.py:853 train_function  *\n        return step_function(self, iterator)\n    C:\\Users\\ferna\\AppData\\Roaming\\Python\\Python38\\site-packages\\keras\\engine\\training.py:842 step_function  **\n        outputs = model.distribute_strategy.run(run_step, args=(data,))\n    C:\\Users\\ferna\\AppData\\Roaming\\Python\\Python38\\site-packages\\tensorflow\\python\\distribute\\distribute_lib.py:1286 run\n        return self._extended.call_for_each_replica(fn, args=args, kwargs=kwargs)\n    C:\\Users\\ferna\\AppData\\Roaming\\Python\\Python38\\site-packages\\tensorflow\\python\\distribute\\distribute_lib.py:2849 call_for_each_replica\n        return self._call_for_each_replica(fn, args, kwargs)\n    C:\\Users\\ferna\\AppData\\Roaming\\Python\\Python38\\site-packages\\tensorflow\\python\\distribute\\distribute_lib.py:3632 _call_for_each_replica\n        return fn(*args, **kwargs)\n    C:\\Users\\ferna\\AppData\\Roaming\\Python\\Python38\\site-packages\\keras\\engine\\training.py:835 run_step  **\n        outputs = model.train_step(data)\n    C:\\Users\\ferna\\AppData\\Roaming\\Python\\Python38\\site-packages\\keras\\engine\\training.py:787 train_step\n        y_pred = self(x, training=True)\n    C:\\Users\\ferna\\AppData\\Roaming\\Python\\Python38\\site-packages\\keras\\engine\\base_layer.py:1037 __call__\n        outputs = call_fn(inputs, *args, **kwargs)\n    C:\\Users\\ferna\\AppData\\Roaming\\Python\\Python38\\site-packages\\keras\\engine\\sequential.py:369 call\n        return super(Sequential, self).call(inputs, training=training, mask=mask)\n    C:\\Users\\ferna\\AppData\\Roaming\\Python\\Python38\\site-packages\\keras\\engine\\functional.py:414 call\n        return self._run_internal_graph(\n    C:\\Users\\ferna\\AppData\\Roaming\\Python\\Python38\\site-packages\\keras\\engine\\functional.py:550 _run_internal_graph\n        outputs = node.layer(*args, **kwargs)\n    C:\\Users\\ferna\\AppData\\Roaming\\Python\\Python38\\site-packages\\keras\\engine\\base_layer.py:1037 __call__\n        outputs = call_fn(inputs, *args, **kwargs)\n    C:\\Users\\ferna\\AppData\\Roaming\\Python\\Python38\\site-packages\\keras\\layers\\core.py:534 call\n        result = tf.reshape(\n    C:\\Users\\ferna\\AppData\\Roaming\\Python\\Python38\\site-packages\\tensorflow\\python\\util\\dispatch.py:206 wrapper\n        return target(*args, **kwargs)\n    C:\\Users\\ferna\\AppData\\Roaming\\Python\\Python38\\site-packages\\tensorflow\\python\\ops\\array_ops.py:196 reshape\n        result = gen_array_ops.reshape(tensor, shape, name)\n    C:\\Users\\ferna\\AppData\\Roaming\\Python\\Python38\\site-packages\\tensorflow\\python\\ops\\gen_array_ops.py:8402 reshape\n        _, _, _op, _outputs = _op_def_library._apply_op_helper(\n    C:\\Users\\ferna\\AppData\\Roaming\\Python\\Python38\\site-packages\\tensorflow\\python\\framework\\op_def_library.py:525 _apply_op_helper\n        raise err\n    C:\\Users\\ferna\\AppData\\Roaming\\Python\\Python38\\site-packages\\tensorflow\\python\\framework\\op_def_library.py:517 _apply_op_helper\n        values = ops.convert_to_tensor(\n    C:\\Users\\ferna\\AppData\\Roaming\\Python\\Python38\\site-packages\\tensorflow\\python\\profiler\\trace.py:163 wrapped\n        return func(*args, **kwargs)\n    C:\\Users\\ferna\\AppData\\Roaming\\Python\\Python38\\site-packages\\tensorflow\\python\\framework\\ops.py:1566 convert_to_tensor\n        ret = conversion_func(value, dtype=dtype, name=name, as_ref=as_ref)\n    C:\\Users\\ferna\\AppData\\Roaming\\Python\\Python38\\site-packages\\tensorflow\\python\\framework\\constant_op.py:346 _constant_tensor_conversion_function\n        return constant(v, dtype=dtype, name=name)\n    C:\\Users\\ferna\\AppData\\Roaming\\Python\\Python38\\site-packages\\tensorflow\\python\\framework\\constant_op.py:271 constant\n        return _constant_impl(value, dtype, shape, name, verify_shape=False,\n    C:\\Users\\ferna\\AppData\\Roaming\\Python\\Python38\\site-packages\\tensorflow\\python\\framework\\constant_op.py:288 _constant_impl\n        tensor_util.make_tensor_proto(\n    C:\\Users\\ferna\\AppData\\Roaming\\Python\\Python38\\site-packages\\tensorflow\\python\\framework\\tensor_util.py:551 make_tensor_proto\n        raise TypeError(\"Failed to convert object of type %s to Tensor. \"\n\n    TypeError: Failed to convert object of type <class 'tensorflow.python.framework.sparse_tensor.SparseTensor'> to Tensor. Contents: SparseTensor(indices=Tensor(\"DeserializeSparse:0\", shape=(None, 2), dtype=int64), values=Tensor(\"DeserializeSparse:1\", shape=(None,), dtype=float32), dense_shape=Tensor(\"stack:0\", shape=(2,), dtype=int64)). Consider casting elements to a supported type.\n"
          ]
        }
      ],
      "metadata": {}
    },
    {
      "cell_type": "code",
      "execution_count": null,
      "source": [
        "stage1.get_metrics()"
      ],
      "outputs": [
        {
          "output_type": "error",
          "ename": "Error",
          "evalue": "Kernel is dead",
          "traceback": [
            "Error: Kernel is dead",
            "at g._sendKernelShellControl (c:\\Users\\ferna\\.vscode\\extensions\\ms-toolsai.jupyter-2021.8.2041215044\\out\\client\\extension.js:52:1006195)",
            "at g.sendShellMessage (c:\\Users\\ferna\\.vscode\\extensions\\ms-toolsai.jupyter-2021.8.2041215044\\out\\client\\extension.js:52:1005964)",
            "at g.requestExecute (c:\\Users\\ferna\\.vscode\\extensions\\ms-toolsai.jupyter-2021.8.2041215044\\out\\client\\extension.js:52:1008506)",
            "at d.requestExecute (c:\\Users\\ferna\\.vscode\\extensions\\ms-toolsai.jupyter-2021.8.2041215044\\out\\client\\extension.js:37:325680)",
            "at w.requestExecute (c:\\Users\\ferna\\.vscode\\extensions\\ms-toolsai.jupyter-2021.8.2041215044\\out\\client\\extension.js:32:18027)",
            "at w.executeCodeCell (c:\\Users\\ferna\\.vscode\\extensions\\ms-toolsai.jupyter-2021.8.2041215044\\out\\client\\extension.js:52:301076)",
            "at w.execute (c:\\Users\\ferna\\.vscode\\extensions\\ms-toolsai.jupyter-2021.8.2041215044\\out\\client\\extension.js:52:300703)",
            "at w.start (c:\\Users\\ferna\\.vscode\\extensions\\ms-toolsai.jupyter-2021.8.2041215044\\out\\client\\extension.js:52:296367)",
            "at processTicksAndRejections (internal/process/task_queues.js:93:5)",
            "at t.CellExecutionQueue.executeQueuedCells (c:\\Users\\ferna\\.vscode\\extensions\\ms-toolsai.jupyter-2021.8.2041215044\\out\\client\\extension.js:52:311160)",
            "at t.CellExecutionQueue.start (c:\\Users\\ferna\\.vscode\\extensions\\ms-toolsai.jupyter-2021.8.2041215044\\out\\client\\extension.js:52:310700)"
          ]
        }
      ],
      "metadata": {}
    }
  ]
}