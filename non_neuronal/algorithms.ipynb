{
 "cells": [
  {
   "cell_type": "markdown",
   "metadata": {},
   "source": [
    "# Non-neural models"
   ]
  },
  {
   "cell_type": "markdown",
   "metadata": {},
   "source": [
    "## Libraries"
   ]
  },
  {
   "cell_type": "code",
   "execution_count": 3,
   "metadata": {},
   "outputs": [],
   "source": [
    "import pandas as pd\n",
    "import matplotlib.pyplot as plt\n",
    "import numpy as np\n",
    "\n",
    "from sklearn import tree, preprocessing\n",
    "from sklearn.svm import SVC, SVR\n",
    "from sklearn.feature_extraction import FeatureHasher \n",
    "from sklearn.model_selection import train_test_split, GridSearchCV \n",
    "from sklearn.ensemble import GradientBoostingClassifier, RandomForestClassifier\n",
    "from sklearn.preprocessing import OneHotEncoder, OrdinalEncoder, MultiLabelBinarizer\n",
    "from sklearn.metrics import classification_report, accuracy_score, recall_score, precision_score, confusion_matrix, ConfusionMatrixDisplay\n",
    "from sklearn.linear_model import LogisticRegression\n",
    "\n",
    "#Ignorar los warnings (todos!)\n",
    "import warnings\n",
    "warnings.filterwarnings('ignore')"
   ]
  },
  {
   "cell_type": "markdown",
   "metadata": {},
   "source": [
    "## Code"
   ]
  },
  {
   "cell_type": "code",
   "execution_count": 4,
   "metadata": {},
   "outputs": [
    {
     "data": {
      "text/html": [
       "<div>\n",
       "<style scoped>\n",
       "    .dataframe tbody tr th:only-of-type {\n",
       "        vertical-align: middle;\n",
       "    }\n",
       "\n",
       "    .dataframe tbody tr th {\n",
       "        vertical-align: top;\n",
       "    }\n",
       "\n",
       "    .dataframe thead th {\n",
       "        text-align: right;\n",
       "    }\n",
       "</style>\n",
       "<table border=\"1\" class=\"dataframe\">\n",
       "  <thead>\n",
       "    <tr style=\"text-align: right;\">\n",
       "      <th></th>\n",
       "      <th>DATE_CASE</th>\n",
       "      <th>NOT_COUNTRY</th>\n",
       "      <th>PROD_CAT</th>\n",
       "      <th>TYPE</th>\n",
       "      <th>RISK_DECISION</th>\n",
       "      <th>ACTION_TAKEN</th>\n",
       "      <th>DISTRIBUTION_STAT</th>\n",
       "      <th>HAZARDS_CAT</th>\n",
       "      <th>COUNT_ORIGEN</th>\n",
       "      <th>COUNT_DESTIN</th>\n",
       "      <th>COUNT_CONCERN</th>\n",
       "    </tr>\n",
       "  </thead>\n",
       "  <tbody>\n",
       "    <tr>\n",
       "      <th>0</th>\n",
       "      <td>2020-10-16</td>\n",
       "      <td>France</td>\n",
       "      <td>meat and meat products (other than poultry)</td>\n",
       "      <td>food</td>\n",
       "      <td>serious</td>\n",
       "      <td>recall from consumers</td>\n",
       "      <td>distribution to other member countries</td>\n",
       "      <td>microbial contaminants (other)</td>\n",
       "      <td>France</td>\n",
       "      <td>Czech Republic</td>\n",
       "      <td></td>\n",
       "    </tr>\n",
       "    <tr>\n",
       "      <th>1</th>\n",
       "      <td>2020-10-16</td>\n",
       "      <td>France</td>\n",
       "      <td>meat and meat products (other than poultry)</td>\n",
       "      <td>food</td>\n",
       "      <td>serious</td>\n",
       "      <td>recall from consumers</td>\n",
       "      <td>distribution to other member countries</td>\n",
       "      <td>microbial contaminants (other)</td>\n",
       "      <td>France</td>\n",
       "      <td>United Kingdom</td>\n",
       "      <td></td>\n",
       "    </tr>\n",
       "    <tr>\n",
       "      <th>2</th>\n",
       "      <td>2020-10-16</td>\n",
       "      <td>Bulgaria</td>\n",
       "      <td>fruits and vegetables</td>\n",
       "      <td>food</td>\n",
       "      <td>serious</td>\n",
       "      <td>destruction</td>\n",
       "      <td>product not (yet) placed on the market</td>\n",
       "      <td>pesticide residues</td>\n",
       "      <td>Turkey</td>\n",
       "      <td></td>\n",
       "      <td>Bulgaria</td>\n",
       "    </tr>\n",
       "  </tbody>\n",
       "</table>\n",
       "</div>"
      ],
      "text/plain": [
       "    DATE_CASE NOT_COUNTRY                                     PROD_CAT  TYPE  \\\n",
       "0  2020-10-16      France  meat and meat products (other than poultry)  food   \n",
       "1  2020-10-16      France  meat and meat products (other than poultry)  food   \n",
       "2  2020-10-16    Bulgaria                        fruits and vegetables  food   \n",
       "\n",
       "  RISK_DECISION           ACTION_TAKEN  \\\n",
       "0       serious  recall from consumers   \n",
       "1       serious  recall from consumers   \n",
       "2       serious            destruction   \n",
       "\n",
       "                        DISTRIBUTION_STAT                     HAZARDS_CAT  \\\n",
       "0  distribution to other member countries  microbial contaminants (other)   \n",
       "1  distribution to other member countries  microbial contaminants (other)   \n",
       "2  product not (yet) placed on the market              pesticide residues   \n",
       "\n",
       "  COUNT_ORIGEN    COUNT_DESTIN COUNT_CONCERN  \n",
       "0       France  Czech Republic                \n",
       "1       France  United Kingdom                \n",
       "2       Turkey                      Bulgaria  "
      ]
     },
     "execution_count": 4,
     "metadata": {},
     "output_type": "execute_result"
    }
   ],
   "source": [
    "data = pd.read_csv(\"./data/splited_full_RASFF_DATA.csv\", sep=\";\", header=0, index_col=0)\n",
    "\n",
    "data.head(3)"
   ]
  },
  {
   "cell_type": "code",
   "execution_count": 5,
   "metadata": {},
   "outputs": [],
   "source": [
    "class Stage:\n",
    "\tdef __init__(self, input, output):\n",
    "\t\tself.input = input\n",
    "\t\tself.output = output\n",
    "\n",
    "\t\tself.cm_name = \"\"\n",
    "\n",
    "\t\tself.x = data.iloc[:, input]\n",
    "\t\tself.y = data.iloc[:, output]\n",
    "\n",
    "\t\tself.x_train, self.x_test, self.y_train, self.y_test, self.x_val, self.y_val = None, None, None, None, None, None\n",
    "\n",
    "\t\tself.classifier = self.Classifier()\n",
    "\t\t\n",
    "\t\tself.__transform()\n",
    "\n",
    "\tdef __transform(self):\n",
    "\t\tselection = 1\n",
    "\n",
    "\t\tif selection == 1:\n",
    "\t\t\tstrategy = OneHotEncoder(handle_unknown=\"ignore\") # One Hot Encoder\n",
    "\t\t\tself.cm_name = \"ohe\"\n",
    "\t\telif selection == 2:\n",
    "\t\t\tstrategy = OrdinalEncoder() # Integer\n",
    "\t\t\tself.cm_name = \"int\"\n",
    "\t\telif selection == 3:\n",
    "\t\t\tstrategy = FeatureHasher(n_features=25, input_type=\"string\") # Hashing\n",
    "\t\t\tself.cm_name = \"hsh\"\n",
    "\t\telif selection == 4:\n",
    "\t\t\tstrategy = MultiLabelBinarizer() # Binary\n",
    "\t\t\tself.cm_name = \"bnr\"\n",
    "\t\telse:\n",
    "\t\t\tprint(\"Invalid selection\")\n",
    "\t\t\n",
    "\t\tstrategy.fit(self.x.values)\n",
    "\t\t\n",
    "\t\t# Antiguo split\n",
    "\t\t# self.x_train, self.x_test, self.y_train, self.y_test = train_test_split(strategy.transform(self.x.values), self.y, test_size=0.2)\n",
    "\n",
    "\t\t# Split con validacion\n",
    "\t\tself.x_train, self.x_test, self.y_train, self.y_test = train_test_split(strategy.transform(self.x.values),self.y, test_size=0.2)\n",
    "\t\tself.x_train, self.x_val, self.y_train, self.y_val = train_test_split(self.x_train, self.y_train, test_size=0.25, random_state=42, shuffle=True)\n",
    "\n",
    "\tclass Classifier:\n",
    "\t\tpass"
   ]
  },
  {
   "cell_type": "code",
   "execution_count": 6,
   "metadata": {},
   "outputs": [],
   "source": [
    "def get_specifity(y_actual, y_pred):\n",
    "    TN = []\n",
    "    FP = []\n",
    "\n",
    "    for index ,_id in enumerate(np.union1d(y_actual, y_pred)):\n",
    "        FP.append(0)\n",
    "        TN.append(0)\n",
    "\n",
    "        for i in range(len(y_pred)):\n",
    "            if y_pred[i] == _id and y_actual[i] != y_pred[i]:\n",
    "                FP[index] += 1\n",
    "            if y_actual[i] == y_pred[i] != _id:\n",
    "                TN[index] += 1\n",
    "\n",
    "    TN = sum(TN)\n",
    "    FP = sum(FP)\n",
    "\n",
    "    return TN/(TN + FP)"
   ]
  },
  {
   "cell_type": "markdown",
   "metadata": {},
   "source": [
    "## Preprocessing"
   ]
  },
  {
   "cell_type": "code",
   "execution_count": 7,
   "metadata": {},
   "outputs": [],
   "source": [
    "data.DATE_CASE = data.DATE_CASE.astype(str)\n",
    "data.HAZARDS_CAT = data.HAZARDS_CAT.astype(str)\n",
    "data.COUNT_DESTIN = data.COUNT_DESTIN.astype(str)\n",
    "data.COUNT_CONCERN = data.COUNT_CONCERN.astype(str)\n",
    "data = data.dropna(subset=['DATE_CASE'])\n",
    "\n",
    "# data.dropna(subset=data.columns[[1, 3, 5, 8, 9, 12, 13]], inplace=True)"
   ]
  },
  {
   "cell_type": "code",
   "execution_count": 8,
   "metadata": {},
   "outputs": [],
   "source": [
    "data = data.sample(frac=1)"
   ]
  },
  {
   "cell_type": "markdown",
   "metadata": {},
   "source": [
    "## Transformation"
   ]
  },
  {
   "cell_type": "code",
   "execution_count": 9,
   "metadata": {},
   "outputs": [],
   "source": [
    "stage1 = Stage(\n",
    "\t# input=[0, 1, 6, 8],\n",
    "\t# input=[1, 3, 9, 13],\n",
    "\t# output=[5] # Product category\n",
    "\t\n",
    "\tinput=[0, 1, 6, 8],\n",
    "\toutput=[2]\n",
    ")\n",
    "\n",
    "stage2 = Stage(\n",
    "\t# input=[0, 1, 2, 6, 8],\n",
    "\t# input=[1, 3, 9, 13, 5],\n",
    "\t# output=[12] # Hazard category\n",
    "\t\n",
    "\tinput=[0, 1, 6, 8, 2],\n",
    "\toutput=[7]\n",
    ")\n",
    "\n",
    "stage3 = Stage(\n",
    "\t# input=[0, 1, 2, 6, 7, 8],\n",
    "\t# input=[1, 3, 9, 13, 5, 12],\n",
    "\t# output=[8] # Decision taken\n",
    "\t\n",
    "\tinput=[0, 1, 6, 8, 2, 7],\n",
    "\toutput=[5]\n",
    ")"
   ]
  },
  {
   "cell_type": "markdown",
   "metadata": {},
   "source": [
    "## Data mining"
   ]
  },
  {
   "cell_type": "markdown",
   "metadata": {},
   "source": [
    "### Decision trees"
   ]
  },
  {
   "cell_type": "code",
   "execution_count": null,
   "metadata": {},
   "outputs": [],
   "source": [
    "class DecisionTree:\n",
    "\tdef __init__(self, stage, params, number):\n",
    "\t\tself.stage = stage\n",
    "\t\tself.params = params\n",
    "\t\tself.number = number\n",
    "\n",
    "\t\tself.classifier = GridSearchCV(tree.DecisionTreeClassifier(random_state=42), self.params, cv=2, verbose=3)\n",
    "\t\tself.classifier.fit(stage.x_train, stage.y_train)\n",
    "\n",
    "\t\tself.best_params = self.classifier.best_params_\n",
    "\n",
    "\t\tself.classifier = tree.DecisionTreeClassifier(**self.best_params, random_state=42)\n",
    "\t\tself.classifier.fit(stage.x_train, stage.y_train)\n",
    "\n",
    "\t\tself.y_predict = None\n",
    "\n",
    "\tdef predict(self):\n",
    "\t\tself.y_predict = self.classifier.predict(self.stage.x_val)\n",
    "\n",
    "\tdef get_metrics(self):\n",
    "\t\tprint(f\"- Accuracy: {round(accuracy_score(self.stage.y_val, self.y_predict)*100, 2)}%\")\n",
    "\t\tprint(f\"- Specifity: {round(get_specifity(self.stage.y_val.values, self.y_predict)*100, 2)}%\")\n",
    "\t\tprint(f\"- Sensitivity: {round(recall_score(self.stage.y_val, self.y_predict, average='macro', zero_division=0)*100, 2)}%\")\n",
    "\t\tprint(f\"- Precision: {round(precision_score(self.stage.y_val, self.y_predict, average='macro', zero_division=0)*100, 2)}%\")\n",
    "\t\t\n",
    "\t\tprint(classification_report(self.stage.y_val, self.y_predict, zero_division=0))\n",
    "\n",
    "\t\tcm = confusion_matrix(self.stage.y_val, self.y_predict)\n",
    "\t\tcm = ConfusionMatrixDisplay(confusion_matrix=cm, display_labels=list(range(0, cm.shape[0])))\n",
    "\n",
    "\t\tfig, ax = plt.subplots(figsize=(10, 10))\n",
    "\t\tcm.plot(ax=ax)\n",
    "\n",
    "\t\tself.stage.classifier.decision_tree.fig.savefig(\"dt_\" + self.stage.cm_name + \"_\" + self.number + \".png\")\n",
    "\t\tfiles.download(\"dt_\" + self.stage.cm_name + \"_2\" + \".png\")\n",
    "\n",
    "\t\tplt.show()"
   ]
  },
  {
   "cell_type": "code",
   "execution_count": null,
   "metadata": {},
   "outputs": [],
   "source": [
    "params = {\n",
    "\t\"criterion\": [\"gini\", \"entropy\"],\n",
    "\t\"splitter\": [\"best\", \"random\"],\n",
    "\t\"max_features\": [\"auto\", \"sqrt\", \"log2\"]\n",
    "}\n",
    "\n",
    "stage1.classifier.decision_tree = DecisionTree(stage1, params, 1)\n",
    "print(f\"Stage 1 completed: {stage1.classifier.decision_tree.best_params}\")\n",
    "\n",
    "stage2.classifier.decision_tree = DecisionTree(stage2, params, 2)\n",
    "print(f\"Stage 2 completed: {stage2.classifier.decision_tree.best_params}\")\n",
    "\n",
    "stage3.classifier.decision_tree = DecisionTree(stage3, params, 3)\n",
    "print(f\"Stage 3 completed: {stage3.classifier.decision_tree.best_params}\")"
   ]
  },
  {
   "cell_type": "code",
   "execution_count": null,
   "metadata": {},
   "outputs": [],
   "source": [
    "stage1.classifier.decision_tree.predict()\n",
    "stage2.classifier.decision_tree.predict()\n",
    "stage3.classifier.decision_tree.predict()"
   ]
  },
  {
   "cell_type": "code",
   "execution_count": null,
   "metadata": {},
   "outputs": [],
   "source": [
    "print(\"Stage 1\")\n",
    "stage1.classifier.decision_tree.get_metrics()"
   ]
  },
  {
   "cell_type": "code",
   "execution_count": null,
   "metadata": {},
   "outputs": [],
   "source": [
    "print(\"Stage 2\")\n",
    "stage2.classifier.decision_tree.get_metrics()"
   ]
  },
  {
   "cell_type": "code",
   "execution_count": null,
   "metadata": {},
   "outputs": [],
   "source": [
    "print(\"Stage 3\")\n",
    "stage3.classifier.decision_tree.get_metrics()"
   ]
  },
  {
   "cell_type": "markdown",
   "metadata": {},
   "source": [
    "### Boosted trees"
   ]
  },
  {
   "cell_type": "code",
   "execution_count": null,
   "metadata": {},
   "outputs": [],
   "source": [
    "class BoostedTrees:\n",
    "\tdef __init__(self, stage, params):\n",
    "\t\tself.stage = stage\n",
    "\t\tself.params = params\n",
    "\t\t\n",
    "\t\t# self.classifier = GridSearchCV(GradientBoostingClassifier(max_features=\"sqrt\", subsample=0.8, random_state=10), self.params, n_jobs=4, cv=2, verbose=3)\n",
    "\t\t# self.classifier.fit(stage.x_train, stage.y_train.values.ravel())\n",
    "\n",
    "\t\t# self.best_params = self.classifier.best_params_\n",
    "\n",
    "\t\tself.classifier = GradientBoostingClassifier(lr=0.1, max_depth=9, min_samples=400, n_estimators=50, max_features=\"sqrt\", subsample=0.8, random_state=10)\n",
    "\t\tself.classifier.fit(stage.x_train, stage.y_train.values.ravel())\n",
    "\n",
    "\t\tself.y_predict = None\n",
    "\n",
    "\tdef predict(self):\n",
    "\t\tself.y_predict = self.classifier.predict(self.stage.x_val)\n",
    "\n",
    "\tdef get_metrics(self):\n",
    "\t\tprint(f\"- Accuracy: {round(accuracy_score(self.stage.y_val, self.y_predict)*100, 2)}%\")\n",
    "\t\tprint(f\"- Specifity: {round(get_specifity(self.stage.y_val.values, self.y_predict)*100, 2)}%\")\n",
    "\t\tprint(f\"- Sensitivity: {round(recall_score(self.stage.y_val, self.y_predict, average='macro', zero_division=0)*100, 2)}%\")\n",
    "\t\tprint(f\"- Precission: {round(precision_score(self.stage.y_val, self.y_predict, average='macro', zero_division=0)*100, 2)}%\")\n",
    "\t\t\n",
    "\t\tprint(classification_report(self.stage.y_val, self.y_predict, zero_division=0))\n",
    "\n",
    "\t\tcm = confusion_matrix(self.stage.y_val, self.y_predict)\n",
    "\t\tcm = ConfusionMatrixDisplay(confusion_matrix=cm, display_labels=list(range(0, cm.shape[0])))\n",
    "\n",
    "\t\t_, ax = plt.subplots(figsize=(10, 10))\n",
    "\t\tcm.plot(ax=ax)\n",
    "\t\tplt.savefig('matrixConfusion.png')"
   ]
  },
  {
   "cell_type": "code",
   "execution_count": null,
   "metadata": {},
   "outputs": [],
   "source": [
    "params = {\n",
    "\t\"n_estimators\": range(20, 51, 10),\n",
    "\t\"learning_rate\": [1, 0.1, 0.01],\n",
    "\t\"max_depth\": range(5, 10, 2),\n",
    "\t\"min_samples_split\": range(200, 601, 200)\n",
    "}\n",
    "\n",
    "stage1.classifier.boosted_trees = BoostedTrees(stage1, params)\n",
    "print(f\"Stage 1 completed: {stage1.classifier.boosted_trees.best_params}\")\n",
    "\n",
    "stage2.classifier.boosted_trees = BoostedTrees(stage2, params)\n",
    "print(f\"Stage 2 completed: {stage2.classifier.boosted_trees.best_params}\")\n",
    "\n",
    "stage3.classifier.boosted_trees = BoostedTrees(stage3, params)\n",
    "print(f\"Stage 3 completed: {stage3.classifier.boosted_trees.best_params}\")"
   ]
  },
  {
   "cell_type": "code",
   "execution_count": null,
   "metadata": {},
   "outputs": [],
   "source": [
    "stage1.classifier.boosted_trees.predict()\n",
    "stage2.classifier.boosted_trees.predict()\n",
    "stage3.classifier.boosted_trees.predict()"
   ]
  },
  {
   "cell_type": "code",
   "execution_count": null,
   "metadata": {},
   "outputs": [],
   "source": [
    "print(\"Stage 1\")\n",
    "stage1.classifier.boosted_trees.get_metrics()"
   ]
  },
  {
   "cell_type": "code",
   "execution_count": null,
   "metadata": {},
   "outputs": [],
   "source": [
    "print(\"Stage 2\")\n",
    "stage2.classifier.boosted_trees.get_metrics()"
   ]
  },
  {
   "cell_type": "code",
   "execution_count": null,
   "metadata": {},
   "outputs": [],
   "source": [
    "print(\"Stage 3\")\n",
    "stage3.classifier.boosted_trees.get_metrics()"
   ]
  },
  {
   "cell_type": "markdown",
   "metadata": {},
   "source": [
    "### Random Forest"
   ]
  },
  {
   "cell_type": "code",
   "execution_count": null,
   "metadata": {},
   "outputs": [],
   "source": [
    "class RandomForest:\n",
    "\tdef __init__(self, stage,params):\n",
    "\t\tself.stage = stage\n",
    "\t\tself.params=params\n",
    "\t\t\n",
    "\n",
    "\t\trf = RandomForestClassifier()\n",
    "\n",
    "\n",
    "\t\tself.classifier = GridSearchCV(estimator = rf, param_grid = self.params, \n",
    "                          cv = 3, n_jobs = -1, verbose = 2, verbose=3, cv=2)\n",
    "\t\tself.classifier.fit(stage.x_train, stage.y_train)\n",
    "\n",
    "\t\tself.best_params = self.classifier.best_params_\n",
    "\n",
    "\t\tself.classifier = RandomForestClassifier(**self.best_params)\n",
    "\t\tself.classifier.fit(stage.x_train, stage.y_train)\n",
    "\n",
    "\t\tself.y_predict = None\n",
    "\n",
    "\tdef predict(self):\n",
    "\t\tself.y_predict = self.classifier.predict(self.stage.x_test)\n",
    "\n",
    "\tdef get_metrics(self):\n",
    "\t\tprint(f\"- Accuracy: {round(accuracy_score(self.stage.y_test, self.y_predict)*100, 2)}%\")\n",
    "\t\tprint(f\"- Specifity: {round(get_specifity(self.stage.y_test.values, self.y_predict)*100, 2)}%\")\n",
    "\t\tprint(f\"- Sensitivity: {round(recall_score(self.stage.y_test, self.y_predict, average='macro', zero_division=0)*100, 2)}%\")\n",
    "\t\tprint(f\"- Precision: {round(precision_score(self.stage.y_test, self.y_predict, average='macro', zero_division=0)*100, 2)}%\")\n",
    "\t\t\n",
    "\t\tprint(classification_report(self.stage.y_test, self.y_predict, zero_division=0))\n",
    "\n",
    "\t\tcm = confusion_matrix(self.stage.y_test, self.y_predict)\n",
    "\t\tcm = ConfusionMatrixDisplay(confusion_matrix=cm, display_labels=list(range(0, cm.shape[0])))\n",
    "\n",
    "\t\t_, ax = plt.subplots(figsize=(10, 10))\n",
    "\t\tcm.plot(ax=ax)"
   ]
  },
  {
   "cell_type": "code",
   "execution_count": null,
   "metadata": {},
   "outputs": [],
   "source": [
    "params = {\n",
    "    'bootstrap': [True],\n",
    "    'max_depth': [100, 110],\n",
    "    'max_features': [2, 3],\n",
    "    'min_samples_leaf': [4, 5],\n",
    "    'min_samples_split': [10, 12],\n",
    "    'n_estimators': [200, 300, 500]}\n",
    "\n",
    "stage1.classifier.Random_forest = RandomForest(stage1, params)\n",
    "print(f\"Stage 1 completed: {stage1.classifier.Random_forest.best_params}\")\n",
    "\n",
    "stage2.classifier.Random_forest = RandomForest(stage2, params)\n",
    "print(f\"Stage 2 completed: {stage2.classifier.Random_forest.best_params}\")\n",
    "\n",
    "stage3.classifier.Random_forest = RandomForest(stage3, params)\n",
    "print(f\"Stage 3 completed: {stage3.classifier.Random_forest.best_params}\")"
   ]
  },
  {
   "cell_type": "code",
   "execution_count": null,
   "metadata": {},
   "outputs": [],
   "source": [
    "stage1.classifier.Random_forest.predict()\n",
    "stage2.classifier.Random_forest.predict()\n",
    "stage3.classifier.Random_forest.predict()"
   ]
  },
  {
   "cell_type": "code",
   "execution_count": null,
   "metadata": {},
   "outputs": [],
   "source": [
    "print(\"Stage 1\")\n",
    "stage1.classifier.Random_forest.get_metrics()"
   ]
  },
  {
   "cell_type": "code",
   "execution_count": null,
   "metadata": {},
   "outputs": [],
   "source": [
    "print(\"Stage 2\")\n",
    "stage2.classifier.Random_forest.get_metrics()"
   ]
  },
  {
   "cell_type": "code",
   "execution_count": null,
   "metadata": {},
   "outputs": [],
   "source": [
    "print(\"Stage 3\")\n",
    "stage3.classifier.Random_forest.get_metrics()"
   ]
  },
  {
   "cell_type": "markdown",
   "metadata": {},
   "source": [
    "### Logistic Regression"
   ]
  },
  {
   "cell_type": "code",
   "execution_count": null,
   "metadata": {},
   "outputs": [],
   "source": [
    "class LogisticRegression1:\n",
    "\tdef __init__(self, stage, params):\n",
    "\t\tself.stage = stage\n",
    "\t\tself.params = params\n",
    "\n",
    "\t\t#self.classifier = GridSearchCV(LogisticRegression(), param_grid=self.params, verbose=3, cv=2, error_score=\"raise\")\n",
    "\t\t#self.classifier.fit(stage.x_train, stage.y_train)\n",
    "\n",
    "\t\t#self.best_params = self.classifier.best_params_\n",
    "\n",
    "\t\tself.classifier = LogisticRegression(C=10, penalty=\"l2\", solver='lbfgs')\n",
    "\t\tself.classifier.fit(stage.x_train, stage.y_train)\n",
    "\n",
    "\t\tself.y_predict = None\n",
    "\n",
    "\tdef predict(self):\n",
    "\t\tself.y_predict = self.classifier.predict(self.stage.x_val)\n",
    "\n",
    "\tdef get_metrics(self):\n",
    "\t\tprint(f\"- Accuracy: {round(accuracy_score(self.stage.y_val, self.y_predict)*100, 2)}%\")\n",
    "\t\tprint(f\"- Specifity: {round(get_specifity(self.stage.y_val.values, self.y_predict)*100, 2)}%\")\n",
    "\t\tprint(f\"- Sensitivity: {round(recall_score(self.stage.y_val, self.y_predict, average='macro', zero_division=0)*100, 2)}%\")\n",
    "\t\tprint(f\"- Precision: {round(precision_score(self.stage.y_val, self.y_predict, average='macro', zero_division=0)*100, 2)}%\")\n",
    "\t\t\n",
    "\t\tprint(classification_report(self.stage.y_val, self.y_predict, zero_division=0))\n",
    "\n",
    "\t\tcm = confusion_matrix(self.stage.y_val, self.y_predict)\n",
    "\t\tcm = ConfusionMatrixDisplay(confusion_matrix=cm, display_labels=list(range(0, cm.shape[0])))\n",
    "\n",
    "\t\t_, ax = plt.subplots(figsize=(10, 10))\n",
    "\t\tcm.plot(ax=ax)"
   ]
  },
  {
   "cell_type": "code",
   "execution_count": null,
   "metadata": {},
   "outputs": [],
   "source": [
    "params = {\n",
    "\t\"penalty\": [\"l2\"],\n",
    "\t\"C\": [0.001, 0.01, 0.1, 1, 10]\n",
    "}\n",
    "\n",
    "stage1.classifier.Logistic_regression = LogisticRegression1(stage1, params)\n",
    "# print(f\"Stage 1 completed: {stage1.classifier.Logistic_regression.best_params}\")\n",
    "print(\"Stage 1 completed:\")\n",
    "\n",
    "stage2.classifier.Logistic_regression = LogisticRegression1(stage2, params)\n",
    "# print(f\"Stage 2 completed: {stage2.classifier.Logistic_regression.best_params}\")\n",
    "print(\"Stage 2 completed:\")\n",
    "\n",
    "stage3.classifier.Logistic_regression = LogisticRegression1(stage3, params)\n",
    "# print(f\"Stage 3 completed: {stage3.classifier.Logistic_regression.best_params}\")\n",
    "print(\"Stage 3 completed:\")"
   ]
  },
  {
   "cell_type": "code",
   "execution_count": null,
   "metadata": {},
   "outputs": [],
   "source": [
    "stage1.classifier.Logistic_regression.predict()\n",
    "stage2.classifier.Logistic_regression.predict()\n",
    "stage3.classifier.Logistic_regression.predict()"
   ]
  },
  {
   "cell_type": "code",
   "execution_count": null,
   "metadata": {},
   "outputs": [],
   "source": [
    "print(\"Stage 1\")\n",
    "stage1.classifier.Logistic_regression.get_metrics()"
   ]
  },
  {
   "cell_type": "code",
   "execution_count": null,
   "metadata": {},
   "outputs": [],
   "source": [
    "print(\"Stage 2\")\n",
    "stage2.classifier.Logistic_regression.get_metrics()"
   ]
  },
  {
   "cell_type": "code",
   "execution_count": null,
   "metadata": {},
   "outputs": [],
   "source": [
    "print(\"Stage 3\")\n",
    "stage3.classifier.Logistic_regression.get_metrics()"
   ]
  },
  {
   "cell_type": "markdown",
   "metadata": {},
   "source": [
    "### Support vector machine"
   ]
  },
  {
   "cell_type": "code",
   "execution_count": null,
   "metadata": {},
   "outputs": [],
   "source": [
    "class SupportVectorMachine:\n",
    "    def __init__(self, stage, params):\n",
    "        self.stage = stage\n",
    "        self.params = params\n",
    "        \n",
    "        self.classifier = GridSearchCV(SVC(), self.params, refit=True, verbose=3, cv=2)\n",
    "        self.classifier.fit(stage.x_train, stage.y_train.values.ravel())\n",
    "\n",
    "        self.best_params = self.classifier.best_params_\n",
    "\n",
    "        self.classifier = SVC(**self.best_params)\n",
    "        self.classifier.fit(stage.x_train, stage.y_train.values.ravel())\n",
    "\n",
    "        self.y_predict = None\n",
    "\n",
    "    def predict(self):\n",
    "        self.y_predict = self.classifier.predict(self.stage.x_test)\n",
    "\n",
    "    def get_metrics(self):\n",
    "        print(f\"- Accuracy: {round(accuracy_score(self.stage.y_test, self.y_predict)*100, 2)}%\")\n",
    "        print(f\"- Specifity: {round(get_specifity(self.stage.y_test.values, self.y_predict)*100, 2)}%\")\n",
    "        print(f\"- Sensitivity: {round(recall_score(self.stage.y_test, self.y_predict, average='macro', zero_division=0)*100, 2)}%\")\n",
    "        print(f\"- Precission: {round(precision_score(self.stage.y_test, self.y_predict, average='macro', zero_division=0)*100, 2)}%\")\n",
    "        \n",
    "        print(classification_report(self.stage.y_test, self.y_predict, zero_division=0))\n",
    "\n",
    "        cm = confusion_matrix(self.stage.y_test, self.y_predict)\n",
    "        cm = ConfusionMatrixDisplay(confusion_matrix=cm)\n",
    "\n",
    "        _, ax = plt.subplots(figsize=(10, 10))\n",
    "        cm.plot(ax=ax)"
   ]
  },
  {
   "cell_type": "code",
   "execution_count": null,
   "metadata": {},
   "outputs": [],
   "source": [
    "params = {\n",
    "\t\"C\": [0.1, 1, 10], \n",
    "    \"gamma\": [1, 0.1, 0.01],\n",
    "    \"kernel\": [\"rbf\"]\n",
    "} \n",
    "\n",
    "stage1.classifier.support_vector_machine = SupportVectorMachine(stage1, params)\n",
    "print(f\"Stage 1 completed: {stage1.classifier.support_vector_machine.best_params}\")\n",
    "\n",
    "stage2.classifier.support_vector_machine = SupportVectorMachine(stage2, params)\n",
    "print(f\"Stage 2 completed: {stage2.classifier.support_vector_machine.best_params}\")\n",
    "\n",
    "stage3.classifier.support_vector_machine = SupportVectorMachine(stage3, params)\n",
    "print(f\"Stage 3 completed: {stage3.classifier.support_vector_machine.best_params}\")"
   ]
  },
  {
   "cell_type": "code",
   "execution_count": null,
   "metadata": {},
   "outputs": [],
   "source": [
    "stage1.classifier.support_vector_machine.predict()\n",
    "stage2.classifier.support_vector_machine.predict()\n",
    "stage3.classifier.support_vector_machine.predict()"
   ]
  },
  {
   "cell_type": "code",
   "execution_count": null,
   "metadata": {},
   "outputs": [],
   "source": [
    "print(\"Stage 1\")\n",
    "stage1.classifier.support_vector_machine.get_metrics()"
   ]
  },
  {
   "cell_type": "code",
   "execution_count": null,
   "metadata": {},
   "outputs": [],
   "source": [
    "print(\"Stage 2\")\n",
    "stage2.classifier.support_vector_machine.get_metrics()"
   ]
  },
  {
   "cell_type": "code",
   "execution_count": null,
   "metadata": {},
   "outputs": [],
   "source": [
    "print(\"Stage 3\")\n",
    "stage3.classifier.support_vector_machine.get_metrics()"
   ]
  },
  {
   "cell_type": "markdown",
   "metadata": {},
   "source": [
    "### Support vector regression "
   ]
  },
  {
   "cell_type": "code",
   "execution_count": 10,
   "metadata": {},
   "outputs": [],
   "source": [
    "class SupportVectorRegression:\n",
    "    def __init__(self, stage, params):\n",
    "        self.stage = stage\n",
    "        self.params = params\n",
    "        \n",
    "        # self.classifier = GridSearchCV(SVR(), self.params, refit=True, verbose=3, cv=2,n_jobs=6)\n",
    "        # self.classifier.fit(stage.x_train,stage.y_train)\n",
    "\n",
    "        # self.best_params = self.classifier.best_params_\n",
    "\n",
    "        le = preprocessing.LabelEncoder()\n",
    "        le.fit(stage.y_train.values.ravel())\n",
    "\n",
    "        print(le.transform(stage.y_train.values.ravel()))\n",
    "        self.classifier = SVR(C=0.1,gamma=1,kernel=\"rbf\",verbose=10)\n",
    "        self.classifier.fit(stage.x_train, le.transform(stage.y_train.values.ravel()))\n",
    "\n",
    "        self.y_predict = None\n",
    "\n",
    "    def predict(self):\n",
    "        self.y_predict = self.classifier.predict(self.stage.x_val)\n",
    "\n",
    "    def get_metrics(self):\n",
    "        print(f\"- Accuracy: {round(accuracy_score(self.stage.y_val, self.y_predict)*100, 2)}%\")\n",
    "        print(f\"- Specifity: {round(get_specifity(self.stage.y_val.values, self.y_predict)*100, 2)}%\")\n",
    "        print(f\"- Sensitivity: {round(recall_score(self.stage.y_val, self.y_predict, average='macro', zero_division=0)*100, 2)}%\")\n",
    "        print(f\"- Precission: {round(precision_score(self.stage.y_val, self.y_predict, average='macro', zero_division=0)*100, 2)}%\")\n",
    "        \n",
    "        print(classification_report(self.stage.y_val, self.y_predict, zero_division=0))\n",
    "\n",
    "        cm = confusion_matrix(self.stage.y_val, self.y_predict)\n",
    "        cm = ConfusionMatrixDisplay(confusion_matrix=cm)\n",
    "\n",
    "        _, ax = plt.subplots(figsize=(10, 10))\n",
    "        cm.plot(ax=ax)"
   ]
  },
  {
   "cell_type": "code",
   "execution_count": 11,
   "metadata": {},
   "outputs": [
    {
     "name": "stdout",
     "output_type": "stream",
     "text": [
      "[ 6  6 32 ... 19 22 34]\n",
      "[LibSVM]"
     ]
    }
   ],
   "source": [
    "params = {\n",
    "\t\"C\": [0.1, 1, 10], \n",
    "    \"gamma\": [1, 0.1, 0.01],\n",
    "    \"kernel\": [\"rbf\",\"linear\",\"sigmoid\"]\n",
    "} \n",
    "\n",
    "stage1.classifier.supportVectorRegression = SupportVectorRegression(stage1, params)\n",
    "print(f\"Stage 1 completed: {stage1.classifier.supportVectorRegression.best_params}\")\n",
    "\n",
    "stage2.classifier.supportVectorRegression = SupportVectorRegression(stage2, params)\n",
    "print(f\"Stage 2 completed: {stage2.classifier.supportVectorRegression.best_params}\")\n",
    "\n",
    "stage3.classifier.supportVectorRegression = SupportVectorRegression(stage3, params)\n",
    "print(f\"Stage 3 completed: {stage3.classifier.supportVectorRegression.best_params}\")"
   ]
  },
  {
   "cell_type": "code",
   "execution_count": null,
   "metadata": {},
   "outputs": [],
   "source": [
    "\n",
    "stage1.classifier.support_vector_machine.predict()\n",
    "stage2.classifier.support_vector_machine.predict()\n",
    "stage3.classifier.support_vector_machine.predict()"
   ]
  },
  {
   "cell_type": "code",
   "execution_count": null,
   "metadata": {},
   "outputs": [],
   "source": [
    "print(\"Stage 1\")\n",
    "stage1.classifier.support_vector_machine.get_metrics()"
   ]
  },
  {
   "cell_type": "code",
   "execution_count": null,
   "metadata": {},
   "outputs": [],
   "source": [
    "print(\"Stage 2\")\n",
    "stage2.classifier.support_vector_machine.get_metrics()"
   ]
  },
  {
   "cell_type": "code",
   "execution_count": null,
   "metadata": {},
   "outputs": [],
   "source": [
    "print(\"Stage 3\")\n",
    "stage3.classifier.support_vector_machine.get_metrics()"
   ]
  }
 ],
 "metadata": {
  "interpreter": {
   "hash": "ce834ef4bb88453c9616f086865b677e44e8db09042ee13be28b090baecb32b6"
  },
  "kernelspec": {
   "display_name": "Python 3.8.11 64-bit ('Ceiec': conda)",
   "name": "python3"
  },
  "language_info": {
   "codemirror_mode": {
    "name": "ipython",
    "version": 3
   },
   "file_extension": ".py",
   "mimetype": "text/x-python",
   "name": "python",
   "nbconvert_exporter": "python",
   "pygments_lexer": "ipython3",
   "version": "3.8.11"
  },
  "orig_nbformat": 4
 },
 "nbformat": 4,
 "nbformat_minor": 2
}
