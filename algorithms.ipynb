{
 "cells": [
  {
   "cell_type": "code",
   "execution_count": 1,
   "source": [
    "import pandas as pd\r\n",
    "import matplotlib.pyplot as plt\r\n",
    "import numpy as np\r\n",
    "\r\n",
    "from sklearn import tree\r\n",
    "from sklearn.feature_extraction import FeatureHasher\r\n",
    "from sklearn.model_selection import train_test_split\r\n",
    "from sklearn.preprocessing import OneHotEncoder, OrdinalEncoder, MultiLabelBinarizer\r\n",
    "from sklearn.metrics import classification_report, accuracy_score, recall_score, precision_score, confusion_matrix, ConfusionMatrixDisplay"
   ],
   "outputs": [],
   "metadata": {}
  },
  {
   "cell_type": "markdown",
   "source": [
    "# Non-neural models"
   ],
   "metadata": {}
  },
  {
   "cell_type": "code",
   "execution_count": 2,
   "source": [
    "data = pd.read_csv(\"./data/splited_RASFF_DATA_16092019.csv\", sep=\";\", header=0, index_col=0)\r\n",
    "\r\n",
    "data.head(3)"
   ],
   "outputs": [
    {
     "output_type": "execute_result",
     "data": {
      "text/html": [
       "<div>\n",
       "<style scoped>\n",
       "    .dataframe tbody tr th:only-of-type {\n",
       "        vertical-align: middle;\n",
       "    }\n",
       "\n",
       "    .dataframe tbody tr th {\n",
       "        vertical-align: top;\n",
       "    }\n",
       "\n",
       "    .dataframe thead th {\n",
       "        text-align: right;\n",
       "    }\n",
       "</style>\n",
       "<table border=\"1\" class=\"dataframe\">\n",
       "  <thead>\n",
       "    <tr style=\"text-align: right;\">\n",
       "      <th></th>\n",
       "      <th>DATE_CASE</th>\n",
       "      <th>NOT_COUNTRY</th>\n",
       "      <th>PROD_CAT</th>\n",
       "      <th>TYPE</th>\n",
       "      <th>RISK_DECISION</th>\n",
       "      <th>ACTION_TAKEN</th>\n",
       "      <th>DISTRIBUTION_STAT</th>\n",
       "      <th>HAZARDS_CAT</th>\n",
       "      <th>COUNT_ORIGEN</th>\n",
       "      <th>COUNT_DESTIN</th>\n",
       "      <th>COUNT_CONCERN</th>\n",
       "    </tr>\n",
       "  </thead>\n",
       "  <tbody>\n",
       "    <tr>\n",
       "      <th>0</th>\n",
       "      <td>2019-09-13</td>\n",
       "      <td>France</td>\n",
       "      <td>meat and meat products (other than poultry)</td>\n",
       "      <td>food</td>\n",
       "      <td>serious</td>\n",
       "      <td>no stock left</td>\n",
       "      <td>no distribution from notifying country</td>\n",
       "      <td>pathogenic micro-organisms</td>\n",
       "      <td>Romania</td>\n",
       "      <td>France</td>\n",
       "      <td>Belgium</td>\n",
       "    </tr>\n",
       "    <tr>\n",
       "      <th>1</th>\n",
       "      <td>2019-09-13</td>\n",
       "      <td>Denmark</td>\n",
       "      <td>cocoa and cocoa preparations, coffee and tea</td>\n",
       "      <td>food</td>\n",
       "      <td>serious</td>\n",
       "      <td>recall from consumers</td>\n",
       "      <td>no distribution from notifying country</td>\n",
       "      <td>natural toxins (other)</td>\n",
       "      <td>Germany</td>\n",
       "      <td>Denmark</td>\n",
       "      <td></td>\n",
       "    </tr>\n",
       "    <tr>\n",
       "      <th>2</th>\n",
       "      <td>2019-09-13</td>\n",
       "      <td>Poland</td>\n",
       "      <td>confectionery</td>\n",
       "      <td>food</td>\n",
       "      <td>serious</td>\n",
       "      <td>informing authorities</td>\n",
       "      <td>distribution restricted to notifying country</td>\n",
       "      <td>food additives and flavourings</td>\n",
       "      <td>Croatia</td>\n",
       "      <td>Poland</td>\n",
       "      <td></td>\n",
       "    </tr>\n",
       "  </tbody>\n",
       "</table>\n",
       "</div>"
      ],
      "text/plain": [
       "    DATE_CASE NOT_COUNTRY                                      PROD_CAT  TYPE  \\\n",
       "0  2019-09-13      France   meat and meat products (other than poultry)  food   \n",
       "1  2019-09-13     Denmark  cocoa and cocoa preparations, coffee and tea  food   \n",
       "2  2019-09-13      Poland                                 confectionery  food   \n",
       "\n",
       "  RISK_DECISION           ACTION_TAKEN  \\\n",
       "0       serious          no stock left   \n",
       "1       serious  recall from consumers   \n",
       "2       serious  informing authorities   \n",
       "\n",
       "                              DISTRIBUTION_STAT  \\\n",
       "0        no distribution from notifying country   \n",
       "1        no distribution from notifying country   \n",
       "2  distribution restricted to notifying country   \n",
       "\n",
       "                      HAZARDS_CAT COUNT_ORIGEN COUNT_DESTIN COUNT_CONCERN  \n",
       "0      pathogenic micro-organisms      Romania       France       Belgium  \n",
       "1          natural toxins (other)      Germany      Denmark                \n",
       "2  food additives and flavourings      Croatia       Poland                "
      ]
     },
     "metadata": {},
     "execution_count": 2
    }
   ],
   "metadata": {}
  },
  {
   "cell_type": "code",
   "execution_count": 3,
   "source": [
    "class Stage:\r\n",
    "\tdef __init__(self, input, output):\r\n",
    "\t\tself.input = input\r\n",
    "\t\tself.output = output\r\n",
    "\r\n",
    "\t\tself.x = data.iloc[:, input]\r\n",
    "\t\tself.y = data.iloc[:, output]\r\n",
    "\r\n",
    "\t\tself.x_train, self.x_test, self.y_train, self.y_test = None, None, None, None\r\n",
    "\r\n",
    "\t\tself.classifier = self.Classifier()\r\n",
    "\r\n",
    "\tdef transform(self):\r\n",
    "\t\t# strategy = OneHotEncoder(handle_unknown=\"ignore\") # One Hot Encoder\r\n",
    "\t\t# strategy = OrdinalEncoder() # Integer\r\n",
    "\t\t# strategy = FeatureHasher(n_features=25, input_type=\"string\") # Hashing\r\n",
    "\t\tstrategy = MultiLabelBinarizer() # Binary\r\n",
    "\t\t\r\n",
    "\t\tstrategy.fit(self.x.values)\r\n",
    "\t\t\r\n",
    "\t\tself.x_train, self.x_test, self.y_train, self.y_test = train_test_split(strategy.transform(self.x.values), self.y, test_size=0.2)\r\n",
    "\r\n",
    "\tclass Classifier:\r\n",
    "\t\tpass"
   ],
   "outputs": [],
   "metadata": {}
  },
  {
   "cell_type": "markdown",
   "source": [
    "## Preprocessing"
   ],
   "metadata": {}
  },
  {
   "cell_type": "code",
   "execution_count": 4,
   "source": [
    "data.DATE_CASE = data.DATE_CASE.astype(str)\r\n",
    "data.HAZARDS_CAT = data.HAZARDS_CAT.astype(str)"
   ],
   "outputs": [],
   "metadata": {}
  },
  {
   "cell_type": "code",
   "execution_count": 5,
   "source": [
    "data = data.sample(frac=1)"
   ],
   "outputs": [],
   "metadata": {}
  },
  {
   "cell_type": "markdown",
   "source": [
    "## Transformation"
   ],
   "metadata": {}
  },
  {
   "cell_type": "code",
   "execution_count": 6,
   "source": [
    "stage1 = Stage(\r\n",
    "\tinput=[0, 1, 6, 8],\r\n",
    "\toutput=[2] # Product category\r\n",
    ")\r\n",
    "\r\n",
    "stage2 = Stage(\r\n",
    "\tinput=[0, 1, 2, 6, 8],\r\n",
    "\toutput=[7] # Hazard category\r\n",
    ")\r\n",
    "\r\n",
    "stage3 = Stage(\r\n",
    "\tinput=[0, 1, 2, 6, 7, 8],\r\n",
    "\toutput=[5] # Decision taken\r\n",
    ")"
   ],
   "outputs": [],
   "metadata": {}
  },
  {
   "cell_type": "markdown",
   "source": [
    "## Data mining"
   ],
   "metadata": {}
  },
  {
   "cell_type": "code",
   "execution_count": 7,
   "source": [
    "stage1.transform()\r\n",
    "stage2.transform()\r\n",
    "stage3.transform()"
   ],
   "outputs": [],
   "metadata": {}
  },
  {
   "cell_type": "markdown",
   "source": [
    "### Decision trees"
   ],
   "metadata": {}
  },
  {
   "cell_type": "code",
   "execution_count": null,
   "source": [
    "class DecisionTree:\r\n",
    "\tdef __init__(self, stage):\r\n",
    "\t\tself.stage = stage\r\n",
    "\t\t\r\n",
    "\t\tself.classifier = tree.DecisionTreeClassifier(criterion=\"gini\")\r\n",
    "\t\tself.classifier.fit(stage.x_train, stage.y_train)\r\n",
    "\r\n",
    "\t\tself.y_predict = None\r\n",
    "\r\n",
    "\tdef predict(self):\r\n",
    "\t\tself.y_predict = self.classifier.predict(self.stage.x_test)\r\n",
    "\r\n",
    "\tdef get_metrics(self):\r\n",
    "\t\tprint(f\"- Accuracy: {round(accuracy_score(self.stage.y_test, self.y_predict)*100, 2)}%\")\r\n",
    "\t\tprint(f\"- Specifity: {round(self.classifier.score(self.stage.x_test, self.stage.y_test)*100, 2)}%\")\r\n",
    "\t\tprint(f\"- Sensitivity: {round(recall_score(self.stage.y_test, self.y_predict, average='macro', zero_division=0)*100, 2)}%\")\r\n",
    "\t\tprint(f\"- Precission: {round(precision_score(self.stage.y_test, self.y_predict, average='macro', zero_division=0)*100, 2)}%\")\r\n",
    "\t\t\r\n",
    "\t\tprint(classification_report(self.stage.y_test, self.y_predict, zero_division=0))\r\n",
    "\r\n",
    "\t\tcm = confusion_matrix(self.stage.y_test, self.y_predict)\r\n",
    "\t\tcm = ConfusionMatrixDisplay(confusion_matrix=cm)\r\n",
    "\r\n",
    "\t\t_, ax = plt.subplots(figsize=(10, 10))\r\n",
    "\t\tcm.plot(ax=ax)"
   ],
   "outputs": [],
   "metadata": {}
  },
  {
   "cell_type": "code",
   "execution_count": null,
   "source": [
    "stage1.classifier.decision_tree = DecisionTree(stage1)\r\n",
    "print(\"Stage 1 completed\")\r\n",
    "\r\n",
    "stage2.classifier.decision_tree = DecisionTree(stage2)\r\n",
    "print(\"Stage 2 completed\")\r\n",
    "\r\n",
    "stage3.classifier.decision_tree = DecisionTree(stage3)\r\n",
    "print(\"Stage 3 completed\")"
   ],
   "outputs": [],
   "metadata": {}
  },
  {
   "cell_type": "code",
   "execution_count": null,
   "source": [
    "stage1.classifier.decision_tree.predict()\r\n",
    "stage2.classifier.decision_tree.predict()\r\n",
    "stage3.classifier.decision_tree.predict()"
   ],
   "outputs": [],
   "metadata": {}
  },
  {
   "cell_type": "code",
   "execution_count": null,
   "source": [
    "print(\"Stage 1\")\r\n",
    "stage1.classifier.decision_tree.get_metrics()"
   ],
   "outputs": [],
   "metadata": {}
  },
  {
   "cell_type": "code",
   "execution_count": null,
   "source": [
    "print(\"Stage 2\")\r\n",
    "stage2.classifier.decision_tree.get_metrics()"
   ],
   "outputs": [],
   "metadata": {}
  },
  {
   "cell_type": "code",
   "execution_count": null,
   "source": [
    "print(\"Stage 3\")\r\n",
    "stage3.classifier.decision_tree.get_metrics()"
   ],
   "outputs": [],
   "metadata": {}
  },
  {
   "cell_type": "code",
   "execution_count": null,
   "source": [
    "# cm = confusion_matrix(stage1.y_test, stage1.classifier.decision_tree.y_predict)\r\n",
    "# A = accuracy_score(stage1.y_test, stage1.classifier.decision_tree.y_predict)\r\n",
    "\r\n",
    "# FP = cm.sum(axis=0) - np.diag(cm)  \r\n",
    "# FN = cm.sum(axis=1) - np.diag(cm)\r\n",
    "# TP = np.diag(cm)\r\n",
    "# TN = (A*TP + A*FP + A*FN - TP)/(1 - A)\r\n",
    "\r\n",
    "# print(np.mean((TP + TN)/(TP + FP + FN + TN))) # Accuracy\r\n",
    "# print(np.mean(TN/(TN+FP))) # Specifity\r\n",
    "# print(np.mean(TP/(TP+FN))) # Sensitivity\r\n",
    "# print(np.mean(TP/(TP+FP))) # Precission"
   ],
   "outputs": [],
   "metadata": {}
  }
 ],
 "metadata": {
  "orig_nbformat": 4,
  "language_info": {
   "name": "python",
   "version": "3.8.11",
   "mimetype": "text/x-python",
   "codemirror_mode": {
    "name": "ipython",
    "version": 3
   },
   "pygments_lexer": "ipython3",
   "nbconvert_exporter": "python",
   "file_extension": ".py"
  },
  "kernelspec": {
   "name": "python3",
   "display_name": "Python 3.8.11 64-bit ('ceiec': conda)"
  },
  "interpreter": {
   "hash": "d98ed641ffb0afae769cd9f96943c7d5fe6ff4d949b5ee86e4a8c8a547fca37e"
  }
 },
 "nbformat": 4,
 "nbformat_minor": 2
}