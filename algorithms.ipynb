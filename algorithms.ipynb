{
 "cells": [
  {
   "cell_type": "code",
   "execution_count": null,
   "source": [
    "import pandas as pd\r\n",
    "import matplotlib.pyplot as plt\r\n",
    "import numpy as np\r\n",
    "\r\n",
    "from sklearn import tree\r\n",
    "from sklearn.feature_extraction import FeatureHasher\r\n",
    "from sklearn.model_selection import train_test_split, GridSearchCV \r\n",
    "from sklearn.ensemble import GradientBoostingClassifier,AdaBoostClassifier, RandomForestClassifier\r\n",
    "from sklearn.preprocessing import OneHotEncoder, OrdinalEncoder, MultiLabelBinarizer\r\n",
    "from sklearn.metrics import classification_report, accuracy_score, recall_score, precision_score, confusion_matrix, ConfusionMatrixDisplay\r\n",
    "\r\n",
    "\r\n",
    "from sklearn.linear_model import LogisticRegression"
   ],
   "outputs": [],
   "metadata": {}
  },
  {
   "cell_type": "markdown",
   "source": [
    "# Non-neural models"
   ],
   "metadata": {}
  },
  {
   "cell_type": "code",
   "execution_count": null,
   "source": [
    "data = pd.read_csv(\"./data/full_RASFF_DATA.csv\", sep=\";\", header=0, index_col=0)\r\n",
    "\r\n",
    "data.head(3)"
   ],
   "outputs": [],
   "metadata": {}
  },
  {
   "cell_type": "code",
   "execution_count": null,
   "source": [
    "train_mask = (data.DATE_CASE >= \"2004-01-01\") & (data.DATE_CASE <= \"2018-12-31\")\r\n",
    "test_mask = (data.DATE_CASE >= \"2019-01-01\") & (data.DATE_CASE <= \"2019-12-31\")\r\n",
    "\r\n",
    "class Stage:\r\n",
    "\tdef __init__(self, input, output):\r\n",
    "\t\tself.input = input\r\n",
    "\t\tself.output = output\r\n",
    "\r\n",
    "\t\tself.x = data.iloc[:, input]\r\n",
    "\t\tself.y = data.iloc[:, output]\r\n",
    "\r\n",
    "\t\tself.x_train, self.x_test, self.y_train, self.y_test = None, None, None, None\r\n",
    "\r\n",
    "\t\tself.classifier = self.Classifier()\r\n",
    "\t\t\r\n",
    "\t\tself.__transform()\r\n",
    "\r\n",
    "\tdef __transform(self):\r\n",
    "\t\tstrategy = OneHotEncoder(handle_unknown=\"ignore\") # One Hot Encoder\r\n",
    "\t\t# strategy = OrdinalEncoder() # Integer\r\n",
    "\t\t# strategy = FeatureHasher(n_features=25, input_type=\"string\") # Hashing\r\n",
    "\t\t# strategy = MultiLabelBinarizer() # Binary\r\n",
    "\r\n",
    "\t\tstrategy.fit(self.x.values)\r\n",
    "\r\n",
    "\t\tself.x_train = self.x.loc[train_mask]\r\n",
    "\t\tself.y_train = self.y.loc[train_mask]\r\n",
    "\r\n",
    "\t\tself.x_test = self.x.loc[test_mask]\r\n",
    "\t\tself.y_test = self.y.loc[test_mask]\r\n",
    "\r\n",
    "\t\tprint(self.x_train.shape, self.y_train.shape)\r\n",
    "\t\tprint(self.x_test.shape, self.y_test.shape)\r\n",
    "\t\t\r\n",
    "\t\tself.x_train = strategy.transform(self.x_train.values)\r\n",
    "\t\tself.x_test = strategy.transform(self.x_test.values)\r\n",
    "\r\n",
    "\t\t# self.x_train, self.x_test, self.y_train, self.y_test = train_test_split(strategy.transform(self.x.values), self.y, test_size=0.2)\r\n",
    "\r\n",
    "\tclass Classifier:\r\n",
    "\t\tpass"
   ],
   "outputs": [],
   "metadata": {}
  },
  {
   "cell_type": "markdown",
   "source": [
    "## Preprocessing"
   ],
   "metadata": {}
  },
  {
   "cell_type": "code",
   "execution_count": null,
   "source": [
    "data.DATE_CASE = data.DATE_CASE.astype(str)\r\n",
    "data.HAZARDS_CAT = data.HAZARDS_CAT.astype(str)\r\n",
    "\r\n",
    "data.dropna(subset=data.columns[[1, 3, 5, 8, 9, 12, 13]], inplace=True)"
   ],
   "outputs": [],
   "metadata": {}
  },
  {
   "cell_type": "code",
   "execution_count": null,
   "source": [
    "data = data.sample(frac=1)"
   ],
   "outputs": [],
   "metadata": {}
  },
  {
   "cell_type": "markdown",
   "source": [
    "## Transformation"
   ],
   "metadata": {}
  },
  {
   "cell_type": "code",
   "execution_count": null,
   "source": [
    "stage1 = Stage(\r\n",
    "\t# input=[0, 1, 6, 8],\r\n",
    "\tinput=[1, 3, 9, 13],\r\n",
    "\toutput=[5] # Product category\r\n",
    ")\r\n",
    "\r\n",
    "stage2 = Stage(\r\n",
    "\t# input=[0, 1, 2, 6, 8],\r\n",
    "\tinput=[1, 3, 9, 13, 5],\r\n",
    "\toutput=[12] # Hazard category\r\n",
    ")\r\n",
    "\r\n",
    "stage3 = Stage(\r\n",
    "\t# input=[0, 1, 2, 6, 7, 8],\r\n",
    "\tinput=[1, 3, 9, 13, 5, 12],\r\n",
    "\toutput=[8] # Decision taken\r\n",
    ")"
   ],
   "outputs": [],
   "metadata": {}
  },
  {
   "cell_type": "markdown",
   "source": [
    "## Data mining"
   ],
   "metadata": {}
  },
  {
   "cell_type": "markdown",
   "source": [
    "### Decision trees"
   ],
   "metadata": {}
  },
  {
   "cell_type": "code",
   "execution_count": null,
   "source": [
    "class DecisionTree:\r\n",
    "\tdef __init__(self, stage, params):\r\n",
    "\t\tself.stage = stage\r\n",
    "\t\tself.params = params\r\n",
    "\r\n",
    "\t\tself.classifier = GridSearchCV(tree.DecisionTreeClassifier(random_state=42), self.params, cv=3)\r\n",
    "\t\tself.classifier.fit(stage.x_train, stage.y_train)\r\n",
    "\r\n",
    "\t\tself.best_params = self.classifier.best_params_\r\n",
    "\r\n",
    "\t\tself.classifier = tree.DecisionTreeClassifier(**self.best_params, random_state=42)\r\n",
    "\t\tself.classifier.fit(stage.x_train, stage.y_train)\r\n",
    "\r\n",
    "\t\tself.y_predict = None\r\n",
    "\r\n",
    "\tdef predict(self):\r\n",
    "\t\tself.y_predict = self.classifier.predict(self.stage.x_test)\r\n",
    "\r\n",
    "\tdef get_metrics(self):\r\n",
    "\t\tprint(f\"- Accuracy: {round(accuracy_score(self.stage.y_test, self.y_predict)*100, 2)}%\")\r\n",
    "\t\tprint(f\"- Specifity: {round(self.classifier.score(self.stage.x_test, self.stage.y_test)*100, 2)}%\")\r\n",
    "\t\tprint(f\"- Sensitivity: {round(recall_score(self.stage.y_test, self.y_predict, average='macro', zero_division=0)*100, 2)}%\")\r\n",
    "\t\tprint(f\"- Precision: {round(precision_score(self.stage.y_test, self.y_predict, average='macro', zero_division=0)*100, 2)}%\")\r\n",
    "\t\t\r\n",
    "\t\tprint(classification_report(self.stage.y_test, self.y_predict, zero_division=0))\r\n",
    "\r\n",
    "\t\tcm = confusion_matrix(self.stage.y_test, self.y_predict)\r\n",
    "\t\tcm = ConfusionMatrixDisplay(confusion_matrix=cm)\r\n",
    "\r\n",
    "\t\t_, ax = plt.subplots(figsize=(10, 10))\r\n",
    "\t\tcm.plot(ax=ax)"
   ],
   "outputs": [],
   "metadata": {}
  },
  {
   "cell_type": "code",
   "execution_count": null,
   "source": [
    "params = {\r\n",
    "\t\"criterion\": [\"gini\", \"entropy\"],\r\n",
    "\t\"splitter\": [\"best\", \"random\"],\r\n",
    "\t\"max_features\": [\"auto\", \"sqrt\", \"log2\"]\r\n",
    "}\r\n",
    "\r\n",
    "stage1.classifier.decision_tree = DecisionTree(stage1, params)\r\n",
    "print(f\"Stage 1 completed: {stage1.classifier.decision_tree.best_params}\")\r\n",
    "\r\n",
    "stage2.classifier.decision_tree = DecisionTree(stage2, params)\r\n",
    "print(f\"Stage 2 completed: {stage2.classifier.decision_tree.best_params}\")\r\n",
    "\r\n",
    "stage3.classifier.decision_tree = DecisionTree(stage3, params)\r\n",
    "print(f\"Stage 3 completed: {stage3.classifier.decision_tree.best_params}\")"
   ],
   "outputs": [],
   "metadata": {}
  },
  {
   "cell_type": "code",
   "execution_count": null,
   "source": [
    "stage1.classifier.decision_tree.predict()\r\n",
    "stage2.classifier.decision_tree.predict()\r\n",
    "stage3.classifier.decision_tree.predict()"
   ],
   "outputs": [],
   "metadata": {}
  },
  {
   "cell_type": "code",
   "execution_count": null,
   "source": [
    "print(\"Stage 1\")\r\n",
    "stage1.classifier.decision_tree.get_metrics()"
   ],
   "outputs": [],
   "metadata": {}
  },
  {
   "cell_type": "code",
   "execution_count": null,
   "source": [
    "print(\"Stage 2\")\r\n",
    "stage2.classifier.decision_tree.get_metrics()"
   ],
   "outputs": [],
   "metadata": {}
  },
  {
   "cell_type": "code",
   "execution_count": null,
   "source": [
    "print(\"Stage 3\")\r\n",
    "stage3.classifier.decision_tree.get_metrics()"
   ],
   "outputs": [],
   "metadata": {}
  },
  {
   "cell_type": "markdown",
   "source": [
    "### Boosted trees"
   ],
   "metadata": {}
  },
  {
   "cell_type": "code",
   "execution_count": null,
   "source": [
    "class BoostedTrees:\r\n",
    "\tdef __init__(self, stage, params):\r\n",
    "\t\tself.stage = stage\r\n",
    "\t\tself.params = params\r\n",
    "\t\t\r\n",
    "\t\tself.classifier = GridSearchCV(GradientBoostingClassifier(max_features=\"sqrt\", subsample=0.8, random_state=10), self.params, n_jobs=4, cv=3)\r\n",
    "\t\tself.classifier.fit(stage.x_train, stage.y_train.values.ravel())\r\n",
    "\r\n",
    "\t\tself.best_params = self.classifier.best_params_\r\n",
    "\r\n",
    "\t\tself.classifier = GradientBoostingClassifier(**self.best_params, max_features=\"sqrt\", subsample=0.8, random_state=10)\r\n",
    "\t\tself.classifier.fit(stage.x_train, stage.y_train.values.ravel())\r\n",
    "\r\n",
    "\t\tself.y_predict = None\r\n",
    "\r\n",
    "\tdef predict(self):\r\n",
    "\t\tself.y_predict = self.classifier.predict(self.stage.x_test)\r\n",
    "\r\n",
    "\tdef get_metrics(self):\r\n",
    "\t\tprint(f\"- Accuracy: {round(accuracy_score(self.stage.y_test, self.y_predict)*100, 2)}%\")\r\n",
    "\t\tprint(f\"- Specifity: {round(self.classifier.score(self.stage.x_test, self.stage.y_test)*100, 2)}%\")\r\n",
    "\t\tprint(f\"- Sensitivity: {round(recall_score(self.stage.y_test, self.y_predict, average='macro', zero_division=0)*100, 2)}%\")\r\n",
    "\t\tprint(f\"- Precission: {round(precision_score(self.stage.y_test, self.y_predict, average='macro', zero_division=0)*100, 2)}%\")\r\n",
    "\t\t\r\n",
    "\t\tprint(classification_report(self.stage.y_test, self.y_predict, zero_division=0))\r\n",
    "\r\n",
    "\t\tcm = confusion_matrix(self.stage.y_test, self.y_predict)\r\n",
    "\t\tcm = ConfusionMatrixDisplay(confusion_matrix=cm)\r\n",
    "\r\n",
    "\t\t_, ax = plt.subplots(figsize=(10, 10))\r\n",
    "\t\tcm.plot(ax=ax)"
   ],
   "outputs": [],
   "metadata": {}
  },
  {
   "cell_type": "code",
   "execution_count": null,
   "source": [
    "params = {\r\n",
    "\t\"n_estimators\": range(20, 51, 10),\r\n",
    "\t\"learning_rate\": [1, 0.1, 0.01],\r\n",
    "\t\"max_depth\": range(5, 10, 2),\r\n",
    "\t\"min_samples_split\": range(200, 601, 200)\r\n",
    "}\r\n",
    "\r\n",
    "stage1.classifier.boosted_trees = BoostedTrees(stage1, params)\r\n",
    "print(f\"Stage 1 completed: {stage1.classifier.boosted_trees.best_params}\")\r\n",
    "\r\n",
    "stage2.classifier.boosted_trees = BoostedTrees(stage2, params)\r\n",
    "print(f\"Stage 2 completed: {stage2.classifier.boosted_trees.best_params}\")\r\n",
    "\r\n",
    "stage3.classifier.boosted_trees = BoostedTrees(stage3, params)\r\n",
    "print(f\"Stage 3 completed: {stage3.classifier.boosted_trees.best_params}\")"
   ],
   "outputs": [],
   "metadata": {}
  },
  {
   "cell_type": "code",
   "execution_count": null,
   "source": [
    "stage1.classifier.boosted_trees.predict()\r\n",
    "stage2.classifier.boosted_trees.predict()\r\n",
    "stage3.classifier.boosted_trees.predict()"
   ],
   "outputs": [],
   "metadata": {}
  },
  {
   "cell_type": "code",
   "execution_count": null,
   "source": [
    "print(\"Stage 1\")\r\n",
    "stage1.classifier.boosted_trees.get_metrics()"
   ],
   "outputs": [],
   "metadata": {}
  },
  {
   "cell_type": "code",
   "execution_count": null,
   "source": [
    "print(\"Stage 2\")\r\n",
    "stage2.classifier.boosted_trees.get_metrics()"
   ],
   "outputs": [],
   "metadata": {}
  },
  {
   "cell_type": "code",
   "execution_count": null,
   "source": [
    "print(\"Stage 3\")\r\n",
    "stage3.classifier.boosted_trees.get_metrics()"
   ],
   "outputs": [],
   "metadata": {}
  },
  {
   "cell_type": "markdown",
   "source": [
    "### Random Forest"
   ],
   "metadata": {}
  },
  {
   "cell_type": "code",
   "execution_count": null,
   "source": [
    "class RandomForest:\r\n",
    "\tdef __init__(self, stage,params):\r\n",
    "\t\tself.stage = stage\r\n",
    "\t\tself.params=params\r\n",
    "\t\t\r\n",
    "\r\n",
    "\t\trf = RandomForestClassifier()\r\n",
    "\r\n",
    "\r\n",
    "\t\tself.classifier = GridSearchCV(estimator = rf, param_grid = self.params, \r\n",
    "                          cv = 3, n_jobs = -1, verbose = 2)\r\n",
    "\t\tself.classifier.fit(stage.x_train, stage.y_train)\r\n",
    "\r\n",
    "\t\tself.best_params = self.classifier.best_params_\r\n",
    "\r\n",
    "\t\tself.classifier = RandomForestClassifier(**self.best_params)\r\n",
    "\t\tself.classifier.fit(stage.x_train, stage.y_train)\r\n",
    "\r\n",
    "\t\tself.y_predict = None\r\n",
    "\r\n",
    "\tdef predict(self):\r\n",
    "\t\tself.y_predict = self.classifier.predict(self.stage.x_test)\r\n",
    "\r\n",
    "\tdef get_metrics(self):\r\n",
    "\t\tprint(f\"- Accuracy: {round(accuracy_score(self.stage.y_test, self.y_predict)*100, 2)}%\")\r\n",
    "\t\tprint(f\"- Specifity: {round(self.classifier.score(self.stage.x_test, self.stage.y_test)*100, 2)}%\")\r\n",
    "\t\tprint(f\"- Sensitivity: {round(recall_score(self.stage.y_test, self.y_predict, average='macro', zero_division=0)*100, 2)}%\")\r\n",
    "\t\tprint(f\"- Precision: {round(precision_score(self.stage.y_test, self.y_predict, average='macro', zero_division=0)*100, 2)}%\")\r\n",
    "\t\t\r\n",
    "\t\tprint(classification_report(self.stage.y_test, self.y_predict, zero_division=0))\r\n",
    "\r\n",
    "\t\tcm = confusion_matrix(self.stage.y_test, self.y_predict)\r\n",
    "\t\tcm = ConfusionMatrixDisplay(confusion_matrix=cm)\r\n",
    "\r\n",
    "\t\t_, ax = plt.subplots(figsize=(10, 10))\r\n",
    "\t\tcm.plot(ax=ax)"
   ],
   "outputs": [],
   "metadata": {}
  },
  {
   "cell_type": "code",
   "execution_count": null,
   "source": [
    "params = {\r\n",
    "    'bootstrap': [True],\r\n",
    "    'max_depth': [100, 110],\r\n",
    "    'max_features': [2, 3],\r\n",
    "    'min_samples_leaf': [4, 5],\r\n",
    "    'min_samples_split': [10, 12],\r\n",
    "    'n_estimators': [200, 300, 500]}\r\n",
    "\r\n",
    "stage1.classifier.Random_forest = RandomForest(stage1, params)\r\n",
    "print(f\"Stage 1 completed: {stage1.classifier.Random_forest.best_params}\")\r\n",
    "\r\n",
    "stage2.classifier.Random_forest = RandomForest(stage2, params)\r\n",
    "print(f\"Stage 2 completed: {stage2.classifier.Random_forest.best_params}\")\r\n",
    "\r\n",
    "stage3.classifier.Random_forest = RandomForest(stage3, params)\r\n",
    "print(f\"Stage 3 completed: {stage3.classifier.Random_forest.best_params}\")"
   ],
   "outputs": [],
   "metadata": {}
  },
  {
   "cell_type": "code",
   "execution_count": null,
   "source": [
    "stage1.classifier.Random_forest.predict()\r\n",
    "stage2.classifier.Random_forest.predict()\r\n",
    "stage3.classifier.Random_forest.predict()"
   ],
   "outputs": [],
   "metadata": {}
  },
  {
   "cell_type": "code",
   "execution_count": null,
   "source": [
    "print(\"Stage 1\")\r\n",
    "stage1.classifier.Random_forest.get_metrics()"
   ],
   "outputs": [],
   "metadata": {}
  },
  {
   "cell_type": "code",
   "execution_count": null,
   "source": [
    "print(\"Stage 2\")\r\n",
    "stage2.classifier.Random_forest.get_metrics()"
   ],
   "outputs": [],
   "metadata": {}
  },
  {
   "cell_type": "code",
   "execution_count": null,
   "source": [
    "print(\"Stage 3\")\r\n",
    "stage3.classifier.Random_forest.get_metrics()"
   ],
   "outputs": [],
   "metadata": {}
  },
  {
   "cell_type": "markdown",
   "source": [
    "### Logistic Regression"
   ],
   "metadata": {}
  },
  {
   "cell_type": "code",
   "execution_count": null,
   "source": [
    "class LogisticRegression1:\r\n",
    "\tdef __init__(self, stage, params):\r\n",
    "\t\tself.stage = stage\r\n",
    "\t\tself.params = params\r\n",
    "\r\n",
    "\t\tself.classifier = GridSearchCV(LogisticRegression(), param_grid=self.params, scoring=\"recall\")\r\n",
    "\t\tself.classifier.fit(stage.x_train, stage.y_train)\r\n",
    "\r\n",
    "\t\tself.best_params = self.classifier.best_params_\r\n",
    "\r\n",
    "\t\tself.classifier = LogisticRegression(**self.best_params)\r\n",
    "\t\tself.classifier.fit(stage.x_train, stage.y_train)\r\n",
    "\r\n",
    "\t\tself.y_predict = None\r\n",
    "\r\n",
    "\tdef predict(self):\r\n",
    "\t\tself.y_predict = self.classifier.predict(self.stage.x_test)\r\n",
    "\r\n",
    "\tdef get_metrics(self):\r\n",
    "\t\tprint(f\"- Accuracy: {round(accuracy_score(self.stage.y_test, self.y_predict)*100, 2)}%\")\r\n",
    "\t\tprint(f\"- Specifity: {round(self.classifier.score(self.stage.x_test, self.stage.y_test)*100, 2)}%\")\r\n",
    "\t\tprint(f\"- Sensitivity: {round(recall_score(self.stage.y_test, self.y_predict, average='macro', zero_division=0)*100, 2)}%\")\r\n",
    "\t\tprint(f\"- Precision: {round(precision_score(self.stage.y_test, self.y_predict, average='macro', zero_division=0)*100, 2)}%\")\r\n",
    "\t\t\r\n",
    "\t\tprint(classification_report(self.stage.y_test, self.y_predict, zero_division=0))\r\n",
    "\r\n",
    "\t\tcm = confusion_matrix(self.stage.y_test, self.y_predict)\r\n",
    "\t\tcm = ConfusionMatrixDisplay(confusion_matrix=cm)\r\n",
    "\r\n",
    "\t\t_, ax = plt.subplots(figsize=(10, 10))\r\n",
    "\t\tcm.plot(ax=ax)"
   ],
   "outputs": [],
   "metadata": {}
  },
  {
   "cell_type": "code",
   "execution_count": null,
   "source": [
    "params = {\r\n",
    "\t\"penalty\": [\"l2\"],\r\n",
    "\t\"C\": [0.001, 0.01, 0.1, 1, 10]\r\n",
    "}\r\n",
    "\r\n",
    "stage1.classifier.Logistic_regression = LogisticRegression1(stage1, params)\r\n",
    "print(f\"Stage 1 completed: {stage1.classifier.Logistic_regression.best_params}\")\r\n",
    "\r\n",
    "stage2.classifier.Logistic_regression = LogisticRegression1(stage2, params)\r\n",
    "print(f\"Stage 2 completed: {stage2.classifier.Logistic_regression.best_params}\")\r\n",
    "\r\n",
    "stage3.classifier.Logistic_regression = LogisticRegression1(stage3, params)\r\n",
    "print(f\"Stage 3 completed: {stage3.classifier.Logistic_regression.best_params}\")"
   ],
   "outputs": [],
   "metadata": {}
  },
  {
   "cell_type": "code",
   "execution_count": null,
   "source": [
    "stage1.classifier.Random_forest.predict()\r\n",
    "stage2.classifier.Random_forest.predict()\r\n",
    "stage3.classifier.Random_forest.predict()"
   ],
   "outputs": [],
   "metadata": {}
  },
  {
   "cell_type": "code",
   "execution_count": null,
   "source": [
    "print(\"Stage 1\")\r\n",
    "stage1.classifier.Random_forest.get_metrics()"
   ],
   "outputs": [],
   "metadata": {}
  },
  {
   "cell_type": "code",
   "execution_count": null,
   "source": [
    "print(\"Stage 2\")\r\n",
    "stage2.classifier.Random_forest.get_metrics()"
   ],
   "outputs": [],
   "metadata": {}
  },
  {
   "cell_type": "code",
   "execution_count": null,
   "source": [
    "print(\"Stage 3\")\r\n",
    "stage3.classifier.Random_forest.get_metrics()"
   ],
   "outputs": [],
   "metadata": {}
  }
 ],
 "metadata": {
  "orig_nbformat": 4,
  "language_info": {
   "name": "python",
   "version": "3.8.11",
   "mimetype": "text/x-python",
   "codemirror_mode": {
    "name": "ipython",
    "version": 3
   },
   "pygments_lexer": "ipython3",
   "nbconvert_exporter": "python",
   "file_extension": ".py"
  },
  "kernelspec": {
   "name": "python3",
   "display_name": "Python 3.8.11 64-bit ('ceiec': conda)"
  },
  "interpreter": {
   "hash": "d98ed641ffb0afae769cd9f96943c7d5fe6ff4d949b5ee86e4a8c8a547fca37e"
  }
 },
 "nbformat": 4,
 "nbformat_minor": 2
}