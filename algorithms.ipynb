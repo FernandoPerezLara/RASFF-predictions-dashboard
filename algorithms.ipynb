{
 "cells": [
  {
   "cell_type": "code",
   "execution_count": 1,
   "source": [
    "import pandas as pd"
   ],
   "outputs": [],
   "metadata": {}
  },
  {
   "cell_type": "markdown",
   "source": [
    "# Non-neural models"
   ],
   "metadata": {}
  },
  {
   "cell_type": "code",
   "execution_count": 6,
   "source": [
    "data = pd.read_csv(\"./data/splited_RASFF_DATA_16092019.csv\", sep=\";\", header=0, index_col=0)\r\n",
    "\r\n",
    "data.head(3)"
   ],
   "outputs": [
    {
     "output_type": "execute_result",
     "data": {
      "text/html": [
       "<div>\n",
       "<style scoped>\n",
       "    .dataframe tbody tr th:only-of-type {\n",
       "        vertical-align: middle;\n",
       "    }\n",
       "\n",
       "    .dataframe tbody tr th {\n",
       "        vertical-align: top;\n",
       "    }\n",
       "\n",
       "    .dataframe thead th {\n",
       "        text-align: right;\n",
       "    }\n",
       "</style>\n",
       "<table border=\"1\" class=\"dataframe\">\n",
       "  <thead>\n",
       "    <tr style=\"text-align: right;\">\n",
       "      <th></th>\n",
       "      <th>DATE_CASE</th>\n",
       "      <th>NOT_COUNTRY</th>\n",
       "      <th>PROD_CAT</th>\n",
       "      <th>TYPE</th>\n",
       "      <th>RISK_DECISION</th>\n",
       "      <th>ACTION_TAKEN</th>\n",
       "      <th>DISTRIBUTION_STAT</th>\n",
       "      <th>HAZARDS_CAT</th>\n",
       "      <th>COUNT_ORIGEN</th>\n",
       "      <th>COUNT_DESTIN</th>\n",
       "      <th>COUNT_CONCERN</th>\n",
       "    </tr>\n",
       "  </thead>\n",
       "  <tbody>\n",
       "    <tr>\n",
       "      <th>0</th>\n",
       "      <td>2019-09-13</td>\n",
       "      <td>France</td>\n",
       "      <td>meat and meat products (other than poultry)</td>\n",
       "      <td>food</td>\n",
       "      <td>serious</td>\n",
       "      <td>no stock left</td>\n",
       "      <td>no distribution from notifying country</td>\n",
       "      <td>pathogenic micro-organisms</td>\n",
       "      <td>Romania</td>\n",
       "      <td>France</td>\n",
       "      <td>Belgium</td>\n",
       "    </tr>\n",
       "    <tr>\n",
       "      <th>1</th>\n",
       "      <td>2019-09-13</td>\n",
       "      <td>Denmark</td>\n",
       "      <td>cocoa and cocoa preparations, coffee and tea</td>\n",
       "      <td>food</td>\n",
       "      <td>serious</td>\n",
       "      <td>recall from consumers</td>\n",
       "      <td>no distribution from notifying country</td>\n",
       "      <td>natural toxins (other)</td>\n",
       "      <td>Germany</td>\n",
       "      <td>Denmark</td>\n",
       "      <td></td>\n",
       "    </tr>\n",
       "    <tr>\n",
       "      <th>2</th>\n",
       "      <td>2019-09-13</td>\n",
       "      <td>Poland</td>\n",
       "      <td>confectionery</td>\n",
       "      <td>food</td>\n",
       "      <td>serious</td>\n",
       "      <td>informing authorities</td>\n",
       "      <td>distribution restricted to notifying country</td>\n",
       "      <td>food additives and flavourings</td>\n",
       "      <td>Croatia</td>\n",
       "      <td>Poland</td>\n",
       "      <td></td>\n",
       "    </tr>\n",
       "  </tbody>\n",
       "</table>\n",
       "</div>"
      ],
      "text/plain": [
       "    DATE_CASE NOT_COUNTRY                                      PROD_CAT  TYPE  \\\n",
       "0  2019-09-13      France   meat and meat products (other than poultry)  food   \n",
       "1  2019-09-13     Denmark  cocoa and cocoa preparations, coffee and tea  food   \n",
       "2  2019-09-13      Poland                                 confectionery  food   \n",
       "\n",
       "  RISK_DECISION           ACTION_TAKEN  \\\n",
       "0       serious          no stock left   \n",
       "1       serious  recall from consumers   \n",
       "2       serious  informing authorities   \n",
       "\n",
       "                              DISTRIBUTION_STAT  \\\n",
       "0        no distribution from notifying country   \n",
       "1        no distribution from notifying country   \n",
       "2  distribution restricted to notifying country   \n",
       "\n",
       "                      HAZARDS_CAT COUNT_ORIGEN COUNT_DESTIN COUNT_CONCERN  \n",
       "0      pathogenic micro-organisms      Romania       France       Belgium  \n",
       "1          natural toxins (other)      Germany      Denmark                \n",
       "2  food additives and flavourings      Croatia       Poland                "
      ]
     },
     "metadata": {},
     "execution_count": 6
    }
   ],
   "metadata": {}
  },
  {
   "cell_type": "code",
   "execution_count": null,
   "source": [],
   "outputs": [],
   "metadata": {}
  }
 ],
 "metadata": {
  "orig_nbformat": 4,
  "language_info": {
   "name": "python",
   "version": "3.8.11",
   "mimetype": "text/x-python",
   "codemirror_mode": {
    "name": "ipython",
    "version": 3
   },
   "pygments_lexer": "ipython3",
   "nbconvert_exporter": "python",
   "file_extension": ".py"
  },
  "kernelspec": {
   "name": "python3",
   "display_name": "Python 3.8.11 64-bit ('ceiec': conda)"
  },
  "interpreter": {
   "hash": "d98ed641ffb0afae769cd9f96943c7d5fe6ff4d949b5ee86e4a8c8a547fca37e"
  }
 },
 "nbformat": 4,
 "nbformat_minor": 2
}