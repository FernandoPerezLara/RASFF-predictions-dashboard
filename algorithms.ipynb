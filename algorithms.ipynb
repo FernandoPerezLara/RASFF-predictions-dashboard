{
 "cells": [
  {
   "cell_type": "markdown",
   "source": [
    "# Non-neural models"
   ],
   "metadata": {}
  },
  {
   "cell_type": "markdown",
   "source": [
    "## Libraries"
   ],
   "metadata": {}
  },
  {
   "cell_type": "code",
   "execution_count": 6,
   "source": [
    "import pandas as pd\r\n",
    "import matplotlib.pyplot as plt\r\n",
    "import numpy as np\r\n",
    "\r\n",
    "from sklearn import tree\r\n",
    "from sklearn.svm import SVC\r\n",
    "from sklearn.feature_extraction import FeatureHasher\r\n",
    "from sklearn.model_selection import train_test_split, GridSearchCV \r\n",
    "from sklearn.ensemble import GradientBoostingClassifier, RandomForestClassifier\r\n",
    "from sklearn.preprocessing import OneHotEncoder, OrdinalEncoder, MultiLabelBinarizer\r\n",
    "from sklearn.metrics import classification_report, accuracy_score, recall_score, precision_score, confusion_matrix, ConfusionMatrixDisplay\r\n",
    "from sklearn.linear_model import LogisticRegression\r\n",
    "\r\n",
    "#Ignorar los warnings (todos!)\r\n",
    "import warnings\r\n",
    "warnings.filterwarnings('ignore')"
   ],
   "outputs": [],
   "metadata": {}
  },
  {
   "cell_type": "markdown",
   "source": [
    "## Code"
   ],
   "metadata": {}
  },
  {
   "cell_type": "code",
   "execution_count": 7,
   "source": [
    "data = pd.read_csv(\"./data/splited_full_RASFF_DATA.csv\", sep=\";\", header=0, index_col=0)\r\n",
    "\r\n",
    "data.head(3)"
   ],
   "outputs": [
    {
     "output_type": "execute_result",
     "data": {
      "text/html": [
       "<div>\n",
       "<style scoped>\n",
       "    .dataframe tbody tr th:only-of-type {\n",
       "        vertical-align: middle;\n",
       "    }\n",
       "\n",
       "    .dataframe tbody tr th {\n",
       "        vertical-align: top;\n",
       "    }\n",
       "\n",
       "    .dataframe thead th {\n",
       "        text-align: right;\n",
       "    }\n",
       "</style>\n",
       "<table border=\"1\" class=\"dataframe\">\n",
       "  <thead>\n",
       "    <tr style=\"text-align: right;\">\n",
       "      <th></th>\n",
       "      <th>DATE_CASE</th>\n",
       "      <th>NOT_COUNTRY</th>\n",
       "      <th>PROD_CAT</th>\n",
       "      <th>TYPE</th>\n",
       "      <th>RISK_DECISION</th>\n",
       "      <th>ACTION_TAKEN</th>\n",
       "      <th>DISTRIBUTION_STAT</th>\n",
       "      <th>HAZARDS_CAT</th>\n",
       "      <th>COUNT_ORIGEN</th>\n",
       "      <th>COUNT_DESTIN</th>\n",
       "      <th>COUNT_CONCERN</th>\n",
       "    </tr>\n",
       "  </thead>\n",
       "  <tbody>\n",
       "    <tr>\n",
       "      <th>0</th>\n",
       "      <td>2020-10-16</td>\n",
       "      <td>France</td>\n",
       "      <td>meat and meat products (other than poultry)</td>\n",
       "      <td>food</td>\n",
       "      <td>serious</td>\n",
       "      <td>recall from consumers</td>\n",
       "      <td>distribution to other member countries</td>\n",
       "      <td>microbial contaminants (other)</td>\n",
       "      <td>France</td>\n",
       "      <td>Czech Republic</td>\n",
       "      <td></td>\n",
       "    </tr>\n",
       "    <tr>\n",
       "      <th>1</th>\n",
       "      <td>2020-10-16</td>\n",
       "      <td>France</td>\n",
       "      <td>meat and meat products (other than poultry)</td>\n",
       "      <td>food</td>\n",
       "      <td>serious</td>\n",
       "      <td>recall from consumers</td>\n",
       "      <td>distribution to other member countries</td>\n",
       "      <td>microbial contaminants (other)</td>\n",
       "      <td>France</td>\n",
       "      <td>United Kingdom</td>\n",
       "      <td></td>\n",
       "    </tr>\n",
       "    <tr>\n",
       "      <th>2</th>\n",
       "      <td>2020-10-16</td>\n",
       "      <td>Bulgaria</td>\n",
       "      <td>fruits and vegetables</td>\n",
       "      <td>food</td>\n",
       "      <td>serious</td>\n",
       "      <td>destruction</td>\n",
       "      <td>product not (yet) placed on the market</td>\n",
       "      <td>pesticide residues</td>\n",
       "      <td>Turkey</td>\n",
       "      <td></td>\n",
       "      <td>Bulgaria</td>\n",
       "    </tr>\n",
       "  </tbody>\n",
       "</table>\n",
       "</div>"
      ],
      "text/plain": [
       "    DATE_CASE NOT_COUNTRY                                     PROD_CAT  TYPE  \\\n",
       "0  2020-10-16      France  meat and meat products (other than poultry)  food   \n",
       "1  2020-10-16      France  meat and meat products (other than poultry)  food   \n",
       "2  2020-10-16    Bulgaria                        fruits and vegetables  food   \n",
       "\n",
       "  RISK_DECISION           ACTION_TAKEN  \\\n",
       "0       serious  recall from consumers   \n",
       "1       serious  recall from consumers   \n",
       "2       serious            destruction   \n",
       "\n",
       "                        DISTRIBUTION_STAT                     HAZARDS_CAT  \\\n",
       "0  distribution to other member countries  microbial contaminants (other)   \n",
       "1  distribution to other member countries  microbial contaminants (other)   \n",
       "2  product not (yet) placed on the market              pesticide residues   \n",
       "\n",
       "  COUNT_ORIGEN    COUNT_DESTIN COUNT_CONCERN  \n",
       "0       France  Czech Republic                \n",
       "1       France  United Kingdom                \n",
       "2       Turkey                      Bulgaria  "
      ]
     },
     "metadata": {},
     "execution_count": 7
    }
   ],
   "metadata": {}
  },
  {
   "cell_type": "code",
   "execution_count": 8,
   "source": [
    "class Stage:\r\n",
    "\tdef __init__(self, input, output):\r\n",
    "\t\tself.input = input\r\n",
    "\t\tself.output = output\r\n",
    "\r\n",
    "\t\tself.cm_name = \"\"\r\n",
    "\r\n",
    "\t\tself.x = data.iloc[:, input]\r\n",
    "\t\tself.y = data.iloc[:, output]\r\n",
    "\r\n",
    "\t\tself.x_train, self.x_test, self.y_train, self.y_test = None, None, None, None\r\n",
    "\r\n",
    "\t\tself.classifier = self.Classifier()\r\n",
    "\t\t\r\n",
    "\t\tself.__transform()\r\n",
    "\r\n",
    "\tdef __transform(self):\r\n",
    "\t\t#1 ohe\r\n",
    "\t\t#2 int\r\n",
    "\t\t#3 hsh\r\n",
    "\t\t#4 bnr\r\n",
    "\t\tselection = 1\r\n",
    "\r\n",
    "\t\tif selection == 1:\r\n",
    "\t\t\tstrategy = OneHotEncoder(handle_unknown=\"ignore\") # One Hot Encoder\r\n",
    "\t\t\tself.cm_name = \"ohe\"\r\n",
    "\t\telif selection == 2:\r\n",
    "\t\t\tstrategy = OrdinalEncoder() # Integer\r\n",
    "\t\t\tself.cm_name = \"int\"\r\n",
    "\t\telif selection == 3:\r\n",
    "\t\t\tstrategy = FeatureHasher(n_features=25, input_type=\"string\") # Hashing\r\n",
    "\t\t\tself.cm_name = \"hsh\"\r\n",
    "\t\telif selection == 4:\r\n",
    "\t\t\tstrategy = MultiLabelBinarizer() # Binary\r\n",
    "\t\t\tself.cm_name = \"bnr\"\r\n",
    "\t\telse:\r\n",
    "\t\t\tprint(\"Invalid selection\")\r\n",
    "\t\t\r\n",
    "\t\tstrategy.fit(self.x.values)\r\n",
    "\t\t\r\n",
    "\t\tself.x_train, self.x_test, self.y_train, self.y_test = train_test_split(strategy.transform(self.x.values), self.y, test_size=0.2)\r\n",
    "\r\n",
    "\tclass Classifier:\r\n",
    "\t\tpass"
   ],
   "outputs": [],
   "metadata": {}
  },
  {
   "cell_type": "code",
   "execution_count": 9,
   "source": [
    "def get_specifity(y_actual, y_pred):\r\n",
    "    TN = []\r\n",
    "    FP = []\r\n",
    "\r\n",
    "    for index ,_id in enumerate(np.union1d(y_actual, y_pred)):\r\n",
    "        FP.append(0)\r\n",
    "        TN.append(0)\r\n",
    "\r\n",
    "        for i in range(len(y_pred)):\r\n",
    "            if y_pred[i] == _id and y_actual[i] != y_pred[i]:\r\n",
    "                FP[index] += 1\r\n",
    "            if y_actual[i] == y_pred[i] != _id:\r\n",
    "                TN[index] += 1\r\n",
    "\r\n",
    "    TN = sum(TN)\r\n",
    "    FP = sum(FP)\r\n",
    "\r\n",
    "    return TN/(TN + FP)"
   ],
   "outputs": [],
   "metadata": {}
  },
  {
   "cell_type": "markdown",
   "source": [
    "## Preprocessing"
   ],
   "metadata": {}
  },
  {
   "cell_type": "code",
   "execution_count": 10,
   "source": [
    "data.DATE_CASE = data.DATE_CASE.astype(str)\r\n",
    "data.HAZARDS_CAT = data.HAZARDS_CAT.astype(str)\r\n",
    "data.COUNT_DESTIN = data.COUNT_DESTIN.astype(str)\r\n",
    "data.COUNT_CONCERN = data.COUNT_CONCERN.astype(str)\r\n",
    "data = data.dropna(subset=['DATE_CASE'])\r\n",
    "\r\n",
    "# data.dropna(subset=data.columns[[1, 3, 5, 8, 9, 12, 13]], inplace=True)"
   ],
   "outputs": [],
   "metadata": {}
  },
  {
   "cell_type": "code",
   "execution_count": 11,
   "source": [
    "data = data.sample(frac=1)"
   ],
   "outputs": [],
   "metadata": {}
  },
  {
   "cell_type": "markdown",
   "source": [
    "## Transformation"
   ],
   "metadata": {}
  },
  {
   "cell_type": "code",
   "execution_count": 13,
   "source": [
    "stage1 = Stage(\r\n",
    "\t# input=[0, 1, 6, 8],\r\n",
    "\t# input=[1, 3, 9, 13],\r\n",
    "\t# output=[5] # Product category\r\n",
    "\t\r\n",
    "\tinput=[0, 1, 6, 8],\r\n",
    "\toutput=[2]\r\n",
    ")\r\n",
    "\r\n",
    "stage2 = Stage(\r\n",
    "\t# input=[0, 1, 2, 6, 8],\r\n",
    "\t# input=[1, 3, 9, 13, 5],\r\n",
    "\t# output=[12] # Hazard category\r\n",
    "\t\r\n",
    "\tinput=[0, 1, 6, 8, 2],\r\n",
    "\toutput=[7]\r\n",
    ")\r\n",
    "\r\n",
    "stage3 = Stage(\r\n",
    "\t# input=[0, 1, 2, 6, 7, 8],\r\n",
    "\t# input=[1, 3, 9, 13, 5, 12],\r\n",
    "\t# output=[8] # Decision taken\r\n",
    "\t\r\n",
    "\tinput=[0, 1, 6, 8, 2, 7],\r\n",
    "\toutput=[5]\r\n",
    ")"
   ],
   "outputs": [],
   "metadata": {}
  },
  {
   "cell_type": "markdown",
   "source": [
    "## Data mining"
   ],
   "metadata": {}
  },
  {
   "cell_type": "markdown",
   "source": [
    "### Decision trees"
   ],
   "metadata": {}
  },
  {
   "cell_type": "code",
   "execution_count": null,
   "source": [
    "class DecisionTree:\r\n",
    "\tdef __init__(self, stage, params, number):\r\n",
    "\t\tself.stage = stage\r\n",
    "\t\tself.params = params\r\n",
    "\t\tself.number = number\r\n",
    "\r\n",
    "\t\tself.classifier = GridSearchCV(tree.DecisionTreeClassifier(random_state=42), self.params, cv=2, verbose=3)\r\n",
    "\t\tself.classifier.fit(stage.x_train, stage.y_train)\r\n",
    "\r\n",
    "\t\tself.best_params = self.classifier.best_params_\r\n",
    "\r\n",
    "\t\tself.classifier = tree.DecisionTreeClassifier(**self.best_params, random_state=42)\r\n",
    "\t\tself.classifier.fit(stage.x_train, stage.y_train)\r\n",
    "\r\n",
    "\t\tself.y_predict = None\r\n",
    "\r\n",
    "\tdef predict(self):\r\n",
    "\t\tself.y_predict = self.classifier.predict(self.stage.x_test)\r\n",
    "\r\n",
    "\tdef get_metrics(self):\r\n",
    "\t\tprint(f\"- Accuracy: {round(accuracy_score(self.stage.y_test, self.y_predict)*100, 2)}%\")\r\n",
    "\t\tprint(f\"- Specifity: {round(get_specifity(self.stage.y_test.values, self.y_predict)*100, 2)}%\")\r\n",
    "\t\tprint(f\"- Sensitivity: {round(recall_score(self.stage.y_test, self.y_predict, average='macro', zero_division=0)*100, 2)}%\")\r\n",
    "\t\tprint(f\"- Precision: {round(precision_score(self.stage.y_test, self.y_predict, average='macro', zero_division=0)*100, 2)}%\")\r\n",
    "\t\t\r\n",
    "\t\tprint(classification_report(self.stage.y_test, self.y_predict, zero_division=0))\r\n",
    "\r\n",
    "\t\tcm = confusion_matrix(self.stage.y_test, self.y_predict)\r\n",
    "\t\tcm = ConfusionMatrixDisplay(confusion_matrix=cm, display_labels=list(range(0, cm.shape[0])))\r\n",
    "\r\n",
    "\t\tfig, ax = plt.subplots(figsize=(10, 10))\r\n",
    "\t\tcm.plot(ax=ax)\r\n",
    "\r\n",
    "\t\tself.stage.classifier.decision_tree.fig.savefig(\"dt_\" + self.stage.cm_name + \"_\" + self.number + \".png\")\r\n",
    "\t\tfiles.download(\"dt_\" + self.stage.cm_name + \"_2\" + \".png\")\r\n",
    "\r\n",
    "\t\tplt.show()"
   ],
   "outputs": [],
   "metadata": {}
  },
  {
   "cell_type": "code",
   "execution_count": null,
   "source": [
    "params = {\r\n",
    "\t\"criterion\": [\"gini\", \"entropy\"],\r\n",
    "\t\"splitter\": [\"best\", \"random\"],\r\n",
    "\t\"max_features\": [\"auto\", \"sqrt\", \"log2\"]\r\n",
    "}\r\n",
    "\r\n",
    "stage1.classifier.decision_tree = DecisionTree(stage1, params, 1)\r\n",
    "print(f\"Stage 1 completed: {stage1.classifier.decision_tree.best_params}\")\r\n",
    "\r\n",
    "stage2.classifier.decision_tree = DecisionTree(stage2, params, 2)\r\n",
    "print(f\"Stage 2 completed: {stage2.classifier.decision_tree.best_params}\")\r\n",
    "\r\n",
    "stage3.classifier.decision_tree = DecisionTree(stage3, params, 3)\r\n",
    "print(f\"Stage 3 completed: {stage3.classifier.decision_tree.best_params}\")"
   ],
   "outputs": [],
   "metadata": {}
  },
  {
   "cell_type": "code",
   "execution_count": null,
   "source": [
    "stage1.classifier.decision_tree.predict()\r\n",
    "stage2.classifier.decision_tree.predict()\r\n",
    "stage3.classifier.decision_tree.predict()"
   ],
   "outputs": [],
   "metadata": {}
  },
  {
   "cell_type": "code",
   "execution_count": null,
   "source": [
    "print(\"Stage 1\")\r\n",
    "stage1.classifier.decision_tree.get_metrics()"
   ],
   "outputs": [],
   "metadata": {}
  },
  {
   "cell_type": "code",
   "execution_count": null,
   "source": [
    "print(\"Stage 2\")\r\n",
    "stage2.classifier.decision_tree.get_metrics()"
   ],
   "outputs": [],
   "metadata": {}
  },
  {
   "cell_type": "code",
   "execution_count": null,
   "source": [
    "print(\"Stage 3\")\r\n",
    "stage3.classifier.decision_tree.get_metrics()"
   ],
   "outputs": [],
   "metadata": {}
  },
  {
   "cell_type": "markdown",
   "source": [
    "### Boosted trees"
   ],
   "metadata": {}
  },
  {
   "cell_type": "code",
   "execution_count": null,
   "source": [
    "class BoostedTrees:\r\n",
    "\tdef __init__(self, stage, params):\r\n",
    "\t\tself.stage = stage\r\n",
    "\t\tself.params = params\r\n",
    "\t\t\r\n",
    "\t\tself.classifier = GridSearchCV(GradientBoostingClassifier(max_features=\"sqrt\", subsample=0.8, random_state=10), self.params, n_jobs=4, cv=2, verbose=3)\r\n",
    "\t\tself.classifier.fit(stage.x_train, stage.y_train.values.ravel())\r\n",
    "\r\n",
    "\t\tself.best_params = self.classifier.best_params_\r\n",
    "\r\n",
    "\t\tself.classifier = GradientBoostingClassifier(**self.best_params, max_features=\"sqrt\", subsample=0.8, random_state=10)\r\n",
    "\t\tself.classifier.fit(stage.x_train, stage.y_train.values.ravel())\r\n",
    "\r\n",
    "\t\tself.y_predict = None\r\n",
    "\r\n",
    "\tdef predict(self):\r\n",
    "\t\tself.y_predict = self.classifier.predict(self.stage.x_test)\r\n",
    "\r\n",
    "\tdef get_metrics(self):\r\n",
    "\t\tprint(f\"- Accuracy: {round(accuracy_score(self.stage.y_test, self.y_predict)*100, 2)}%\")\r\n",
    "\t\tprint(f\"- Specifity: {round(get_specifity(self.stage.y_test.values, self.y_predict)*100, 2)}%\")\r\n",
    "\t\tprint(f\"- Sensitivity: {round(recall_score(self.stage.y_test, self.y_predict, average='macro', zero_division=0)*100, 2)}%\")\r\n",
    "\t\tprint(f\"- Precission: {round(precision_score(self.stage.y_test, self.y_predict, average='macro', zero_division=0)*100, 2)}%\")\r\n",
    "\t\t\r\n",
    "\t\tprint(classification_report(self.stage.y_test, self.y_predict, zero_division=0))\r\n",
    "\r\n",
    "\t\tcm = confusion_matrix(self.stage.y_test, self.y_predict)\r\n",
    "\t\tcm = ConfusionMatrixDisplay(confusion_matrix=cm, display_labels=list(range(0, cm.shape[0])))\r\n",
    "\r\n",
    "\t\t_, ax = plt.subplots(figsize=(10, 10))\r\n",
    "\t\tcm.plot(ax=ax)\r\n",
    "\t\tplt.savefig('matrixConfusion.png')"
   ],
   "outputs": [],
   "metadata": {}
  },
  {
   "cell_type": "code",
   "execution_count": null,
   "source": [
    "params = {\r\n",
    "\t\"n_estimators\": range(20, 51, 10),\r\n",
    "\t\"learning_rate\": [1, 0.1, 0.01],\r\n",
    "\t\"max_depth\": range(5, 10, 2),\r\n",
    "\t\"min_samples_split\": range(200, 601, 200)\r\n",
    "}\r\n",
    "\r\n",
    "stage1.classifier.boosted_trees = BoostedTrees(stage1, params)\r\n",
    "print(f\"Stage 1 completed: {stage1.classifier.boosted_trees.best_params}\")\r\n",
    "\r\n",
    "stage2.classifier.boosted_trees = BoostedTrees(stage2, params)\r\n",
    "print(f\"Stage 2 completed: {stage2.classifier.boosted_trees.best_params}\")\r\n",
    "\r\n",
    "stage3.classifier.boosted_trees = BoostedTrees(stage3, params)\r\n",
    "print(f\"Stage 3 completed: {stage3.classifier.boosted_trees.best_params}\")"
   ],
   "outputs": [],
   "metadata": {}
  },
  {
   "cell_type": "code",
   "execution_count": null,
   "source": [
    "stage1.classifier.boosted_trees.predict()\r\n",
    "stage2.classifier.boosted_trees.predict()\r\n",
    "stage3.classifier.boosted_trees.predict()"
   ],
   "outputs": [],
   "metadata": {}
  },
  {
   "cell_type": "code",
   "execution_count": null,
   "source": [
    "print(\"Stage 1\")\r\n",
    "stage1.classifier.boosted_trees.get_metrics()"
   ],
   "outputs": [],
   "metadata": {}
  },
  {
   "cell_type": "code",
   "execution_count": null,
   "source": [
    "print(\"Stage 2\")\r\n",
    "stage2.classifier.boosted_trees.get_metrics()"
   ],
   "outputs": [],
   "metadata": {}
  },
  {
   "cell_type": "code",
   "execution_count": null,
   "source": [
    "print(\"Stage 3\")\r\n",
    "stage3.classifier.boosted_trees.get_metrics()"
   ],
   "outputs": [],
   "metadata": {}
  },
  {
   "cell_type": "markdown",
   "source": [
    "### Random Forest"
   ],
   "metadata": {}
  },
  {
   "cell_type": "code",
   "execution_count": null,
   "source": [
    "class RandomForest:\r\n",
    "\tdef __init__(self, stage,params):\r\n",
    "\t\tself.stage = stage\r\n",
    "\t\tself.params=params\r\n",
    "\t\t\r\n",
    "\r\n",
    "\t\trf = RandomForestClassifier()\r\n",
    "\r\n",
    "\r\n",
    "\t\tself.classifier = GridSearchCV(estimator = rf, param_grid = self.params, \r\n",
    "                          cv = 3, n_jobs = -1, verbose = 2, verbose=3, cv=2)\r\n",
    "\t\tself.classifier.fit(stage.x_train, stage.y_train)\r\n",
    "\r\n",
    "\t\tself.best_params = self.classifier.best_params_\r\n",
    "\r\n",
    "\t\tself.classifier = RandomForestClassifier(**self.best_params)\r\n",
    "\t\tself.classifier.fit(stage.x_train, stage.y_train)\r\n",
    "\r\n",
    "\t\tself.y_predict = None\r\n",
    "\r\n",
    "\tdef predict(self):\r\n",
    "\t\tself.y_predict = self.classifier.predict(self.stage.x_test)\r\n",
    "\r\n",
    "\tdef get_metrics(self):\r\n",
    "\t\tprint(f\"- Accuracy: {round(accuracy_score(self.stage.y_test, self.y_predict)*100, 2)}%\")\r\n",
    "\t\tprint(f\"- Specifity: {round(get_specifity(self.stage.y_test.values, self.y_predict)*100, 2)}%\")\r\n",
    "\t\tprint(f\"- Sensitivity: {round(recall_score(self.stage.y_test, self.y_predict, average='macro', zero_division=0)*100, 2)}%\")\r\n",
    "\t\tprint(f\"- Precision: {round(precision_score(self.stage.y_test, self.y_predict, average='macro', zero_division=0)*100, 2)}%\")\r\n",
    "\t\t\r\n",
    "\t\tprint(classification_report(self.stage.y_test, self.y_predict, zero_division=0))\r\n",
    "\r\n",
    "\t\tcm = confusion_matrix(self.stage.y_test, self.y_predict)\r\n",
    "\t\tcm = ConfusionMatrixDisplay(confusion_matrix=cm, display_labels=list(range(0, cm.shape[0])))\r\n",
    "\r\n",
    "\t\t_, ax = plt.subplots(figsize=(10, 10))\r\n",
    "\t\tcm.plot(ax=ax)"
   ],
   "outputs": [],
   "metadata": {}
  },
  {
   "cell_type": "code",
   "execution_count": null,
   "source": [
    "params = {\r\n",
    "    'bootstrap': [True],\r\n",
    "    'max_depth': [100, 110],\r\n",
    "    'max_features': [2, 3],\r\n",
    "    'min_samples_leaf': [4, 5],\r\n",
    "    'min_samples_split': [10, 12],\r\n",
    "    'n_estimators': [200, 300, 500]}\r\n",
    "\r\n",
    "stage1.classifier.Random_forest = RandomForest(stage1, params)\r\n",
    "print(f\"Stage 1 completed: {stage1.classifier.Random_forest.best_params}\")\r\n",
    "\r\n",
    "stage2.classifier.Random_forest = RandomForest(stage2, params)\r\n",
    "print(f\"Stage 2 completed: {stage2.classifier.Random_forest.best_params}\")\r\n",
    "\r\n",
    "stage3.classifier.Random_forest = RandomForest(stage3, params)\r\n",
    "print(f\"Stage 3 completed: {stage3.classifier.Random_forest.best_params}\")"
   ],
   "outputs": [],
   "metadata": {}
  },
  {
   "cell_type": "code",
   "execution_count": null,
   "source": [
    "stage1.classifier.Random_forest.predict()\r\n",
    "stage2.classifier.Random_forest.predict()\r\n",
    "stage3.classifier.Random_forest.predict()"
   ],
   "outputs": [],
   "metadata": {}
  },
  {
   "cell_type": "code",
   "execution_count": null,
   "source": [
    "print(\"Stage 1\")\r\n",
    "stage1.classifier.Random_forest.get_metrics()"
   ],
   "outputs": [],
   "metadata": {}
  },
  {
   "cell_type": "code",
   "execution_count": null,
   "source": [
    "print(\"Stage 2\")\r\n",
    "stage2.classifier.Random_forest.get_metrics()"
   ],
   "outputs": [],
   "metadata": {}
  },
  {
   "cell_type": "code",
   "execution_count": null,
   "source": [
    "print(\"Stage 3\")\r\n",
    "stage3.classifier.Random_forest.get_metrics()"
   ],
   "outputs": [],
   "metadata": {}
  },
  {
   "cell_type": "markdown",
   "source": [
    "### Logistic Regression"
   ],
   "metadata": {}
  },
  {
   "cell_type": "code",
   "execution_count": 14,
   "source": [
    "class LogisticRegression1:\r\n",
    "\tdef __init__(self, stage, params):\r\n",
    "\t\tself.stage = stage\r\n",
    "\t\tself.params = params\r\n",
    "\r\n",
    "\t\tself.classifier = GridSearchCV(LogisticRegression(), param_grid=self.params, scoring=\"recall\", verbose=3, cv=2)\r\n",
    "\t\tself.classifier.fit(stage.x_train, stage.y_train)\r\n",
    "\r\n",
    "\t\tself.best_params = self.classifier.best_params_\r\n",
    "\r\n",
    "\t\tself.classifier = LogisticRegression(**self.best_params, solver='lbfgs')\r\n",
    "\t\tself.classifier.fit(stage.x_train, stage.y_train)\r\n",
    "\r\n",
    "\t\tself.y_predict = None\r\n",
    "\r\n",
    "\tdef predict(self):\r\n",
    "\t\tself.y_predict = self.classifier.predict(self.stage.x_test)\r\n",
    "\r\n",
    "\tdef get_metrics(self):\r\n",
    "\t\tprint(f\"- Accuracy: {round(accuracy_score(self.stage.y_test, self.y_predict)*100, 2)}%\")\r\n",
    "\t\tprint(f\"- Specifity: {round(get_specifity(self.stage.y_test.values, self.y_predict)*100, 2)}%\")\r\n",
    "\t\tprint(f\"- Sensitivity: {round(recall_score(self.stage.y_test, self.y_predict, average='macro', zero_division=0)*100, 2)}%\")\r\n",
    "\t\tprint(f\"- Precision: {round(precision_score(self.stage.y_test, self.y_predict, average='macro', zero_division=0)*100, 2)}%\")\r\n",
    "\t\t\r\n",
    "\t\tprint(classification_report(self.stage.y_test, self.y_predict, zero_division=0))\r\n",
    "\r\n",
    "\t\tcm = confusion_matrix(self.stage.y_test, self.y_predict)\r\n",
    "\t\tcm = ConfusionMatrixDisplay(confusion_matrix=cm, display_labels=list(range(0, cm.shape[0])))\r\n",
    "\r\n",
    "\t\t_, ax = plt.subplots(figsize=(10, 10))\r\n",
    "\t\tcm.plot(ax=ax)"
   ],
   "outputs": [],
   "metadata": {}
  },
  {
   "cell_type": "code",
   "execution_count": 16,
   "source": [
    "params = {\r\n",
    "\t\"penalty\": [\"l2\"],\r\n",
    "\t\"C\": [0.001, 0.01, 0.1, 1, 10]\r\n",
    "}\r\n",
    "\r\n",
    "stage1.classifier.Logistic_regression = LogisticRegression1(stage1, params)\r\n",
    "print(f\"Stage 1 completed: {stage1.classifier.Logistic_regression.best_params}\")\r\n",
    "\r\n",
    "stage2.classifier.Logistic_regression = LogisticRegression1(stage2, params)\r\n",
    "print(f\"Stage 2 completed: {stage2.classifier.Logistic_regression.best_params}\")\r\n",
    "\r\n",
    "stage3.classifier.Logistic_regression = LogisticRegression1(stage3, params)\r\n",
    "print(f\"Stage 3 completed: {stage3.classifier.Logistic_regression.best_params}\")"
   ],
   "outputs": [
    {
     "output_type": "stream",
     "name": "stdout",
     "text": [
      "Fitting 2 folds for each of 5 candidates, totalling 10 fits\n",
      "[CV 1/2] END .................C=0.001, penalty=l2;, score=nan total time=  47.2s\n",
      "[CV 2/2] END .................C=0.001, penalty=l2;, score=nan total time=  33.4s\n",
      "[CV 1/2] END ..................C=0.01, penalty=l2;, score=nan total time=  46.4s\n",
      "[CV 2/2] END ..................C=0.01, penalty=l2;, score=nan total time=  37.0s\n",
      "[CV 1/2] END ...................C=0.1, penalty=l2;, score=nan total time=  46.1s\n",
      "[CV 2/2] END ...................C=0.1, penalty=l2;, score=nan total time=  45.4s\n",
      "[CV 1/2] END .....................C=1, penalty=l2;, score=nan total time=  46.2s\n",
      "[CV 2/2] END .....................C=1, penalty=l2;, score=nan total time=  46.6s\n",
      "[CV 1/2] END ....................C=10, penalty=l2;, score=nan total time=  46.2s\n",
      "[CV 2/2] END ....................C=10, penalty=l2;, score=nan total time=  42.5s\n",
      "Stage 1 completed: {'C': 0.001, 'penalty': 'l2'}\n",
      "Fitting 2 folds for each of 5 candidates, totalling 10 fits\n",
      "[CV 1/2] END .................C=0.001, penalty=l2;, score=nan total time=  35.5s\n",
      "[CV 2/2] END .................C=0.001, penalty=l2;, score=nan total time=  35.4s\n",
      "[CV 1/2] END ..................C=0.01, penalty=l2;, score=nan total time=  36.6s\n"
     ]
    }
   ],
   "metadata": {}
  },
  {
   "cell_type": "code",
   "execution_count": null,
   "source": [
    "stage1.classifier.Random_forest.predict()\r\n",
    "stage2.classifier.Random_forest.predict()\r\n",
    "stage3.classifier.Random_forest.predict()"
   ],
   "outputs": [],
   "metadata": {}
  },
  {
   "cell_type": "code",
   "execution_count": null,
   "source": [
    "print(\"Stage 1\")\r\n",
    "stage1.classifier.Random_forest.get_metrics()"
   ],
   "outputs": [],
   "metadata": {}
  },
  {
   "cell_type": "code",
   "execution_count": null,
   "source": [
    "print(\"Stage 2\")\r\n",
    "stage2.classifier.Random_forest.get_metrics()"
   ],
   "outputs": [],
   "metadata": {}
  },
  {
   "cell_type": "code",
   "execution_count": null,
   "source": [
    "print(\"Stage 3\")\r\n",
    "stage3.classifier.Random_forest.get_metrics()"
   ],
   "outputs": [],
   "metadata": {}
  },
  {
   "cell_type": "markdown",
   "source": [
    "### Support vector machine"
   ],
   "metadata": {}
  },
  {
   "cell_type": "code",
   "execution_count": null,
   "source": [
    "class SupportVectorMachine:\r\n",
    "    def __init__(self, stage, params):\r\n",
    "        self.stage = stage\r\n",
    "        self.params = params\r\n",
    "        \r\n",
    "        self.classifier = GridSearchCV(SVC(), self.params, refit=True, verbose=3, cv=2)\r\n",
    "        self.classifier.fit(stage.x_train, stage.y_train.values.ravel())\r\n",
    "\r\n",
    "        self.best_params = self.classifier.best_params_\r\n",
    "\r\n",
    "        self.classifier = SVC(**self.best_params)\r\n",
    "        self.classifier.fit(stage.x_train, stage.y_train.values.ravel())\r\n",
    "\r\n",
    "        self.y_predict = None\r\n",
    "\r\n",
    "    def predict(self):\r\n",
    "        self.y_predict = self.classifier.predict(self.stage.x_test)\r\n",
    "\r\n",
    "    def get_metrics(self):\r\n",
    "        print(f\"- Accuracy: {round(accuracy_score(self.stage.y_test, self.y_predict)*100, 2)}%\")\r\n",
    "        print(f\"- Specifity: {round(get_specifity(self.stage.y_test.values, self.y_predict)*100, 2)}%\")\r\n",
    "        print(f\"- Sensitivity: {round(recall_score(self.stage.y_test, self.y_predict, average='macro', zero_division=0)*100, 2)}%\")\r\n",
    "        print(f\"- Precission: {round(precision_score(self.stage.y_test, self.y_predict, average='macro', zero_division=0)*100, 2)}%\")\r\n",
    "        \r\n",
    "        print(classification_report(self.stage.y_test, self.y_predict, zero_division=0))\r\n",
    "\r\n",
    "        cm = confusion_matrix(self.stage.y_test, self.y_predict)\r\n",
    "        cm = ConfusionMatrixDisplay(confusion_matrix=cm)\r\n",
    "\r\n",
    "        _, ax = plt.subplots(figsize=(10, 10))\r\n",
    "        cm.plot(ax=ax)"
   ],
   "outputs": [],
   "metadata": {}
  },
  {
   "cell_type": "code",
   "execution_count": null,
   "source": [
    "params = {\r\n",
    "\t\"C\": [0.1, 1, 10], \r\n",
    "    \"gamma\": [1, 0.1, 0.01],\r\n",
    "    \"kernel\": [\"rbf\"]\r\n",
    "} \r\n",
    "\r\n",
    "stage1.classifier.support_vector_machine = SupportVectorMachine(stage1, params)\r\n",
    "print(f\"Stage 1 completed: {stage1.classifier.support_vector_machine.best_params}\")\r\n",
    "\r\n",
    "stage2.classifier.support_vector_machine = SupportVectorMachine(stage2, params)\r\n",
    "print(f\"Stage 2 completed: {stage2.classifier.support_vector_machine.best_params}\")\r\n",
    "\r\n",
    "stage3.classifier.support_vector_machine = SupportVectorMachine(stage3, params)\r\n",
    "print(f\"Stage 3 completed: {stage3.classifier.support_vector_machine.best_params}\")"
   ],
   "outputs": [],
   "metadata": {}
  },
  {
   "cell_type": "code",
   "execution_count": null,
   "source": [
    "stage1.classifier.support_vector_machine.predict()\r\n",
    "stage2.classifier.support_vector_machine.predict()\r\n",
    "stage3.classifier.support_vector_machine.predict()"
   ],
   "outputs": [],
   "metadata": {}
  },
  {
   "cell_type": "code",
   "execution_count": null,
   "source": [
    "print(\"Stage 1\")\r\n",
    "stage1.classifier.support_vector_machine.get_metrics()"
   ],
   "outputs": [],
   "metadata": {}
  },
  {
   "cell_type": "code",
   "execution_count": null,
   "source": [
    "print(\"Stage 2\")\r\n",
    "stage2.classifier.support_vector_machine.get_metrics()"
   ],
   "outputs": [],
   "metadata": {}
  },
  {
   "cell_type": "code",
   "execution_count": null,
   "source": [
    "print(\"Stage 3\")\r\n",
    "stage3.classifier.support_vector_machine.get_metrics()"
   ],
   "outputs": [],
   "metadata": {}
  },
  {
   "cell_type": "code",
   "execution_count": null,
   "source": [],
   "outputs": [],
   "metadata": {}
  }
 ],
 "metadata": {
  "orig_nbformat": 4,
  "language_info": {
   "name": "python",
   "version": "3.8.5",
   "mimetype": "text/x-python",
   "codemirror_mode": {
    "name": "ipython",
    "version": 3
   },
   "pygments_lexer": "ipython3",
   "nbconvert_exporter": "python",
   "file_extension": ".py"
  },
  "kernelspec": {
   "name": "python3",
   "display_name": "Python 3.8.5 64-bit ('base': conda)"
  },
  "interpreter": {
   "hash": "a0f31b5065bb5e11642da8c189697f7b3d952dbfee784a29d8258c5fb037fb8c"
  }
 },
 "nbformat": 4,
 "nbformat_minor": 2
}