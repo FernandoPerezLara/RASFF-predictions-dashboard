{
 "cells": [
  {
   "cell_type": "markdown",
   "source": [
    "# Categorical embedding"
   ],
   "metadata": {}
  },
  {
   "cell_type": "markdown",
   "source": [
    "## Libraries"
   ],
   "metadata": {}
  },
  {
   "cell_type": "code",
   "execution_count": 12,
   "source": [
    "import tensorflow as tf\r\n",
    "import pandas as pd\r\n",
    "\r\n",
    "from sklearn.preprocessing import OneHotEncoder"
   ],
   "outputs": [],
   "metadata": {}
  },
  {
   "cell_type": "markdown",
   "source": [
    "## Training data"
   ],
   "metadata": {}
  },
  {
   "cell_type": "code",
   "execution_count": 9,
   "source": [
    "data = pd.read_csv(\"../splited_full_RASFF_DATA.csv\", sep=\";\", header=0, index_col=0)\r\n",
    "data = data.sample(frac=1)\r\n",
    "\r\n",
    "data.head(5)"
   ],
   "outputs": [
    {
     "output_type": "execute_result",
     "data": {
      "text/html": [
       "<div>\n",
       "<style scoped>\n",
       "    .dataframe tbody tr th:only-of-type {\n",
       "        vertical-align: middle;\n",
       "    }\n",
       "\n",
       "    .dataframe tbody tr th {\n",
       "        vertical-align: top;\n",
       "    }\n",
       "\n",
       "    .dataframe thead th {\n",
       "        text-align: right;\n",
       "    }\n",
       "</style>\n",
       "<table border=\"1\" class=\"dataframe\">\n",
       "  <thead>\n",
       "    <tr style=\"text-align: right;\">\n",
       "      <th></th>\n",
       "      <th>DATE_CASE</th>\n",
       "      <th>NOT_COUNTRY</th>\n",
       "      <th>PROD_CAT</th>\n",
       "      <th>TYPE</th>\n",
       "      <th>RISK_DECISION</th>\n",
       "      <th>ACTION_TAKEN</th>\n",
       "      <th>DISTRIBUTION_STAT</th>\n",
       "      <th>HAZARDS_CAT</th>\n",
       "      <th>COUNT_ORIGEN</th>\n",
       "      <th>COUNT_DESTIN</th>\n",
       "      <th>COUNT_CONCERN</th>\n",
       "    </tr>\n",
       "  </thead>\n",
       "  <tbody>\n",
       "    <tr>\n",
       "      <th>3401</th>\n",
       "      <td>2020-07-27</td>\n",
       "      <td>Belgium</td>\n",
       "      <td>prepared dishes and snacks</td>\n",
       "      <td>food</td>\n",
       "      <td>undecided</td>\n",
       "      <td>withdrawal from the market</td>\n",
       "      <td>distribution to other member countries</td>\n",
       "      <td>novel food</td>\n",
       "      <td>Belgium</td>\n",
       "      <td>Netherlands</td>\n",
       "      <td></td>\n",
       "    </tr>\n",
       "    <tr>\n",
       "      <th>91506</th>\n",
       "      <td>2013-06-13</td>\n",
       "      <td>Slovakia</td>\n",
       "      <td>fruits and vegetables</td>\n",
       "      <td>food</td>\n",
       "      <td>undecided</td>\n",
       "      <td></td>\n",
       "      <td>distribution to other member countries</td>\n",
       "      <td>pesticide residues</td>\n",
       "      <td>China</td>\n",
       "      <td>Slovakia</td>\n",
       "      <td>United Kingdom</td>\n",
       "    </tr>\n",
       "    <tr>\n",
       "      <th>110878</th>\n",
       "      <td>2011-05-18</td>\n",
       "      <td>United Kingdom</td>\n",
       "      <td>feed materials</td>\n",
       "      <td>feed</td>\n",
       "      <td>undecided</td>\n",
       "      <td>official detention</td>\n",
       "      <td>no distribution</td>\n",
       "      <td>mycotoxins</td>\n",
       "      <td>India</td>\n",
       "      <td></td>\n",
       "      <td>United Kingdom</td>\n",
       "    </tr>\n",
       "    <tr>\n",
       "      <th>136874</th>\n",
       "      <td>2007-10-24</td>\n",
       "      <td>Poland</td>\n",
       "      <td>feed for food-producing animals - (obsolete)</td>\n",
       "      <td>feed</td>\n",
       "      <td>undecided</td>\n",
       "      <td>informing recipient(s)</td>\n",
       "      <td>distribution restricted to notifying country</td>\n",
       "      <td>pathogenic micro-organisms</td>\n",
       "      <td>Ukraine</td>\n",
       "      <td>Poland</td>\n",
       "      <td></td>\n",
       "    </tr>\n",
       "    <tr>\n",
       "      <th>156911</th>\n",
       "      <td>2004-06-02</td>\n",
       "      <td>Spain</td>\n",
       "      <td>poultry meat and poultry meat products</td>\n",
       "      <td>food</td>\n",
       "      <td>undecided</td>\n",
       "      <td>re-dispatch</td>\n",
       "      <td></td>\n",
       "      <td>pathogenic micro-organisms</td>\n",
       "      <td>Brazil</td>\n",
       "      <td></td>\n",
       "      <td>Spain</td>\n",
       "    </tr>\n",
       "  </tbody>\n",
       "</table>\n",
       "</div>"
      ],
      "text/plain": [
       "         DATE_CASE     NOT_COUNTRY  \\\n",
       "3401    2020-07-27         Belgium   \n",
       "91506   2013-06-13        Slovakia   \n",
       "110878  2011-05-18  United Kingdom   \n",
       "136874  2007-10-24          Poland   \n",
       "156911  2004-06-02           Spain   \n",
       "\n",
       "                                            PROD_CAT  TYPE RISK_DECISION  \\\n",
       "3401                      prepared dishes and snacks  food     undecided   \n",
       "91506                          fruits and vegetables  food     undecided   \n",
       "110878                                feed materials  feed     undecided   \n",
       "136874  feed for food-producing animals - (obsolete)  feed     undecided   \n",
       "156911        poultry meat and poultry meat products  food     undecided   \n",
       "\n",
       "                      ACTION_TAKEN  \\\n",
       "3401    withdrawal from the market   \n",
       "91506                                \n",
       "110878          official detention   \n",
       "136874      informing recipient(s)   \n",
       "156911                 re-dispatch   \n",
       "\n",
       "                                   DISTRIBUTION_STAT  \\\n",
       "3401          distribution to other member countries   \n",
       "91506         distribution to other member countries   \n",
       "110878                               no distribution   \n",
       "136874  distribution restricted to notifying country   \n",
       "156911                                                 \n",
       "\n",
       "                       HAZARDS_CAT COUNT_ORIGEN COUNT_DESTIN   COUNT_CONCERN  \n",
       "3401                    novel food      Belgium  Netherlands                  \n",
       "91506           pesticide residues        China     Slovakia  United Kingdom  \n",
       "110878                  mycotoxins        India               United Kingdom  \n",
       "136874  pathogenic micro-organisms      Ukraine       Poland                  \n",
       "156911  pathogenic micro-organisms       Brazil                        Spain  "
      ]
     },
     "metadata": {},
     "execution_count": 9
    }
   ],
   "metadata": {}
  },
  {
   "cell_type": "markdown",
   "source": [
    "## Basic pre-processing"
   ],
   "metadata": {}
  },
  {
   "cell_type": "code",
   "execution_count": 8,
   "source": [
    "print(\"Initial length:\", len(data))\r\n",
    "\r\n",
    "data.HAZARDS_CAT = data.HAZARDS_CAT.astype(str)\r\n",
    "data.DATE_CASE = data.DATE_CASE.astype(str)\r\n",
    "data.DATE_CASE = pd.to_datetime(data.DATE_CASE, errors=\"coerce\")\r\n",
    "data.DATE_CASE = data.DATE_CASE.dt.month\r\n",
    "\r\n",
    "data.dropna(subset=[\"DATE_CASE\"], inplace=True)\r\n",
    "\r\n",
    "print(\"Final length:\", len(data))"
   ],
   "outputs": [
    {
     "output_type": "stream",
     "name": "stdout",
     "text": [
      "Initial length: 168188\n",
      "Final length: 168187\n"
     ]
    }
   ],
   "metadata": {}
  },
  {
   "cell_type": "markdown",
   "source": [
    "## Features selection"
   ],
   "metadata": {}
  },
  {
   "cell_type": "code",
   "execution_count": 10,
   "source": [
    "X = data.iloc[:, [0, 1, 6, 8]]\r\n",
    "Y = data.iloc[:, [2]]"
   ],
   "outputs": [],
   "metadata": {}
  },
  {
   "cell_type": "code",
   "execution_count": 16,
   "source": [
    "ency = OneHotEncoder(handle_unknown=\"ignore\", sparse=False)\r\n",
    "\r\n",
    "ency.fit(Y.values)\r\n",
    "\r\n",
    "y_one_hot = ency.transform(Y.values)"
   ],
   "outputs": [],
   "metadata": {}
  },
  {
   "cell_type": "code",
   "execution_count": null,
   "source": [],
   "outputs": [],
   "metadata": {}
  }
 ],
 "metadata": {
  "orig_nbformat": 4,
  "language_info": {
   "name": "python",
   "version": "3.8.11",
   "mimetype": "text/x-python",
   "codemirror_mode": {
    "name": "ipython",
    "version": 3
   },
   "pygments_lexer": "ipython3",
   "nbconvert_exporter": "python",
   "file_extension": ".py"
  },
  "kernelspec": {
   "name": "python3",
   "display_name": "Python 3.8.11 64-bit ('ceiec': conda)"
  },
  "interpreter": {
   "hash": "d98ed641ffb0afae769cd9f96943c7d5fe6ff4d949b5ee86e4a8c8a547fca37e"
  }
 },
 "nbformat": 4,
 "nbformat_minor": 2
}