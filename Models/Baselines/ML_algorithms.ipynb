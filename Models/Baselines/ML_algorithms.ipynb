{
 "cells": [
  {
   "cell_type": "markdown",
   "metadata": {
    "colab_type": "text",
    "id": "wwzADB6wisTx"
   },
   "source": [
    "# Liberías"
   ]
  },
  {
   "cell_type": "code",
   "execution_count": 1,
   "metadata": {
    "ExecuteTime": {
     "start_time": "2019-11-04T11:49:16.279Z"
    },
    "colab": {},
    "colab_type": "code",
    "id": "WCl0Xu_pisTz"
   },
   "outputs": [],
   "source": [
    "import pandas as pd\n",
    "import numpy as np\n",
    "\n",
    "import sklearn\n",
    "from sklearn.preprocessing import OneHotEncoder\n",
    "from sklearn import preprocessing\n",
    "from sklearn.metrics import classification_report\n",
    "from sklearn.naive_bayes import GaussianNB\n",
    "from sklearn import tree,svm,neighbors\n",
    "from sklearn.linear_model import LogisticRegression\n",
    "from sklearn.ensemble import GradientBoostingClassifier,AdaBoostClassifier, RandomForestClassifier\n",
    "from sklearn.neighbors import NearestCentroid\n",
    "from sklearn.neural_network import MLPClassifier\n",
    "from sklearn.model_selection import train_test_split\n",
    "from sklearn.model_selection import GridSearchCV \n",
    "from sklearn.preprocessing import OrdinalEncoder\n",
    "\n",
    "import matplotlib.pyplot as plt\n",
    "\n",
    "from keras.layers import Dense, Dropout\n",
    "from keras.models import Sequential\n",
    "from keras.utils import to_categorical\n",
    "from keras.wrappers.scikit_learn import KerasClassifier\n",
    "from keras.optimizers import RMSprop\n",
    "from keras.constraints import maxnorm"
   ]
  },
  {
   "cell_type": "code",
   "execution_count": 3,
   "metadata": {
    "ExecuteTime": {
     "end_time": "2019-05-29T14:11:05.343488Z",
     "start_time": "2019-05-29T14:11:05.309579Z"
    },
    "colab": {},
    "colab_type": "code",
    "id": "4QzV7-PZisT7",
    "outputId": "ddd508d4-0dfd-451b-dd2d-3672870ab80d"
   },
   "outputs": [
    {
     "name": "stdout",
     "output_type": "stream",
     "text": [
      "Device mapping: no known devices.\n"
     ]
    }
   ],
   "source": [
    "import tensorflow as tf\n",
    "# from tf.compat.v1.keras.backend.set_session import set_session\n",
    "config = tf.compat.v1.ConfigProto()\n",
    "config.gpu_options.per_process_gpu_memory_fraction = 0.4\n",
    "config.gpu_options.allow_growth = True  # dynamically grow the memory used on the GPU\n",
    "config.log_device_placement = True  # to log device placement (on which device the operation ran)\n",
    "                                    # (nothing gets printed in Jupyter, only if you run it standalone)\n",
    "sess = tf.compat.v1.Session(config=config)\n",
    "tf.compat.v1.keras.backend.set_session(sess)"
   ]
  },
  {
   "cell_type": "markdown",
   "metadata": {
    "colab_type": "text",
    "id": "s5Nk6jIMisUE"
   },
   "source": [
    "# Lectura de datos"
   ]
  },
  {
   "cell_type": "code",
   "execution_count": 4,
   "metadata": {
    "colab": {},
    "colab_type": "code",
    "id": "2CpE6W3wisUE",
    "outputId": "dd999a59-6d39-48e8-b5fa-c938cbd89c9e"
   },
   "outputs": [
    {
     "data": {
      "text/html": [
       "<div>\n",
       "<style scoped>\n",
       "    .dataframe tbody tr th:only-of-type {\n",
       "        vertical-align: middle;\n",
       "    }\n",
       "\n",
       "    .dataframe tbody tr th {\n",
       "        vertical-align: top;\n",
       "    }\n",
       "\n",
       "    .dataframe thead th {\n",
       "        text-align: right;\n",
       "    }\n",
       "</style>\n",
       "<table border=\"1\" class=\"dataframe\">\n",
       "  <thead>\n",
       "    <tr style=\"text-align: right;\">\n",
       "      <th></th>\n",
       "      <th>DATE_CASE</th>\n",
       "      <th>NOT_COUNTRY</th>\n",
       "      <th>PROD_CAT</th>\n",
       "      <th>TYPE</th>\n",
       "      <th>RISK_DECISION</th>\n",
       "      <th>ACTION_TAKEN</th>\n",
       "      <th>DISTRIBUTION_STAT</th>\n",
       "      <th>HAZARDS_CAT</th>\n",
       "      <th>COUNT_ORIGEN</th>\n",
       "      <th>COUNT_DESTIN</th>\n",
       "      <th>COUNT_CONCERN</th>\n",
       "    </tr>\n",
       "  </thead>\n",
       "  <tbody>\n",
       "    <tr>\n",
       "      <th>43622</th>\n",
       "      <td>2016-07-15</td>\n",
       "      <td>United Kingdom</td>\n",
       "      <td>nuts, nut products and seeds</td>\n",
       "      <td>food</td>\n",
       "      <td>serious</td>\n",
       "      <td>import not authorised</td>\n",
       "      <td>product not (yet) placed on the market</td>\n",
       "      <td>mycotoxins</td>\n",
       "      <td>China</td>\n",
       "      <td></td>\n",
       "      <td>United Kingdom</td>\n",
       "    </tr>\n",
       "    <tr>\n",
       "      <th>54761</th>\n",
       "      <td>2015-06-12</td>\n",
       "      <td>Czech Republic</td>\n",
       "      <td>dietetic foods, food supplements, fortified foods</td>\n",
       "      <td>food</td>\n",
       "      <td>serious</td>\n",
       "      <td>withdrawal from the market</td>\n",
       "      <td>distribution to other member countries</td>\n",
       "      <td>composition</td>\n",
       "      <td>India</td>\n",
       "      <td>Austria</td>\n",
       "      <td>INFOSAN</td>\n",
       "    </tr>\n",
       "    <tr>\n",
       "      <th>107835</th>\n",
       "      <td>2009-07-03</td>\n",
       "      <td>France</td>\n",
       "      <td>meat and meat products (other than poultry)</td>\n",
       "      <td>food</td>\n",
       "      <td>undecided</td>\n",
       "      <td>withdrawal from the market</td>\n",
       "      <td>distribution on the market (possible)</td>\n",
       "      <td>microbial contaminants (other)</td>\n",
       "      <td>Brazil</td>\n",
       "      <td>Germany</td>\n",
       "      <td>Netherlands</td>\n",
       "    </tr>\n",
       "    <tr>\n",
       "      <th>18959</th>\n",
       "      <td>2018-05-23</td>\n",
       "      <td>France</td>\n",
       "      <td>dietetic foods, food supplements, fortified foods</td>\n",
       "      <td>food</td>\n",
       "      <td>serious</td>\n",
       "      <td>recall from consumers</td>\n",
       "      <td>distribution to other member countries</td>\n",
       "      <td>pathogenic micro-organisms</td>\n",
       "      <td>Taiwan</td>\n",
       "      <td>Spain</td>\n",
       "      <td>INFOSAN</td>\n",
       "    </tr>\n",
       "    <tr>\n",
       "      <th>4807</th>\n",
       "      <td>2019-04-18</td>\n",
       "      <td>Belgium</td>\n",
       "      <td>food contact materials</td>\n",
       "      <td>fcm</td>\n",
       "      <td>serious</td>\n",
       "      <td>public warning - press release</td>\n",
       "      <td>distribution restricted to notifying country</td>\n",
       "      <td>industrial contaminants</td>\n",
       "      <td>Hong Kong</td>\n",
       "      <td>Belgium</td>\n",
       "      <td>INFOSAN</td>\n",
       "    </tr>\n",
       "    <tr>\n",
       "      <th>...</th>\n",
       "      <td>...</td>\n",
       "      <td>...</td>\n",
       "      <td>...</td>\n",
       "      <td>...</td>\n",
       "      <td>...</td>\n",
       "      <td>...</td>\n",
       "      <td>...</td>\n",
       "      <td>...</td>\n",
       "      <td>...</td>\n",
       "      <td>...</td>\n",
       "      <td>...</td>\n",
       "    </tr>\n",
       "    <tr>\n",
       "      <th>127197</th>\n",
       "      <td>2006-07-25</td>\n",
       "      <td>Greece</td>\n",
       "      <td>food contact materials</td>\n",
       "      <td>food</td>\n",
       "      <td>undecided</td>\n",
       "      <td>re-dispatch</td>\n",
       "      <td>no distribution</td>\n",
       "      <td>organoleptic aspects</td>\n",
       "      <td>Hong Kong</td>\n",
       "      <td></td>\n",
       "      <td>Greece</td>\n",
       "    </tr>\n",
       "    <tr>\n",
       "      <th>5020</th>\n",
       "      <td>2019-04-16</td>\n",
       "      <td>Spain</td>\n",
       "      <td>dietetic foods, food supplements, fortified foods</td>\n",
       "      <td>food</td>\n",
       "      <td>not serious</td>\n",
       "      <td>destruction</td>\n",
       "      <td>distribution to other member countries</td>\n",
       "      <td>novel food</td>\n",
       "      <td>Spain</td>\n",
       "      <td>Estonia</td>\n",
       "      <td>Germany</td>\n",
       "    </tr>\n",
       "    <tr>\n",
       "      <th>3224</th>\n",
       "      <td>2019-06-14</td>\n",
       "      <td>Czech Republic</td>\n",
       "      <td>poultry meat and poultry meat products</td>\n",
       "      <td>food</td>\n",
       "      <td>undecided</td>\n",
       "      <td>withdrawal from the market</td>\n",
       "      <td>distribution to other member countries</td>\n",
       "      <td>pathogenic micro-organisms</td>\n",
       "      <td>Poland</td>\n",
       "      <td>Greece</td>\n",
       "      <td></td>\n",
       "    </tr>\n",
       "    <tr>\n",
       "      <th>24913</th>\n",
       "      <td>2018-01-11</td>\n",
       "      <td>Germany</td>\n",
       "      <td>dietetic foods, food supplements, fortified foods</td>\n",
       "      <td>food</td>\n",
       "      <td>serious</td>\n",
       "      <td>recall from consumers</td>\n",
       "      <td>distribution to other member countries</td>\n",
       "      <td>natural toxins (other)</td>\n",
       "      <td>Spain</td>\n",
       "      <td>Germany</td>\n",
       "      <td>INFOSAN</td>\n",
       "    </tr>\n",
       "    <tr>\n",
       "      <th>95300</th>\n",
       "      <td>2011-03-12</td>\n",
       "      <td>Germany</td>\n",
       "      <td>dietetic foods, food supplements, fortified foods</td>\n",
       "      <td>food</td>\n",
       "      <td>undecided</td>\n",
       "      <td>recall from consumers</td>\n",
       "      <td>distribution to other member countries</td>\n",
       "      <td>composition</td>\n",
       "      <td>Germany</td>\n",
       "      <td>Croatia</td>\n",
       "      <td>Commission Services</td>\n",
       "    </tr>\n",
       "  </tbody>\n",
       "</table>\n",
       "<p>141529 rows × 11 columns</p>\n",
       "</div>"
      ],
      "text/plain": [
       "         DATE_CASE     NOT_COUNTRY  \\\n",
       "43622   2016-07-15  United Kingdom   \n",
       "54761   2015-06-12  Czech Republic   \n",
       "107835  2009-07-03          France   \n",
       "18959   2018-05-23          France   \n",
       "4807    2019-04-18         Belgium   \n",
       "...            ...             ...   \n",
       "127197  2006-07-25          Greece   \n",
       "5020    2019-04-16           Spain   \n",
       "3224    2019-06-14  Czech Republic   \n",
       "24913   2018-01-11         Germany   \n",
       "95300   2011-03-12         Germany   \n",
       "\n",
       "                                                 PROD_CAT  TYPE RISK_DECISION  \\\n",
       "43622                        nuts, nut products and seeds  food       serious   \n",
       "54761   dietetic foods, food supplements, fortified foods  food       serious   \n",
       "107835        meat and meat products (other than poultry)  food     undecided   \n",
       "18959   dietetic foods, food supplements, fortified foods  food       serious   \n",
       "4807                               food contact materials   fcm       serious   \n",
       "...                                                   ...   ...           ...   \n",
       "127197                             food contact materials  food     undecided   \n",
       "5020    dietetic foods, food supplements, fortified foods  food   not serious   \n",
       "3224               poultry meat and poultry meat products  food     undecided   \n",
       "24913   dietetic foods, food supplements, fortified foods  food       serious   \n",
       "95300   dietetic foods, food supplements, fortified foods  food     undecided   \n",
       "\n",
       "                          ACTION_TAKEN  \\\n",
       "43622            import not authorised   \n",
       "54761       withdrawal from the market   \n",
       "107835      withdrawal from the market   \n",
       "18959            recall from consumers   \n",
       "4807    public warning - press release   \n",
       "...                                ...   \n",
       "127197                     re-dispatch   \n",
       "5020                       destruction   \n",
       "3224        withdrawal from the market   \n",
       "24913            recall from consumers   \n",
       "95300            recall from consumers   \n",
       "\n",
       "                                   DISTRIBUTION_STAT  \\\n",
       "43622         product not (yet) placed on the market   \n",
       "54761         distribution to other member countries   \n",
       "107835         distribution on the market (possible)   \n",
       "18959         distribution to other member countries   \n",
       "4807    distribution restricted to notifying country   \n",
       "...                                              ...   \n",
       "127197                               no distribution   \n",
       "5020          distribution to other member countries   \n",
       "3224          distribution to other member countries   \n",
       "24913         distribution to other member countries   \n",
       "95300         distribution to other member countries   \n",
       "\n",
       "                           HAZARDS_CAT COUNT_ORIGEN COUNT_DESTIN  \\\n",
       "43622                       mycotoxins        China                \n",
       "54761                      composition        India      Austria   \n",
       "107835  microbial contaminants (other)       Brazil      Germany   \n",
       "18959       pathogenic micro-organisms       Taiwan        Spain   \n",
       "4807           industrial contaminants    Hong Kong      Belgium   \n",
       "...                                ...          ...          ...   \n",
       "127197            organoleptic aspects    Hong Kong                \n",
       "5020                        novel food        Spain      Estonia   \n",
       "3224        pathogenic micro-organisms       Poland       Greece   \n",
       "24913           natural toxins (other)        Spain      Germany   \n",
       "95300                      composition      Germany      Croatia   \n",
       "\n",
       "              COUNT_CONCERN  \n",
       "43622        United Kingdom  \n",
       "54761               INFOSAN  \n",
       "107835          Netherlands  \n",
       "18959               INFOSAN  \n",
       "4807                INFOSAN  \n",
       "...                     ...  \n",
       "127197               Greece  \n",
       "5020                Germany  \n",
       "3224                         \n",
       "24913               INFOSAN  \n",
       "95300   Commission Services  \n",
       "\n",
       "[141529 rows x 11 columns]"
      ]
     },
     "execution_count": 4,
     "metadata": {},
     "output_type": "execute_result"
    }
   ],
   "source": [
    "data = pd.read_csv('C:/Users/Enrique/OneDrive - UFV/Escritorio/CEIEC/RASFF/splited_RASFF_DATA_16092019.csv', sep=';', \n",
    "                header=0, index_col = 0)\n",
    "data ['DATE_CASE'] = data ['DATE_CASE'].astype(str)\n",
    "data ['HAZARDS_CAT'] = data ['HAZARDS_CAT'].astype(str)\n",
    "data = data.sample(frac = 1)\n",
    "train  = data\n",
    "train"
   ]
  },
  {
   "cell_type": "markdown",
   "metadata": {
    "colab_type": "text",
    "id": "CcVuC0h-isUL"
   },
   "source": [
    "# Features"
   ]
  },
  {
   "cell_type": "code",
   "execution_count": 5,
   "metadata": {
    "colab": {},
    "colab_type": "code",
    "id": "w7xE6OPSisUM"
   },
   "outputs": [],
   "source": [
    "features = [0,1,6,8]\n",
    "target = [2]\n",
    "X = train.iloc[:,features]\n",
    "y = train.iloc[:,target]"
   ]
  },
  {
   "cell_type": "code",
   "execution_count": 6,
   "metadata": {
    "colab": {},
    "colab_type": "code",
    "id": "sdjBzZ8IisUQ",
    "outputId": "e02d2c00-605c-4d04-aa2d-60cc35dda7d6"
   },
   "outputs": [
    {
     "data": {
      "text/html": [
       "<div>\n",
       "<style scoped>\n",
       "    .dataframe tbody tr th:only-of-type {\n",
       "        vertical-align: middle;\n",
       "    }\n",
       "\n",
       "    .dataframe tbody tr th {\n",
       "        vertical-align: top;\n",
       "    }\n",
       "\n",
       "    .dataframe thead th {\n",
       "        text-align: right;\n",
       "    }\n",
       "</style>\n",
       "<table border=\"1\" class=\"dataframe\">\n",
       "  <thead>\n",
       "    <tr style=\"text-align: right;\">\n",
       "      <th></th>\n",
       "      <th>DATE_CASE</th>\n",
       "      <th>NOT_COUNTRY</th>\n",
       "      <th>DISTRIBUTION_STAT</th>\n",
       "      <th>COUNT_ORIGEN</th>\n",
       "    </tr>\n",
       "  </thead>\n",
       "  <tbody>\n",
       "    <tr>\n",
       "      <th>43622</th>\n",
       "      <td>2016-07-15</td>\n",
       "      <td>United Kingdom</td>\n",
       "      <td>product not (yet) placed on the market</td>\n",
       "      <td>China</td>\n",
       "    </tr>\n",
       "    <tr>\n",
       "      <th>54761</th>\n",
       "      <td>2015-06-12</td>\n",
       "      <td>Czech Republic</td>\n",
       "      <td>distribution to other member countries</td>\n",
       "      <td>India</td>\n",
       "    </tr>\n",
       "    <tr>\n",
       "      <th>107835</th>\n",
       "      <td>2009-07-03</td>\n",
       "      <td>France</td>\n",
       "      <td>distribution on the market (possible)</td>\n",
       "      <td>Brazil</td>\n",
       "    </tr>\n",
       "    <tr>\n",
       "      <th>18959</th>\n",
       "      <td>2018-05-23</td>\n",
       "      <td>France</td>\n",
       "      <td>distribution to other member countries</td>\n",
       "      <td>Taiwan</td>\n",
       "    </tr>\n",
       "    <tr>\n",
       "      <th>4807</th>\n",
       "      <td>2019-04-18</td>\n",
       "      <td>Belgium</td>\n",
       "      <td>distribution restricted to notifying country</td>\n",
       "      <td>Hong Kong</td>\n",
       "    </tr>\n",
       "    <tr>\n",
       "      <th>...</th>\n",
       "      <td>...</td>\n",
       "      <td>...</td>\n",
       "      <td>...</td>\n",
       "      <td>...</td>\n",
       "    </tr>\n",
       "    <tr>\n",
       "      <th>127197</th>\n",
       "      <td>2006-07-25</td>\n",
       "      <td>Greece</td>\n",
       "      <td>no distribution</td>\n",
       "      <td>Hong Kong</td>\n",
       "    </tr>\n",
       "    <tr>\n",
       "      <th>5020</th>\n",
       "      <td>2019-04-16</td>\n",
       "      <td>Spain</td>\n",
       "      <td>distribution to other member countries</td>\n",
       "      <td>Spain</td>\n",
       "    </tr>\n",
       "    <tr>\n",
       "      <th>3224</th>\n",
       "      <td>2019-06-14</td>\n",
       "      <td>Czech Republic</td>\n",
       "      <td>distribution to other member countries</td>\n",
       "      <td>Poland</td>\n",
       "    </tr>\n",
       "    <tr>\n",
       "      <th>24913</th>\n",
       "      <td>2018-01-11</td>\n",
       "      <td>Germany</td>\n",
       "      <td>distribution to other member countries</td>\n",
       "      <td>Spain</td>\n",
       "    </tr>\n",
       "    <tr>\n",
       "      <th>95300</th>\n",
       "      <td>2011-03-12</td>\n",
       "      <td>Germany</td>\n",
       "      <td>distribution to other member countries</td>\n",
       "      <td>Germany</td>\n",
       "    </tr>\n",
       "  </tbody>\n",
       "</table>\n",
       "<p>141529 rows × 4 columns</p>\n",
       "</div>"
      ],
      "text/plain": [
       "         DATE_CASE     NOT_COUNTRY  \\\n",
       "43622   2016-07-15  United Kingdom   \n",
       "54761   2015-06-12  Czech Republic   \n",
       "107835  2009-07-03          France   \n",
       "18959   2018-05-23          France   \n",
       "4807    2019-04-18         Belgium   \n",
       "...            ...             ...   \n",
       "127197  2006-07-25          Greece   \n",
       "5020    2019-04-16           Spain   \n",
       "3224    2019-06-14  Czech Republic   \n",
       "24913   2018-01-11         Germany   \n",
       "95300   2011-03-12         Germany   \n",
       "\n",
       "                                   DISTRIBUTION_STAT COUNT_ORIGEN  \n",
       "43622         product not (yet) placed on the market        China  \n",
       "54761         distribution to other member countries        India  \n",
       "107835         distribution on the market (possible)       Brazil  \n",
       "18959         distribution to other member countries       Taiwan  \n",
       "4807    distribution restricted to notifying country    Hong Kong  \n",
       "...                                              ...          ...  \n",
       "127197                               no distribution    Hong Kong  \n",
       "5020          distribution to other member countries        Spain  \n",
       "3224          distribution to other member countries       Poland  \n",
       "24913         distribution to other member countries        Spain  \n",
       "95300         distribution to other member countries      Germany  \n",
       "\n",
       "[141529 rows x 4 columns]"
      ]
     },
     "execution_count": 6,
     "metadata": {},
     "output_type": "execute_result"
    }
   ],
   "source": [
    "X "
   ]
  },
  {
   "cell_type": "code",
   "execution_count": 7,
   "metadata": {
    "colab": {},
    "colab_type": "code",
    "id": "cc-JO_VLisUV",
    "outputId": "cfd5716d-534c-4c26-b33e-31ca02790a98"
   },
   "outputs": [
    {
     "data": {
      "text/html": [
       "<div>\n",
       "<style scoped>\n",
       "    .dataframe tbody tr th:only-of-type {\n",
       "        vertical-align: middle;\n",
       "    }\n",
       "\n",
       "    .dataframe tbody tr th {\n",
       "        vertical-align: top;\n",
       "    }\n",
       "\n",
       "    .dataframe thead th {\n",
       "        text-align: right;\n",
       "    }\n",
       "</style>\n",
       "<table border=\"1\" class=\"dataframe\">\n",
       "  <thead>\n",
       "    <tr style=\"text-align: right;\">\n",
       "      <th></th>\n",
       "      <th>PROD_CAT</th>\n",
       "    </tr>\n",
       "  </thead>\n",
       "  <tbody>\n",
       "    <tr>\n",
       "      <th>43622</th>\n",
       "      <td>nuts, nut products and seeds</td>\n",
       "    </tr>\n",
       "    <tr>\n",
       "      <th>54761</th>\n",
       "      <td>dietetic foods, food supplements, fortified foods</td>\n",
       "    </tr>\n",
       "    <tr>\n",
       "      <th>107835</th>\n",
       "      <td>meat and meat products (other than poultry)</td>\n",
       "    </tr>\n",
       "    <tr>\n",
       "      <th>18959</th>\n",
       "      <td>dietetic foods, food supplements, fortified foods</td>\n",
       "    </tr>\n",
       "    <tr>\n",
       "      <th>4807</th>\n",
       "      <td>food contact materials</td>\n",
       "    </tr>\n",
       "    <tr>\n",
       "      <th>...</th>\n",
       "      <td>...</td>\n",
       "    </tr>\n",
       "    <tr>\n",
       "      <th>127197</th>\n",
       "      <td>food contact materials</td>\n",
       "    </tr>\n",
       "    <tr>\n",
       "      <th>5020</th>\n",
       "      <td>dietetic foods, food supplements, fortified foods</td>\n",
       "    </tr>\n",
       "    <tr>\n",
       "      <th>3224</th>\n",
       "      <td>poultry meat and poultry meat products</td>\n",
       "    </tr>\n",
       "    <tr>\n",
       "      <th>24913</th>\n",
       "      <td>dietetic foods, food supplements, fortified foods</td>\n",
       "    </tr>\n",
       "    <tr>\n",
       "      <th>95300</th>\n",
       "      <td>dietetic foods, food supplements, fortified foods</td>\n",
       "    </tr>\n",
       "  </tbody>\n",
       "</table>\n",
       "<p>141529 rows × 1 columns</p>\n",
       "</div>"
      ],
      "text/plain": [
       "                                                 PROD_CAT\n",
       "43622                        nuts, nut products and seeds\n",
       "54761   dietetic foods, food supplements, fortified foods\n",
       "107835        meat and meat products (other than poultry)\n",
       "18959   dietetic foods, food supplements, fortified foods\n",
       "4807                               food contact materials\n",
       "...                                                   ...\n",
       "127197                             food contact materials\n",
       "5020    dietetic foods, food supplements, fortified foods\n",
       "3224               poultry meat and poultry meat products\n",
       "24913   dietetic foods, food supplements, fortified foods\n",
       "95300   dietetic foods, food supplements, fortified foods\n",
       "\n",
       "[141529 rows x 1 columns]"
      ]
     },
     "execution_count": 7,
     "metadata": {},
     "output_type": "execute_result"
    }
   ],
   "source": [
    "y"
   ]
  },
  {
   "cell_type": "markdown",
   "metadata": {
    "colab_type": "text",
    "id": "NmfbhWg-isUb"
   },
   "source": [
    "# Split"
   ]
  },
  {
   "cell_type": "code",
   "execution_count": 8,
   "metadata": {
    "colab": {},
    "colab_type": "code",
    "id": "62tPem_SisUb"
   },
   "outputs": [],
   "source": [
    "X_train, X_test, y_train, y_test = train_test_split(X, y, test_size=0.2)"
   ]
  },
  {
   "cell_type": "markdown",
   "metadata": {
    "colab_type": "text",
    "id": "5LYs1zB_isUf"
   },
   "source": [
    "# Para probar codificaciones (opcional)"
   ]
  },
  {
   "cell_type": "code",
   "execution_count": 9,
   "metadata": {
    "ExecuteTime": {
     "end_time": "2019-05-29T14:17:04.402377Z",
     "start_time": "2019-05-29T14:17:04.285684Z"
    },
    "colab": {},
    "colab_type": "code",
    "id": "nBOikG7cisUg"
   },
   "outputs": [],
   "source": [
    "encX = OneHotEncoder(handle_unknown='ignore')\n",
    "#encX = OrdinalEncoder()\n",
    "#encX = FeatureHasher(n_features=25,input_type='string')\n",
    "#encX = MultiLabelBinarizer()\n",
    "encX.fit(X.values)\n",
    "X_one_hot = encX.transform(X.values)"
   ]
  },
  {
   "cell_type": "code",
   "execution_count": 10,
   "metadata": {
    "ExecuteTime": {
     "end_time": "2019-05-29T14:17:04.724124Z",
     "start_time": "2019-05-29T14:17:04.702189Z"
    },
    "colab": {},
    "colab_type": "code",
    "id": "K7waZAV2isUk"
   },
   "outputs": [],
   "source": [
    "X_train, X_test, y_train, y_test = train_test_split(X_one_hot, y, test_size=0.2)"
   ]
  },
  {
   "cell_type": "markdown",
   "metadata": {
    "colab_type": "text",
    "id": "AsNgTw5disUn"
   },
   "source": [
    "# Árboles de decisión"
   ]
  },
  {
   "cell_type": "code",
   "execution_count": 11,
   "metadata": {},
   "outputs": [
    {
     "name": "stdout",
     "output_type": "stream",
     "text": [
      "Fitting 3 folds for each of 12 candidates, totalling 36 fits\n"
     ]
    }
   ],
   "source": [
    "params ={'criterion' :['gini', 'entropy'], \n",
    "         'splitter' :['best', 'random'], \n",
    "         'max_features':['auto', 'sqrt', 'log2']\n",
    "        }\n",
    "grid_search_cv = GridSearchCV(tree.DecisionTreeClassifier(random_state=42), params, verbose=1, cv=3)\n",
    "clf = grid_search_cv.fit(X_train, y_train)"
   ]
  },
  {
   "cell_type": "code",
   "execution_count": 12,
   "metadata": {},
   "outputs": [
    {
     "data": {
      "text/plain": [
       "DecisionTreeClassifier(max_features='auto', random_state=42, splitter='random')"
      ]
     },
     "execution_count": 12,
     "metadata": {},
     "output_type": "execute_result"
    }
   ],
   "source": [
    "clf.best_estimator_"
   ]
  },
  {
   "cell_type": "code",
   "execution_count": 13,
   "metadata": {
    "ExecuteTime": {
     "end_time": "2019-05-29T14:17:17.755355Z",
     "start_time": "2019-05-29T14:17:17.742364Z"
    },
    "colab": {},
    "colab_type": "code",
    "id": "bdSRgyZ-isUr"
   },
   "outputs": [],
   "source": [
    "clf = tree.DecisionTreeClassifier(criterion='entropy', max_features='auto',\n",
    "                       random_state=42)\n",
    "clf = clf.fit(X_train,y_train)\n",
    "y_pred = clf.predict(X_test)"
   ]
  },
  {
   "cell_type": "code",
   "execution_count": 14,
   "metadata": {
    "ExecuteTime": {
     "end_time": "2019-05-29T14:17:18.942217Z",
     "start_time": "2019-05-29T14:17:18.622045Z"
    },
    "colab": {},
    "colab_type": "code",
    "id": "7PfBFVzIisUw",
    "outputId": "bb71120f-960d-4012-f89b-c4c8b9913bd0",
    "scrolled": true
   },
   "outputs": [
    {
     "name": "stdout",
     "output_type": "stream",
     "text": [
      "                                                   precision    recall  f1-score   support\n",
      "\n",
      "                              alcoholic beverages       0.89      0.86      0.88        86\n",
      "                  animal by-products - (obsolete)       0.80      0.57      0.67         7\n",
      "                    animal nutrition - (obsolete)       0.91      0.81      0.86       128\n",
      "            bivalve molluscs and products thereof       0.83      0.76      0.79       492\n",
      "                 cephalopods and products thereof       0.64      0.66      0.65       159\n",
      "                      cereals and bakery products       0.84      0.80      0.82      1348\n",
      "     cocoa and cocoa preparations, coffee and tea       0.81      0.88      0.84       615\n",
      "                                   compound feeds       0.86      0.88      0.87       186\n",
      "                                    confectionery       0.85      0.83      0.84       576\n",
      "                 crustaceans and products thereof       0.72      0.73      0.73       517\n",
      "dietetic foods, food supplements, fortified foods       0.94      0.95      0.94      3361\n",
      "                            eggs and egg products       0.90      0.89      0.90       314\n",
      "                                    fats and oils       0.89      0.91      0.90       424\n",
      "                                   feed additives       0.96      0.95      0.95       246\n",
      "     feed for food-producing animals - (obsolete)       0.87      0.76      0.81       119\n",
      "                                   feed materials       0.80      0.77      0.78       881\n",
      "                                 feed premixtures       0.99      0.89      0.94        93\n",
      "                           fish and fish products       0.82      0.84      0.83      2382\n",
      "                   food additives and flavourings       0.91      0.92      0.91       169\n",
      "                           food contact materials       0.89      0.90      0.90      2170\n",
      "                            fruits and vegetables       0.87      0.85      0.86      3794\n",
      "                                       gastropods       0.54      0.50      0.52        14\n",
      "                                 herbs and spices       0.78      0.86      0.82      1627\n",
      "                            honey and royal jelly       0.85      0.77      0.81       133\n",
      "                                ices and desserts       0.98      0.82      0.89        72\n",
      "      meat and meat products (other than poultry)       0.80      0.80      0.80      1411\n",
      "                           milk and milk products       0.91      0.89      0.90       721\n",
      "       molluscs and products thereof - (obsolete)       0.70      0.69      0.70        65\n",
      "                            natural mineral water       0.66      0.70      0.68        33\n",
      "                          non-alcoholic beverages       0.77      0.75      0.76       260\n",
      "                     nuts, nut products and seeds       0.82      0.83      0.82      2935\n",
      "                       other food product / mixed       0.87      0.84      0.86       422\n",
      "                                         pet food       0.81      0.76      0.78       422\n",
      "           poultry meat and poultry meat products       0.84      0.82      0.83      1078\n",
      "                       prepared dishes and snacks       0.88      0.85      0.87       515\n",
      "             soups, broths, sauces and condiments       0.90      0.84      0.87       486\n",
      "              water for human consumption (other)       0.50      0.68      0.58        25\n",
      "                                             wine       0.95      0.90      0.92        20\n",
      "\n",
      "                                         accuracy                           0.85     28306\n",
      "                                        macro avg       0.83      0.81      0.82     28306\n",
      "                                     weighted avg       0.85      0.85      0.85     28306\n",
      "\n"
     ]
    }
   ],
   "source": [
    "print(classification_report(y_test, y_pred, zero_division=0))"
   ]
  },
  {
   "cell_type": "code",
   "execution_count": 15,
   "metadata": {
    "ExecuteTime": {
     "end_time": "2019-05-29T14:17:19.488183Z",
     "start_time": "2019-05-29T14:17:19.453267Z"
    },
    "colab": {},
    "colab_type": "code",
    "id": "Ld5qOv9DisU0",
    "outputId": "15533da6-6f74-4789-8cc6-5c422ab07c1f"
   },
   "outputs": [
    {
     "data": {
      "text/plain": [
       "0.8505970465625663"
      ]
     },
     "execution_count": 15,
     "metadata": {},
     "output_type": "execute_result"
    }
   ],
   "source": [
    "clf.score(X_test, y_test)"
   ]
  },
  {
   "cell_type": "markdown",
   "metadata": {
    "colab_type": "text",
    "id": "LYuyuZYIisU3"
   },
   "source": [
    "# Random Forest"
   ]
  },
  {
   "cell_type": "code",
   "execution_count": 20,
   "metadata": {},
   "outputs": [
    {
     "name": "stdout",
     "output_type": "stream",
     "text": [
      "Fitting 3 folds for each of 288 candidates, totalling 864 fits\n"
     ]
    },
    {
     "name": "stderr",
     "output_type": "stream",
     "text": [
      "C:\\Users\\Enrique\\anaconda3\\lib\\site-packages\\sklearn\\model_selection\\_search.py:880: DataConversionWarning: A column-vector y was passed when a 1d array was expected. Please change the shape of y to (n_samples,), for example using ravel().\n",
      "  self.best_estimator_.fit(X, y, **fit_params)\n"
     ]
    },
    {
     "data": {
      "text/plain": [
       "{'bootstrap': True,\n",
       " 'max_depth': 110,\n",
       " 'max_features': 3,\n",
       " 'min_samples_leaf': 3,\n",
       " 'min_samples_split': 8,\n",
       " 'n_estimators': 200}"
      ]
     },
     "execution_count": 20,
     "metadata": {},
     "output_type": "execute_result"
    }
   ],
   "source": [
    "param_grid = {\n",
    "    'bootstrap': [True],\n",
    "    'max_depth': [80, 90, 100, 110],\n",
    "    'max_features': [2, 3],\n",
    "    'min_samples_leaf': [3, 4, 5],\n",
    "    'min_samples_split': [8, 10, 12],\n",
    "    'n_estimators': [100, 200, 300, 1000]\n",
    "}\n",
    "\n",
    "rf = RandomForestClassifier()\n",
    "\n",
    "grid_search = GridSearchCV(estimator = rf, param_grid = param_grid, \n",
    "                          cv = 3, n_jobs = -1, verbose = 2)\n",
    "\n",
    "grid_search.fit(X_train, y_train)\n",
    "grid_search.best_params_"
   ]
  },
  {
   "cell_type": "code",
   "execution_count": 25,
   "metadata": {
    "ExecuteTime": {
     "end_time": "2019-05-29T14:12:18.217291Z",
     "start_time": "2019-05-29T14:12:17.390502Z"
    },
    "colab": {},
    "colab_type": "code",
    "id": "gJ6HIWmKisU3"
   },
   "outputs": [
    {
     "name": "stderr",
     "output_type": "stream",
     "text": [
      "<ipython-input-25-50ed6adac834>:2: DataConversionWarning: A column-vector y was passed when a 1d array was expected. Please change the shape of y to (n_samples,), for example using ravel().\n",
      "  clf = clf.fit(X_train,y_train)\n"
     ]
    }
   ],
   "source": [
    "clf = RandomForestClassifier(bootstrap = True, max_depth = 110, max_features = 3, min_samples_leaf =  3, min_samples_split = 8, n_estimators =  200)\n",
    "clf = clf.fit(X_train,y_train)"
   ]
  },
  {
   "cell_type": "code",
   "execution_count": 26,
   "metadata": {
    "ExecuteTime": {
     "end_time": "2019-05-29T14:12:19.096888Z",
     "start_time": "2019-05-29T14:12:18.957294Z"
    },
    "colab": {},
    "colab_type": "code",
    "id": "P8_hOg03isU8"
   },
   "outputs": [],
   "source": [
    "y_pred = clf.predict(X_test)"
   ]
  },
  {
   "cell_type": "code",
   "execution_count": 27,
   "metadata": {
    "ExecuteTime": {
     "end_time": "2019-05-29T14:12:20.529121Z",
     "start_time": "2019-05-29T14:12:20.525132Z"
    },
    "colab": {},
    "colab_type": "code",
    "id": "3nEopJiYisU_",
    "outputId": "83275240-1d11-44d4-b8fc-077cc9307429"
   },
   "outputs": [
    {
     "data": {
      "text/plain": [
       "array(['fruits and vegetables', 'fruits and vegetables',\n",
       "       'fruits and vegetables', ...,\n",
       "       'dietetic foods, food supplements, fortified foods',\n",
       "       'dietetic foods, food supplements, fortified foods',\n",
       "       'dietetic foods, food supplements, fortified foods'], dtype=object)"
      ]
     },
     "execution_count": 27,
     "metadata": {},
     "output_type": "execute_result"
    }
   ],
   "source": [
    "y_pred"
   ]
  },
  {
   "cell_type": "code",
   "execution_count": 28,
   "metadata": {
    "ExecuteTime": {
     "end_time": "2019-05-29T14:12:24.109264Z",
     "start_time": "2019-05-29T14:12:23.789148Z"
    },
    "colab": {},
    "colab_type": "code",
    "id": "xjm5a8TtisVC",
    "outputId": "920e742b-029c-453c-af1c-5cac33f40ba3",
    "scrolled": true
   },
   "outputs": [
    {
     "name": "stderr",
     "output_type": "stream",
     "text": [
      "C:\\Users\\Enrique\\anaconda3\\lib\\site-packages\\sklearn\\metrics\\_classification.py:1248: UndefinedMetricWarning: Precision and F-score are ill-defined and being set to 0.0 in labels with no predicted samples. Use `zero_division` parameter to control this behavior.\n",
      "  _warn_prf(average, modifier, msg_start, len(result))\n"
     ]
    },
    {
     "name": "stdout",
     "output_type": "stream",
     "text": [
      "                                                   precision    recall  f1-score   support\n",
      "\n",
      "                              alcoholic beverages       0.00      0.00      0.00        86\n",
      "                  animal by-products - (obsolete)       0.00      0.00      0.00         7\n",
      "                    animal nutrition - (obsolete)       0.00      0.00      0.00       128\n",
      "            bivalve molluscs and products thereof       0.00      0.00      0.00       492\n",
      "                 cephalopods and products thereof       0.00      0.00      0.00       159\n",
      "                      cereals and bakery products       1.00      0.02      0.04      1348\n",
      "     cocoa and cocoa preparations, coffee and tea       0.00      0.00      0.00       615\n",
      "                                   compound feeds       0.00      0.00      0.00       186\n",
      "                                    confectionery       0.00      0.00      0.00       576\n",
      "                 crustaceans and products thereof       0.00      0.00      0.00       517\n",
      "dietetic foods, food supplements, fortified foods       0.46      0.88      0.60      3361\n",
      "                            eggs and egg products       1.00      0.28      0.44       314\n",
      "                                    fats and oils       1.00      0.03      0.06       424\n",
      "                                   feed additives       0.00      0.00      0.00       246\n",
      "     feed for food-producing animals - (obsolete)       0.00      0.00      0.00       119\n",
      "                                   feed materials       1.00      0.01      0.03       881\n",
      "                                 feed premixtures       0.00      0.00      0.00        93\n",
      "                           fish and fish products       0.77      0.19      0.31      2382\n",
      "                   food additives and flavourings       0.00      0.00      0.00       169\n",
      "                           food contact materials       0.88      0.34      0.49      2170\n",
      "                            fruits and vegetables       0.20      0.95      0.32      3794\n",
      "                                       gastropods       0.00      0.00      0.00        14\n",
      "                                 herbs and spices       1.00      0.06      0.12      1627\n",
      "                            honey and royal jelly       0.00      0.00      0.00       133\n",
      "                                ices and desserts       0.00      0.00      0.00        72\n",
      "      meat and meat products (other than poultry)       1.00      0.06      0.12      1411\n",
      "                           milk and milk products       1.00      0.02      0.04       721\n",
      "       molluscs and products thereof - (obsolete)       0.00      0.00      0.00        65\n",
      "                            natural mineral water       0.00      0.00      0.00        33\n",
      "                          non-alcoholic beverages       0.00      0.00      0.00       260\n",
      "                     nuts, nut products and seeds       0.68      0.40      0.50      2935\n",
      "                       other food product / mixed       1.00      0.07      0.12       422\n",
      "                                         pet food       0.00      0.00      0.00       422\n",
      "           poultry meat and poultry meat products       1.00      0.01      0.01      1078\n",
      "                       prepared dishes and snacks       0.00      0.00      0.00       515\n",
      "             soups, broths, sauces and condiments       0.00      0.00      0.00       486\n",
      "              water for human consumption (other)       0.00      0.00      0.00        25\n",
      "                                             wine       0.00      0.00      0.00        20\n",
      "\n",
      "                                         accuracy                           0.33     28306\n",
      "                                        macro avg       0.32      0.09      0.08     28306\n",
      "                                     weighted avg       0.57      0.33      0.26     28306\n",
      "\n"
     ]
    },
    {
     "name": "stderr",
     "output_type": "stream",
     "text": [
      "C:\\Users\\Enrique\\anaconda3\\lib\\site-packages\\sklearn\\metrics\\_classification.py:1248: UndefinedMetricWarning: Precision and F-score are ill-defined and being set to 0.0 in labels with no predicted samples. Use `zero_division` parameter to control this behavior.\n",
      "  _warn_prf(average, modifier, msg_start, len(result))\n",
      "C:\\Users\\Enrique\\anaconda3\\lib\\site-packages\\sklearn\\metrics\\_classification.py:1248: UndefinedMetricWarning: Precision and F-score are ill-defined and being set to 0.0 in labels with no predicted samples. Use `zero_division` parameter to control this behavior.\n",
      "  _warn_prf(average, modifier, msg_start, len(result))\n"
     ]
    }
   ],
   "source": [
    "print(classification_report(y_test,y_pred))"
   ]
  },
  {
   "cell_type": "code",
   "execution_count": 29,
   "metadata": {
    "ExecuteTime": {
     "end_time": "2019-05-29T14:12:24.809025Z",
     "start_time": "2019-05-29T14:12:24.637510Z"
    },
    "colab": {},
    "colab_type": "code",
    "id": "hsX0mIjHisVF",
    "outputId": "c3b21fff-10e0-43df-e5a2-552e582c8469"
   },
   "outputs": [
    {
     "data": {
      "text/plain": [
       "0.32816364021762173"
      ]
     },
     "execution_count": 29,
     "metadata": {},
     "output_type": "execute_result"
    }
   ],
   "source": [
    "clf.score(X_test, y_test)"
   ]
  },
  {
   "cell_type": "markdown",
   "metadata": {
    "colab_type": "text",
    "id": "GiRPkcSXisVI"
   },
   "source": [
    "# Gaussian naive Bayes clasiffier"
   ]
  },
  {
   "cell_type": "code",
   "execution_count": null,
   "metadata": {},
   "outputs": [],
   "source": [
    "params = {'var_smoothing': np.logspace(0,-9, num=1)}\n",
    "gs_NB =  GridSearchCV(GaussianNB(), params, verbose=1, cv=3)\n",
    "gs_NB.fit(X_train.toarray(), y_train)\n",
    "\n",
    "gs_NB.best_params_"
   ]
  },
  {
   "cell_type": "code",
   "execution_count": null,
   "metadata": {
    "ExecuteTime": {
     "end_time": "2019-04-24T08:48:46.053759Z",
     "start_time": "2019-04-24T08:48:45.336057Z"
    },
    "colab": {},
    "colab_type": "code",
    "id": "d5jkwqfMisVJ"
   },
   "outputs": [],
   "source": [
    "clf = GaussianNB(var_smoothing = 1.0)\n",
    "clf = clf.fit(X_train_one_hot.toarray(),y_train)"
   ]
  },
  {
   "cell_type": "code",
   "execution_count": null,
   "metadata": {
    "ExecuteTime": {
     "end_time": "2019-04-24T08:48:50.422701Z",
     "start_time": "2019-04-24T08:48:47.721717Z"
    },
    "colab": {},
    "colab_type": "code",
    "id": "sJmTeKfEisVM"
   },
   "outputs": [],
   "source": [
    "y_pred = clf.predict(X_test_one_hot.toarray())"
   ]
  },
  {
   "cell_type": "code",
   "execution_count": null,
   "metadata": {
    "ExecuteTime": {
     "end_time": "2019-04-24T08:48:52.025811Z",
     "start_time": "2019-04-24T08:48:51.577708Z"
    },
    "colab": {},
    "colab_type": "code",
    "id": "qEUaLmfoisVO",
    "outputId": "89a3ac81-8f6f-48f7-8b8a-2870c482641b",
    "scrolled": true
   },
   "outputs": [],
   "source": [
    "print(classification_report(y_test,y_pred))"
   ]
  },
  {
   "cell_type": "code",
   "execution_count": null,
   "metadata": {
    "ExecuteTime": {
     "end_time": "2019-04-24T08:48:57.326470Z",
     "start_time": "2019-04-24T08:48:54.504429Z"
    },
    "colab": {},
    "colab_type": "code",
    "id": "-6NYF3LyisVT",
    "outputId": "78de53f4-7230-4131-d27d-8326930214e1"
   },
   "outputs": [],
   "source": [
    "clf.score(X_test_one_hot.toarray(), y_test)"
   ]
  },
  {
   "cell_type": "markdown",
   "metadata": {
    "colab_type": "text",
    "id": "ht1hG2D-isVW"
   },
   "source": [
    "# Regresión logística"
   ]
  },
  {
   "cell_type": "code",
   "execution_count": null,
   "metadata": {},
   "outputs": [
    {
     "name": "stderr",
     "output_type": "stream",
     "text": [
      "C:\\Users\\Enrique\\anaconda3\\lib\\site-packages\\sklearn\\linear_model\\_logistic.py:763: ConvergenceWarning: lbfgs failed to converge (status=1):\n",
      "STOP: TOTAL NO. of ITERATIONS REACHED LIMIT.\n",
      "\n",
      "Increase the number of iterations (max_iter) or scale the data as shown in:\n",
      "    https://scikit-learn.org/stable/modules/preprocessing.html\n",
      "Please also refer to the documentation for alternative solver options:\n",
      "    https://scikit-learn.org/stable/modules/linear_model.html#logistic-regression\n",
      "  n_iter_i = _check_optimize_result(\n",
      "C:\\Users\\Enrique\\anaconda3\\lib\\site-packages\\sklearn\\linear_model\\_logistic.py:763: ConvergenceWarning: lbfgs failed to converge (status=1):\n",
      "STOP: TOTAL NO. of ITERATIONS REACHED LIMIT.\n",
      "\n",
      "Increase the number of iterations (max_iter) or scale the data as shown in:\n",
      "    https://scikit-learn.org/stable/modules/preprocessing.html\n",
      "Please also refer to the documentation for alternative solver options:\n",
      "    https://scikit-learn.org/stable/modules/linear_model.html#logistic-regression\n",
      "  n_iter_i = _check_optimize_result(\n",
      "C:\\Users\\Enrique\\anaconda3\\lib\\site-packages\\sklearn\\linear_model\\_logistic.py:763: ConvergenceWarning: lbfgs failed to converge (status=1):\n",
      "STOP: TOTAL NO. of ITERATIONS REACHED LIMIT.\n",
      "\n",
      "Increase the number of iterations (max_iter) or scale the data as shown in:\n",
      "    https://scikit-learn.org/stable/modules/preprocessing.html\n",
      "Please also refer to the documentation for alternative solver options:\n",
      "    https://scikit-learn.org/stable/modules/linear_model.html#logistic-regression\n",
      "  n_iter_i = _check_optimize_result(\n",
      "C:\\Users\\Enrique\\anaconda3\\lib\\site-packages\\sklearn\\linear_model\\_logistic.py:763: ConvergenceWarning: lbfgs failed to converge (status=1):\n",
      "STOP: TOTAL NO. of ITERATIONS REACHED LIMIT.\n",
      "\n",
      "Increase the number of iterations (max_iter) or scale the data as shown in:\n",
      "    https://scikit-learn.org/stable/modules/preprocessing.html\n",
      "Please also refer to the documentation for alternative solver options:\n",
      "    https://scikit-learn.org/stable/modules/linear_model.html#logistic-regression\n",
      "  n_iter_i = _check_optimize_result(\n",
      "C:\\Users\\Enrique\\anaconda3\\lib\\site-packages\\sklearn\\linear_model\\_logistic.py:763: ConvergenceWarning: lbfgs failed to converge (status=1):\n",
      "STOP: TOTAL NO. of ITERATIONS REACHED LIMIT.\n",
      "\n",
      "Increase the number of iterations (max_iter) or scale the data as shown in:\n",
      "    https://scikit-learn.org/stable/modules/preprocessing.html\n",
      "Please also refer to the documentation for alternative solver options:\n",
      "    https://scikit-learn.org/stable/modules/linear_model.html#logistic-regression\n",
      "  n_iter_i = _check_optimize_result(\n",
      "C:\\Users\\Enrique\\anaconda3\\lib\\site-packages\\sklearn\\linear_model\\_logistic.py:763: ConvergenceWarning: lbfgs failed to converge (status=1):\n",
      "STOP: TOTAL NO. of ITERATIONS REACHED LIMIT.\n",
      "\n",
      "Increase the number of iterations (max_iter) or scale the data as shown in:\n",
      "    https://scikit-learn.org/stable/modules/preprocessing.html\n",
      "Please also refer to the documentation for alternative solver options:\n",
      "    https://scikit-learn.org/stable/modules/linear_model.html#logistic-regression\n",
      "  n_iter_i = _check_optimize_result(\n",
      "C:\\Users\\Enrique\\anaconda3\\lib\\site-packages\\sklearn\\linear_model\\_logistic.py:763: ConvergenceWarning: lbfgs failed to converge (status=1):\n",
      "STOP: TOTAL NO. of ITERATIONS REACHED LIMIT.\n",
      "\n",
      "Increase the number of iterations (max_iter) or scale the data as shown in:\n",
      "    https://scikit-learn.org/stable/modules/preprocessing.html\n",
      "Please also refer to the documentation for alternative solver options:\n",
      "    https://scikit-learn.org/stable/modules/linear_model.html#logistic-regression\n",
      "  n_iter_i = _check_optimize_result(\n",
      "C:\\Users\\Enrique\\anaconda3\\lib\\site-packages\\sklearn\\linear_model\\_logistic.py:763: ConvergenceWarning: lbfgs failed to converge (status=1):\n",
      "STOP: TOTAL NO. of ITERATIONS REACHED LIMIT.\n",
      "\n",
      "Increase the number of iterations (max_iter) or scale the data as shown in:\n",
      "    https://scikit-learn.org/stable/modules/preprocessing.html\n",
      "Please also refer to the documentation for alternative solver options:\n",
      "    https://scikit-learn.org/stable/modules/linear_model.html#logistic-regression\n",
      "  n_iter_i = _check_optimize_result(\n",
      "C:\\Users\\Enrique\\anaconda3\\lib\\site-packages\\sklearn\\linear_model\\_logistic.py:763: ConvergenceWarning: lbfgs failed to converge (status=1):\n",
      "STOP: TOTAL NO. of ITERATIONS REACHED LIMIT.\n",
      "\n",
      "Increase the number of iterations (max_iter) or scale the data as shown in:\n",
      "    https://scikit-learn.org/stable/modules/preprocessing.html\n",
      "Please also refer to the documentation for alternative solver options:\n",
      "    https://scikit-learn.org/stable/modules/linear_model.html#logistic-regression\n",
      "  n_iter_i = _check_optimize_result(\n",
      "C:\\Users\\Enrique\\anaconda3\\lib\\site-packages\\sklearn\\linear_model\\_logistic.py:763: ConvergenceWarning: lbfgs failed to converge (status=1):\n",
      "STOP: TOTAL NO. of ITERATIONS REACHED LIMIT.\n",
      "\n",
      "Increase the number of iterations (max_iter) or scale the data as shown in:\n",
      "    https://scikit-learn.org/stable/modules/preprocessing.html\n",
      "Please also refer to the documentation for alternative solver options:\n",
      "    https://scikit-learn.org/stable/modules/linear_model.html#logistic-regression\n",
      "  n_iter_i = _check_optimize_result(\n",
      "C:\\Users\\Enrique\\anaconda3\\lib\\site-packages\\sklearn\\linear_model\\_logistic.py:763: ConvergenceWarning: lbfgs failed to converge (status=1):\n",
      "STOP: TOTAL NO. of ITERATIONS REACHED LIMIT.\n",
      "\n",
      "Increase the number of iterations (max_iter) or scale the data as shown in:\n",
      "    https://scikit-learn.org/stable/modules/preprocessing.html\n",
      "Please also refer to the documentation for alternative solver options:\n",
      "    https://scikit-learn.org/stable/modules/linear_model.html#logistic-regression\n",
      "  n_iter_i = _check_optimize_result(\n",
      "C:\\Users\\Enrique\\anaconda3\\lib\\site-packages\\sklearn\\linear_model\\_logistic.py:763: ConvergenceWarning: lbfgs failed to converge (status=1):\n",
      "STOP: TOTAL NO. of ITERATIONS REACHED LIMIT.\n",
      "\n",
      "Increase the number of iterations (max_iter) or scale the data as shown in:\n",
      "    https://scikit-learn.org/stable/modules/preprocessing.html\n",
      "Please also refer to the documentation for alternative solver options:\n",
      "    https://scikit-learn.org/stable/modules/linear_model.html#logistic-regression\n",
      "  n_iter_i = _check_optimize_result(\n",
      "C:\\Users\\Enrique\\anaconda3\\lib\\site-packages\\sklearn\\linear_model\\_logistic.py:763: ConvergenceWarning: lbfgs failed to converge (status=1):\n",
      "STOP: TOTAL NO. of ITERATIONS REACHED LIMIT.\n",
      "\n",
      "Increase the number of iterations (max_iter) or scale the data as shown in:\n",
      "    https://scikit-learn.org/stable/modules/preprocessing.html\n",
      "Please also refer to the documentation for alternative solver options:\n",
      "    https://scikit-learn.org/stable/modules/linear_model.html#logistic-regression\n",
      "  n_iter_i = _check_optimize_result(\n",
      "C:\\Users\\Enrique\\anaconda3\\lib\\site-packages\\sklearn\\linear_model\\_logistic.py:763: ConvergenceWarning: lbfgs failed to converge (status=1):\n",
      "STOP: TOTAL NO. of ITERATIONS REACHED LIMIT.\n",
      "\n",
      "Increase the number of iterations (max_iter) or scale the data as shown in:\n",
      "    https://scikit-learn.org/stable/modules/preprocessing.html\n",
      "Please also refer to the documentation for alternative solver options:\n",
      "    https://scikit-learn.org/stable/modules/linear_model.html#logistic-regression\n",
      "  n_iter_i = _check_optimize_result(\n",
      "C:\\Users\\Enrique\\anaconda3\\lib\\site-packages\\sklearn\\linear_model\\_logistic.py:763: ConvergenceWarning: lbfgs failed to converge (status=1):\n",
      "STOP: TOTAL NO. of ITERATIONS REACHED LIMIT.\n",
      "\n",
      "Increase the number of iterations (max_iter) or scale the data as shown in:\n",
      "    https://scikit-learn.org/stable/modules/preprocessing.html\n",
      "Please also refer to the documentation for alternative solver options:\n",
      "    https://scikit-learn.org/stable/modules/linear_model.html#logistic-regression\n",
      "  n_iter_i = _check_optimize_result(\n",
      "C:\\Users\\Enrique\\anaconda3\\lib\\site-packages\\sklearn\\linear_model\\_logistic.py:763: ConvergenceWarning: lbfgs failed to converge (status=1):\n",
      "STOP: TOTAL NO. of ITERATIONS REACHED LIMIT.\n",
      "\n",
      "Increase the number of iterations (max_iter) or scale the data as shown in:\n",
      "    https://scikit-learn.org/stable/modules/preprocessing.html\n",
      "Please also refer to the documentation for alternative solver options:\n",
      "    https://scikit-learn.org/stable/modules/linear_model.html#logistic-regression\n",
      "  n_iter_i = _check_optimize_result(\n",
      "C:\\Users\\Enrique\\anaconda3\\lib\\site-packages\\sklearn\\linear_model\\_logistic.py:763: ConvergenceWarning: lbfgs failed to converge (status=1):\n",
      "STOP: TOTAL NO. of ITERATIONS REACHED LIMIT.\n",
      "\n",
      "Increase the number of iterations (max_iter) or scale the data as shown in:\n",
      "    https://scikit-learn.org/stable/modules/preprocessing.html\n",
      "Please also refer to the documentation for alternative solver options:\n",
      "    https://scikit-learn.org/stable/modules/linear_model.html#logistic-regression\n",
      "  n_iter_i = _check_optimize_result(\n",
      "C:\\Users\\Enrique\\anaconda3\\lib\\site-packages\\sklearn\\linear_model\\_logistic.py:763: ConvergenceWarning: lbfgs failed to converge (status=1):\n",
      "STOP: TOTAL NO. of ITERATIONS REACHED LIMIT.\n",
      "\n",
      "Increase the number of iterations (max_iter) or scale the data as shown in:\n",
      "    https://scikit-learn.org/stable/modules/preprocessing.html\n",
      "Please also refer to the documentation for alternative solver options:\n",
      "    https://scikit-learn.org/stable/modules/linear_model.html#logistic-regression\n",
      "  n_iter_i = _check_optimize_result(\n",
      "C:\\Users\\Enrique\\anaconda3\\lib\\site-packages\\sklearn\\linear_model\\_logistic.py:763: ConvergenceWarning: lbfgs failed to converge (status=1):\n",
      "STOP: TOTAL NO. of ITERATIONS REACHED LIMIT.\n",
      "\n",
      "Increase the number of iterations (max_iter) or scale the data as shown in:\n",
      "    https://scikit-learn.org/stable/modules/preprocessing.html\n",
      "Please also refer to the documentation for alternative solver options:\n",
      "    https://scikit-learn.org/stable/modules/linear_model.html#logistic-regression\n",
      "  n_iter_i = _check_optimize_result(\n",
      "C:\\Users\\Enrique\\anaconda3\\lib\\site-packages\\sklearn\\linear_model\\_logistic.py:763: ConvergenceWarning: lbfgs failed to converge (status=1):\n",
      "STOP: TOTAL NO. of ITERATIONS REACHED LIMIT.\n",
      "\n",
      "Increase the number of iterations (max_iter) or scale the data as shown in:\n",
      "    https://scikit-learn.org/stable/modules/preprocessing.html\n",
      "Please also refer to the documentation for alternative solver options:\n",
      "    https://scikit-learn.org/stable/modules/linear_model.html#logistic-regression\n",
      "  n_iter_i = _check_optimize_result(\n",
      "C:\\Users\\Enrique\\anaconda3\\lib\\site-packages\\sklearn\\linear_model\\_logistic.py:763: ConvergenceWarning: lbfgs failed to converge (status=1):\n",
      "STOP: TOTAL NO. of ITERATIONS REACHED LIMIT.\n",
      "\n",
      "Increase the number of iterations (max_iter) or scale the data as shown in:\n",
      "    https://scikit-learn.org/stable/modules/preprocessing.html\n",
      "Please also refer to the documentation for alternative solver options:\n",
      "    https://scikit-learn.org/stable/modules/linear_model.html#logistic-regression\n",
      "  n_iter_i = _check_optimize_result(\n",
      "C:\\Users\\Enrique\\anaconda3\\lib\\site-packages\\sklearn\\linear_model\\_logistic.py:763: ConvergenceWarning: lbfgs failed to converge (status=1):\n",
      "STOP: TOTAL NO. of ITERATIONS REACHED LIMIT.\n",
      "\n",
      "Increase the number of iterations (max_iter) or scale the data as shown in:\n",
      "    https://scikit-learn.org/stable/modules/preprocessing.html\n",
      "Please also refer to the documentation for alternative solver options:\n",
      "    https://scikit-learn.org/stable/modules/linear_model.html#logistic-regression\n",
      "  n_iter_i = _check_optimize_result(\n",
      "C:\\Users\\Enrique\\anaconda3\\lib\\site-packages\\sklearn\\linear_model\\_logistic.py:763: ConvergenceWarning: lbfgs failed to converge (status=1):\n",
      "STOP: TOTAL NO. of ITERATIONS REACHED LIMIT.\n",
      "\n",
      "Increase the number of iterations (max_iter) or scale the data as shown in:\n",
      "    https://scikit-learn.org/stable/modules/preprocessing.html\n",
      "Please also refer to the documentation for alternative solver options:\n",
      "    https://scikit-learn.org/stable/modules/linear_model.html#logistic-regression\n",
      "  n_iter_i = _check_optimize_result(\n",
      "C:\\Users\\Enrique\\anaconda3\\lib\\site-packages\\sklearn\\linear_model\\_logistic.py:763: ConvergenceWarning: lbfgs failed to converge (status=1):\n",
      "STOP: TOTAL NO. of ITERATIONS REACHED LIMIT.\n",
      "\n",
      "Increase the number of iterations (max_iter) or scale the data as shown in:\n",
      "    https://scikit-learn.org/stable/modules/preprocessing.html\n",
      "Please also refer to the documentation for alternative solver options:\n",
      "    https://scikit-learn.org/stable/modules/linear_model.html#logistic-regression\n",
      "  n_iter_i = _check_optimize_result(\n",
      "C:\\Users\\Enrique\\anaconda3\\lib\\site-packages\\sklearn\\linear_model\\_logistic.py:763: ConvergenceWarning: lbfgs failed to converge (status=1):\n",
      "STOP: TOTAL NO. of ITERATIONS REACHED LIMIT.\n",
      "\n",
      "Increase the number of iterations (max_iter) or scale the data as shown in:\n",
      "    https://scikit-learn.org/stable/modules/preprocessing.html\n",
      "Please also refer to the documentation for alternative solver options:\n",
      "    https://scikit-learn.org/stable/modules/linear_model.html#logistic-regression\n",
      "  n_iter_i = _check_optimize_result(\n",
      "C:\\Users\\Enrique\\anaconda3\\lib\\site-packages\\sklearn\\linear_model\\_logistic.py:763: ConvergenceWarning: lbfgs failed to converge (status=1):\n",
      "STOP: TOTAL NO. of ITERATIONS REACHED LIMIT.\n",
      "\n",
      "Increase the number of iterations (max_iter) or scale the data as shown in:\n",
      "    https://scikit-learn.org/stable/modules/preprocessing.html\n",
      "Please also refer to the documentation for alternative solver options:\n",
      "    https://scikit-learn.org/stable/modules/linear_model.html#logistic-regression\n",
      "  n_iter_i = _check_optimize_result(\n"
     ]
    }
   ],
   "source": [
    "grid={\"C\":np.logspace(-3,3,7), \"penalty\":[\"l2\"]}\n",
    "clf = GridSearchCV(LogisticRegression(), grid, cv=10)\n",
    "clf.fit(X_train, np.ravel(y_train))"
   ]
  },
  {
   "cell_type": "code",
   "execution_count": null,
   "metadata": {},
   "outputs": [],
   "source": [
    "clf.best_params"
   ]
  },
  {
   "cell_type": "code",
   "execution_count": null,
   "metadata": {
    "ExecuteTime": {
     "end_time": "2019-05-29T14:18:09.034447Z",
     "start_time": "2019-05-29T14:17:42.365763Z"
    },
    "colab": {},
    "colab_type": "code",
    "id": "ERFV7NgLisVX"
   },
   "outputs": [],
   "source": [
    "clf = LogisticRegression()\n",
    "clf = clf.fit(X_train,y_train)"
   ]
  },
  {
   "cell_type": "code",
   "execution_count": null,
   "metadata": {
    "ExecuteTime": {
     "end_time": "2019-05-29T14:18:09.057357Z",
     "start_time": "2019-05-29T14:18:09.036414Z"
    },
    "colab": {},
    "colab_type": "code",
    "id": "B4hgnMp2isVa"
   },
   "outputs": [],
   "source": [
    "y_pred = clf.predict(X_test)"
   ]
  },
  {
   "cell_type": "code",
   "execution_count": null,
   "metadata": {
    "ExecuteTime": {
     "end_time": "2019-05-29T14:18:09.389469Z",
     "start_time": "2019-05-29T14:18:09.060349Z"
    },
    "colab": {},
    "colab_type": "code",
    "id": "k_mPk4dqisVd",
    "outputId": "ee5a340a-2f69-46f7-c2c3-be240e0cad15"
   },
   "outputs": [],
   "source": [
    "print(classification_report(y_test,y_pred))"
   ]
  },
  {
   "cell_type": "code",
   "execution_count": null,
   "metadata": {
    "ExecuteTime": {
     "end_time": "2019-05-29T14:18:09.428365Z",
     "start_time": "2019-05-29T14:18:09.390497Z"
    },
    "colab": {},
    "colab_type": "code",
    "id": "55L2gwPbisVh",
    "outputId": "bba47cf8-6419-4d4f-c083-839b83ca0ad2"
   },
   "outputs": [],
   "source": [
    "clf.score(X_test, y_test)"
   ]
  },
  {
   "cell_type": "markdown",
   "metadata": {
    "colab_type": "text",
    "id": "xaQhsM6qisVj"
   },
   "source": [
    "# Support vector machine"
   ]
  },
  {
   "cell_type": "code",
   "execution_count": null,
   "metadata": {
    "ExecuteTime": {
     "end_time": "2019-05-21T10:49:27.308632Z",
     "start_time": "2019-05-21T10:39:04.167258Z"
    },
    "colab": {},
    "colab_type": "code",
    "id": "Plh9xoVyisVj"
   },
   "outputs": [],
   "source": [
    "clf = svm.SVC()\n",
    "clf = clf.fit(X_train_one_hot,y_train)\n",
    "y_pred = clf.predict(X_test_one_hot)\n",
    "print(classification_report(y_test,y_pred))"
   ]
  },
  {
   "cell_type": "code",
   "execution_count": null,
   "metadata": {
    "ExecuteTime": {
     "end_time": "2019-05-21T10:52:09.655716Z",
     "start_time": "2019-05-21T10:49:27.308632Z"
    },
    "colab": {},
    "colab_type": "code",
    "id": "UDf4VXGkisVm"
   },
   "outputs": [],
   "source": [
    "clf.score(X_test_one_hot, y_test)"
   ]
  },
  {
   "cell_type": "markdown",
   "metadata": {
    "colab_type": "text",
    "id": "9YFnh1NmisVo"
   },
   "source": [
    "# Boosted Trees"
   ]
  },
  {
   "cell_type": "code",
   "execution_count": null,
   "metadata": {
    "ExecuteTime": {
     "end_time": "2019-05-21T10:57:28.233875Z",
     "start_time": "2019-05-21T10:54:53.079659Z"
    },
    "colab": {},
    "colab_type": "code",
    "id": "b5FvzrKaisVp",
    "outputId": "31806fe8-5ef9-492a-dccb-2565db02a53a",
    "scrolled": true
   },
   "outputs": [],
   "source": [
    "clf = GradientBoostingClassifier()\n",
    "clf = clf.fit(X_train_one_hot,y_train)\n",
    "y_pred = clf.predict(X_test_one_hot)\n",
    "print(classification_report(y_test,y_pred))"
   ]
  },
  {
   "cell_type": "code",
   "execution_count": null,
   "metadata": {
    "ExecuteTime": {
     "end_time": "2019-05-21T10:57:29.141447Z",
     "start_time": "2019-05-21T10:57:28.234898Z"
    },
    "colab": {},
    "colab_type": "code",
    "id": "f1hssRFlisVs",
    "outputId": "6c2a91d4-35d1-4adc-db09-ff305c58b8ba"
   },
   "outputs": [],
   "source": [
    "clf.score(X_test_one_hot, y_test)"
   ]
  },
  {
   "cell_type": "code",
   "execution_count": null,
   "metadata": {
    "ExecuteTime": {
     "end_time": "2019-05-21T10:32:25.762313Z",
     "start_time": "2019-05-21T10:32:11.447315Z"
    },
    "colab": {},
    "colab_type": "code",
    "id": "qr2xZEjHisVx",
    "outputId": "7711cc1c-e56b-4f03-cbbf-53cb0becd70e",
    "scrolled": true
   },
   "outputs": [],
   "source": [
    "clf = AdaBoostClassifier()\n",
    "clf = clf.fit(X_train_one_hot,y_train)\n",
    "y_pred = clf.predict(X_test_one_hot)\n",
    "print(classification_report(y_test,y_pred))"
   ]
  },
  {
   "cell_type": "code",
   "execution_count": null,
   "metadata": {
    "ExecuteTime": {
     "end_time": "2019-05-21T10:32:26.756654Z",
     "start_time": "2019-05-21T10:32:25.764308Z"
    },
    "colab": {},
    "colab_type": "code",
    "id": "L-mqg9-yisV0",
    "outputId": "c24163b3-6e8f-40ad-ce3d-28b569e25413"
   },
   "outputs": [],
   "source": [
    "clf.score(X_test_one_hot, y_test)"
   ]
  },
  {
   "cell_type": "markdown",
   "metadata": {
    "colab_type": "text",
    "id": "BKnWF9WrisV3"
   },
   "source": [
    "# Nearest centroid"
   ]
  },
  {
   "cell_type": "code",
   "execution_count": null,
   "metadata": {
    "ExecuteTime": {
     "end_time": "2019-04-24T09:08:16.746824Z",
     "start_time": "2019-04-24T09:08:16.312788Z"
    },
    "colab": {},
    "colab_type": "code",
    "id": "evlfpeLcisV4",
    "outputId": "c1e5e2f0-cba4-4a43-8625-ba3ebeab041f",
    "scrolled": true
   },
   "outputs": [],
   "source": [
    "clf = NearestCentroid()\n",
    "clf = clf.fit(X_train_one_hot,y_train)\n",
    "y_pred = clf.predict(X_test_one_hot)\n",
    "print(classification_report(y_test,y_pred))"
   ]
  },
  {
   "cell_type": "code",
   "execution_count": null,
   "metadata": {
    "ExecuteTime": {
     "end_time": "2019-04-24T09:08:18.469337Z",
     "start_time": "2019-04-24T09:08:18.408501Z"
    },
    "colab": {},
    "colab_type": "code",
    "id": "vpaGkoIcisV7",
    "outputId": "f0c81516-0e9d-4390-82e3-b45e56ad0563"
   },
   "outputs": [],
   "source": [
    "clf.score(X_test_one_hot, y_test)"
   ]
  },
  {
   "cell_type": "markdown",
   "metadata": {
    "colab_type": "text",
    "id": "7QfrRy84isV_"
   },
   "source": [
    "# Nearest neighbor"
   ]
  },
  {
   "cell_type": "code",
   "execution_count": null,
   "metadata": {
    "ExecuteTime": {
     "end_time": "2019-04-01T10:20:35.880699Z",
     "start_time": "2019-04-01T10:19:34.213349Z"
    },
    "colab": {},
    "colab_type": "code",
    "id": "3-N-dcRsisV_",
    "outputId": "bc6f75eb-cec9-4dbe-ede7-f4dd8e298886",
    "scrolled": true
   },
   "outputs": [],
   "source": [
    "clf = neighbors.KNeighborsClassifier()\n",
    "clf = clf.fit(X_train_one_hot,y_train)\n",
    "y_pred = clf.predict(X_test_one_hot)\n",
    "print(classification_report(y_test,y_pred))"
   ]
  },
  {
   "cell_type": "code",
   "execution_count": null,
   "metadata": {
    "ExecuteTime": {
     "end_time": "2019-04-01T10:21:46.078806Z",
     "start_time": "2019-04-01T10:20:45.397515Z"
    },
    "colab": {},
    "colab_type": "code",
    "id": "1o0BnRO4isWB",
    "outputId": "20a983cd-e31f-43f2-9b07-3e4fa10be1a7"
   },
   "outputs": [],
   "source": [
    "clf.score(X_test_one_hot, y_test)"
   ]
  },
  {
   "cell_type": "markdown",
   "metadata": {
    "colab_type": "text",
    "id": "8qAIFZa4isWD"
   },
   "source": [
    "# MLP sin embeddings"
   ]
  },
  {
   "cell_type": "code",
   "execution_count": null,
   "metadata": {
    "ExecuteTime": {
     "end_time": "2019-03-08T12:41:51.654502Z",
     "start_time": "2019-03-08T12:41:51.628544Z"
    },
    "colab": {},
    "colab_type": "code",
    "id": "6fBjCvu7isWE",
    "outputId": "a4a9476c-710b-40c9-fe6f-2faf577deb3c"
   },
   "outputs": [],
   "source": [
    "le = preprocessing.LabelEncoder()\n",
    "le.fit(y_train.values)\n",
    "Y_train_label = le.transform(y_train.values) \n",
    "y_train_one_hot = to_categorical(Y_train_label)\n",
    "display(y_train_one_hot)"
   ]
  },
  {
   "cell_type": "code",
   "execution_count": null,
   "metadata": {
    "ExecuteTime": {
     "end_time": "2019-03-08T12:41:52.253488Z",
     "start_time": "2019-03-08T12:41:52.244506Z"
    },
    "colab": {},
    "colab_type": "code",
    "id": "ECbZ8AYEisWH",
    "outputId": "45543cf6-bd9b-4a1f-b763-ec577bc36a18"
   },
   "outputs": [],
   "source": [
    "y_test_label = le.transform(y_test.values) \n",
    "y_test_one_hot = to_categorical(y_test_label)\n",
    "display(y_test_one_hot)"
   ]
  },
  {
   "cell_type": "code",
   "execution_count": null,
   "metadata": {
    "colab": {},
    "colab_type": "code",
    "id": "dQgT0j0fisWX"
   },
   "outputs": [],
   "source": [
    "model = Sequential() \n",
    "model.add(Dense(300, activation='relu', input_dim=351))\n",
    "model.add(Dense(200, activation='relu'))\n",
    "model.add(Dense(100, activation='relu'))\n",
    "model.add(Dense(38)) \n",
    "optimizer = RMSprop(lr=0.001)\n",
    "model.compile(optimizer=optimizer, loss='mean_squared_error', metrics= ['accuracy'])"
   ]
  },
  {
   "cell_type": "code",
   "execution_count": null,
   "metadata": {
    "colab": {},
    "colab_type": "code",
    "id": "sHepGhskisWZ",
    "outputId": "4a0b37b8-b4e5-4458-904e-4952b923a63b",
    "scrolled": true
   },
   "outputs": [],
   "source": [
    "hist = model.fit(X_train_one_hot,y_train_one_hot, epochs=70,validation_data=(X_test_one_hot, y_test_one_hot), batch_size=120)"
   ]
  },
  {
   "cell_type": "code",
   "execution_count": null,
   "metadata": {
    "colab": {},
    "colab_type": "code",
    "id": "ENb3inRrisWa",
    "outputId": "557810df-9ccd-4ee1-a98a-dd1469566bca"
   },
   "outputs": [],
   "source": [
    "plt.plot(hist.history['loss']) \n",
    "plt.plot(hist.history['val_loss']) \n",
    "plt.show()\n",
    "\n",
    "\n",
    "plt.plot(hist.history['acc']) \n",
    "plt.plot(hist.history['val_acc']) \n",
    "plt.show()"
   ]
  },
  {
   "cell_type": "markdown",
   "metadata": {
    "colab_type": "text",
    "id": "q6jtSqYDisWd"
   },
   "source": [
    "## Pruebas grid search"
   ]
  },
  {
   "cell_type": "code",
   "execution_count": null,
   "metadata": {
    "ExecuteTime": {
     "end_time": "2019-03-08T12:42:27.693405Z",
     "start_time": "2019-03-08T12:42:27.684429Z"
    },
    "colab": {},
    "colab_type": "code",
    "id": "PQ9lT0B-isWd",
    "outputId": "c3e368f8-2fc5-4048-b41d-4631ec791fc5"
   },
   "outputs": [],
   "source": [
    "def create_model(neuronas1 = 25,neuronas2 =25,neuronas3 = 25):\n",
    "           \n",
    "    model = Sequential()\n",
    "    activation='relu'\n",
    "    init_mode='normal'\n",
    "    dropout_rate=0.0\n",
    "    weight_constraint=0\n",
    "    model.add(Dense(neuronas1, activation=activation, input_dim=374,kernel_initializer=init_mode))\n",
    "    model.add(Dense(neuronas2, activation=activation,kernel_initializer=init_mode))\n",
    "    model.add(Dense(neuronas3, activation=activation,kernel_initializer=init_mode))\n",
    "    model.add(Dropout(dropout_rate))\n",
    "    model.add(Dense(38,kernel_initializer=init_mode))\n",
    "    optimizer = RMSprop(lr=0.001)\n",
    "    model.compile(loss='mean_squared_error', optimizer=optimizer, metrics=['accuracy'])\n",
    "    return model\n",
    "\n",
    "seed = 7\n",
    "np.random.seed(seed)\n",
    "model = KerasClassifier(build_fn=create_model, verbose=1,batch_size=120, epochs = 70)"
   ]
  },
  {
   "cell_type": "code",
   "execution_count": null,
   "metadata": {
    "ExecuteTime": {
     "end_time": "2019-03-08T12:42:37.692157Z",
     "start_time": "2019-03-08T12:42:29.453482Z"
    },
    "colab": {},
    "colab_type": "code",
    "id": "O9mnViBgisWh",
    "outputId": "46a914ef-ca18-42ea-f88a-3e48a4c498be",
    "scrolled": true
   },
   "outputs": [],
   "source": [
    "neuronas1 = [25,75,100,150,200,250,300,350,400]\n",
    "neuronas2 = [25,75,100,150,200,250,300,350,400]\n",
    "neuronas3 = [25,75,100,150,200,250,300,350,400]\n",
    "param_grid = dict(neuronas1=neuronas1,neuronas2=neuronas2,neuronas3=neuronas3)\n",
    "grid = GridSearchCV(estimator=model, param_grid=param_grid, n_jobs=1, cv=2)\n",
    "grid_result = grid.fit(X_train_one_hot, y_train_one_hot)"
   ]
  },
  {
   "cell_type": "code",
   "execution_count": null,
   "metadata": {
    "colab": {},
    "colab_type": "code",
    "id": "Te1l0Wu7isWk",
    "outputId": "e33d2a0c-ae0a-4dfc-b968-1d5a56531009"
   },
   "outputs": [],
   "source": [
    "print(\"Best: %f using %s\" % (grid_result.best_score_, grid_result.best_params_))\n",
    "means = grid_result.cv_results_['mean_test_score']\n",
    "stds = grid_result.cv_results_['std_test_score']\n",
    "params = grid_result.cv_results_['params']\n",
    "for mean, stdev, param in zip(means, stds, params):\n",
    "    print(\"%f (%f) with: %r\" % (mean, stdev, param))"
   ]
  }
 ],
 "metadata": {
  "colab": {
   "collapsed_sections": [],
   "name": "Algoritmos_ML.ipynb",
   "provenance": []
  },
  "kernelspec": {
   "display_name": "Python 3",
   "language": "python",
   "name": "python3"
  },
  "language_info": {
   "codemirror_mode": {
    "name": "ipython",
    "version": 3
   },
   "file_extension": ".py",
   "mimetype": "text/x-python",
   "name": "python",
   "nbconvert_exporter": "python",
   "pygments_lexer": "ipython3",
   "version": "3.8.5"
  },
  "toc": {
   "base_numbering": 1,
   "nav_menu": {},
   "number_sections": true,
   "sideBar": true,
   "skip_h1_title": false,
   "title_cell": "Table of Contents",
   "title_sidebar": "Contents",
   "toc_cell": false,
   "toc_position": {
    "height": "calc(100% - 180px)",
    "left": "10px",
    "top": "150px",
    "width": "384px"
   },
   "toc_section_display": true,
   "toc_window_display": true
  }
 },
 "nbformat": 4,
 "nbformat_minor": 4
}
