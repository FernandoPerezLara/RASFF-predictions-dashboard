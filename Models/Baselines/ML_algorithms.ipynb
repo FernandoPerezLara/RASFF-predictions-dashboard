{
 "cells": [
  {
   "cell_type": "markdown",
   "source": [
    "# Liberías"
   ],
   "metadata": {
    "colab_type": "text",
    "id": "wwzADB6wisTx"
   }
  },
  {
   "cell_type": "code",
   "execution_count": 16,
   "source": [
    "\r\n",
    "import numpy as np\r\n",
    "import pandas as pd\r\n",
    "\r\n",
    "import sklearn\r\n",
    "from sklearn.preprocessing import OneHotEncoder\r\n",
    "from sklearn import preprocessing\r\n",
    "from sklearn.metrics import classification_report,recall_score, precision_score\r\n",
    "from sklearn.naive_bayes import GaussianNB\r\n",
    "from sklearn import tree,svm,neighbors\r\n",
    "from sklearn.linear_model import LogisticRegression\r\n",
    "from sklearn.ensemble import GradientBoostingClassifier,AdaBoostClassifier, RandomForestClassifier\r\n",
    "from sklearn.neighbors import NearestCentroid\r\n",
    "from sklearn.neural_network import MLPClassifier\r\n",
    "from sklearn.model_selection import train_test_split\r\n",
    "from sklearn.model_selection import GridSearchCV \r\n",
    "from sklearn.preprocessing import OrdinalEncoder\r\n",
    "\r\n",
    "import matplotlib.pyplot as plt\r\n",
    "\r\n",
    "from keras.layers import Dense, Dropout\r\n",
    "from keras.models import Sequential\r\n",
    "from tensorflow.keras.utils import to_categorical\r\n",
    "from keras.wrappers.scikit_learn import KerasClassifier\r\n",
    "from tensorflow.keras.optimizers import RMSprop\r\n",
    "from keras.constraints import maxnorm"
   ],
   "outputs": [],
   "metadata": {
    "ExecuteTime": {
     "start_time": "2019-11-04T11:49:16.279Z"
    },
    "colab": {},
    "colab_type": "code",
    "id": "WCl0Xu_pisTz"
   }
  },
  {
   "cell_type": "code",
   "execution_count": 3,
   "source": [
    "import tensorflow as tf\r\n",
    "# from tf.compat.v1.keras.backend.set_session import set_session\r\n",
    "config = tf.compat.v1.ConfigProto()\r\n",
    "config.gpu_options.per_process_gpu_memory_fraction = 0.4\r\n",
    "config.gpu_options.allow_growth = True  # dynamically grow the memory used on the GPU\r\n",
    "config.log_device_placement = True  # to log device placement (on which device the operation ran)\r\n",
    "                                    # (nothing gets printed in Jupyter, only if you run it standalone)\r\n",
    "sess = tf.compat.v1.Session(config=config)\r\n",
    "tf.compat.v1.keras.backend.set_session(sess)"
   ],
   "outputs": [
    {
     "output_type": "stream",
     "name": "stdout",
     "text": [
      "Device mapping: no known devices.\n"
     ]
    }
   ],
   "metadata": {
    "ExecuteTime": {
     "end_time": "2019-05-29T14:11:05.343488Z",
     "start_time": "2019-05-29T14:11:05.309579Z"
    },
    "colab": {},
    "colab_type": "code",
    "id": "4QzV7-PZisT7",
    "outputId": "ddd508d4-0dfd-451b-dd2d-3672870ab80d"
   }
  },
  {
   "cell_type": "markdown",
   "source": [
    "# Lectura de datos"
   ],
   "metadata": {
    "colab_type": "text",
    "id": "s5Nk6jIMisUE"
   }
  },
  {
   "cell_type": "code",
   "execution_count": 17,
   "source": [
    "data = pd.read_csv('../../splited_RASFF_DATA_16092019.csv', sep=';', \r\n",
    "                header=0, index_col = 0)\r\n",
    "data ['DATE_CASE'] = data ['DATE_CASE'].astype(str)\r\n",
    "data ['HAZARDS_CAT'] = data ['HAZARDS_CAT'].astype(str)\r\n",
    "data = data.sample(frac = 1)\r\n",
    "train  = data\r\n",
    "train"
   ],
   "outputs": [
    {
     "output_type": "execute_result",
     "data": {
      "text/html": [
       "<div>\n",
       "<style scoped>\n",
       "    .dataframe tbody tr th:only-of-type {\n",
       "        vertical-align: middle;\n",
       "    }\n",
       "\n",
       "    .dataframe tbody tr th {\n",
       "        vertical-align: top;\n",
       "    }\n",
       "\n",
       "    .dataframe thead th {\n",
       "        text-align: right;\n",
       "    }\n",
       "</style>\n",
       "<table border=\"1\" class=\"dataframe\">\n",
       "  <thead>\n",
       "    <tr style=\"text-align: right;\">\n",
       "      <th></th>\n",
       "      <th>DATE_CASE</th>\n",
       "      <th>NOT_COUNTRY</th>\n",
       "      <th>PROD_CAT</th>\n",
       "      <th>TYPE</th>\n",
       "      <th>RISK_DECISION</th>\n",
       "      <th>ACTION_TAKEN</th>\n",
       "      <th>DISTRIBUTION_STAT</th>\n",
       "      <th>HAZARDS_CAT</th>\n",
       "      <th>COUNT_ORIGEN</th>\n",
       "      <th>COUNT_DESTIN</th>\n",
       "      <th>COUNT_CONCERN</th>\n",
       "    </tr>\n",
       "  </thead>\n",
       "  <tbody>\n",
       "    <tr>\n",
       "      <th>54239</th>\n",
       "      <td>2015-07-08</td>\n",
       "      <td>Germany</td>\n",
       "      <td>cocoa and cocoa preparations, coffee and tea</td>\n",
       "      <td>food</td>\n",
       "      <td>undecided</td>\n",
       "      <td>withdrawal from the market</td>\n",
       "      <td>distribution to other member countries</td>\n",
       "      <td>pesticide residues</td>\n",
       "      <td>China</td>\n",
       "      <td>Denmark</td>\n",
       "      <td></td>\n",
       "    </tr>\n",
       "    <tr>\n",
       "      <th>76451</th>\n",
       "      <td>2013-03-18</td>\n",
       "      <td>Germany</td>\n",
       "      <td>nuts, nut products and seeds</td>\n",
       "      <td>food</td>\n",
       "      <td>serious</td>\n",
       "      <td>return to consignor</td>\n",
       "      <td>distribution restricted to notifying country</td>\n",
       "      <td>mycotoxins</td>\n",
       "      <td>India</td>\n",
       "      <td>Germany</td>\n",
       "      <td></td>\n",
       "    </tr>\n",
       "    <tr>\n",
       "      <th>118057</th>\n",
       "      <td>2008-01-29</td>\n",
       "      <td>United Kingdom</td>\n",
       "      <td>fruits and vegetables</td>\n",
       "      <td>food</td>\n",
       "      <td>undecided</td>\n",
       "      <td>(obsolete)</td>\n",
       "      <td>no distribution</td>\n",
       "      <td>pathogenic micro-organisms</td>\n",
       "      <td>United States</td>\n",
       "      <td>Turks and Caicos Islands</td>\n",
       "      <td>United Kingdom</td>\n",
       "    </tr>\n",
       "    <tr>\n",
       "      <th>41546</th>\n",
       "      <td>2016-10-06</td>\n",
       "      <td>Belgium</td>\n",
       "      <td>compound feeds</td>\n",
       "      <td>feed</td>\n",
       "      <td>serious</td>\n",
       "      <td>withdrawal from the market</td>\n",
       "      <td>distribution to other member countries</td>\n",
       "      <td>environmental pollutants</td>\n",
       "      <td>Italy</td>\n",
       "      <td>Russia</td>\n",
       "      <td>Commission Services</td>\n",
       "    </tr>\n",
       "    <tr>\n",
       "      <th>95400</th>\n",
       "      <td>2011-03-07</td>\n",
       "      <td>Spain</td>\n",
       "      <td>herbs and spices</td>\n",
       "      <td>food</td>\n",
       "      <td>undecided</td>\n",
       "      <td>re-dispatch</td>\n",
       "      <td>no distribution</td>\n",
       "      <td>organoleptic aspects</td>\n",
       "      <td>Pakistan</td>\n",
       "      <td></td>\n",
       "      <td>Spain</td>\n",
       "    </tr>\n",
       "    <tr>\n",
       "      <th>...</th>\n",
       "      <td>...</td>\n",
       "      <td>...</td>\n",
       "      <td>...</td>\n",
       "      <td>...</td>\n",
       "      <td>...</td>\n",
       "      <td>...</td>\n",
       "      <td>...</td>\n",
       "      <td>...</td>\n",
       "      <td>...</td>\n",
       "      <td>...</td>\n",
       "      <td>...</td>\n",
       "    </tr>\n",
       "    <tr>\n",
       "      <th>125534</th>\n",
       "      <td>2006-10-31</td>\n",
       "      <td>United Kingdom</td>\n",
       "      <td>fish and fish products</td>\n",
       "      <td>food</td>\n",
       "      <td>undecided</td>\n",
       "      <td>destruction</td>\n",
       "      <td>no distribution</td>\n",
       "      <td>environmental pollutants</td>\n",
       "      <td>Thailand</td>\n",
       "      <td></td>\n",
       "      <td>United Kingdom</td>\n",
       "    </tr>\n",
       "    <tr>\n",
       "      <th>66669</th>\n",
       "      <td>2014-04-09</td>\n",
       "      <td>France</td>\n",
       "      <td>dietetic foods, food supplements, fortified foods</td>\n",
       "      <td>food</td>\n",
       "      <td>serious</td>\n",
       "      <td>recall from consumers</td>\n",
       "      <td>distribution to other member countries</td>\n",
       "      <td>composition</td>\n",
       "      <td>United States</td>\n",
       "      <td>Ireland</td>\n",
       "      <td>Commission Services</td>\n",
       "    </tr>\n",
       "    <tr>\n",
       "      <th>140887</th>\n",
       "      <td>2004-02-12</td>\n",
       "      <td>Italy</td>\n",
       "      <td>nuts, nut products and seeds</td>\n",
       "      <td>food</td>\n",
       "      <td>undecided</td>\n",
       "      <td>re-dispatch</td>\n",
       "      <td></td>\n",
       "      <td>mycotoxins</td>\n",
       "      <td>Iran</td>\n",
       "      <td></td>\n",
       "      <td>Italy</td>\n",
       "    </tr>\n",
       "    <tr>\n",
       "      <th>112541</th>\n",
       "      <td>2008-12-01</td>\n",
       "      <td>United Kingdom</td>\n",
       "      <td>crustaceans and products thereof</td>\n",
       "      <td>food</td>\n",
       "      <td>undecided</td>\n",
       "      <td>withdrawal from the market</td>\n",
       "      <td>distribution restricted to notifying country</td>\n",
       "      <td>residues of veterinary medicinal products</td>\n",
       "      <td>India</td>\n",
       "      <td>United Kingdom</td>\n",
       "      <td>Spain</td>\n",
       "    </tr>\n",
       "    <tr>\n",
       "      <th>139481</th>\n",
       "      <td>2004-06-18</td>\n",
       "      <td>United Kingdom</td>\n",
       "      <td>nuts, nut products and seeds</td>\n",
       "      <td>food</td>\n",
       "      <td>undecided</td>\n",
       "      <td>(obsolete)</td>\n",
       "      <td></td>\n",
       "      <td>mycotoxins</td>\n",
       "      <td>India</td>\n",
       "      <td></td>\n",
       "      <td>Spain</td>\n",
       "    </tr>\n",
       "  </tbody>\n",
       "</table>\n",
       "<p>141529 rows × 11 columns</p>\n",
       "</div>"
      ],
      "text/plain": [
       "         DATE_CASE     NOT_COUNTRY  \\\n",
       "54239   2015-07-08         Germany   \n",
       "76451   2013-03-18         Germany   \n",
       "118057  2008-01-29  United Kingdom   \n",
       "41546   2016-10-06         Belgium   \n",
       "95400   2011-03-07           Spain   \n",
       "...            ...             ...   \n",
       "125534  2006-10-31  United Kingdom   \n",
       "66669   2014-04-09          France   \n",
       "140887  2004-02-12           Italy   \n",
       "112541  2008-12-01  United Kingdom   \n",
       "139481  2004-06-18  United Kingdom   \n",
       "\n",
       "                                                 PROD_CAT  TYPE RISK_DECISION  \\\n",
       "54239        cocoa and cocoa preparations, coffee and tea  food     undecided   \n",
       "76451                        nuts, nut products and seeds  food       serious   \n",
       "118057                              fruits and vegetables  food     undecided   \n",
       "41546                                      compound feeds  feed       serious   \n",
       "95400                                    herbs and spices  food     undecided   \n",
       "...                                                   ...   ...           ...   \n",
       "125534                             fish and fish products  food     undecided   \n",
       "66669   dietetic foods, food supplements, fortified foods  food       serious   \n",
       "140887                       nuts, nut products and seeds  food     undecided   \n",
       "112541                   crustaceans and products thereof  food     undecided   \n",
       "139481                       nuts, nut products and seeds  food     undecided   \n",
       "\n",
       "                      ACTION_TAKEN  \\\n",
       "54239   withdrawal from the market   \n",
       "76451          return to consignor   \n",
       "118057                  (obsolete)   \n",
       "41546   withdrawal from the market   \n",
       "95400                  re-dispatch   \n",
       "...                            ...   \n",
       "125534                 destruction   \n",
       "66669        recall from consumers   \n",
       "140887                 re-dispatch   \n",
       "112541  withdrawal from the market   \n",
       "139481                  (obsolete)   \n",
       "\n",
       "                                   DISTRIBUTION_STAT  \\\n",
       "54239         distribution to other member countries   \n",
       "76451   distribution restricted to notifying country   \n",
       "118057                               no distribution   \n",
       "41546         distribution to other member countries   \n",
       "95400                                no distribution   \n",
       "...                                              ...   \n",
       "125534                               no distribution   \n",
       "66669         distribution to other member countries   \n",
       "140887                                                 \n",
       "112541  distribution restricted to notifying country   \n",
       "139481                                                 \n",
       "\n",
       "                                      HAZARDS_CAT   COUNT_ORIGEN  \\\n",
       "54239                          pesticide residues          China   \n",
       "76451                                  mycotoxins          India   \n",
       "118057                 pathogenic micro-organisms  United States   \n",
       "41546                    environmental pollutants          Italy   \n",
       "95400                        organoleptic aspects       Pakistan   \n",
       "...                                           ...            ...   \n",
       "125534                   environmental pollutants       Thailand   \n",
       "66669                                 composition  United States   \n",
       "140887                                 mycotoxins           Iran   \n",
       "112541  residues of veterinary medicinal products          India   \n",
       "139481                                 mycotoxins          India   \n",
       "\n",
       "                    COUNT_DESTIN        COUNT_CONCERN  \n",
       "54239                    Denmark                       \n",
       "76451                    Germany                       \n",
       "118057  Turks and Caicos Islands       United Kingdom  \n",
       "41546                     Russia  Commission Services  \n",
       "95400                                           Spain  \n",
       "...                          ...                  ...  \n",
       "125534                                 United Kingdom  \n",
       "66669                    Ireland  Commission Services  \n",
       "140887                                          Italy  \n",
       "112541            United Kingdom                Spain  \n",
       "139481                                          Spain  \n",
       "\n",
       "[141529 rows x 11 columns]"
      ]
     },
     "metadata": {},
     "execution_count": 17
    }
   ],
   "metadata": {
    "colab": {},
    "colab_type": "code",
    "id": "2CpE6W3wisUE",
    "outputId": "dd999a59-6d39-48e8-b5fa-c938cbd89c9e"
   }
  },
  {
   "cell_type": "markdown",
   "source": [
    "# Features"
   ],
   "metadata": {
    "colab_type": "text",
    "id": "CcVuC0h-isUL"
   }
  },
  {
   "cell_type": "code",
   "execution_count": 18,
   "source": [
    "features = [0,1,6,8]\r\n",
    "target = [2]\r\n",
    "X = train.iloc[:,features]\r\n",
    "y = train.iloc[:,target]"
   ],
   "outputs": [],
   "metadata": {
    "colab": {},
    "colab_type": "code",
    "id": "w7xE6OPSisUM"
   }
  },
  {
   "cell_type": "code",
   "execution_count": 19,
   "source": [
    "X "
   ],
   "outputs": [
    {
     "output_type": "execute_result",
     "data": {
      "text/html": [
       "<div>\n",
       "<style scoped>\n",
       "    .dataframe tbody tr th:only-of-type {\n",
       "        vertical-align: middle;\n",
       "    }\n",
       "\n",
       "    .dataframe tbody tr th {\n",
       "        vertical-align: top;\n",
       "    }\n",
       "\n",
       "    .dataframe thead th {\n",
       "        text-align: right;\n",
       "    }\n",
       "</style>\n",
       "<table border=\"1\" class=\"dataframe\">\n",
       "  <thead>\n",
       "    <tr style=\"text-align: right;\">\n",
       "      <th></th>\n",
       "      <th>DATE_CASE</th>\n",
       "      <th>NOT_COUNTRY</th>\n",
       "      <th>DISTRIBUTION_STAT</th>\n",
       "      <th>COUNT_ORIGEN</th>\n",
       "    </tr>\n",
       "  </thead>\n",
       "  <tbody>\n",
       "    <tr>\n",
       "      <th>54239</th>\n",
       "      <td>2015-07-08</td>\n",
       "      <td>Germany</td>\n",
       "      <td>distribution to other member countries</td>\n",
       "      <td>China</td>\n",
       "    </tr>\n",
       "    <tr>\n",
       "      <th>76451</th>\n",
       "      <td>2013-03-18</td>\n",
       "      <td>Germany</td>\n",
       "      <td>distribution restricted to notifying country</td>\n",
       "      <td>India</td>\n",
       "    </tr>\n",
       "    <tr>\n",
       "      <th>118057</th>\n",
       "      <td>2008-01-29</td>\n",
       "      <td>United Kingdom</td>\n",
       "      <td>no distribution</td>\n",
       "      <td>United States</td>\n",
       "    </tr>\n",
       "    <tr>\n",
       "      <th>41546</th>\n",
       "      <td>2016-10-06</td>\n",
       "      <td>Belgium</td>\n",
       "      <td>distribution to other member countries</td>\n",
       "      <td>Italy</td>\n",
       "    </tr>\n",
       "    <tr>\n",
       "      <th>95400</th>\n",
       "      <td>2011-03-07</td>\n",
       "      <td>Spain</td>\n",
       "      <td>no distribution</td>\n",
       "      <td>Pakistan</td>\n",
       "    </tr>\n",
       "    <tr>\n",
       "      <th>...</th>\n",
       "      <td>...</td>\n",
       "      <td>...</td>\n",
       "      <td>...</td>\n",
       "      <td>...</td>\n",
       "    </tr>\n",
       "    <tr>\n",
       "      <th>125534</th>\n",
       "      <td>2006-10-31</td>\n",
       "      <td>United Kingdom</td>\n",
       "      <td>no distribution</td>\n",
       "      <td>Thailand</td>\n",
       "    </tr>\n",
       "    <tr>\n",
       "      <th>66669</th>\n",
       "      <td>2014-04-09</td>\n",
       "      <td>France</td>\n",
       "      <td>distribution to other member countries</td>\n",
       "      <td>United States</td>\n",
       "    </tr>\n",
       "    <tr>\n",
       "      <th>140887</th>\n",
       "      <td>2004-02-12</td>\n",
       "      <td>Italy</td>\n",
       "      <td></td>\n",
       "      <td>Iran</td>\n",
       "    </tr>\n",
       "    <tr>\n",
       "      <th>112541</th>\n",
       "      <td>2008-12-01</td>\n",
       "      <td>United Kingdom</td>\n",
       "      <td>distribution restricted to notifying country</td>\n",
       "      <td>India</td>\n",
       "    </tr>\n",
       "    <tr>\n",
       "      <th>139481</th>\n",
       "      <td>2004-06-18</td>\n",
       "      <td>United Kingdom</td>\n",
       "      <td></td>\n",
       "      <td>India</td>\n",
       "    </tr>\n",
       "  </tbody>\n",
       "</table>\n",
       "<p>141529 rows × 4 columns</p>\n",
       "</div>"
      ],
      "text/plain": [
       "         DATE_CASE     NOT_COUNTRY  \\\n",
       "54239   2015-07-08         Germany   \n",
       "76451   2013-03-18         Germany   \n",
       "118057  2008-01-29  United Kingdom   \n",
       "41546   2016-10-06         Belgium   \n",
       "95400   2011-03-07           Spain   \n",
       "...            ...             ...   \n",
       "125534  2006-10-31  United Kingdom   \n",
       "66669   2014-04-09          France   \n",
       "140887  2004-02-12           Italy   \n",
       "112541  2008-12-01  United Kingdom   \n",
       "139481  2004-06-18  United Kingdom   \n",
       "\n",
       "                                   DISTRIBUTION_STAT   COUNT_ORIGEN  \n",
       "54239         distribution to other member countries          China  \n",
       "76451   distribution restricted to notifying country          India  \n",
       "118057                               no distribution  United States  \n",
       "41546         distribution to other member countries          Italy  \n",
       "95400                                no distribution       Pakistan  \n",
       "...                                              ...            ...  \n",
       "125534                               no distribution       Thailand  \n",
       "66669         distribution to other member countries  United States  \n",
       "140887                                                         Iran  \n",
       "112541  distribution restricted to notifying country          India  \n",
       "139481                                                        India  \n",
       "\n",
       "[141529 rows x 4 columns]"
      ]
     },
     "metadata": {},
     "execution_count": 19
    }
   ],
   "metadata": {
    "colab": {},
    "colab_type": "code",
    "id": "sdjBzZ8IisUQ",
    "outputId": "e02d2c00-605c-4d04-aa2d-60cc35dda7d6"
   }
  },
  {
   "cell_type": "code",
   "execution_count": 20,
   "source": [
    "y"
   ],
   "outputs": [
    {
     "output_type": "execute_result",
     "data": {
      "text/html": [
       "<div>\n",
       "<style scoped>\n",
       "    .dataframe tbody tr th:only-of-type {\n",
       "        vertical-align: middle;\n",
       "    }\n",
       "\n",
       "    .dataframe tbody tr th {\n",
       "        vertical-align: top;\n",
       "    }\n",
       "\n",
       "    .dataframe thead th {\n",
       "        text-align: right;\n",
       "    }\n",
       "</style>\n",
       "<table border=\"1\" class=\"dataframe\">\n",
       "  <thead>\n",
       "    <tr style=\"text-align: right;\">\n",
       "      <th></th>\n",
       "      <th>PROD_CAT</th>\n",
       "    </tr>\n",
       "  </thead>\n",
       "  <tbody>\n",
       "    <tr>\n",
       "      <th>54239</th>\n",
       "      <td>cocoa and cocoa preparations, coffee and tea</td>\n",
       "    </tr>\n",
       "    <tr>\n",
       "      <th>76451</th>\n",
       "      <td>nuts, nut products and seeds</td>\n",
       "    </tr>\n",
       "    <tr>\n",
       "      <th>118057</th>\n",
       "      <td>fruits and vegetables</td>\n",
       "    </tr>\n",
       "    <tr>\n",
       "      <th>41546</th>\n",
       "      <td>compound feeds</td>\n",
       "    </tr>\n",
       "    <tr>\n",
       "      <th>95400</th>\n",
       "      <td>herbs and spices</td>\n",
       "    </tr>\n",
       "    <tr>\n",
       "      <th>...</th>\n",
       "      <td>...</td>\n",
       "    </tr>\n",
       "    <tr>\n",
       "      <th>125534</th>\n",
       "      <td>fish and fish products</td>\n",
       "    </tr>\n",
       "    <tr>\n",
       "      <th>66669</th>\n",
       "      <td>dietetic foods, food supplements, fortified foods</td>\n",
       "    </tr>\n",
       "    <tr>\n",
       "      <th>140887</th>\n",
       "      <td>nuts, nut products and seeds</td>\n",
       "    </tr>\n",
       "    <tr>\n",
       "      <th>112541</th>\n",
       "      <td>crustaceans and products thereof</td>\n",
       "    </tr>\n",
       "    <tr>\n",
       "      <th>139481</th>\n",
       "      <td>nuts, nut products and seeds</td>\n",
       "    </tr>\n",
       "  </tbody>\n",
       "</table>\n",
       "<p>141529 rows × 1 columns</p>\n",
       "</div>"
      ],
      "text/plain": [
       "                                                 PROD_CAT\n",
       "54239        cocoa and cocoa preparations, coffee and tea\n",
       "76451                        nuts, nut products and seeds\n",
       "118057                              fruits and vegetables\n",
       "41546                                      compound feeds\n",
       "95400                                    herbs and spices\n",
       "...                                                   ...\n",
       "125534                             fish and fish products\n",
       "66669   dietetic foods, food supplements, fortified foods\n",
       "140887                       nuts, nut products and seeds\n",
       "112541                   crustaceans and products thereof\n",
       "139481                       nuts, nut products and seeds\n",
       "\n",
       "[141529 rows x 1 columns]"
      ]
     },
     "metadata": {},
     "execution_count": 20
    }
   ],
   "metadata": {
    "colab": {},
    "colab_type": "code",
    "id": "cc-JO_VLisUV",
    "outputId": "cfd5716d-534c-4c26-b33e-31ca02790a98"
   }
  },
  {
   "cell_type": "markdown",
   "source": [
    "# Split"
   ],
   "metadata": {
    "colab_type": "text",
    "id": "NmfbhWg-isUb"
   }
  },
  {
   "cell_type": "code",
   "execution_count": 21,
   "source": [
    "X_train, X_test, y_train, y_test = train_test_split(X, y, test_size=0.2)"
   ],
   "outputs": [],
   "metadata": {
    "colab": {},
    "colab_type": "code",
    "id": "62tPem_SisUb"
   }
  },
  {
   "cell_type": "markdown",
   "source": [
    "# Para probar codificaciones (opcional)"
   ],
   "metadata": {
    "colab_type": "text",
    "id": "5LYs1zB_isUf"
   }
  },
  {
   "cell_type": "code",
   "execution_count": 22,
   "source": [
    "encX = OneHotEncoder(handle_unknown='ignore')\r\n",
    "#encX = OrdinalEncoder()\r\n",
    "#encX = FeatureHasher(n_features=25,input_type='string')\r\n",
    "#encX = MultiLabelBinarizer()\r\n",
    "encX.fit(X.values)\r\n",
    "X_one_hot = encX.transform(X.values)"
   ],
   "outputs": [],
   "metadata": {
    "ExecuteTime": {
     "end_time": "2019-05-29T14:17:04.402377Z",
     "start_time": "2019-05-29T14:17:04.285684Z"
    },
    "colab": {},
    "colab_type": "code",
    "id": "nBOikG7cisUg"
   }
  },
  {
   "cell_type": "code",
   "execution_count": 23,
   "source": [
    "X_train, X_test, y_train, y_test = train_test_split(X_one_hot, y, test_size=0.2)"
   ],
   "outputs": [],
   "metadata": {
    "ExecuteTime": {
     "end_time": "2019-05-29T14:17:04.724124Z",
     "start_time": "2019-05-29T14:17:04.702189Z"
    },
    "colab": {},
    "colab_type": "code",
    "id": "K7waZAV2isUk"
   }
  },
  {
   "cell_type": "markdown",
   "source": [
    "# Árboles de decisión"
   ],
   "metadata": {
    "colab_type": "text",
    "id": "AsNgTw5disUn"
   }
  },
  {
   "cell_type": "code",
   "execution_count": null,
   "source": [
    "params ={'criterion' :['gini', 'entropy'], \r\n",
    "         'splitter' :['best', 'random'], \r\n",
    "         'max_features':['auto', 'sqrt', 'log2']\r\n",
    "        }\r\n",
    "grid_search_cv = GridSearchCV(tree.DecisionTreeClassifier(random_state=42), params, verbose=1, cv=3)\r\n",
    "clf = grid_search_cv.fit(X_train, y_train)"
   ],
   "outputs": [],
   "metadata": {}
  },
  {
   "cell_type": "code",
   "execution_count": 12,
   "source": [
    "clf.best_estimator_"
   ],
   "outputs": [
    {
     "output_type": "execute_result",
     "data": {
      "text/plain": [
       "DecisionTreeClassifier(max_features='auto', random_state=42, splitter='random')"
      ]
     },
     "metadata": {},
     "execution_count": 12
    }
   ],
   "metadata": {}
  },
  {
   "cell_type": "code",
   "execution_count": 13,
   "source": [
    "clf = tree.DecisionTreeClassifier(criterion='entropy', max_features='auto',\r\n",
    "                       random_state=42)\r\n",
    "clf = clf.fit(X_train,y_train)\r\n",
    "y_pred = clf.predict(X_test)"
   ],
   "outputs": [],
   "metadata": {
    "ExecuteTime": {
     "end_time": "2019-05-29T14:17:17.755355Z",
     "start_time": "2019-05-29T14:17:17.742364Z"
    },
    "colab": {},
    "colab_type": "code",
    "id": "bdSRgyZ-isUr"
   }
  },
  {
   "cell_type": "code",
   "execution_count": 14,
   "source": [
    "print(classification_report(y_test, y_pred, zero_division=0))"
   ],
   "outputs": [
    {
     "output_type": "stream",
     "name": "stdout",
     "text": [
      "                                                   precision    recall  f1-score   support\n",
      "\n",
      "                              alcoholic beverages       0.89      0.86      0.88        86\n",
      "                  animal by-products - (obsolete)       0.80      0.57      0.67         7\n",
      "                    animal nutrition - (obsolete)       0.91      0.81      0.86       128\n",
      "            bivalve molluscs and products thereof       0.83      0.76      0.79       492\n",
      "                 cephalopods and products thereof       0.64      0.66      0.65       159\n",
      "                      cereals and bakery products       0.84      0.80      0.82      1348\n",
      "     cocoa and cocoa preparations, coffee and tea       0.81      0.88      0.84       615\n",
      "                                   compound feeds       0.86      0.88      0.87       186\n",
      "                                    confectionery       0.85      0.83      0.84       576\n",
      "                 crustaceans and products thereof       0.72      0.73      0.73       517\n",
      "dietetic foods, food supplements, fortified foods       0.94      0.95      0.94      3361\n",
      "                            eggs and egg products       0.90      0.89      0.90       314\n",
      "                                    fats and oils       0.89      0.91      0.90       424\n",
      "                                   feed additives       0.96      0.95      0.95       246\n",
      "     feed for food-producing animals - (obsolete)       0.87      0.76      0.81       119\n",
      "                                   feed materials       0.80      0.77      0.78       881\n",
      "                                 feed premixtures       0.99      0.89      0.94        93\n",
      "                           fish and fish products       0.82      0.84      0.83      2382\n",
      "                   food additives and flavourings       0.91      0.92      0.91       169\n",
      "                           food contact materials       0.89      0.90      0.90      2170\n",
      "                            fruits and vegetables       0.87      0.85      0.86      3794\n",
      "                                       gastropods       0.54      0.50      0.52        14\n",
      "                                 herbs and spices       0.78      0.86      0.82      1627\n",
      "                            honey and royal jelly       0.85      0.77      0.81       133\n",
      "                                ices and desserts       0.98      0.82      0.89        72\n",
      "      meat and meat products (other than poultry)       0.80      0.80      0.80      1411\n",
      "                           milk and milk products       0.91      0.89      0.90       721\n",
      "       molluscs and products thereof - (obsolete)       0.70      0.69      0.70        65\n",
      "                            natural mineral water       0.66      0.70      0.68        33\n",
      "                          non-alcoholic beverages       0.77      0.75      0.76       260\n",
      "                     nuts, nut products and seeds       0.82      0.83      0.82      2935\n",
      "                       other food product / mixed       0.87      0.84      0.86       422\n",
      "                                         pet food       0.81      0.76      0.78       422\n",
      "           poultry meat and poultry meat products       0.84      0.82      0.83      1078\n",
      "                       prepared dishes and snacks       0.88      0.85      0.87       515\n",
      "             soups, broths, sauces and condiments       0.90      0.84      0.87       486\n",
      "              water for human consumption (other)       0.50      0.68      0.58        25\n",
      "                                             wine       0.95      0.90      0.92        20\n",
      "\n",
      "                                         accuracy                           0.85     28306\n",
      "                                        macro avg       0.83      0.81      0.82     28306\n",
      "                                     weighted avg       0.85      0.85      0.85     28306\n",
      "\n"
     ]
    }
   ],
   "metadata": {
    "ExecuteTime": {
     "end_time": "2019-05-29T14:17:18.942217Z",
     "start_time": "2019-05-29T14:17:18.622045Z"
    },
    "colab": {},
    "colab_type": "code",
    "id": "7PfBFVzIisUw",
    "outputId": "bb71120f-960d-4012-f89b-c4c8b9913bd0",
    "scrolled": true
   }
  },
  {
   "cell_type": "code",
   "execution_count": 15,
   "source": [
    "print(\"specificity: \",clf.score(X_test, y_test))\r\n",
    "\r\n",
    "print(\"sensitivity: \",recall_score(y_test, y_pred, average='macro'))\r\n",
    "\r\n",
    "print(\"precision: \",precision_score(y_test, y_pred, average='macro'))\r\n",
    "\r\n",
    "confusion_matrix(y_test, y_pred)"
   ],
   "outputs": [
    {
     "output_type": "execute_result",
     "data": {
      "text/plain": [
       "0.8505970465625663"
      ]
     },
     "metadata": {},
     "execution_count": 15
    }
   ],
   "metadata": {
    "ExecuteTime": {
     "end_time": "2019-05-29T14:17:19.488183Z",
     "start_time": "2019-05-29T14:17:19.453267Z"
    },
    "colab": {},
    "colab_type": "code",
    "id": "Ld5qOv9DisU0",
    "outputId": "15533da6-6f74-4789-8cc6-5c422ab07c1f"
   }
  },
  {
   "cell_type": "markdown",
   "source": [
    "# Random Forest"
   ],
   "metadata": {
    "colab_type": "text",
    "id": "LYuyuZYIisU3"
   }
  },
  {
   "cell_type": "code",
   "execution_count": 2,
   "source": [
    "param_grid = {\r\n",
    "    'bootstrap': [True],\r\n",
    "    'max_depth': [80, 90, 100, 110],\r\n",
    "    'max_features': [2, 3],\r\n",
    "    'min_samples_leaf': [3, 4, 5],\r\n",
    "    'min_samples_split': [8, 10, 12],\r\n",
    "    'n_estimators': [100, 200, 300, 1000]}\r\n",
    "\r\n",
    "rf = RandomForestClassifier()\r\n",
    "\r\n",
    "grid_search = GridSearchCV(estimator = rf, param_grid = param_grid, \r\n",
    "                          cv = 3, n_jobs = -1, verbose = 2)\r\n",
    "grid_search.fit(X_train, y_train)\r\n",
    "grid_search.best_params_"
   ],
   "outputs": [
    {
     "output_type": "error",
     "ename": "NameError",
     "evalue": "name 'RandomForestClassifier' is not defined",
     "traceback": [
      "\u001b[1;31m---------------------------------------------------------------------------\u001b[0m",
      "\u001b[1;31mNameError\u001b[0m                                 Traceback (most recent call last)",
      "\u001b[1;32m<ipython-input-2-9cf21de3fb00>\u001b[0m in \u001b[0;36m<module>\u001b[1;34m\u001b[0m\n\u001b[0;32m      7\u001b[0m     'n_estimators': [100, 200, 300, 1000]}\n\u001b[0;32m      8\u001b[0m \u001b[1;33m\u001b[0m\u001b[0m\n\u001b[1;32m----> 9\u001b[1;33m \u001b[0mrf\u001b[0m \u001b[1;33m=\u001b[0m \u001b[0mRandomForestClassifier\u001b[0m\u001b[1;33m(\u001b[0m\u001b[1;33m)\u001b[0m\u001b[1;33m\u001b[0m\u001b[1;33m\u001b[0m\u001b[0m\n\u001b[0m\u001b[0;32m     10\u001b[0m \u001b[1;33m\u001b[0m\u001b[0m\n\u001b[0;32m     11\u001b[0m grid_search = GridSearchCV(estimator = rf, param_grid = param_grid, \n",
      "\u001b[1;31mNameError\u001b[0m: name 'RandomForestClassifier' is not defined"
     ]
    }
   ],
   "metadata": {}
  },
  {
   "cell_type": "code",
   "execution_count": 25,
   "source": [
    "clf = RandomForestClassifier(bootstrap = True, max_depth = 110, max_features = 3, min_samples_leaf =  3, min_samples_split = 8, n_estimators =  200)\r\n",
    "clf = clf.fit(X_train,y_train)"
   ],
   "outputs": [
    {
     "output_type": "stream",
     "name": "stderr",
     "text": [
      "<ipython-input-25-50ed6adac834>:2: DataConversionWarning: A column-vector y was passed when a 1d array was expected. Please change the shape of y to (n_samples,), for example using ravel().\n",
      "  clf = clf.fit(X_train,y_train)\n"
     ]
    }
   ],
   "metadata": {
    "ExecuteTime": {
     "end_time": "2019-05-29T14:12:18.217291Z",
     "start_time": "2019-05-29T14:12:17.390502Z"
    },
    "colab": {},
    "colab_type": "code",
    "id": "gJ6HIWmKisU3"
   }
  },
  {
   "cell_type": "code",
   "execution_count": 26,
   "source": [
    "y_pred = clf.predict(X_test)"
   ],
   "outputs": [],
   "metadata": {
    "ExecuteTime": {
     "end_time": "2019-05-29T14:12:19.096888Z",
     "start_time": "2019-05-29T14:12:18.957294Z"
    },
    "colab": {},
    "colab_type": "code",
    "id": "P8_hOg03isU8"
   }
  },
  {
   "cell_type": "code",
   "execution_count": 27,
   "source": [
    "y_pred"
   ],
   "outputs": [
    {
     "output_type": "execute_result",
     "data": {
      "text/plain": [
       "array(['fruits and vegetables', 'fruits and vegetables',\n",
       "       'fruits and vegetables', ...,\n",
       "       'dietetic foods, food supplements, fortified foods',\n",
       "       'dietetic foods, food supplements, fortified foods',\n",
       "       'dietetic foods, food supplements, fortified foods'], dtype=object)"
      ]
     },
     "metadata": {},
     "execution_count": 27
    }
   ],
   "metadata": {
    "ExecuteTime": {
     "end_time": "2019-05-29T14:12:20.529121Z",
     "start_time": "2019-05-29T14:12:20.525132Z"
    },
    "colab": {},
    "colab_type": "code",
    "id": "3nEopJiYisU_",
    "outputId": "83275240-1d11-44d4-b8fc-077cc9307429"
   }
  },
  {
   "cell_type": "code",
   "execution_count": 28,
   "source": [
    "print(classification_report(y_test,y_pred))"
   ],
   "outputs": [
    {
     "output_type": "stream",
     "name": "stderr",
     "text": [
      "C:\\Users\\Enrique\\anaconda3\\lib\\site-packages\\sklearn\\metrics\\_classification.py:1248: UndefinedMetricWarning: Precision and F-score are ill-defined and being set to 0.0 in labels with no predicted samples. Use `zero_division` parameter to control this behavior.\n",
      "  _warn_prf(average, modifier, msg_start, len(result))\n"
     ]
    },
    {
     "output_type": "stream",
     "name": "stdout",
     "text": [
      "                                                   precision    recall  f1-score   support\n",
      "\n",
      "                              alcoholic beverages       0.00      0.00      0.00        86\n",
      "                  animal by-products - (obsolete)       0.00      0.00      0.00         7\n",
      "                    animal nutrition - (obsolete)       0.00      0.00      0.00       128\n",
      "            bivalve molluscs and products thereof       0.00      0.00      0.00       492\n",
      "                 cephalopods and products thereof       0.00      0.00      0.00       159\n",
      "                      cereals and bakery products       1.00      0.02      0.04      1348\n",
      "     cocoa and cocoa preparations, coffee and tea       0.00      0.00      0.00       615\n",
      "                                   compound feeds       0.00      0.00      0.00       186\n",
      "                                    confectionery       0.00      0.00      0.00       576\n",
      "                 crustaceans and products thereof       0.00      0.00      0.00       517\n",
      "dietetic foods, food supplements, fortified foods       0.46      0.88      0.60      3361\n",
      "                            eggs and egg products       1.00      0.28      0.44       314\n",
      "                                    fats and oils       1.00      0.03      0.06       424\n",
      "                                   feed additives       0.00      0.00      0.00       246\n",
      "     feed for food-producing animals - (obsolete)       0.00      0.00      0.00       119\n",
      "                                   feed materials       1.00      0.01      0.03       881\n",
      "                                 feed premixtures       0.00      0.00      0.00        93\n",
      "                           fish and fish products       0.77      0.19      0.31      2382\n",
      "                   food additives and flavourings       0.00      0.00      0.00       169\n",
      "                           food contact materials       0.88      0.34      0.49      2170\n",
      "                            fruits and vegetables       0.20      0.95      0.32      3794\n",
      "                                       gastropods       0.00      0.00      0.00        14\n",
      "                                 herbs and spices       1.00      0.06      0.12      1627\n",
      "                            honey and royal jelly       0.00      0.00      0.00       133\n",
      "                                ices and desserts       0.00      0.00      0.00        72\n",
      "      meat and meat products (other than poultry)       1.00      0.06      0.12      1411\n",
      "                           milk and milk products       1.00      0.02      0.04       721\n",
      "       molluscs and products thereof - (obsolete)       0.00      0.00      0.00        65\n",
      "                            natural mineral water       0.00      0.00      0.00        33\n",
      "                          non-alcoholic beverages       0.00      0.00      0.00       260\n",
      "                     nuts, nut products and seeds       0.68      0.40      0.50      2935\n",
      "                       other food product / mixed       1.00      0.07      0.12       422\n",
      "                                         pet food       0.00      0.00      0.00       422\n",
      "           poultry meat and poultry meat products       1.00      0.01      0.01      1078\n",
      "                       prepared dishes and snacks       0.00      0.00      0.00       515\n",
      "             soups, broths, sauces and condiments       0.00      0.00      0.00       486\n",
      "              water for human consumption (other)       0.00      0.00      0.00        25\n",
      "                                             wine       0.00      0.00      0.00        20\n",
      "\n",
      "                                         accuracy                           0.33     28306\n",
      "                                        macro avg       0.32      0.09      0.08     28306\n",
      "                                     weighted avg       0.57      0.33      0.26     28306\n",
      "\n"
     ]
    },
    {
     "output_type": "stream",
     "name": "stderr",
     "text": [
      "C:\\Users\\Enrique\\anaconda3\\lib\\site-packages\\sklearn\\metrics\\_classification.py:1248: UndefinedMetricWarning: Precision and F-score are ill-defined and being set to 0.0 in labels with no predicted samples. Use `zero_division` parameter to control this behavior.\n",
      "  _warn_prf(average, modifier, msg_start, len(result))\n",
      "C:\\Users\\Enrique\\anaconda3\\lib\\site-packages\\sklearn\\metrics\\_classification.py:1248: UndefinedMetricWarning: Precision and F-score are ill-defined and being set to 0.0 in labels with no predicted samples. Use `zero_division` parameter to control this behavior.\n",
      "  _warn_prf(average, modifier, msg_start, len(result))\n"
     ]
    }
   ],
   "metadata": {
    "ExecuteTime": {
     "end_time": "2019-05-29T14:12:24.109264Z",
     "start_time": "2019-05-29T14:12:23.789148Z"
    },
    "colab": {},
    "colab_type": "code",
    "id": "xjm5a8TtisVC",
    "outputId": "920e742b-029c-453c-af1c-5cac33f40ba3",
    "scrolled": true
   }
  },
  {
   "cell_type": "code",
   "execution_count": 29,
   "source": [
    "clf.score(X_test, y_test)"
   ],
   "outputs": [
    {
     "output_type": "execute_result",
     "data": {
      "text/plain": [
       "0.32816364021762173"
      ]
     },
     "metadata": {},
     "execution_count": 29
    }
   ],
   "metadata": {
    "ExecuteTime": {
     "end_time": "2019-05-29T14:12:24.809025Z",
     "start_time": "2019-05-29T14:12:24.637510Z"
    },
    "colab": {},
    "colab_type": "code",
    "id": "hsX0mIjHisVF",
    "outputId": "c3b21fff-10e0-43df-e5a2-552e582c8469"
   }
  },
  {
   "cell_type": "markdown",
   "source": [
    "# Gaussian naive Bayes clasiffier"
   ],
   "metadata": {
    "colab_type": "text",
    "id": "GiRPkcSXisVI"
   }
  },
  {
   "cell_type": "code",
   "execution_count": null,
   "source": [
    "params = {'var_smoothing': np.logspace(0,-9, num=1)}\r\n",
    "gs_NB =  GridSearchCV(GaussianNB(), params, verbose=1, cv=3)\r\n",
    "gs_NB.fit(X_train.toarray(), y_train)\r\n",
    "\r\n",
    "gs_NB.best_params_"
   ],
   "outputs": [],
   "metadata": {}
  },
  {
   "cell_type": "code",
   "execution_count": null,
   "source": [
    "clf = GaussianNB(var_smoothing = 1.0)\r\n",
    "clf = clf.fit(X_train_one_hot.toarray(),y_train)"
   ],
   "outputs": [],
   "metadata": {
    "ExecuteTime": {
     "end_time": "2019-04-24T08:48:46.053759Z",
     "start_time": "2019-04-24T08:48:45.336057Z"
    },
    "colab": {},
    "colab_type": "code",
    "id": "d5jkwqfMisVJ"
   }
  },
  {
   "cell_type": "code",
   "execution_count": null,
   "source": [
    "y_pred = clf.predict(X_test_one_hot.toarray())"
   ],
   "outputs": [],
   "metadata": {
    "ExecuteTime": {
     "end_time": "2019-04-24T08:48:50.422701Z",
     "start_time": "2019-04-24T08:48:47.721717Z"
    },
    "colab": {},
    "colab_type": "code",
    "id": "sJmTeKfEisVM"
   }
  },
  {
   "cell_type": "code",
   "execution_count": null,
   "source": [
    "print(classification_report(y_test,y_pred))"
   ],
   "outputs": [],
   "metadata": {
    "ExecuteTime": {
     "end_time": "2019-04-24T08:48:52.025811Z",
     "start_time": "2019-04-24T08:48:51.577708Z"
    },
    "colab": {},
    "colab_type": "code",
    "id": "qEUaLmfoisVO",
    "outputId": "89a3ac81-8f6f-48f7-8b8a-2870c482641b",
    "scrolled": true
   }
  },
  {
   "cell_type": "code",
   "execution_count": null,
   "source": [
    "clf.score(X_test_one_hot.toarray(), y_test)"
   ],
   "outputs": [],
   "metadata": {
    "ExecuteTime": {
     "end_time": "2019-04-24T08:48:57.326470Z",
     "start_time": "2019-04-24T08:48:54.504429Z"
    },
    "colab": {},
    "colab_type": "code",
    "id": "-6NYF3LyisVT",
    "outputId": "78de53f4-7230-4131-d27d-8326930214e1"
   }
  },
  {
   "cell_type": "markdown",
   "source": [
    "# Regresión logística"
   ],
   "metadata": {
    "colab_type": "text",
    "id": "ht1hG2D-isVW"
   }
  },
  {
   "cell_type": "code",
   "execution_count": null,
   "source": [
    "clf = LogisticRegression()\r\n",
    "grid_values = {'penalty': ['l2'],'C':[0.001,.009,0.01,.09,1,5,10,25]}\r\n",
    "grid_clf_acc = GridSearchCV(clf, param_grid = grid_values,scoring = 'recall')\r\n",
    "grid_clf_acc.fit(X_train, np.ravel(y_train))"
   ],
   "outputs": [],
   "metadata": {}
  },
  {
   "cell_type": "code",
   "execution_count": 24,
   "source": [
    "grid_clf_acc.best_params_"
   ],
   "outputs": [
    {
     "output_type": "execute_result",
     "data": {
      "text/plain": [
       "{'C': 0.001, 'penalty': 'l2'}"
      ]
     },
     "metadata": {},
     "execution_count": 24
    }
   ],
   "metadata": {}
  },
  {
   "cell_type": "code",
   "execution_count": 25,
   "source": [
    "clf = LogisticRegression(penalty= 'l2',C=0.001)\r\n",
    "clf = clf.fit(X_train,y_train)"
   ],
   "outputs": [
    {
     "output_type": "stream",
     "name": "stderr",
     "text": [
      "D:\\Anaconda\\lib\\site-packages\\sklearn\\utils\\validation.py:63: DataConversionWarning: A column-vector y was passed when a 1d array was expected. Please change the shape of y to (n_samples, ), for example using ravel().\n",
      "  return f(*args, **kwargs)\n"
     ]
    }
   ],
   "metadata": {
    "ExecuteTime": {
     "end_time": "2019-05-29T14:18:09.034447Z",
     "start_time": "2019-05-29T14:17:42.365763Z"
    },
    "colab": {},
    "colab_type": "code",
    "id": "ERFV7NgLisVX"
   }
  },
  {
   "cell_type": "code",
   "execution_count": 26,
   "source": [
    "y_pred = clf.predict(X_test)"
   ],
   "outputs": [],
   "metadata": {
    "ExecuteTime": {
     "end_time": "2019-05-29T14:18:09.057357Z",
     "start_time": "2019-05-29T14:18:09.036414Z"
    },
    "colab": {},
    "colab_type": "code",
    "id": "B4hgnMp2isVa"
   }
  },
  {
   "cell_type": "code",
   "execution_count": 27,
   "source": [
    "print(classification_report(y_test,y_pred))"
   ],
   "outputs": [
    {
     "output_type": "stream",
     "name": "stderr",
     "text": [
      "D:\\Anaconda\\lib\\site-packages\\sklearn\\metrics\\_classification.py:1245: UndefinedMetricWarning: Precision and F-score are ill-defined and being set to 0.0 in labels with no predicted samples. Use `zero_division` parameter to control this behavior.\n",
      "  _warn_prf(average, modifier, msg_start, len(result))\n"
     ]
    },
    {
     "output_type": "stream",
     "name": "stdout",
     "text": [
      "                                                   precision    recall  f1-score   support\n",
      "\n",
      "                              alcoholic beverages       0.00      0.00      0.00        83\n",
      "                  animal by-products - (obsolete)       0.00      0.00      0.00        11\n",
      "                    animal nutrition - (obsolete)       0.00      0.00      0.00       125\n",
      "            bivalve molluscs and products thereof       0.00      0.00      0.00       461\n",
      "                 cephalopods and products thereof       0.00      0.00      0.00       165\n",
      "                      cereals and bakery products       0.37      0.03      0.06      1429\n",
      "     cocoa and cocoa preparations, coffee and tea       0.00      0.00      0.00       622\n",
      "                                   compound feeds       0.00      0.00      0.00       185\n",
      "                                    confectionery       0.00      0.00      0.00       544\n",
      "                 crustaceans and products thereof       0.00      0.00      0.00       524\n",
      "dietetic foods, food supplements, fortified foods       0.31      0.75      0.44      3327\n",
      "                            eggs and egg products       0.00      0.00      0.00       301\n",
      "                                    fats and oils       0.00      0.00      0.00       406\n",
      "                                   feed additives       0.00      0.00      0.00       268\n",
      "     feed for food-producing animals - (obsolete)       0.00      0.00      0.00       150\n",
      "                                   feed materials       0.00      0.00      0.00       834\n",
      "                                 feed premixtures       0.00      0.00      0.00        93\n",
      "                           fish and fish products       0.34      0.40      0.36      2419\n",
      "                   food additives and flavourings       0.00      0.00      0.00       193\n",
      "                           food contact materials       0.43      0.63      0.51      2123\n",
      "                            fruits and vegetables       0.25      0.60      0.35      3784\n",
      "                                       gastropods       0.00      0.00      0.00        18\n",
      "                                 herbs and spices       0.41      0.04      0.08      1679\n",
      "                            honey and royal jelly       0.00      0.00      0.00       121\n",
      "                                ices and desserts       0.00      0.00      0.00        81\n",
      "      meat and meat products (other than poultry)       0.78      0.05      0.10      1414\n",
      "                           milk and milk products       0.47      0.37      0.42       727\n",
      "       molluscs and products thereof - (obsolete)       0.00      0.00      0.00        68\n",
      "                            natural mineral water       0.00      0.00      0.00        33\n",
      "                          non-alcoholic beverages       0.00      0.00      0.00       243\n",
      "                     nuts, nut products and seeds       0.35      0.52      0.42      2984\n",
      "                       other food product / mixed       0.00      0.00      0.00       419\n",
      "                                         pet food       0.00      0.00      0.00       410\n",
      "           poultry meat and poultry meat products       0.00      0.00      0.00      1028\n",
      "                       prepared dishes and snacks       0.00      0.00      0.00       493\n",
      "             soups, broths, sauces and condiments       0.00      0.00      0.00       502\n",
      "              water for human consumption (other)       0.00      0.00      0.00        23\n",
      "                                             wine       0.00      0.00      0.00        16\n",
      "\n",
      "                                         accuracy                           0.32     28306\n",
      "                                        macro avg       0.10      0.09      0.07     28306\n",
      "                                     weighted avg       0.26      0.32      0.24     28306\n",
      "\n"
     ]
    },
    {
     "output_type": "stream",
     "name": "stderr",
     "text": [
      "D:\\Anaconda\\lib\\site-packages\\sklearn\\metrics\\_classification.py:1245: UndefinedMetricWarning: Precision and F-score are ill-defined and being set to 0.0 in labels with no predicted samples. Use `zero_division` parameter to control this behavior.\n",
      "  _warn_prf(average, modifier, msg_start, len(result))\n",
      "D:\\Anaconda\\lib\\site-packages\\sklearn\\metrics\\_classification.py:1245: UndefinedMetricWarning: Precision and F-score are ill-defined and being set to 0.0 in labels with no predicted samples. Use `zero_division` parameter to control this behavior.\n",
      "  _warn_prf(average, modifier, msg_start, len(result))\n"
     ]
    }
   ],
   "metadata": {
    "ExecuteTime": {
     "end_time": "2019-05-29T14:18:09.389469Z",
     "start_time": "2019-05-29T14:18:09.060349Z"
    },
    "colab": {},
    "colab_type": "code",
    "id": "k_mPk4dqisVd",
    "outputId": "ee5a340a-2f69-46f7-c2c3-be240e0cad15"
   }
  },
  {
   "cell_type": "code",
   "execution_count": 28,
   "source": [
    "clf.score(X_test, y_test)"
   ],
   "outputs": [
    {
     "output_type": "execute_result",
     "data": {
      "text/plain": [
       "0.32025012364869637"
      ]
     },
     "metadata": {},
     "execution_count": 28
    }
   ],
   "metadata": {
    "ExecuteTime": {
     "end_time": "2019-05-29T14:18:09.428365Z",
     "start_time": "2019-05-29T14:18:09.390497Z"
    },
    "colab": {},
    "colab_type": "code",
    "id": "55L2gwPbisVh",
    "outputId": "bba47cf8-6419-4d4f-c083-839b83ca0ad2"
   }
  },
  {
   "cell_type": "markdown",
   "source": [
    "# Support vector machine"
   ],
   "metadata": {
    "colab_type": "text",
    "id": "xaQhsM6qisVj"
   }
  },
  {
   "cell_type": "code",
   "execution_count": 30,
   "source": [
    "clf = svm.SVC()\r\n",
    "param_grid = {'C': [0.1, 1, 10, 100, 1000], \r\n",
    "              'gamma': [1, 0.1, 0.01, 0.001, 0.0001],\r\n",
    "              'kernel': ['rbf']} \r\n",
    "  \r\n",
    "clf = GridSearchCV(clf, param_grid, refit = True, verbose = 3)\r\n",
    "clf = clf.fit(X_train,y_train)\r\n",
    "y_pred = clf.predict(X_test)\r\n",
    "print(classification_report(y_test,y_pred))"
   ],
   "outputs": [
    {
     "output_type": "stream",
     "name": "stdout",
     "text": [
      "Fitting 5 folds for each of 25 candidates, totalling 125 fits\n"
     ]
    },
    {
     "output_type": "stream",
     "name": "stderr",
     "text": [
      "D:\\Anaconda\\lib\\site-packages\\sklearn\\utils\\validation.py:63: DataConversionWarning: A column-vector y was passed when a 1d array was expected. Please change the shape of y to (n_samples, ), for example using ravel().\n",
      "  return f(*args, **kwargs)\n"
     ]
    },
    {
     "output_type": "stream",
     "name": "stdout",
     "text": [
      "[CV 1/5] END .....................C=0.1, gamma=1, kernel=rbf; total time=12.6min\n"
     ]
    },
    {
     "output_type": "stream",
     "name": "stderr",
     "text": [
      "D:\\Anaconda\\lib\\site-packages\\sklearn\\utils\\validation.py:63: DataConversionWarning: A column-vector y was passed when a 1d array was expected. Please change the shape of y to (n_samples, ), for example using ravel().\n",
      "  return f(*args, **kwargs)\n"
     ]
    },
    {
     "output_type": "stream",
     "name": "stdout",
     "text": [
      "[CV 2/5] END .....................C=0.1, gamma=1, kernel=rbf; total time=13.0min\n"
     ]
    },
    {
     "output_type": "stream",
     "name": "stderr",
     "text": [
      "D:\\Anaconda\\lib\\site-packages\\sklearn\\utils\\validation.py:63: DataConversionWarning: A column-vector y was passed when a 1d array was expected. Please change the shape of y to (n_samples, ), for example using ravel().\n",
      "  return f(*args, **kwargs)\n"
     ]
    },
    {
     "output_type": "stream",
     "name": "stdout",
     "text": [
      "[CV 3/5] END .....................C=0.1, gamma=1, kernel=rbf; total time=13.2min\n"
     ]
    },
    {
     "output_type": "stream",
     "name": "stderr",
     "text": [
      "D:\\Anaconda\\lib\\site-packages\\sklearn\\utils\\validation.py:63: DataConversionWarning: A column-vector y was passed when a 1d array was expected. Please change the shape of y to (n_samples, ), for example using ravel().\n",
      "  return f(*args, **kwargs)\n"
     ]
    },
    {
     "output_type": "stream",
     "name": "stdout",
     "text": [
      "[CV 4/5] END .....................C=0.1, gamma=1, kernel=rbf; total time=13.2min\n"
     ]
    },
    {
     "output_type": "stream",
     "name": "stderr",
     "text": [
      "D:\\Anaconda\\lib\\site-packages\\sklearn\\utils\\validation.py:63: DataConversionWarning: A column-vector y was passed when a 1d array was expected. Please change the shape of y to (n_samples, ), for example using ravel().\n",
      "  return f(*args, **kwargs)\n"
     ]
    },
    {
     "output_type": "stream",
     "name": "stdout",
     "text": [
      "[CV 5/5] END .....................C=0.1, gamma=1, kernel=rbf; total time=13.0min\n"
     ]
    },
    {
     "output_type": "stream",
     "name": "stderr",
     "text": [
      "D:\\Anaconda\\lib\\site-packages\\sklearn\\utils\\validation.py:63: DataConversionWarning: A column-vector y was passed when a 1d array was expected. Please change the shape of y to (n_samples, ), for example using ravel().\n",
      "  return f(*args, **kwargs)\n"
     ]
    },
    {
     "output_type": "stream",
     "name": "stdout",
     "text": [
      "[CV 1/5] END ...................C=0.1, gamma=0.1, kernel=rbf; total time= 8.2min\n"
     ]
    },
    {
     "output_type": "stream",
     "name": "stderr",
     "text": [
      "D:\\Anaconda\\lib\\site-packages\\sklearn\\utils\\validation.py:63: DataConversionWarning: A column-vector y was passed when a 1d array was expected. Please change the shape of y to (n_samples, ), for example using ravel().\n",
      "  return f(*args, **kwargs)\n"
     ]
    },
    {
     "output_type": "stream",
     "name": "stdout",
     "text": [
      "[CV 2/5] END ...................C=0.1, gamma=0.1, kernel=rbf; total time= 8.0min\n"
     ]
    },
    {
     "output_type": "stream",
     "name": "stderr",
     "text": [
      "D:\\Anaconda\\lib\\site-packages\\sklearn\\utils\\validation.py:63: DataConversionWarning: A column-vector y was passed when a 1d array was expected. Please change the shape of y to (n_samples, ), for example using ravel().\n",
      "  return f(*args, **kwargs)\n"
     ]
    },
    {
     "output_type": "stream",
     "name": "stdout",
     "text": [
      "[CV 3/5] END ...................C=0.1, gamma=0.1, kernel=rbf; total time=10.5min\n"
     ]
    },
    {
     "output_type": "stream",
     "name": "stderr",
     "text": [
      "D:\\Anaconda\\lib\\site-packages\\sklearn\\utils\\validation.py:63: DataConversionWarning: A column-vector y was passed when a 1d array was expected. Please change the shape of y to (n_samples, ), for example using ravel().\n",
      "  return f(*args, **kwargs)\n"
     ]
    },
    {
     "output_type": "stream",
     "name": "stdout",
     "text": [
      "[CV 4/5] END ...................C=0.1, gamma=0.1, kernel=rbf; total time= 7.8min\n"
     ]
    },
    {
     "output_type": "stream",
     "name": "stderr",
     "text": [
      "D:\\Anaconda\\lib\\site-packages\\sklearn\\utils\\validation.py:63: DataConversionWarning: A column-vector y was passed when a 1d array was expected. Please change the shape of y to (n_samples, ), for example using ravel().\n",
      "  return f(*args, **kwargs)\n"
     ]
    },
    {
     "output_type": "stream",
     "name": "stdout",
     "text": [
      "[CV 5/5] END ...................C=0.1, gamma=0.1, kernel=rbf; total time= 7.5min\n"
     ]
    },
    {
     "output_type": "stream",
     "name": "stderr",
     "text": [
      "D:\\Anaconda\\lib\\site-packages\\sklearn\\utils\\validation.py:63: DataConversionWarning: A column-vector y was passed when a 1d array was expected. Please change the shape of y to (n_samples, ), for example using ravel().\n",
      "  return f(*args, **kwargs)\n"
     ]
    },
    {
     "output_type": "stream",
     "name": "stdout",
     "text": [
      "[CV 1/5] END ..................C=0.1, gamma=0.01, kernel=rbf; total time= 9.0min\n"
     ]
    },
    {
     "output_type": "stream",
     "name": "stderr",
     "text": [
      "D:\\Anaconda\\lib\\site-packages\\sklearn\\utils\\validation.py:63: DataConversionWarning: A column-vector y was passed when a 1d array was expected. Please change the shape of y to (n_samples, ), for example using ravel().\n",
      "  return f(*args, **kwargs)\n"
     ]
    },
    {
     "output_type": "stream",
     "name": "stdout",
     "text": [
      "[CV 2/5] END ..................C=0.1, gamma=0.01, kernel=rbf; total time= 9.2min\n"
     ]
    },
    {
     "output_type": "stream",
     "name": "stderr",
     "text": [
      "D:\\Anaconda\\lib\\site-packages\\sklearn\\utils\\validation.py:63: DataConversionWarning: A column-vector y was passed when a 1d array was expected. Please change the shape of y to (n_samples, ), for example using ravel().\n",
      "  return f(*args, **kwargs)\n"
     ]
    },
    {
     "output_type": "stream",
     "name": "stdout",
     "text": [
      "[CV 3/5] END ..................C=0.1, gamma=0.01, kernel=rbf; total time= 8.8min\n"
     ]
    },
    {
     "output_type": "stream",
     "name": "stderr",
     "text": [
      "D:\\Anaconda\\lib\\site-packages\\sklearn\\utils\\validation.py:63: DataConversionWarning: A column-vector y was passed when a 1d array was expected. Please change the shape of y to (n_samples, ), for example using ravel().\n",
      "  return f(*args, **kwargs)\n"
     ]
    },
    {
     "output_type": "stream",
     "name": "stdout",
     "text": [
      "[CV 4/5] END ..................C=0.1, gamma=0.01, kernel=rbf; total time= 8.7min\n"
     ]
    },
    {
     "output_type": "stream",
     "name": "stderr",
     "text": [
      "D:\\Anaconda\\lib\\site-packages\\sklearn\\utils\\validation.py:63: DataConversionWarning: A column-vector y was passed when a 1d array was expected. Please change the shape of y to (n_samples, ), for example using ravel().\n",
      "  return f(*args, **kwargs)\n"
     ]
    },
    {
     "output_type": "stream",
     "name": "stdout",
     "text": [
      "[CV 5/5] END ..................C=0.1, gamma=0.01, kernel=rbf; total time= 9.1min\n"
     ]
    },
    {
     "output_type": "stream",
     "name": "stderr",
     "text": [
      "D:\\Anaconda\\lib\\site-packages\\sklearn\\utils\\validation.py:63: DataConversionWarning: A column-vector y was passed when a 1d array was expected. Please change the shape of y to (n_samples, ), for example using ravel().\n",
      "  return f(*args, **kwargs)\n"
     ]
    },
    {
     "output_type": "stream",
     "name": "stdout",
     "text": [
      "[CV 1/5] END .................C=0.1, gamma=0.001, kernel=rbf; total time= 9.5min\n"
     ]
    },
    {
     "output_type": "stream",
     "name": "stderr",
     "text": [
      "D:\\Anaconda\\lib\\site-packages\\sklearn\\utils\\validation.py:63: DataConversionWarning: A column-vector y was passed when a 1d array was expected. Please change the shape of y to (n_samples, ), for example using ravel().\n",
      "  return f(*args, **kwargs)\n"
     ]
    },
    {
     "output_type": "stream",
     "name": "stdout",
     "text": [
      "[CV 2/5] END .................C=0.1, gamma=0.001, kernel=rbf; total time= 9.2min\n"
     ]
    },
    {
     "output_type": "stream",
     "name": "stderr",
     "text": [
      "D:\\Anaconda\\lib\\site-packages\\sklearn\\utils\\validation.py:63: DataConversionWarning: A column-vector y was passed when a 1d array was expected. Please change the shape of y to (n_samples, ), for example using ravel().\n",
      "  return f(*args, **kwargs)\n"
     ]
    },
    {
     "output_type": "stream",
     "name": "stdout",
     "text": [
      "[CV 3/5] END .................C=0.1, gamma=0.001, kernel=rbf; total time= 9.2min\n"
     ]
    },
    {
     "output_type": "stream",
     "name": "stderr",
     "text": [
      "D:\\Anaconda\\lib\\site-packages\\sklearn\\utils\\validation.py:63: DataConversionWarning: A column-vector y was passed when a 1d array was expected. Please change the shape of y to (n_samples, ), for example using ravel().\n",
      "  return f(*args, **kwargs)\n"
     ]
    },
    {
     "output_type": "stream",
     "name": "stdout",
     "text": [
      "[CV 4/5] END .................C=0.1, gamma=0.001, kernel=rbf; total time= 9.3min\n"
     ]
    },
    {
     "output_type": "stream",
     "name": "stderr",
     "text": [
      "D:\\Anaconda\\lib\\site-packages\\sklearn\\utils\\validation.py:63: DataConversionWarning: A column-vector y was passed when a 1d array was expected. Please change the shape of y to (n_samples, ), for example using ravel().\n",
      "  return f(*args, **kwargs)\n"
     ]
    },
    {
     "output_type": "stream",
     "name": "stdout",
     "text": [
      "[CV 5/5] END .................C=0.1, gamma=0.001, kernel=rbf; total time=10.4min\n"
     ]
    },
    {
     "output_type": "stream",
     "name": "stderr",
     "text": [
      "D:\\Anaconda\\lib\\site-packages\\sklearn\\utils\\validation.py:63: DataConversionWarning: A column-vector y was passed when a 1d array was expected. Please change the shape of y to (n_samples, ), for example using ravel().\n",
      "  return f(*args, **kwargs)\n"
     ]
    },
    {
     "output_type": "stream",
     "name": "stdout",
     "text": [
      "[CV 1/5] END ................C=0.1, gamma=0.0001, kernel=rbf; total time= 9.3min\n"
     ]
    },
    {
     "output_type": "stream",
     "name": "stderr",
     "text": [
      "D:\\Anaconda\\lib\\site-packages\\sklearn\\utils\\validation.py:63: DataConversionWarning: A column-vector y was passed when a 1d array was expected. Please change the shape of y to (n_samples, ), for example using ravel().\n",
      "  return f(*args, **kwargs)\n"
     ]
    },
    {
     "output_type": "stream",
     "name": "stdout",
     "text": [
      "[CV 2/5] END ................C=0.1, gamma=0.0001, kernel=rbf; total time= 9.0min\n"
     ]
    },
    {
     "output_type": "stream",
     "name": "stderr",
     "text": [
      "D:\\Anaconda\\lib\\site-packages\\sklearn\\utils\\validation.py:63: DataConversionWarning: A column-vector y was passed when a 1d array was expected. Please change the shape of y to (n_samples, ), for example using ravel().\n",
      "  return f(*args, **kwargs)\n"
     ]
    },
    {
     "output_type": "stream",
     "name": "stdout",
     "text": [
      "[CV 3/5] END ................C=0.1, gamma=0.0001, kernel=rbf; total time= 9.5min\n"
     ]
    },
    {
     "output_type": "stream",
     "name": "stderr",
     "text": [
      "D:\\Anaconda\\lib\\site-packages\\sklearn\\utils\\validation.py:63: DataConversionWarning: A column-vector y was passed when a 1d array was expected. Please change the shape of y to (n_samples, ), for example using ravel().\n",
      "  return f(*args, **kwargs)\n"
     ]
    },
    {
     "output_type": "stream",
     "name": "stdout",
     "text": [
      "[CV 4/5] END ................C=0.1, gamma=0.0001, kernel=rbf; total time= 9.4min\n"
     ]
    },
    {
     "output_type": "stream",
     "name": "stderr",
     "text": [
      "D:\\Anaconda\\lib\\site-packages\\sklearn\\utils\\validation.py:63: DataConversionWarning: A column-vector y was passed when a 1d array was expected. Please change the shape of y to (n_samples, ), for example using ravel().\n",
      "  return f(*args, **kwargs)\n"
     ]
    },
    {
     "output_type": "stream",
     "name": "stdout",
     "text": [
      "[CV 5/5] END ................C=0.1, gamma=0.0001, kernel=rbf; total time= 9.2min\n"
     ]
    },
    {
     "output_type": "stream",
     "name": "stderr",
     "text": [
      "D:\\Anaconda\\lib\\site-packages\\sklearn\\utils\\validation.py:63: DataConversionWarning: A column-vector y was passed when a 1d array was expected. Please change the shape of y to (n_samples, ), for example using ravel().\n",
      "  return f(*args, **kwargs)\n"
     ]
    }
   ],
   "metadata": {
    "ExecuteTime": {
     "end_time": "2019-05-21T10:49:27.308632Z",
     "start_time": "2019-05-21T10:39:04.167258Z"
    },
    "colab": {},
    "colab_type": "code",
    "id": "Plh9xoVyisVj"
   }
  },
  {
   "cell_type": "code",
   "execution_count": null,
   "source": [
    "clf.best_params_"
   ],
   "outputs": [],
   "metadata": {}
  },
  {
   "cell_type": "code",
   "execution_count": null,
   "source": [
    "clf.score(X_test, y_test)"
   ],
   "outputs": [],
   "metadata": {
    "ExecuteTime": {
     "end_time": "2019-05-21T10:52:09.655716Z",
     "start_time": "2019-05-21T10:49:27.308632Z"
    },
    "colab": {},
    "colab_type": "code",
    "id": "UDf4VXGkisVm"
   }
  },
  {
   "cell_type": "markdown",
   "source": [
    "# Boosted Trees"
   ],
   "metadata": {
    "colab_type": "text",
    "id": "9YFnh1NmisVo"
   }
  },
  {
   "cell_type": "code",
   "execution_count": 11,
   "source": [
    "param_grid = {'n_estimators':range(20,81,10),\r\n",
    " 'learning_rate':[1, 0.5, 0.25, 0.1, 0.05, 0.01],\r\n",
    "  'max_depth':range(5,16,2),\r\n",
    "  'min_samples_split':range(200,1001,200)}"
   ],
   "outputs": [],
   "metadata": {}
  },
  {
   "cell_type": "code",
   "execution_count": 16,
   "source": [
    "clf = GridSearchCV(estimator = GradientBoostingClassifier(max_features='sqrt', subsample=0.8, random_state=10), \r\n",
    "param_grid = param_grid,n_jobs=4, cv=3)\r\n",
    "clf = clf.fit(X_train,y_train)\r\n",
    "y_pred = clf.predict(X_test)\r\n",
    "print(classification_report(y_test,y_pred))"
   ],
   "outputs": [],
   "metadata": {
    "ExecuteTime": {
     "end_time": "2019-05-21T10:57:28.233875Z",
     "start_time": "2019-05-21T10:54:53.079659Z"
    },
    "colab": {},
    "colab_type": "code",
    "id": "b5FvzrKaisVp",
    "outputId": "31806fe8-5ef9-492a-dccb-2565db02a53a",
    "scrolled": true
   }
  },
  {
   "cell_type": "code",
   "execution_count": null,
   "source": [
    "clf.score(X_test, y_test)"
   ],
   "outputs": [],
   "metadata": {
    "ExecuteTime": {
     "end_time": "2019-05-21T10:57:29.141447Z",
     "start_time": "2019-05-21T10:57:28.234898Z"
    },
    "colab": {},
    "colab_type": "code",
    "id": "f1hssRFlisVs",
    "outputId": "6c2a91d4-35d1-4adc-db09-ff305c58b8ba"
   }
  },
  {
   "cell_type": "code",
   "execution_count": null,
   "source": [
    "clf = AdaBoostClassifier()\r\n",
    "clf = clf.fit(X_train_one_hot,y_train)\r\n",
    "y_pred = clf.predict(X_test_one_hot)\r\n",
    "print(classification_report(y_test,y_pred))"
   ],
   "outputs": [],
   "metadata": {
    "ExecuteTime": {
     "end_time": "2019-05-21T10:32:25.762313Z",
     "start_time": "2019-05-21T10:32:11.447315Z"
    },
    "colab": {},
    "colab_type": "code",
    "id": "qr2xZEjHisVx",
    "outputId": "7711cc1c-e56b-4f03-cbbf-53cb0becd70e",
    "scrolled": true
   }
  },
  {
   "cell_type": "code",
   "execution_count": null,
   "source": [
    "clf.score(X_test_one_hot, y_test)"
   ],
   "outputs": [],
   "metadata": {
    "ExecuteTime": {
     "end_time": "2019-05-21T10:32:26.756654Z",
     "start_time": "2019-05-21T10:32:25.764308Z"
    },
    "colab": {},
    "colab_type": "code",
    "id": "L-mqg9-yisV0",
    "outputId": "c24163b3-6e8f-40ad-ce3d-28b569e25413"
   }
  },
  {
   "cell_type": "markdown",
   "source": [
    "# Nearest centroid"
   ],
   "metadata": {
    "colab_type": "text",
    "id": "BKnWF9WrisV3"
   }
  },
  {
   "cell_type": "code",
   "execution_count": null,
   "source": [
    "clf = NearestCentroid()\r\n",
    "clf = clf.fit(X_train_one_hot,y_train)\r\n",
    "y_pred = clf.predict(X_test_one_hot)\r\n",
    "print(classification_report(y_test,y_pred))"
   ],
   "outputs": [],
   "metadata": {
    "ExecuteTime": {
     "end_time": "2019-04-24T09:08:16.746824Z",
     "start_time": "2019-04-24T09:08:16.312788Z"
    },
    "colab": {},
    "colab_type": "code",
    "id": "evlfpeLcisV4",
    "outputId": "c1e5e2f0-cba4-4a43-8625-ba3ebeab041f",
    "scrolled": true
   }
  },
  {
   "cell_type": "code",
   "execution_count": null,
   "source": [
    "clf.score(X_test_one_hot, y_test)"
   ],
   "outputs": [],
   "metadata": {
    "ExecuteTime": {
     "end_time": "2019-04-24T09:08:18.469337Z",
     "start_time": "2019-04-24T09:08:18.408501Z"
    },
    "colab": {},
    "colab_type": "code",
    "id": "vpaGkoIcisV7",
    "outputId": "f0c81516-0e9d-4390-82e3-b45e56ad0563"
   }
  },
  {
   "cell_type": "markdown",
   "source": [
    "# Nearest neighbor"
   ],
   "metadata": {
    "colab_type": "text",
    "id": "7QfrRy84isV_"
   }
  },
  {
   "cell_type": "code",
   "execution_count": null,
   "source": [
    "clf = neighbors.KNeighborsClassifier()\r\n",
    "clf = clf.fit(X_train_one_hot,y_train)\r\n",
    "y_pred = clf.predict(X_test_one_hot)\r\n",
    "print(classification_report(y_test,y_pred))"
   ],
   "outputs": [],
   "metadata": {
    "ExecuteTime": {
     "end_time": "2019-04-01T10:20:35.880699Z",
     "start_time": "2019-04-01T10:19:34.213349Z"
    },
    "colab": {},
    "colab_type": "code",
    "id": "3-N-dcRsisV_",
    "outputId": "bc6f75eb-cec9-4dbe-ede7-f4dd8e298886",
    "scrolled": true
   }
  },
  {
   "cell_type": "code",
   "execution_count": null,
   "source": [
    "clf.score(X_test_one_hot, y_test)"
   ],
   "outputs": [],
   "metadata": {
    "ExecuteTime": {
     "end_time": "2019-04-01T10:21:46.078806Z",
     "start_time": "2019-04-01T10:20:45.397515Z"
    },
    "colab": {},
    "colab_type": "code",
    "id": "1o0BnRO4isWB",
    "outputId": "20a983cd-e31f-43f2-9b07-3e4fa10be1a7"
   }
  },
  {
   "cell_type": "markdown",
   "source": [
    "# MLP sin embeddings"
   ],
   "metadata": {
    "colab_type": "text",
    "id": "8qAIFZa4isWD"
   }
  },
  {
   "cell_type": "code",
   "execution_count": null,
   "source": [
    "le = preprocessing.LabelEncoder()\r\n",
    "le.fit(y_train.values)\r\n",
    "Y_train_label = le.transform(y_train.values) \r\n",
    "y_train_one_hot = to_categorical(Y_train_label)\r\n",
    "display(y_train_one_hot)"
   ],
   "outputs": [],
   "metadata": {
    "ExecuteTime": {
     "end_time": "2019-03-08T12:41:51.654502Z",
     "start_time": "2019-03-08T12:41:51.628544Z"
    },
    "colab": {},
    "colab_type": "code",
    "id": "6fBjCvu7isWE",
    "outputId": "a4a9476c-710b-40c9-fe6f-2faf577deb3c"
   }
  },
  {
   "cell_type": "code",
   "execution_count": null,
   "source": [
    "y_test_label = le.transform(y_test.values) \r\n",
    "y_test_one_hot = to_categorical(y_test_label)\r\n",
    "display(y_test_one_hot)"
   ],
   "outputs": [],
   "metadata": {
    "ExecuteTime": {
     "end_time": "2019-03-08T12:41:52.253488Z",
     "start_time": "2019-03-08T12:41:52.244506Z"
    },
    "colab": {},
    "colab_type": "code",
    "id": "ECbZ8AYEisWH",
    "outputId": "45543cf6-bd9b-4a1f-b763-ec577bc36a18"
   }
  },
  {
   "cell_type": "code",
   "execution_count": null,
   "source": [
    "model = Sequential() \r\n",
    "model.add(Dense(300, activation='relu', input_dim=351))\r\n",
    "model.add(Dense(200, activation='relu'))\r\n",
    "model.add(Dense(100, activation='relu'))\r\n",
    "model.add(Dense(38)) \r\n",
    "optimizer = RMSprop(lr=0.001)\r\n",
    "model.compile(optimizer=optimizer, loss='mean_squared_error', metrics= ['accuracy'])"
   ],
   "outputs": [],
   "metadata": {
    "colab": {},
    "colab_type": "code",
    "id": "dQgT0j0fisWX"
   }
  },
  {
   "cell_type": "code",
   "execution_count": null,
   "source": [
    "hist = model.fit(X_train_one_hot,y_train_one_hot, epochs=70,validation_data=(X_test_one_hot, y_test_one_hot), batch_size=120)"
   ],
   "outputs": [],
   "metadata": {
    "colab": {},
    "colab_type": "code",
    "id": "sHepGhskisWZ",
    "outputId": "4a0b37b8-b4e5-4458-904e-4952b923a63b",
    "scrolled": true
   }
  },
  {
   "cell_type": "code",
   "execution_count": null,
   "source": [
    "plt.plot(hist.history['loss']) \r\n",
    "plt.plot(hist.history['val_loss']) \r\n",
    "plt.show()\r\n",
    "\r\n",
    "\r\n",
    "plt.plot(hist.history['acc']) \r\n",
    "plt.plot(hist.history['val_acc']) \r\n",
    "plt.show()"
   ],
   "outputs": [],
   "metadata": {
    "colab": {},
    "colab_type": "code",
    "id": "ENb3inRrisWa",
    "outputId": "557810df-9ccd-4ee1-a98a-dd1469566bca"
   }
  },
  {
   "cell_type": "markdown",
   "source": [
    "## Pruebas grid search"
   ],
   "metadata": {
    "colab_type": "text",
    "id": "q6jtSqYDisWd"
   }
  },
  {
   "cell_type": "code",
   "execution_count": null,
   "source": [
    "def create_model(neuronas1 = 25,neuronas2 =25,neuronas3 = 25):\r\n",
    "           \r\n",
    "    model = Sequential()\r\n",
    "    activation='relu'\r\n",
    "    init_mode='normal'\r\n",
    "    dropout_rate=0.0\r\n",
    "    weight_constraint=0\r\n",
    "    model.add(Dense(neuronas1, activation=activation, input_dim=374,kernel_initializer=init_mode))\r\n",
    "    model.add(Dense(neuronas2, activation=activation,kernel_initializer=init_mode))\r\n",
    "    model.add(Dense(neuronas3, activation=activation,kernel_initializer=init_mode))\r\n",
    "    model.add(Dropout(dropout_rate))\r\n",
    "    model.add(Dense(38,kernel_initializer=init_mode))\r\n",
    "    optimizer = RMSprop(lr=0.001)\r\n",
    "    model.compile(loss='mean_squared_error', optimizer=optimizer, metrics=['accuracy'])\r\n",
    "    return model\r\n",
    "\r\n",
    "seed = 7\r\n",
    "np.random.seed(seed)\r\n",
    "model = KerasClassifier(build_fn=create_model, verbose=1,batch_size=120, epochs = 70)"
   ],
   "outputs": [],
   "metadata": {
    "ExecuteTime": {
     "end_time": "2019-03-08T12:42:27.693405Z",
     "start_time": "2019-03-08T12:42:27.684429Z"
    },
    "colab": {},
    "colab_type": "code",
    "id": "PQ9lT0B-isWd",
    "outputId": "c3e368f8-2fc5-4048-b41d-4631ec791fc5"
   }
  },
  {
   "cell_type": "code",
   "execution_count": null,
   "source": [
    "neuronas1 = [25,75,100,150,200,250,300,350,400]\r\n",
    "neuronas2 = [25,75,100,150,200,250,300,350,400]\r\n",
    "neuronas3 = [25,75,100,150,200,250,300,350,400]\r\n",
    "param_grid = dict(neuronas1=neuronas1,neuronas2=neuronas2,neuronas3=neuronas3)\r\n",
    "grid = GridSearchCV(estimator=model, param_grid=param_grid, n_jobs=1, cv=2)\r\n",
    "grid_result = grid.fit(X_train_one_hot, y_train_one_hot)"
   ],
   "outputs": [],
   "metadata": {
    "ExecuteTime": {
     "end_time": "2019-03-08T12:42:37.692157Z",
     "start_time": "2019-03-08T12:42:29.453482Z"
    },
    "colab": {},
    "colab_type": "code",
    "id": "O9mnViBgisWh",
    "outputId": "46a914ef-ca18-42ea-f88a-3e48a4c498be",
    "scrolled": true
   }
  },
  {
   "cell_type": "code",
   "execution_count": null,
   "source": [
    "print(\"Best: %f using %s\" % (grid_result.best_score_, grid_result.best_params_))\r\n",
    "means = grid_result.cv_results_['mean_test_score']\r\n",
    "stds = grid_result.cv_results_['std_test_score']\r\n",
    "params = grid_result.cv_results_['params']\r\n",
    "for mean, stdev, param in zip(means, stds, params):\r\n",
    "    print(\"%f (%f) with: %r\" % (mean, stdev, param))"
   ],
   "outputs": [],
   "metadata": {
    "colab": {},
    "colab_type": "code",
    "id": "Te1l0Wu7isWk",
    "outputId": "e33d2a0c-ae0a-4dfc-b968-1d5a56531009"
   }
  }
 ],
 "metadata": {
  "colab": {
   "collapsed_sections": [],
   "name": "Algoritmos_ML.ipynb",
   "provenance": []
  },
  "kernelspec": {
   "name": "python3",
   "display_name": "Python 3.8.8 64-bit ('base': conda)"
  },
  "language_info": {
   "codemirror_mode": {
    "name": "ipython",
    "version": 3
   },
   "file_extension": ".py",
   "mimetype": "text/x-python",
   "name": "python",
   "nbconvert_exporter": "python",
   "pygments_lexer": "ipython3",
   "version": "3.8.8"
  },
  "toc": {
   "base_numbering": 1,
   "nav_menu": {},
   "number_sections": true,
   "sideBar": true,
   "skip_h1_title": false,
   "title_cell": "Table of Contents",
   "title_sidebar": "Contents",
   "toc_cell": false,
   "toc_position": {
    "height": "calc(100% - 180px)",
    "left": "10px",
    "top": "150px",
    "width": "384px"
   },
   "toc_section_display": true,
   "toc_window_display": true
  },
  "interpreter": {
   "hash": "07efdcd4b820c98a756949507a4d29d7862823915ec7477944641bea022f4f62"
  }
 },
 "nbformat": 4,
 "nbformat_minor": 4
}