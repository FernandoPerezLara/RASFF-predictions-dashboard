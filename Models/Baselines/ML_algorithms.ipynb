{
 "cells": [
  {
   "cell_type": "markdown",
   "source": [
    "# Liberías"
   ],
   "metadata": {
    "colab_type": "text",
    "id": "wwzADB6wisTx"
   }
  },
  {
   "cell_type": "code",
   "execution_count": 2,
   "source": [
    "\r\n",
    "import numpy as np\r\n",
    "import pandas as pd\r\n",
    "\r\n",
    "import sklearn\r\n",
    "from sklearn.preprocessing import OneHotEncoder\r\n",
    "from sklearn import preprocessing\r\n",
    "from sklearn.metrics import classification_report,recall_score, precision_score, ConfusionMatrixDisplay, confusion_matrix\r\n",
    "from sklearn.naive_bayes import GaussianNB\r\n",
    "from sklearn import tree,svm,neighbors\r\n",
    "from sklearn.linear_model import LogisticRegression\r\n",
    "from sklearn.ensemble import GradientBoostingClassifier,AdaBoostClassifier, RandomForestClassifier\r\n",
    "from sklearn.neighbors import NearestCentroid\r\n",
    "from sklearn.neural_network import MLPClassifier\r\n",
    "from sklearn.model_selection import train_test_split\r\n",
    "from sklearn.model_selection import GridSearchCV \r\n",
    "from sklearn.preprocessing import OrdinalEncoder\r\n",
    "\r\n",
    "import matplotlib.pyplot as plt\r\n",
    "\r\n",
    "from keras.layers import Dense, Dropout\r\n",
    "from keras.models import Sequential\r\n",
    "from tensorflow.keras.utils import to_categorical\r\n",
    "from keras.wrappers.scikit_learn import KerasClassifier\r\n",
    "from tensorflow.keras.optimizers import RMSprop\r\n",
    "from keras.constraints import maxnorm"
   ],
   "outputs": [],
   "metadata": {
    "ExecuteTime": {
     "start_time": "2019-11-04T11:49:16.279Z"
    },
    "colab": {},
    "colab_type": "code",
    "id": "WCl0Xu_pisTz"
   }
  },
  {
   "cell_type": "code",
   "execution_count": 3,
   "source": [
    "import tensorflow as tf\r\n",
    "# from tf.compat.v1.keras.backend.set_session import set_session\r\n",
    "config = tf.compat.v1.ConfigProto()\r\n",
    "config.gpu_options.per_process_gpu_memory_fraction = 0.4\r\n",
    "config.gpu_options.allow_growth = True  # dynamically grow the memory used on the GPU\r\n",
    "config.log_device_placement = True  # to log device placement (on which device the operation ran)\r\n",
    "                                    # (nothing gets printed in Jupyter, only if you run it standalone)\r\n",
    "sess = tf.compat.v1.Session(config=config)\r\n",
    "tf.compat.v1.keras.backend.set_session(sess)"
   ],
   "outputs": [
    {
     "output_type": "stream",
     "name": "stdout",
     "text": [
      "Device mapping: no known devices.\n"
     ]
    }
   ],
   "metadata": {
    "ExecuteTime": {
     "end_time": "2019-05-29T14:11:05.343488Z",
     "start_time": "2019-05-29T14:11:05.309579Z"
    },
    "colab": {},
    "colab_type": "code",
    "id": "4QzV7-PZisT7",
    "outputId": "ddd508d4-0dfd-451b-dd2d-3672870ab80d"
   }
  },
  {
   "cell_type": "markdown",
   "source": [
    "# Lectura de datos"
   ],
   "metadata": {
    "colab_type": "text",
    "id": "s5Nk6jIMisUE"
   }
  },
  {
   "cell_type": "code",
   "execution_count": 3,
   "source": [
    "data = pd.read_csv('../../splited_RASFF_DATA_16092019.csv', sep=';', \r\n",
    "                header=0, index_col = 0)\r\n",
    "data ['DATE_CASE'] = data ['DATE_CASE'].astype(str)\r\n",
    "data ['HAZARDS_CAT'] = data ['HAZARDS_CAT'].astype(str)\r\n",
    "data = data.sample(frac = 1)\r\n",
    "train  = data\r\n",
    "train"
   ],
   "outputs": [
    {
     "output_type": "execute_result",
     "data": {
      "text/html": [
       "<div>\n",
       "<style scoped>\n",
       "    .dataframe tbody tr th:only-of-type {\n",
       "        vertical-align: middle;\n",
       "    }\n",
       "\n",
       "    .dataframe tbody tr th {\n",
       "        vertical-align: top;\n",
       "    }\n",
       "\n",
       "    .dataframe thead th {\n",
       "        text-align: right;\n",
       "    }\n",
       "</style>\n",
       "<table border=\"1\" class=\"dataframe\">\n",
       "  <thead>\n",
       "    <tr style=\"text-align: right;\">\n",
       "      <th></th>\n",
       "      <th>DATE_CASE</th>\n",
       "      <th>NOT_COUNTRY</th>\n",
       "      <th>PROD_CAT</th>\n",
       "      <th>TYPE</th>\n",
       "      <th>RISK_DECISION</th>\n",
       "      <th>ACTION_TAKEN</th>\n",
       "      <th>DISTRIBUTION_STAT</th>\n",
       "      <th>HAZARDS_CAT</th>\n",
       "      <th>COUNT_ORIGEN</th>\n",
       "      <th>COUNT_DESTIN</th>\n",
       "      <th>COUNT_CONCERN</th>\n",
       "    </tr>\n",
       "  </thead>\n",
       "  <tbody>\n",
       "    <tr>\n",
       "      <th>130826</th>\n",
       "      <td>2005-12-14</td>\n",
       "      <td>Italy</td>\n",
       "      <td>nuts, nut products and seeds</td>\n",
       "      <td>food</td>\n",
       "      <td>undecided</td>\n",
       "      <td>re-dispatch</td>\n",
       "      <td>no distribution</td>\n",
       "      <td>mycotoxins</td>\n",
       "      <td>Iran</td>\n",
       "      <td></td>\n",
       "      <td>Italy</td>\n",
       "    </tr>\n",
       "    <tr>\n",
       "      <th>136065</th>\n",
       "      <td>2005-02-18</td>\n",
       "      <td>United Kingdom</td>\n",
       "      <td>soups, broths, sauces and condiments</td>\n",
       "      <td>food</td>\n",
       "      <td>undecided</td>\n",
       "      <td>(obsolete)</td>\n",
       "      <td>distribution on the market (possible)</td>\n",
       "      <td>composition</td>\n",
       "      <td>United Kingdom</td>\n",
       "      <td>Spain</td>\n",
       "      <td>Sweden</td>\n",
       "    </tr>\n",
       "    <tr>\n",
       "      <th>61653</th>\n",
       "      <td>2014-08-28</td>\n",
       "      <td>Poland</td>\n",
       "      <td>dietetic foods, food supplements, fortified foods</td>\n",
       "      <td>food</td>\n",
       "      <td>undecided</td>\n",
       "      <td>informing authorities</td>\n",
       "      <td>distribution to other member countries</td>\n",
       "      <td>composition</td>\n",
       "      <td>United States</td>\n",
       "      <td>Ireland</td>\n",
       "      <td></td>\n",
       "    </tr>\n",
       "    <tr>\n",
       "      <th>116235</th>\n",
       "      <td>2008-05-26</td>\n",
       "      <td>Germany</td>\n",
       "      <td>cocoa and cocoa preparations, coffee and tea</td>\n",
       "      <td>food</td>\n",
       "      <td>undecided</td>\n",
       "      <td>informing recipient(s)</td>\n",
       "      <td>distribution on the market (possible)</td>\n",
       "      <td>microbial contaminants (other)</td>\n",
       "      <td>Bulgaria</td>\n",
       "      <td>Germany</td>\n",
       "      <td>Commission Services</td>\n",
       "    </tr>\n",
       "    <tr>\n",
       "      <th>63245</th>\n",
       "      <td>2014-07-29</td>\n",
       "      <td>Spain</td>\n",
       "      <td>food additives and flavourings</td>\n",
       "      <td>food</td>\n",
       "      <td>serious</td>\n",
       "      <td>withdrawal from the market</td>\n",
       "      <td>distribution to other member countries</td>\n",
       "      <td>metals</td>\n",
       "      <td>China</td>\n",
       "      <td>Algeria</td>\n",
       "      <td>Commission Services</td>\n",
       "    </tr>\n",
       "    <tr>\n",
       "      <th>...</th>\n",
       "      <td>...</td>\n",
       "      <td>...</td>\n",
       "      <td>...</td>\n",
       "      <td>...</td>\n",
       "      <td>...</td>\n",
       "      <td>...</td>\n",
       "      <td>...</td>\n",
       "      <td>...</td>\n",
       "      <td>...</td>\n",
       "      <td>...</td>\n",
       "      <td>...</td>\n",
       "    </tr>\n",
       "    <tr>\n",
       "      <th>48782</th>\n",
       "      <td>2016-01-29</td>\n",
       "      <td>Italy</td>\n",
       "      <td>dietetic foods, food supplements, fortified foods</td>\n",
       "      <td>food</td>\n",
       "      <td>serious</td>\n",
       "      <td>recall from consumers</td>\n",
       "      <td>distribution to other member countries</td>\n",
       "      <td>labelling absent/incomplete/incorrect</td>\n",
       "      <td>Italy</td>\n",
       "      <td>Italy</td>\n",
       "      <td></td>\n",
       "    </tr>\n",
       "    <tr>\n",
       "      <th>131789</th>\n",
       "      <td>2005-10-19</td>\n",
       "      <td>France</td>\n",
       "      <td>herbs and spices</td>\n",
       "      <td>food</td>\n",
       "      <td>undecided</td>\n",
       "      <td>(obsolete)</td>\n",
       "      <td>distribution on the market (possible)</td>\n",
       "      <td>composition</td>\n",
       "      <td>India</td>\n",
       "      <td>Germany</td>\n",
       "      <td>France</td>\n",
       "    </tr>\n",
       "    <tr>\n",
       "      <th>64997</th>\n",
       "      <td>2014-06-05</td>\n",
       "      <td>Czech Republic</td>\n",
       "      <td>cocoa and cocoa preparations, coffee and tea</td>\n",
       "      <td>food</td>\n",
       "      <td>undecided</td>\n",
       "      <td>official detention</td>\n",
       "      <td>product not (yet) placed on the market</td>\n",
       "      <td>pesticide residues</td>\n",
       "      <td>China</td>\n",
       "      <td></td>\n",
       "      <td>Czech Republic</td>\n",
       "    </tr>\n",
       "    <tr>\n",
       "      <th>34716</th>\n",
       "      <td>2017-05-31</td>\n",
       "      <td>Germany</td>\n",
       "      <td>confectionery</td>\n",
       "      <td>food</td>\n",
       "      <td>serious</td>\n",
       "      <td>withdrawal from the market</td>\n",
       "      <td>distribution to other member countries</td>\n",
       "      <td>packaging defective / incorrect</td>\n",
       "      <td>Spain</td>\n",
       "      <td>Poland</td>\n",
       "      <td></td>\n",
       "    </tr>\n",
       "    <tr>\n",
       "      <th>59315</th>\n",
       "      <td>2014-11-21</td>\n",
       "      <td>Germany</td>\n",
       "      <td>cereals and bakery products</td>\n",
       "      <td>food</td>\n",
       "      <td>serious</td>\n",
       "      <td>withdrawal from the market</td>\n",
       "      <td>distribution to other member countries</td>\n",
       "      <td>composition</td>\n",
       "      <td>Thailand</td>\n",
       "      <td>Germany</td>\n",
       "      <td></td>\n",
       "    </tr>\n",
       "  </tbody>\n",
       "</table>\n",
       "<p>141529 rows × 11 columns</p>\n",
       "</div>"
      ],
      "text/plain": [
       "         DATE_CASE     NOT_COUNTRY  \\\n",
       "130826  2005-12-14           Italy   \n",
       "136065  2005-02-18  United Kingdom   \n",
       "61653   2014-08-28          Poland   \n",
       "116235  2008-05-26         Germany   \n",
       "63245   2014-07-29           Spain   \n",
       "...            ...             ...   \n",
       "48782   2016-01-29           Italy   \n",
       "131789  2005-10-19          France   \n",
       "64997   2014-06-05  Czech Republic   \n",
       "34716   2017-05-31         Germany   \n",
       "59315   2014-11-21         Germany   \n",
       "\n",
       "                                                 PROD_CAT  TYPE RISK_DECISION  \\\n",
       "130826                       nuts, nut products and seeds  food     undecided   \n",
       "136065               soups, broths, sauces and condiments  food     undecided   \n",
       "61653   dietetic foods, food supplements, fortified foods  food     undecided   \n",
       "116235       cocoa and cocoa preparations, coffee and tea  food     undecided   \n",
       "63245                      food additives and flavourings  food       serious   \n",
       "...                                                   ...   ...           ...   \n",
       "48782   dietetic foods, food supplements, fortified foods  food       serious   \n",
       "131789                                   herbs and spices  food     undecided   \n",
       "64997        cocoa and cocoa preparations, coffee and tea  food     undecided   \n",
       "34716                                       confectionery  food       serious   \n",
       "59315                         cereals and bakery products  food       serious   \n",
       "\n",
       "                      ACTION_TAKEN                       DISTRIBUTION_STAT  \\\n",
       "130826                 re-dispatch                         no distribution   \n",
       "136065                  (obsolete)   distribution on the market (possible)   \n",
       "61653        informing authorities  distribution to other member countries   \n",
       "116235      informing recipient(s)   distribution on the market (possible)   \n",
       "63245   withdrawal from the market  distribution to other member countries   \n",
       "...                            ...                                     ...   \n",
       "48782        recall from consumers  distribution to other member countries   \n",
       "131789                  (obsolete)   distribution on the market (possible)   \n",
       "64997           official detention  product not (yet) placed on the market   \n",
       "34716   withdrawal from the market  distribution to other member countries   \n",
       "59315   withdrawal from the market  distribution to other member countries   \n",
       "\n",
       "                                  HAZARDS_CAT    COUNT_ORIGEN COUNT_DESTIN  \\\n",
       "130826                             mycotoxins            Iran                \n",
       "136065                            composition  United Kingdom        Spain   \n",
       "61653                             composition   United States      Ireland   \n",
       "116235         microbial contaminants (other)        Bulgaria      Germany   \n",
       "63245                                  metals           China      Algeria   \n",
       "...                                       ...             ...          ...   \n",
       "48782   labelling absent/incomplete/incorrect           Italy        Italy   \n",
       "131789                            composition           India      Germany   \n",
       "64997                      pesticide residues           China                \n",
       "34716         packaging defective / incorrect           Spain       Poland   \n",
       "59315                             composition        Thailand      Germany   \n",
       "\n",
       "              COUNT_CONCERN  \n",
       "130826                Italy  \n",
       "136065               Sweden  \n",
       "61653                        \n",
       "116235  Commission Services  \n",
       "63245   Commission Services  \n",
       "...                     ...  \n",
       "48782                        \n",
       "131789               France  \n",
       "64997        Czech Republic  \n",
       "34716                        \n",
       "59315                        \n",
       "\n",
       "[141529 rows x 11 columns]"
      ]
     },
     "metadata": {},
     "execution_count": 3
    }
   ],
   "metadata": {
    "colab": {},
    "colab_type": "code",
    "id": "2CpE6W3wisUE",
    "outputId": "dd999a59-6d39-48e8-b5fa-c938cbd89c9e"
   }
  },
  {
   "cell_type": "markdown",
   "source": [
    "# Features"
   ],
   "metadata": {
    "colab_type": "text",
    "id": "CcVuC0h-isUL"
   }
  },
  {
   "cell_type": "code",
   "execution_count": 4,
   "source": [
    "features = [0,1,6,8]\r\n",
    "target = [2]\r\n",
    "X = train.iloc[:,features]\r\n",
    "y = train.iloc[:,target]"
   ],
   "outputs": [],
   "metadata": {
    "colab": {},
    "colab_type": "code",
    "id": "w7xE6OPSisUM"
   }
  },
  {
   "cell_type": "code",
   "execution_count": 5,
   "source": [
    "X "
   ],
   "outputs": [
    {
     "output_type": "execute_result",
     "data": {
      "text/html": [
       "<div>\n",
       "<style scoped>\n",
       "    .dataframe tbody tr th:only-of-type {\n",
       "        vertical-align: middle;\n",
       "    }\n",
       "\n",
       "    .dataframe tbody tr th {\n",
       "        vertical-align: top;\n",
       "    }\n",
       "\n",
       "    .dataframe thead th {\n",
       "        text-align: right;\n",
       "    }\n",
       "</style>\n",
       "<table border=\"1\" class=\"dataframe\">\n",
       "  <thead>\n",
       "    <tr style=\"text-align: right;\">\n",
       "      <th></th>\n",
       "      <th>DATE_CASE</th>\n",
       "      <th>NOT_COUNTRY</th>\n",
       "      <th>DISTRIBUTION_STAT</th>\n",
       "      <th>COUNT_ORIGEN</th>\n",
       "    </tr>\n",
       "  </thead>\n",
       "  <tbody>\n",
       "    <tr>\n",
       "      <th>130826</th>\n",
       "      <td>2005-12-14</td>\n",
       "      <td>Italy</td>\n",
       "      <td>no distribution</td>\n",
       "      <td>Iran</td>\n",
       "    </tr>\n",
       "    <tr>\n",
       "      <th>136065</th>\n",
       "      <td>2005-02-18</td>\n",
       "      <td>United Kingdom</td>\n",
       "      <td>distribution on the market (possible)</td>\n",
       "      <td>United Kingdom</td>\n",
       "    </tr>\n",
       "    <tr>\n",
       "      <th>61653</th>\n",
       "      <td>2014-08-28</td>\n",
       "      <td>Poland</td>\n",
       "      <td>distribution to other member countries</td>\n",
       "      <td>United States</td>\n",
       "    </tr>\n",
       "    <tr>\n",
       "      <th>116235</th>\n",
       "      <td>2008-05-26</td>\n",
       "      <td>Germany</td>\n",
       "      <td>distribution on the market (possible)</td>\n",
       "      <td>Bulgaria</td>\n",
       "    </tr>\n",
       "    <tr>\n",
       "      <th>63245</th>\n",
       "      <td>2014-07-29</td>\n",
       "      <td>Spain</td>\n",
       "      <td>distribution to other member countries</td>\n",
       "      <td>China</td>\n",
       "    </tr>\n",
       "    <tr>\n",
       "      <th>...</th>\n",
       "      <td>...</td>\n",
       "      <td>...</td>\n",
       "      <td>...</td>\n",
       "      <td>...</td>\n",
       "    </tr>\n",
       "    <tr>\n",
       "      <th>48782</th>\n",
       "      <td>2016-01-29</td>\n",
       "      <td>Italy</td>\n",
       "      <td>distribution to other member countries</td>\n",
       "      <td>Italy</td>\n",
       "    </tr>\n",
       "    <tr>\n",
       "      <th>131789</th>\n",
       "      <td>2005-10-19</td>\n",
       "      <td>France</td>\n",
       "      <td>distribution on the market (possible)</td>\n",
       "      <td>India</td>\n",
       "    </tr>\n",
       "    <tr>\n",
       "      <th>64997</th>\n",
       "      <td>2014-06-05</td>\n",
       "      <td>Czech Republic</td>\n",
       "      <td>product not (yet) placed on the market</td>\n",
       "      <td>China</td>\n",
       "    </tr>\n",
       "    <tr>\n",
       "      <th>34716</th>\n",
       "      <td>2017-05-31</td>\n",
       "      <td>Germany</td>\n",
       "      <td>distribution to other member countries</td>\n",
       "      <td>Spain</td>\n",
       "    </tr>\n",
       "    <tr>\n",
       "      <th>59315</th>\n",
       "      <td>2014-11-21</td>\n",
       "      <td>Germany</td>\n",
       "      <td>distribution to other member countries</td>\n",
       "      <td>Thailand</td>\n",
       "    </tr>\n",
       "  </tbody>\n",
       "</table>\n",
       "<p>141529 rows × 4 columns</p>\n",
       "</div>"
      ],
      "text/plain": [
       "         DATE_CASE     NOT_COUNTRY                       DISTRIBUTION_STAT  \\\n",
       "130826  2005-12-14           Italy                         no distribution   \n",
       "136065  2005-02-18  United Kingdom   distribution on the market (possible)   \n",
       "61653   2014-08-28          Poland  distribution to other member countries   \n",
       "116235  2008-05-26         Germany   distribution on the market (possible)   \n",
       "63245   2014-07-29           Spain  distribution to other member countries   \n",
       "...            ...             ...                                     ...   \n",
       "48782   2016-01-29           Italy  distribution to other member countries   \n",
       "131789  2005-10-19          France   distribution on the market (possible)   \n",
       "64997   2014-06-05  Czech Republic  product not (yet) placed on the market   \n",
       "34716   2017-05-31         Germany  distribution to other member countries   \n",
       "59315   2014-11-21         Germany  distribution to other member countries   \n",
       "\n",
       "          COUNT_ORIGEN  \n",
       "130826            Iran  \n",
       "136065  United Kingdom  \n",
       "61653    United States  \n",
       "116235        Bulgaria  \n",
       "63245            China  \n",
       "...                ...  \n",
       "48782            Italy  \n",
       "131789           India  \n",
       "64997            China  \n",
       "34716            Spain  \n",
       "59315         Thailand  \n",
       "\n",
       "[141529 rows x 4 columns]"
      ]
     },
     "metadata": {},
     "execution_count": 5
    }
   ],
   "metadata": {
    "colab": {},
    "colab_type": "code",
    "id": "sdjBzZ8IisUQ",
    "outputId": "e02d2c00-605c-4d04-aa2d-60cc35dda7d6"
   }
  },
  {
   "cell_type": "code",
   "execution_count": 6,
   "source": [
    "y"
   ],
   "outputs": [
    {
     "output_type": "execute_result",
     "data": {
      "text/html": [
       "<div>\n",
       "<style scoped>\n",
       "    .dataframe tbody tr th:only-of-type {\n",
       "        vertical-align: middle;\n",
       "    }\n",
       "\n",
       "    .dataframe tbody tr th {\n",
       "        vertical-align: top;\n",
       "    }\n",
       "\n",
       "    .dataframe thead th {\n",
       "        text-align: right;\n",
       "    }\n",
       "</style>\n",
       "<table border=\"1\" class=\"dataframe\">\n",
       "  <thead>\n",
       "    <tr style=\"text-align: right;\">\n",
       "      <th></th>\n",
       "      <th>PROD_CAT</th>\n",
       "    </tr>\n",
       "  </thead>\n",
       "  <tbody>\n",
       "    <tr>\n",
       "      <th>130826</th>\n",
       "      <td>nuts, nut products and seeds</td>\n",
       "    </tr>\n",
       "    <tr>\n",
       "      <th>136065</th>\n",
       "      <td>soups, broths, sauces and condiments</td>\n",
       "    </tr>\n",
       "    <tr>\n",
       "      <th>61653</th>\n",
       "      <td>dietetic foods, food supplements, fortified foods</td>\n",
       "    </tr>\n",
       "    <tr>\n",
       "      <th>116235</th>\n",
       "      <td>cocoa and cocoa preparations, coffee and tea</td>\n",
       "    </tr>\n",
       "    <tr>\n",
       "      <th>63245</th>\n",
       "      <td>food additives and flavourings</td>\n",
       "    </tr>\n",
       "    <tr>\n",
       "      <th>...</th>\n",
       "      <td>...</td>\n",
       "    </tr>\n",
       "    <tr>\n",
       "      <th>48782</th>\n",
       "      <td>dietetic foods, food supplements, fortified foods</td>\n",
       "    </tr>\n",
       "    <tr>\n",
       "      <th>131789</th>\n",
       "      <td>herbs and spices</td>\n",
       "    </tr>\n",
       "    <tr>\n",
       "      <th>64997</th>\n",
       "      <td>cocoa and cocoa preparations, coffee and tea</td>\n",
       "    </tr>\n",
       "    <tr>\n",
       "      <th>34716</th>\n",
       "      <td>confectionery</td>\n",
       "    </tr>\n",
       "    <tr>\n",
       "      <th>59315</th>\n",
       "      <td>cereals and bakery products</td>\n",
       "    </tr>\n",
       "  </tbody>\n",
       "</table>\n",
       "<p>141529 rows × 1 columns</p>\n",
       "</div>"
      ],
      "text/plain": [
       "                                                 PROD_CAT\n",
       "130826                       nuts, nut products and seeds\n",
       "136065               soups, broths, sauces and condiments\n",
       "61653   dietetic foods, food supplements, fortified foods\n",
       "116235       cocoa and cocoa preparations, coffee and tea\n",
       "63245                      food additives and flavourings\n",
       "...                                                   ...\n",
       "48782   dietetic foods, food supplements, fortified foods\n",
       "131789                                   herbs and spices\n",
       "64997        cocoa and cocoa preparations, coffee and tea\n",
       "34716                                       confectionery\n",
       "59315                         cereals and bakery products\n",
       "\n",
       "[141529 rows x 1 columns]"
      ]
     },
     "metadata": {},
     "execution_count": 6
    }
   ],
   "metadata": {
    "colab": {},
    "colab_type": "code",
    "id": "cc-JO_VLisUV",
    "outputId": "cfd5716d-534c-4c26-b33e-31ca02790a98"
   }
  },
  {
   "cell_type": "markdown",
   "source": [
    "# Split"
   ],
   "metadata": {
    "colab_type": "text",
    "id": "NmfbhWg-isUb"
   }
  },
  {
   "cell_type": "code",
   "execution_count": 7,
   "source": [
    "X_train, X_test, y_train, y_test = train_test_split(X, y, test_size=0.2)"
   ],
   "outputs": [],
   "metadata": {
    "colab": {},
    "colab_type": "code",
    "id": "62tPem_SisUb"
   }
  },
  {
   "cell_type": "markdown",
   "source": [
    "# Para probar codificaciones (opcional)"
   ],
   "metadata": {
    "colab_type": "text",
    "id": "5LYs1zB_isUf"
   }
  },
  {
   "cell_type": "code",
   "execution_count": 8,
   "source": [
    "encX = OneHotEncoder(handle_unknown='ignore')\r\n",
    "#encX = OrdinalEncoder()\r\n",
    "#encX = FeatureHasher(n_features=25,input_type='string')\r\n",
    "#encX = MultiLabelBinarizer()\r\n",
    "encX.fit(X.values)\r\n",
    "X_one_hot = encX.transform(X.values)"
   ],
   "outputs": [],
   "metadata": {
    "ExecuteTime": {
     "end_time": "2019-05-29T14:17:04.402377Z",
     "start_time": "2019-05-29T14:17:04.285684Z"
    },
    "colab": {},
    "colab_type": "code",
    "id": "nBOikG7cisUg"
   }
  },
  {
   "cell_type": "code",
   "execution_count": 9,
   "source": [
    "X_train, X_test, y_train, y_test = train_test_split(X_one_hot, y, test_size=0.2)"
   ],
   "outputs": [],
   "metadata": {
    "ExecuteTime": {
     "end_time": "2019-05-29T14:17:04.724124Z",
     "start_time": "2019-05-29T14:17:04.702189Z"
    },
    "colab": {},
    "colab_type": "code",
    "id": "K7waZAV2isUk"
   }
  },
  {
   "cell_type": "markdown",
   "source": [
    "# Árboles de decisión"
   ],
   "metadata": {
    "colab_type": "text",
    "id": "AsNgTw5disUn"
   }
  },
  {
   "cell_type": "code",
   "execution_count": 10,
   "source": [
    "params ={'criterion' :['gini', 'entropy'], \r\n",
    "         'splitter' :['best', 'random'], \r\n",
    "         'max_features':['auto', 'sqrt', 'log2']\r\n",
    "        }\r\n",
    "grid_search_cv = GridSearchCV(tree.DecisionTreeClassifier(random_state=42), params, verbose=1, cv=3)\r\n",
    "clf = grid_search_cv.fit(X_train, y_train)"
   ],
   "outputs": [
    {
     "output_type": "stream",
     "name": "stdout",
     "text": [
      "Fitting 3 folds for each of 12 candidates, totalling 36 fits\n"
     ]
    }
   ],
   "metadata": {}
  },
  {
   "cell_type": "code",
   "execution_count": 11,
   "source": [
    "clf.best_estimator_"
   ],
   "outputs": [
    {
     "output_type": "execute_result",
     "data": {
      "text/plain": [
       "DecisionTreeClassifier(max_features='auto', random_state=42)"
      ]
     },
     "metadata": {},
     "execution_count": 11
    }
   ],
   "metadata": {}
  },
  {
   "cell_type": "code",
   "execution_count": 12,
   "source": [
    "clf = tree.DecisionTreeClassifier(criterion='entropy', max_features='auto',\r\n",
    "                       random_state=42)\r\n",
    "clf = clf.fit(X_train,y_train)\r\n",
    "y_pred = clf.predict(X_test)"
   ],
   "outputs": [],
   "metadata": {
    "ExecuteTime": {
     "end_time": "2019-05-29T14:17:17.755355Z",
     "start_time": "2019-05-29T14:17:17.742364Z"
    },
    "colab": {},
    "colab_type": "code",
    "id": "bdSRgyZ-isUr"
   }
  },
  {
   "cell_type": "code",
   "execution_count": 13,
   "source": [
    "print(classification_report(y_test, y_pred, zero_division=0))"
   ],
   "outputs": [
    {
     "output_type": "stream",
     "name": "stdout",
     "text": [
      "                                                   precision    recall  f1-score   support\n",
      "\n",
      "                              alcoholic beverages       0.88      0.88      0.88       100\n",
      "                  animal by-products - (obsolete)       1.00      0.50      0.67         6\n",
      "                    animal nutrition - (obsolete)       0.75      0.78      0.77       122\n",
      "            bivalve molluscs and products thereof       0.76      0.80      0.78       465\n",
      "                 cephalopods and products thereof       0.65      0.70      0.67       164\n",
      "                      cereals and bakery products       0.84      0.81      0.83      1405\n",
      "     cocoa and cocoa preparations, coffee and tea       0.88      0.88      0.88       644\n",
      "                                   compound feeds       0.89      0.81      0.85       191\n",
      "                                    confectionery       0.84      0.83      0.84       535\n",
      "                 crustaceans and products thereof       0.73      0.69      0.71       533\n",
      "dietetic foods, food supplements, fortified foods       0.94      0.95      0.95      3482\n",
      "                            eggs and egg products       0.95      0.89      0.92       311\n",
      "                                    fats and oils       0.88      0.85      0.86       427\n",
      "                                   feed additives       0.98      0.95      0.96       273\n",
      "     feed for food-producing animals - (obsolete)       0.80      0.70      0.75       145\n",
      "                                   feed materials       0.77      0.76      0.76       864\n",
      "                                 feed premixtures       0.95      0.93      0.94        74\n",
      "                           fish and fish products       0.82      0.84      0.83      2362\n",
      "                   food additives and flavourings       0.93      0.92      0.93       186\n",
      "                           food contact materials       0.91      0.91      0.91      2126\n",
      "                            fruits and vegetables       0.84      0.86      0.85      3748\n",
      "                                       gastropods       0.53      0.70      0.60        23\n",
      "                                 herbs and spices       0.85      0.86      0.86      1607\n",
      "                            honey and royal jelly       0.85      0.80      0.83       127\n",
      "                                ices and desserts       0.95      0.89      0.92        85\n",
      "      meat and meat products (other than poultry)       0.81      0.81      0.81      1439\n",
      "                           milk and milk products       0.85      0.89      0.87       744\n",
      "       molluscs and products thereof - (obsolete)       0.76      0.75      0.76        68\n",
      "                            natural mineral water       0.79      0.81      0.80        32\n",
      "                          non-alcoholic beverages       0.77      0.74      0.75       259\n",
      "                     nuts, nut products and seeds       0.83      0.83      0.83      2966\n",
      "                       other food product / mixed       0.92      0.85      0.88       416\n",
      "                                         pet food       0.85      0.83      0.84       429\n",
      "           poultry meat and poultry meat products       0.83      0.79      0.81      1004\n",
      "                       prepared dishes and snacks       0.90      0.87      0.89       485\n",
      "             soups, broths, sauces and condiments       0.78      0.81      0.79       417\n",
      "              water for human consumption (other)       0.79      0.76      0.78        25\n",
      "                                             wine       1.00      0.94      0.97        17\n",
      "\n",
      "                                         accuracy                           0.85     28306\n",
      "                                        macro avg       0.84      0.82      0.83     28306\n",
      "                                     weighted avg       0.85      0.85      0.85     28306\n",
      "\n"
     ]
    }
   ],
   "metadata": {
    "ExecuteTime": {
     "end_time": "2019-05-29T14:17:18.942217Z",
     "start_time": "2019-05-29T14:17:18.622045Z"
    },
    "colab": {},
    "colab_type": "code",
    "id": "7PfBFVzIisUw",
    "outputId": "bb71120f-960d-4012-f89b-c4c8b9913bd0",
    "scrolled": true
   }
  },
  {
   "cell_type": "code",
   "execution_count": 14,
   "source": [
    "print(\"specificity: \",clf.score(X_test, y_test))\r\n",
    "\r\n",
    "print(\"sensitivity: \",recall_score(y_test, y_pred, average='macro'))\r\n",
    "\r\n",
    "print(\"precision: \",precision_score(y_test, y_pred, average='macro'))\r\n",
    "\r\n",
    "cm= confusion_matrix(y_test, y_pred)\r\n",
    "\r\n",
    "disp = ConfusionMatrixDisplay(confusion_matrix=cm,\r\n",
    "                              display_labels=clf.classes_) \r\n",
    "disp.plot() "
   ],
   "outputs": [
    {
     "output_type": "stream",
     "name": "stdout",
     "text": [
      "specificity:  0.8529640358934502\n",
      "sensitivity:  0.8208801686833506\n",
      "precision:  0.8435888691180553\n"
     ]
    },
    {
     "output_type": "execute_result",
     "data": {
      "text/plain": [
       "<sklearn.metrics._plot.confusion_matrix.ConfusionMatrixDisplay at 0x19d7e85bac0>"
      ]
     },
     "metadata": {},
     "execution_count": 14
    },
    {
     "output_type": "display_data",
     "data": {
      "image/png": "[encoded data removed]",
      "text/plain": [
       "<Figure size 432x288 with 2 Axes>"
      ]
     },
     "metadata": {
      "needs_background": "light"
     }
    }
   ],
   "metadata": {
    "ExecuteTime": {
     "end_time": "2019-05-29T14:17:19.488183Z",
     "start_time": "2019-05-29T14:17:19.453267Z"
    },
    "colab": {},
    "colab_type": "code",
    "id": "Ld5qOv9DisU0",
    "outputId": "15533da6-6f74-4789-8cc6-5c422ab07c1f"
   }
  },
  {
   "cell_type": "markdown",
   "source": [
    "# Random Forest"
   ],
   "metadata": {
    "colab_type": "text",
    "id": "LYuyuZYIisU3"
   }
  },
  {
   "cell_type": "code",
   "execution_count": 15,
   "source": [
    "param_grid = {\r\n",
    "    'bootstrap': [True],\r\n",
    "    'max_depth': [80, 90, 100, 110],\r\n",
    "    'max_features': [2, 3],\r\n",
    "    'min_samples_leaf': [3, 4, 5],\r\n",
    "    'min_samples_split': [8, 10, 12],\r\n",
    "    'n_estimators': [100, 200, 300, 1000]}\r\n",
    "\r\n",
    "rf = RandomForestClassifier()\r\n",
    "\r\n",
    "grid_search = GridSearchCV(estimator = rf, param_grid = param_grid, \r\n",
    "                          cv = 3, n_jobs = -1, verbose = 2)\r\n",
    "grid_search.fit(X_train, y_train)\r\n",
    "grid_search.best_params_"
   ],
   "outputs": [
    {
     "output_type": "stream",
     "name": "stdout",
     "text": [
      "Fitting 3 folds for each of 288 candidates, totalling 864 fits\n"
     ]
    },
    {
     "output_type": "error",
     "ename": "KeyboardInterrupt",
     "evalue": "",
     "traceback": [
      "\u001b[1;31m---------------------------------------------------------------------------\u001b[0m",
      "\u001b[1;31mKeyboardInterrupt\u001b[0m                         Traceback (most recent call last)",
      "\u001b[1;32m<ipython-input-15-9cf21de3fb00>\u001b[0m in \u001b[0;36m<module>\u001b[1;34m\u001b[0m\n\u001b[0;32m     11\u001b[0m grid_search = GridSearchCV(estimator = rf, param_grid = param_grid, \n\u001b[0;32m     12\u001b[0m                           cv = 3, n_jobs = -1, verbose = 2)\n\u001b[1;32m---> 13\u001b[1;33m \u001b[0mgrid_search\u001b[0m\u001b[1;33m.\u001b[0m\u001b[0mfit\u001b[0m\u001b[1;33m(\u001b[0m\u001b[0mX_train\u001b[0m\u001b[1;33m,\u001b[0m \u001b[0my_train\u001b[0m\u001b[1;33m)\u001b[0m\u001b[1;33m\u001b[0m\u001b[1;33m\u001b[0m\u001b[0m\n\u001b[0m\u001b[0;32m     14\u001b[0m \u001b[0mgrid_search\u001b[0m\u001b[1;33m.\u001b[0m\u001b[0mbest_params_\u001b[0m\u001b[1;33m\u001b[0m\u001b[1;33m\u001b[0m\u001b[0m\n",
      "\u001b[1;32mD:\\Anaconda\\lib\\site-packages\\sklearn\\utils\\validation.py\u001b[0m in \u001b[0;36minner_f\u001b[1;34m(*args, **kwargs)\u001b[0m\n\u001b[0;32m     61\u001b[0m             \u001b[0mextra_args\u001b[0m \u001b[1;33m=\u001b[0m \u001b[0mlen\u001b[0m\u001b[1;33m(\u001b[0m\u001b[0margs\u001b[0m\u001b[1;33m)\u001b[0m \u001b[1;33m-\u001b[0m \u001b[0mlen\u001b[0m\u001b[1;33m(\u001b[0m\u001b[0mall_args\u001b[0m\u001b[1;33m)\u001b[0m\u001b[1;33m\u001b[0m\u001b[1;33m\u001b[0m\u001b[0m\n\u001b[0;32m     62\u001b[0m             \u001b[1;32mif\u001b[0m \u001b[0mextra_args\u001b[0m \u001b[1;33m<=\u001b[0m \u001b[1;36m0\u001b[0m\u001b[1;33m:\u001b[0m\u001b[1;33m\u001b[0m\u001b[1;33m\u001b[0m\u001b[0m\n\u001b[1;32m---> 63\u001b[1;33m                 \u001b[1;32mreturn\u001b[0m \u001b[0mf\u001b[0m\u001b[1;33m(\u001b[0m\u001b[1;33m*\u001b[0m\u001b[0margs\u001b[0m\u001b[1;33m,\u001b[0m \u001b[1;33m**\u001b[0m\u001b[0mkwargs\u001b[0m\u001b[1;33m)\u001b[0m\u001b[1;33m\u001b[0m\u001b[1;33m\u001b[0m\u001b[0m\n\u001b[0m\u001b[0;32m     64\u001b[0m \u001b[1;33m\u001b[0m\u001b[0m\n\u001b[0;32m     65\u001b[0m             \u001b[1;31m# extra_args > 0\u001b[0m\u001b[1;33m\u001b[0m\u001b[1;33m\u001b[0m\u001b[1;33m\u001b[0m\u001b[0m\n",
      "\u001b[1;32mD:\\Anaconda\\lib\\site-packages\\sklearn\\model_selection\\_search.py\u001b[0m in \u001b[0;36mfit\u001b[1;34m(self, X, y, groups, **fit_params)\u001b[0m\n\u001b[0;32m    839\u001b[0m                 \u001b[1;32mreturn\u001b[0m \u001b[0mresults\u001b[0m\u001b[1;33m\u001b[0m\u001b[1;33m\u001b[0m\u001b[0m\n\u001b[0;32m    840\u001b[0m \u001b[1;33m\u001b[0m\u001b[0m\n\u001b[1;32m--> 841\u001b[1;33m             \u001b[0mself\u001b[0m\u001b[1;33m.\u001b[0m\u001b[0m_run_search\u001b[0m\u001b[1;33m(\u001b[0m\u001b[0mevaluate_candidates\u001b[0m\u001b[1;33m)\u001b[0m\u001b[1;33m\u001b[0m\u001b[1;33m\u001b[0m\u001b[0m\n\u001b[0m\u001b[0;32m    842\u001b[0m \u001b[1;33m\u001b[0m\u001b[0m\n\u001b[0;32m    843\u001b[0m             \u001b[1;31m# multimetric is determined here because in the case of a callable\u001b[0m\u001b[1;33m\u001b[0m\u001b[1;33m\u001b[0m\u001b[1;33m\u001b[0m\u001b[0m\n",
      "\u001b[1;32mD:\\Anaconda\\lib\\site-packages\\sklearn\\model_selection\\_search.py\u001b[0m in \u001b[0;36m_run_search\u001b[1;34m(self, evaluate_candidates)\u001b[0m\n\u001b[0;32m   1286\u001b[0m     \u001b[1;32mdef\u001b[0m \u001b[0m_run_search\u001b[0m\u001b[1;33m(\u001b[0m\u001b[0mself\u001b[0m\u001b[1;33m,\u001b[0m \u001b[0mevaluate_candidates\u001b[0m\u001b[1;33m)\u001b[0m\u001b[1;33m:\u001b[0m\u001b[1;33m\u001b[0m\u001b[1;33m\u001b[0m\u001b[0m\n\u001b[0;32m   1287\u001b[0m         \u001b[1;34m\"\"\"Search all candidates in param_grid\"\"\"\u001b[0m\u001b[1;33m\u001b[0m\u001b[1;33m\u001b[0m\u001b[0m\n\u001b[1;32m-> 1288\u001b[1;33m         \u001b[0mevaluate_candidates\u001b[0m\u001b[1;33m(\u001b[0m\u001b[0mParameterGrid\u001b[0m\u001b[1;33m(\u001b[0m\u001b[0mself\u001b[0m\u001b[1;33m.\u001b[0m\u001b[0mparam_grid\u001b[0m\u001b[1;33m)\u001b[0m\u001b[1;33m)\u001b[0m\u001b[1;33m\u001b[0m\u001b[1;33m\u001b[0m\u001b[0m\n\u001b[0m\u001b[0;32m   1289\u001b[0m \u001b[1;33m\u001b[0m\u001b[0m\n\u001b[0;32m   1290\u001b[0m \u001b[1;33m\u001b[0m\u001b[0m\n",
      "\u001b[1;32mD:\\Anaconda\\lib\\site-packages\\sklearn\\model_selection\\_search.py\u001b[0m in \u001b[0;36mevaluate_candidates\u001b[1;34m(candidate_params, cv, more_results)\u001b[0m\n\u001b[0;32m    793\u001b[0m                               n_splits, n_candidates, n_candidates * n_splits))\n\u001b[0;32m    794\u001b[0m \u001b[1;33m\u001b[0m\u001b[0m\n\u001b[1;32m--> 795\u001b[1;33m                 out = parallel(delayed(_fit_and_score)(clone(base_estimator),\n\u001b[0m\u001b[0;32m    796\u001b[0m                                                        \u001b[0mX\u001b[0m\u001b[1;33m,\u001b[0m \u001b[0my\u001b[0m\u001b[1;33m,\u001b[0m\u001b[1;33m\u001b[0m\u001b[1;33m\u001b[0m\u001b[0m\n\u001b[0;32m    797\u001b[0m                                                        \u001b[0mtrain\u001b[0m\u001b[1;33m=\u001b[0m\u001b[0mtrain\u001b[0m\u001b[1;33m,\u001b[0m \u001b[0mtest\u001b[0m\u001b[1;33m=\u001b[0m\u001b[0mtest\u001b[0m\u001b[1;33m,\u001b[0m\u001b[1;33m\u001b[0m\u001b[1;33m\u001b[0m\u001b[0m\n",
      "\u001b[1;32mD:\\Anaconda\\lib\\site-packages\\joblib\\parallel.py\u001b[0m in \u001b[0;36m__call__\u001b[1;34m(self, iterable)\u001b[0m\n\u001b[0;32m   1052\u001b[0m \u001b[1;33m\u001b[0m\u001b[0m\n\u001b[0;32m   1053\u001b[0m             \u001b[1;32mwith\u001b[0m \u001b[0mself\u001b[0m\u001b[1;33m.\u001b[0m\u001b[0m_backend\u001b[0m\u001b[1;33m.\u001b[0m\u001b[0mretrieval_context\u001b[0m\u001b[1;33m(\u001b[0m\u001b[1;33m)\u001b[0m\u001b[1;33m:\u001b[0m\u001b[1;33m\u001b[0m\u001b[1;33m\u001b[0m\u001b[0m\n\u001b[1;32m-> 1054\u001b[1;33m                 \u001b[0mself\u001b[0m\u001b[1;33m.\u001b[0m\u001b[0mretrieve\u001b[0m\u001b[1;33m(\u001b[0m\u001b[1;33m)\u001b[0m\u001b[1;33m\u001b[0m\u001b[1;33m\u001b[0m\u001b[0m\n\u001b[0m\u001b[0;32m   1055\u001b[0m             \u001b[1;31m# Make sure that we get a last message telling us we are done\u001b[0m\u001b[1;33m\u001b[0m\u001b[1;33m\u001b[0m\u001b[1;33m\u001b[0m\u001b[0m\n\u001b[0;32m   1056\u001b[0m             \u001b[0melapsed_time\u001b[0m \u001b[1;33m=\u001b[0m \u001b[0mtime\u001b[0m\u001b[1;33m.\u001b[0m\u001b[0mtime\u001b[0m\u001b[1;33m(\u001b[0m\u001b[1;33m)\u001b[0m \u001b[1;33m-\u001b[0m \u001b[0mself\u001b[0m\u001b[1;33m.\u001b[0m\u001b[0m_start_time\u001b[0m\u001b[1;33m\u001b[0m\u001b[1;33m\u001b[0m\u001b[0m\n",
      "\u001b[1;32mD:\\Anaconda\\lib\\site-packages\\joblib\\parallel.py\u001b[0m in \u001b[0;36mretrieve\u001b[1;34m(self)\u001b[0m\n\u001b[0;32m    931\u001b[0m             \u001b[1;32mtry\u001b[0m\u001b[1;33m:\u001b[0m\u001b[1;33m\u001b[0m\u001b[1;33m\u001b[0m\u001b[0m\n\u001b[0;32m    932\u001b[0m                 \u001b[1;32mif\u001b[0m \u001b[0mgetattr\u001b[0m\u001b[1;33m(\u001b[0m\u001b[0mself\u001b[0m\u001b[1;33m.\u001b[0m\u001b[0m_backend\u001b[0m\u001b[1;33m,\u001b[0m \u001b[1;34m'supports_timeout'\u001b[0m\u001b[1;33m,\u001b[0m \u001b[1;32mFalse\u001b[0m\u001b[1;33m)\u001b[0m\u001b[1;33m:\u001b[0m\u001b[1;33m\u001b[0m\u001b[1;33m\u001b[0m\u001b[0m\n\u001b[1;32m--> 933\u001b[1;33m                     \u001b[0mself\u001b[0m\u001b[1;33m.\u001b[0m\u001b[0m_output\u001b[0m\u001b[1;33m.\u001b[0m\u001b[0mextend\u001b[0m\u001b[1;33m(\u001b[0m\u001b[0mjob\u001b[0m\u001b[1;33m.\u001b[0m\u001b[0mget\u001b[0m\u001b[1;33m(\u001b[0m\u001b[0mtimeout\u001b[0m\u001b[1;33m=\u001b[0m\u001b[0mself\u001b[0m\u001b[1;33m.\u001b[0m\u001b[0mtimeout\u001b[0m\u001b[1;33m)\u001b[0m\u001b[1;33m)\u001b[0m\u001b[1;33m\u001b[0m\u001b[1;33m\u001b[0m\u001b[0m\n\u001b[0m\u001b[0;32m    934\u001b[0m                 \u001b[1;32melse\u001b[0m\u001b[1;33m:\u001b[0m\u001b[1;33m\u001b[0m\u001b[1;33m\u001b[0m\u001b[0m\n\u001b[0;32m    935\u001b[0m                     \u001b[0mself\u001b[0m\u001b[1;33m.\u001b[0m\u001b[0m_output\u001b[0m\u001b[1;33m.\u001b[0m\u001b[0mextend\u001b[0m\u001b[1;33m(\u001b[0m\u001b[0mjob\u001b[0m\u001b[1;33m.\u001b[0m\u001b[0mget\u001b[0m\u001b[1;33m(\u001b[0m\u001b[1;33m)\u001b[0m\u001b[1;33m)\u001b[0m\u001b[1;33m\u001b[0m\u001b[1;33m\u001b[0m\u001b[0m\n",
      "\u001b[1;32mD:\\Anaconda\\lib\\site-packages\\joblib\\_parallel_backends.py\u001b[0m in \u001b[0;36mwrap_future_result\u001b[1;34m(future, timeout)\u001b[0m\n\u001b[0;32m    540\u001b[0m         AsyncResults.get from multiprocessing.\"\"\"\n\u001b[0;32m    541\u001b[0m         \u001b[1;32mtry\u001b[0m\u001b[1;33m:\u001b[0m\u001b[1;33m\u001b[0m\u001b[1;33m\u001b[0m\u001b[0m\n\u001b[1;32m--> 542\u001b[1;33m             \u001b[1;32mreturn\u001b[0m \u001b[0mfuture\u001b[0m\u001b[1;33m.\u001b[0m\u001b[0mresult\u001b[0m\u001b[1;33m(\u001b[0m\u001b[0mtimeout\u001b[0m\u001b[1;33m=\u001b[0m\u001b[0mtimeout\u001b[0m\u001b[1;33m)\u001b[0m\u001b[1;33m\u001b[0m\u001b[1;33m\u001b[0m\u001b[0m\n\u001b[0m\u001b[0;32m    543\u001b[0m         \u001b[1;32mexcept\u001b[0m \u001b[0mCfTimeoutError\u001b[0m \u001b[1;32mas\u001b[0m \u001b[0me\u001b[0m\u001b[1;33m:\u001b[0m\u001b[1;33m\u001b[0m\u001b[1;33m\u001b[0m\u001b[0m\n\u001b[0;32m    544\u001b[0m             \u001b[1;32mraise\u001b[0m \u001b[0mTimeoutError\u001b[0m \u001b[1;32mfrom\u001b[0m \u001b[0me\u001b[0m\u001b[1;33m\u001b[0m\u001b[1;33m\u001b[0m\u001b[0m\n",
      "\u001b[1;32mD:\\Anaconda\\lib\\concurrent\\futures\\_base.py\u001b[0m in \u001b[0;36mresult\u001b[1;34m(self, timeout)\u001b[0m\n\u001b[0;32m    432\u001b[0m                 \u001b[1;32mreturn\u001b[0m \u001b[0mself\u001b[0m\u001b[1;33m.\u001b[0m\u001b[0m__get_result\u001b[0m\u001b[1;33m(\u001b[0m\u001b[1;33m)\u001b[0m\u001b[1;33m\u001b[0m\u001b[1;33m\u001b[0m\u001b[0m\n\u001b[0;32m    433\u001b[0m \u001b[1;33m\u001b[0m\u001b[0m\n\u001b[1;32m--> 434\u001b[1;33m             \u001b[0mself\u001b[0m\u001b[1;33m.\u001b[0m\u001b[0m_condition\u001b[0m\u001b[1;33m.\u001b[0m\u001b[0mwait\u001b[0m\u001b[1;33m(\u001b[0m\u001b[0mtimeout\u001b[0m\u001b[1;33m)\u001b[0m\u001b[1;33m\u001b[0m\u001b[1;33m\u001b[0m\u001b[0m\n\u001b[0m\u001b[0;32m    435\u001b[0m \u001b[1;33m\u001b[0m\u001b[0m\n\u001b[0;32m    436\u001b[0m             \u001b[1;32mif\u001b[0m \u001b[0mself\u001b[0m\u001b[1;33m.\u001b[0m\u001b[0m_state\u001b[0m \u001b[1;32min\u001b[0m \u001b[1;33m[\u001b[0m\u001b[0mCANCELLED\u001b[0m\u001b[1;33m,\u001b[0m \u001b[0mCANCELLED_AND_NOTIFIED\u001b[0m\u001b[1;33m]\u001b[0m\u001b[1;33m:\u001b[0m\u001b[1;33m\u001b[0m\u001b[1;33m\u001b[0m\u001b[0m\n",
      "\u001b[1;32mD:\\Anaconda\\lib\\threading.py\u001b[0m in \u001b[0;36mwait\u001b[1;34m(self, timeout)\u001b[0m\n\u001b[0;32m    300\u001b[0m         \u001b[1;32mtry\u001b[0m\u001b[1;33m:\u001b[0m    \u001b[1;31m# restore state no matter what (e.g., KeyboardInterrupt)\u001b[0m\u001b[1;33m\u001b[0m\u001b[1;33m\u001b[0m\u001b[0m\n\u001b[0;32m    301\u001b[0m             \u001b[1;32mif\u001b[0m \u001b[0mtimeout\u001b[0m \u001b[1;32mis\u001b[0m \u001b[1;32mNone\u001b[0m\u001b[1;33m:\u001b[0m\u001b[1;33m\u001b[0m\u001b[1;33m\u001b[0m\u001b[0m\n\u001b[1;32m--> 302\u001b[1;33m                 \u001b[0mwaiter\u001b[0m\u001b[1;33m.\u001b[0m\u001b[0macquire\u001b[0m\u001b[1;33m(\u001b[0m\u001b[1;33m)\u001b[0m\u001b[1;33m\u001b[0m\u001b[1;33m\u001b[0m\u001b[0m\n\u001b[0m\u001b[0;32m    303\u001b[0m                 \u001b[0mgotit\u001b[0m \u001b[1;33m=\u001b[0m \u001b[1;32mTrue\u001b[0m\u001b[1;33m\u001b[0m\u001b[1;33m\u001b[0m\u001b[0m\n\u001b[0;32m    304\u001b[0m             \u001b[1;32melse\u001b[0m\u001b[1;33m:\u001b[0m\u001b[1;33m\u001b[0m\u001b[1;33m\u001b[0m\u001b[0m\n",
      "\u001b[1;31mKeyboardInterrupt\u001b[0m: "
     ]
    }
   ],
   "metadata": {}
  },
  {
   "cell_type": "code",
   "execution_count": null,
   "source": [
    "clf = RandomForestClassifier(bootstrap = True, max_depth = 110, max_features = 3, min_samples_leaf =  3, min_samples_split = 8, n_estimators =  200)\r\n",
    "clf = clf.fit(X_train,y_train)"
   ],
   "outputs": [
    {
     "output_type": "stream",
     "name": "stderr",
     "text": [
      "<ipython-input-25-50ed6adac834>:2: DataConversionWarning: A column-vector y was passed when a 1d array was expected. Please change the shape of y to (n_samples,), for example using ravel().\n",
      "  clf = clf.fit(X_train,y_train)\n"
     ]
    }
   ],
   "metadata": {
    "ExecuteTime": {
     "end_time": "2019-05-29T14:12:18.217291Z",
     "start_time": "2019-05-29T14:12:17.390502Z"
    },
    "colab": {},
    "colab_type": "code",
    "id": "gJ6HIWmKisU3"
   }
  },
  {
   "cell_type": "code",
   "execution_count": null,
   "source": [
    "y_pred = clf.predict(X_test)"
   ],
   "outputs": [],
   "metadata": {
    "ExecuteTime": {
     "end_time": "2019-05-29T14:12:19.096888Z",
     "start_time": "2019-05-29T14:12:18.957294Z"
    },
    "colab": {},
    "colab_type": "code",
    "id": "P8_hOg03isU8"
   }
  },
  {
   "cell_type": "code",
   "execution_count": null,
   "source": [
    "y_pred"
   ],
   "outputs": [
    {
     "output_type": "execute_result",
     "data": {
      "text/plain": [
       "array(['fruits and vegetables', 'fruits and vegetables',\n",
       "       'fruits and vegetables', ...,\n",
       "       'dietetic foods, food supplements, fortified foods',\n",
       "       'dietetic foods, food supplements, fortified foods',\n",
       "       'dietetic foods, food supplements, fortified foods'], dtype=object)"
      ]
     },
     "metadata": {},
     "execution_count": 27
    }
   ],
   "metadata": {
    "ExecuteTime": {
     "end_time": "2019-05-29T14:12:20.529121Z",
     "start_time": "2019-05-29T14:12:20.525132Z"
    },
    "colab": {},
    "colab_type": "code",
    "id": "3nEopJiYisU_",
    "outputId": "83275240-1d11-44d4-b8fc-077cc9307429"
   }
  },
  {
   "cell_type": "code",
   "execution_count": null,
   "source": [
    "print(classification_report(y_test,y_pred))"
   ],
   "outputs": [
    {
     "output_type": "stream",
     "name": "stderr",
     "text": [
      "C:\\Users\\Enrique\\anaconda3\\lib\\site-packages\\sklearn\\metrics\\_classification.py:1248: UndefinedMetricWarning: Precision and F-score are ill-defined and being set to 0.0 in labels with no predicted samples. Use `zero_division` parameter to control this behavior.\n",
      "  _warn_prf(average, modifier, msg_start, len(result))\n"
     ]
    },
    {
     "output_type": "stream",
     "name": "stdout",
     "text": [
      "                                                   precision    recall  f1-score   support\n",
      "\n",
      "                              alcoholic beverages       0.00      0.00      0.00        86\n",
      "                  animal by-products - (obsolete)       0.00      0.00      0.00         7\n",
      "                    animal nutrition - (obsolete)       0.00      0.00      0.00       128\n",
      "            bivalve molluscs and products thereof       0.00      0.00      0.00       492\n",
      "                 cephalopods and products thereof       0.00      0.00      0.00       159\n",
      "                      cereals and bakery products       1.00      0.02      0.04      1348\n",
      "     cocoa and cocoa preparations, coffee and tea       0.00      0.00      0.00       615\n",
      "                                   compound feeds       0.00      0.00      0.00       186\n",
      "                                    confectionery       0.00      0.00      0.00       576\n",
      "                 crustaceans and products thereof       0.00      0.00      0.00       517\n",
      "dietetic foods, food supplements, fortified foods       0.46      0.88      0.60      3361\n",
      "                            eggs and egg products       1.00      0.28      0.44       314\n",
      "                                    fats and oils       1.00      0.03      0.06       424\n",
      "                                   feed additives       0.00      0.00      0.00       246\n",
      "     feed for food-producing animals - (obsolete)       0.00      0.00      0.00       119\n",
      "                                   feed materials       1.00      0.01      0.03       881\n",
      "                                 feed premixtures       0.00      0.00      0.00        93\n",
      "                           fish and fish products       0.77      0.19      0.31      2382\n",
      "                   food additives and flavourings       0.00      0.00      0.00       169\n",
      "                           food contact materials       0.88      0.34      0.49      2170\n",
      "                            fruits and vegetables       0.20      0.95      0.32      3794\n",
      "                                       gastropods       0.00      0.00      0.00        14\n",
      "                                 herbs and spices       1.00      0.06      0.12      1627\n",
      "                            honey and royal jelly       0.00      0.00      0.00       133\n",
      "                                ices and desserts       0.00      0.00      0.00        72\n",
      "      meat and meat products (other than poultry)       1.00      0.06      0.12      1411\n",
      "                           milk and milk products       1.00      0.02      0.04       721\n",
      "       molluscs and products thereof - (obsolete)       0.00      0.00      0.00        65\n",
      "                            natural mineral water       0.00      0.00      0.00        33\n",
      "                          non-alcoholic beverages       0.00      0.00      0.00       260\n",
      "                     nuts, nut products and seeds       0.68      0.40      0.50      2935\n",
      "                       other food product / mixed       1.00      0.07      0.12       422\n",
      "                                         pet food       0.00      0.00      0.00       422\n",
      "           poultry meat and poultry meat products       1.00      0.01      0.01      1078\n",
      "                       prepared dishes and snacks       0.00      0.00      0.00       515\n",
      "             soups, broths, sauces and condiments       0.00      0.00      0.00       486\n",
      "              water for human consumption (other)       0.00      0.00      0.00        25\n",
      "                                             wine       0.00      0.00      0.00        20\n",
      "\n",
      "                                         accuracy                           0.33     28306\n",
      "                                        macro avg       0.32      0.09      0.08     28306\n",
      "                                     weighted avg       0.57      0.33      0.26     28306\n",
      "\n"
     ]
    },
    {
     "output_type": "stream",
     "name": "stderr",
     "text": [
      "C:\\Users\\Enrique\\anaconda3\\lib\\site-packages\\sklearn\\metrics\\_classification.py:1248: UndefinedMetricWarning: Precision and F-score are ill-defined and being set to 0.0 in labels with no predicted samples. Use `zero_division` parameter to control this behavior.\n",
      "  _warn_prf(average, modifier, msg_start, len(result))\n",
      "C:\\Users\\Enrique\\anaconda3\\lib\\site-packages\\sklearn\\metrics\\_classification.py:1248: UndefinedMetricWarning: Precision and F-score are ill-defined and being set to 0.0 in labels with no predicted samples. Use `zero_division` parameter to control this behavior.\n",
      "  _warn_prf(average, modifier, msg_start, len(result))\n"
     ]
    }
   ],
   "metadata": {
    "ExecuteTime": {
     "end_time": "2019-05-29T14:12:24.109264Z",
     "start_time": "2019-05-29T14:12:23.789148Z"
    },
    "colab": {},
    "colab_type": "code",
    "id": "xjm5a8TtisVC",
    "outputId": "920e742b-029c-453c-af1c-5cac33f40ba3",
    "scrolled": true
   }
  },
  {
   "cell_type": "code",
   "execution_count": null,
   "source": [
    "print(\"specificity: \",clf.score(X_test, y_test))\r\n",
    "\r\n",
    "print(\"sensitivity: \",recall_score(y_test, y_pred, average='macro'))\r\n",
    "\r\n",
    "print(\"precision: \",precision_score(y_test, y_pred, average='macro'))\r\n",
    "\r\n",
    "cm= confusion_matrix(y_test, y_pred)\r\n",
    "\r\n",
    "disp = ConfusionMatrixDisplay(confusion_matrix=cm,\r\n",
    "                              display_labels=clf.classes_) \r\n",
    "disp.plot() "
   ],
   "outputs": [
    {
     "output_type": "execute_result",
     "data": {
      "text/plain": [
       "0.32816364021762173"
      ]
     },
     "metadata": {},
     "execution_count": 29
    }
   ],
   "metadata": {
    "ExecuteTime": {
     "end_time": "2019-05-29T14:12:24.809025Z",
     "start_time": "2019-05-29T14:12:24.637510Z"
    },
    "colab": {},
    "colab_type": "code",
    "id": "hsX0mIjHisVF",
    "outputId": "c3b21fff-10e0-43df-e5a2-552e582c8469"
   }
  },
  {
   "cell_type": "markdown",
   "source": [
    "# Gaussian naive Bayes clasiffier"
   ],
   "metadata": {
    "colab_type": "text",
    "id": "GiRPkcSXisVI"
   }
  },
  {
   "cell_type": "code",
   "execution_count": null,
   "source": [
    "params = {'var_smoothing': np.logspace(0,-9, num=1)}\r\n",
    "gs_NB =  GridSearchCV(GaussianNB(), params, verbose=1, cv=3)\r\n",
    "gs_NB.fit(X_train.toarray(), y_train)\r\n",
    "\r\n",
    "gs_NB.best_params_"
   ],
   "outputs": [],
   "metadata": {}
  },
  {
   "cell_type": "code",
   "execution_count": null,
   "source": [
    "clf = GaussianNB(var_smoothing = 1.0)\r\n",
    "clf = clf.fit(X_train_one_hot.toarray(),y_train)"
   ],
   "outputs": [],
   "metadata": {
    "ExecuteTime": {
     "end_time": "2019-04-24T08:48:46.053759Z",
     "start_time": "2019-04-24T08:48:45.336057Z"
    },
    "colab": {},
    "colab_type": "code",
    "id": "d5jkwqfMisVJ"
   }
  },
  {
   "cell_type": "code",
   "execution_count": null,
   "source": [
    "y_pred = clf.predict(X_test_one_hot.toarray())"
   ],
   "outputs": [],
   "metadata": {
    "ExecuteTime": {
     "end_time": "2019-04-24T08:48:50.422701Z",
     "start_time": "2019-04-24T08:48:47.721717Z"
    },
    "colab": {},
    "colab_type": "code",
    "id": "sJmTeKfEisVM"
   }
  },
  {
   "cell_type": "code",
   "execution_count": null,
   "source": [
    "print(classification_report(y_test,y_pred))"
   ],
   "outputs": [],
   "metadata": {
    "ExecuteTime": {
     "end_time": "2019-04-24T08:48:52.025811Z",
     "start_time": "2019-04-24T08:48:51.577708Z"
    },
    "colab": {},
    "colab_type": "code",
    "id": "qEUaLmfoisVO",
    "outputId": "89a3ac81-8f6f-48f7-8b8a-2870c482641b",
    "scrolled": true
   }
  },
  {
   "cell_type": "code",
   "execution_count": null,
   "source": [
    "clf.score(X_test_one_hot.toarray(), y_test)"
   ],
   "outputs": [],
   "metadata": {
    "ExecuteTime": {
     "end_time": "2019-04-24T08:48:57.326470Z",
     "start_time": "2019-04-24T08:48:54.504429Z"
    },
    "colab": {},
    "colab_type": "code",
    "id": "-6NYF3LyisVT",
    "outputId": "78de53f4-7230-4131-d27d-8326930214e1"
   }
  },
  {
   "cell_type": "markdown",
   "source": [
    "# Regresión logística"
   ],
   "metadata": {
    "colab_type": "text",
    "id": "ht1hG2D-isVW"
   }
  },
  {
   "cell_type": "code",
   "execution_count": null,
   "source": [
    "clf = LogisticRegression()\r\n",
    "grid_values = {'penalty': ['l2'],'C':[0.001,.009,0.01,.09,1,5,10,25]}\r\n",
    "grid_clf_acc = GridSearchCV(clf, param_grid = grid_values,scoring = 'recall')\r\n",
    "grid_clf_acc.fit(X_train, np.ravel(y_train))"
   ],
   "outputs": [],
   "metadata": {}
  },
  {
   "cell_type": "code",
   "execution_count": 24,
   "source": [
    "grid_clf_acc.best_params_"
   ],
   "outputs": [
    {
     "output_type": "execute_result",
     "data": {
      "text/plain": [
       "{'C': 0.001, 'penalty': 'l2'}"
      ]
     },
     "metadata": {},
     "execution_count": 24
    }
   ],
   "metadata": {}
  },
  {
   "cell_type": "code",
   "execution_count": 25,
   "source": [
    "clf = LogisticRegression(penalty= 'l2',C=0.001)\r\n",
    "clf = clf.fit(X_train,y_train)"
   ],
   "outputs": [
    {
     "output_type": "stream",
     "name": "stderr",
     "text": [
      "D:\\Anaconda\\lib\\site-packages\\sklearn\\utils\\validation.py:63: DataConversionWarning: A column-vector y was passed when a 1d array was expected. Please change the shape of y to (n_samples, ), for example using ravel().\n",
      "  return f(*args, **kwargs)\n"
     ]
    }
   ],
   "metadata": {
    "ExecuteTime": {
     "end_time": "2019-05-29T14:18:09.034447Z",
     "start_time": "2019-05-29T14:17:42.365763Z"
    },
    "colab": {},
    "colab_type": "code",
    "id": "ERFV7NgLisVX"
   }
  },
  {
   "cell_type": "code",
   "execution_count": 26,
   "source": [
    "y_pred = clf.predict(X_test)"
   ],
   "outputs": [],
   "metadata": {
    "ExecuteTime": {
     "end_time": "2019-05-29T14:18:09.057357Z",
     "start_time": "2019-05-29T14:18:09.036414Z"
    },
    "colab": {},
    "colab_type": "code",
    "id": "B4hgnMp2isVa"
   }
  },
  {
   "cell_type": "code",
   "execution_count": 27,
   "source": [
    "print(classification_report(y_test,y_pred))"
   ],
   "outputs": [
    {
     "output_type": "stream",
     "name": "stderr",
     "text": [
      "D:\\Anaconda\\lib\\site-packages\\sklearn\\metrics\\_classification.py:1245: UndefinedMetricWarning: Precision and F-score are ill-defined and being set to 0.0 in labels with no predicted samples. Use `zero_division` parameter to control this behavior.\n",
      "  _warn_prf(average, modifier, msg_start, len(result))\n"
     ]
    },
    {
     "output_type": "stream",
     "name": "stdout",
     "text": [
      "                                                   precision    recall  f1-score   support\n",
      "\n",
      "                              alcoholic beverages       0.00      0.00      0.00        83\n",
      "                  animal by-products - (obsolete)       0.00      0.00      0.00        11\n",
      "                    animal nutrition - (obsolete)       0.00      0.00      0.00       125\n",
      "            bivalve molluscs and products thereof       0.00      0.00      0.00       461\n",
      "                 cephalopods and products thereof       0.00      0.00      0.00       165\n",
      "                      cereals and bakery products       0.37      0.03      0.06      1429\n",
      "     cocoa and cocoa preparations, coffee and tea       0.00      0.00      0.00       622\n",
      "                                   compound feeds       0.00      0.00      0.00       185\n",
      "                                    confectionery       0.00      0.00      0.00       544\n",
      "                 crustaceans and products thereof       0.00      0.00      0.00       524\n",
      "dietetic foods, food supplements, fortified foods       0.31      0.75      0.44      3327\n",
      "                            eggs and egg products       0.00      0.00      0.00       301\n",
      "                                    fats and oils       0.00      0.00      0.00       406\n",
      "                                   feed additives       0.00      0.00      0.00       268\n",
      "     feed for food-producing animals - (obsolete)       0.00      0.00      0.00       150\n",
      "                                   feed materials       0.00      0.00      0.00       834\n",
      "                                 feed premixtures       0.00      0.00      0.00        93\n",
      "                           fish and fish products       0.34      0.40      0.36      2419\n",
      "                   food additives and flavourings       0.00      0.00      0.00       193\n",
      "                           food contact materials       0.43      0.63      0.51      2123\n",
      "                            fruits and vegetables       0.25      0.60      0.35      3784\n",
      "                                       gastropods       0.00      0.00      0.00        18\n",
      "                                 herbs and spices       0.41      0.04      0.08      1679\n",
      "                            honey and royal jelly       0.00      0.00      0.00       121\n",
      "                                ices and desserts       0.00      0.00      0.00        81\n",
      "      meat and meat products (other than poultry)       0.78      0.05      0.10      1414\n",
      "                           milk and milk products       0.47      0.37      0.42       727\n",
      "       molluscs and products thereof - (obsolete)       0.00      0.00      0.00        68\n",
      "                            natural mineral water       0.00      0.00      0.00        33\n",
      "                          non-alcoholic beverages       0.00      0.00      0.00       243\n",
      "                     nuts, nut products and seeds       0.35      0.52      0.42      2984\n",
      "                       other food product / mixed       0.00      0.00      0.00       419\n",
      "                                         pet food       0.00      0.00      0.00       410\n",
      "           poultry meat and poultry meat products       0.00      0.00      0.00      1028\n",
      "                       prepared dishes and snacks       0.00      0.00      0.00       493\n",
      "             soups, broths, sauces and condiments       0.00      0.00      0.00       502\n",
      "              water for human consumption (other)       0.00      0.00      0.00        23\n",
      "                                             wine       0.00      0.00      0.00        16\n",
      "\n",
      "                                         accuracy                           0.32     28306\n",
      "                                        macro avg       0.10      0.09      0.07     28306\n",
      "                                     weighted avg       0.26      0.32      0.24     28306\n",
      "\n"
     ]
    },
    {
     "output_type": "stream",
     "name": "stderr",
     "text": [
      "D:\\Anaconda\\lib\\site-packages\\sklearn\\metrics\\_classification.py:1245: UndefinedMetricWarning: Precision and F-score are ill-defined and being set to 0.0 in labels with no predicted samples. Use `zero_division` parameter to control this behavior.\n",
      "  _warn_prf(average, modifier, msg_start, len(result))\n",
      "D:\\Anaconda\\lib\\site-packages\\sklearn\\metrics\\_classification.py:1245: UndefinedMetricWarning: Precision and F-score are ill-defined and being set to 0.0 in labels with no predicted samples. Use `zero_division` parameter to control this behavior.\n",
      "  _warn_prf(average, modifier, msg_start, len(result))\n"
     ]
    }
   ],
   "metadata": {
    "ExecuteTime": {
     "end_time": "2019-05-29T14:18:09.389469Z",
     "start_time": "2019-05-29T14:18:09.060349Z"
    },
    "colab": {},
    "colab_type": "code",
    "id": "k_mPk4dqisVd",
    "outputId": "ee5a340a-2f69-46f7-c2c3-be240e0cad15"
   }
  },
  {
   "cell_type": "code",
   "execution_count": 28,
   "source": [
    "clf.score(X_test, y_test)"
   ],
   "outputs": [
    {
     "output_type": "execute_result",
     "data": {
      "text/plain": [
       "0.32025012364869637"
      ]
     },
     "metadata": {},
     "execution_count": 28
    }
   ],
   "metadata": {
    "ExecuteTime": {
     "end_time": "2019-05-29T14:18:09.428365Z",
     "start_time": "2019-05-29T14:18:09.390497Z"
    },
    "colab": {},
    "colab_type": "code",
    "id": "55L2gwPbisVh",
    "outputId": "bba47cf8-6419-4d4f-c083-839b83ca0ad2"
   }
  },
  {
   "cell_type": "markdown",
   "source": [
    "# Support vector machine"
   ],
   "metadata": {
    "colab_type": "text",
    "id": "xaQhsM6qisVj"
   }
  },
  {
   "cell_type": "code",
   "execution_count": 30,
   "source": [
    "clf = svm.SVC()\r\n",
    "param_grid = {'C': [0.1, 1, 10, 100, 1000], \r\n",
    "              'gamma': [1, 0.1, 0.01, 0.001, 0.0001],\r\n",
    "              'kernel': ['rbf']} \r\n",
    "  \r\n",
    "clf = GridSearchCV(clf, param_grid, refit = True, verbose = 3)\r\n",
    "clf = clf.fit(X_train,y_train)\r\n",
    "y_pred = clf.predict(X_test)\r\n",
    "print(classification_report(y_test,y_pred))"
   ],
   "outputs": [
    {
     "output_type": "stream",
     "name": "stdout",
     "text": [
      "Fitting 5 folds for each of 25 candidates, totalling 125 fits\n"
     ]
    },
    {
     "output_type": "stream",
     "name": "stderr",
     "text": [
      "D:\\Anaconda\\lib\\site-packages\\sklearn\\utils\\validation.py:63: DataConversionWarning: A column-vector y was passed when a 1d array was expected. Please change the shape of y to (n_samples, ), for example using ravel().\n",
      "  return f(*args, **kwargs)\n"
     ]
    },
    {
     "output_type": "stream",
     "name": "stdout",
     "text": [
      "[CV 1/5] END .....................C=0.1, gamma=1, kernel=rbf; total time=12.6min\n"
     ]
    },
    {
     "output_type": "stream",
     "name": "stderr",
     "text": [
      "D:\\Anaconda\\lib\\site-packages\\sklearn\\utils\\validation.py:63: DataConversionWarning: A column-vector y was passed when a 1d array was expected. Please change the shape of y to (n_samples, ), for example using ravel().\n",
      "  return f(*args, **kwargs)\n"
     ]
    },
    {
     "output_type": "stream",
     "name": "stdout",
     "text": [
      "[CV 2/5] END .....................C=0.1, gamma=1, kernel=rbf; total time=13.0min\n"
     ]
    },
    {
     "output_type": "stream",
     "name": "stderr",
     "text": [
      "D:\\Anaconda\\lib\\site-packages\\sklearn\\utils\\validation.py:63: DataConversionWarning: A column-vector y was passed when a 1d array was expected. Please change the shape of y to (n_samples, ), for example using ravel().\n",
      "  return f(*args, **kwargs)\n"
     ]
    },
    {
     "output_type": "stream",
     "name": "stdout",
     "text": [
      "[CV 3/5] END .....................C=0.1, gamma=1, kernel=rbf; total time=13.2min\n"
     ]
    },
    {
     "output_type": "stream",
     "name": "stderr",
     "text": [
      "D:\\Anaconda\\lib\\site-packages\\sklearn\\utils\\validation.py:63: DataConversionWarning: A column-vector y was passed when a 1d array was expected. Please change the shape of y to (n_samples, ), for example using ravel().\n",
      "  return f(*args, **kwargs)\n"
     ]
    },
    {
     "output_type": "stream",
     "name": "stdout",
     "text": [
      "[CV 4/5] END .....................C=0.1, gamma=1, kernel=rbf; total time=13.2min\n"
     ]
    },
    {
     "output_type": "stream",
     "name": "stderr",
     "text": [
      "D:\\Anaconda\\lib\\site-packages\\sklearn\\utils\\validation.py:63: DataConversionWarning: A column-vector y was passed when a 1d array was expected. Please change the shape of y to (n_samples, ), for example using ravel().\n",
      "  return f(*args, **kwargs)\n"
     ]
    },
    {
     "output_type": "stream",
     "name": "stdout",
     "text": [
      "[CV 5/5] END .....................C=0.1, gamma=1, kernel=rbf; total time=13.0min\n"
     ]
    },
    {
     "output_type": "stream",
     "name": "stderr",
     "text": [
      "D:\\Anaconda\\lib\\site-packages\\sklearn\\utils\\validation.py:63: DataConversionWarning: A column-vector y was passed when a 1d array was expected. Please change the shape of y to (n_samples, ), for example using ravel().\n",
      "  return f(*args, **kwargs)\n"
     ]
    },
    {
     "output_type": "stream",
     "name": "stdout",
     "text": [
      "[CV 1/5] END ...................C=0.1, gamma=0.1, kernel=rbf; total time= 8.2min\n"
     ]
    },
    {
     "output_type": "stream",
     "name": "stderr",
     "text": [
      "D:\\Anaconda\\lib\\site-packages\\sklearn\\utils\\validation.py:63: DataConversionWarning: A column-vector y was passed when a 1d array was expected. Please change the shape of y to (n_samples, ), for example using ravel().\n",
      "  return f(*args, **kwargs)\n"
     ]
    },
    {
     "output_type": "stream",
     "name": "stdout",
     "text": [
      "[CV 2/5] END ...................C=0.1, gamma=0.1, kernel=rbf; total time= 8.0min\n"
     ]
    },
    {
     "output_type": "stream",
     "name": "stderr",
     "text": [
      "D:\\Anaconda\\lib\\site-packages\\sklearn\\utils\\validation.py:63: DataConversionWarning: A column-vector y was passed when a 1d array was expected. Please change the shape of y to (n_samples, ), for example using ravel().\n",
      "  return f(*args, **kwargs)\n"
     ]
    },
    {
     "output_type": "stream",
     "name": "stdout",
     "text": [
      "[CV 3/5] END ...................C=0.1, gamma=0.1, kernel=rbf; total time=10.5min\n"
     ]
    },
    {
     "output_type": "stream",
     "name": "stderr",
     "text": [
      "D:\\Anaconda\\lib\\site-packages\\sklearn\\utils\\validation.py:63: DataConversionWarning: A column-vector y was passed when a 1d array was expected. Please change the shape of y to (n_samples, ), for example using ravel().\n",
      "  return f(*args, **kwargs)\n"
     ]
    },
    {
     "output_type": "stream",
     "name": "stdout",
     "text": [
      "[CV 4/5] END ...................C=0.1, gamma=0.1, kernel=rbf; total time= 7.8min\n"
     ]
    },
    {
     "output_type": "stream",
     "name": "stderr",
     "text": [
      "D:\\Anaconda\\lib\\site-packages\\sklearn\\utils\\validation.py:63: DataConversionWarning: A column-vector y was passed when a 1d array was expected. Please change the shape of y to (n_samples, ), for example using ravel().\n",
      "  return f(*args, **kwargs)\n"
     ]
    },
    {
     "output_type": "stream",
     "name": "stdout",
     "text": [
      "[CV 5/5] END ...................C=0.1, gamma=0.1, kernel=rbf; total time= 7.5min\n"
     ]
    },
    {
     "output_type": "stream",
     "name": "stderr",
     "text": [
      "D:\\Anaconda\\lib\\site-packages\\sklearn\\utils\\validation.py:63: DataConversionWarning: A column-vector y was passed when a 1d array was expected. Please change the shape of y to (n_samples, ), for example using ravel().\n",
      "  return f(*args, **kwargs)\n"
     ]
    },
    {
     "output_type": "stream",
     "name": "stdout",
     "text": [
      "[CV 1/5] END ..................C=0.1, gamma=0.01, kernel=rbf; total time= 9.0min\n"
     ]
    },
    {
     "output_type": "stream",
     "name": "stderr",
     "text": [
      "D:\\Anaconda\\lib\\site-packages\\sklearn\\utils\\validation.py:63: DataConversionWarning: A column-vector y was passed when a 1d array was expected. Please change the shape of y to (n_samples, ), for example using ravel().\n",
      "  return f(*args, **kwargs)\n"
     ]
    },
    {
     "output_type": "stream",
     "name": "stdout",
     "text": [
      "[CV 2/5] END ..................C=0.1, gamma=0.01, kernel=rbf; total time= 9.2min\n"
     ]
    },
    {
     "output_type": "stream",
     "name": "stderr",
     "text": [
      "D:\\Anaconda\\lib\\site-packages\\sklearn\\utils\\validation.py:63: DataConversionWarning: A column-vector y was passed when a 1d array was expected. Please change the shape of y to (n_samples, ), for example using ravel().\n",
      "  return f(*args, **kwargs)\n"
     ]
    },
    {
     "output_type": "stream",
     "name": "stdout",
     "text": [
      "[CV 3/5] END ..................C=0.1, gamma=0.01, kernel=rbf; total time= 8.8min\n"
     ]
    },
    {
     "output_type": "stream",
     "name": "stderr",
     "text": [
      "D:\\Anaconda\\lib\\site-packages\\sklearn\\utils\\validation.py:63: DataConversionWarning: A column-vector y was passed when a 1d array was expected. Please change the shape of y to (n_samples, ), for example using ravel().\n",
      "  return f(*args, **kwargs)\n"
     ]
    },
    {
     "output_type": "stream",
     "name": "stdout",
     "text": [
      "[CV 4/5] END ..................C=0.1, gamma=0.01, kernel=rbf; total time= 8.7min\n"
     ]
    },
    {
     "output_type": "stream",
     "name": "stderr",
     "text": [
      "D:\\Anaconda\\lib\\site-packages\\sklearn\\utils\\validation.py:63: DataConversionWarning: A column-vector y was passed when a 1d array was expected. Please change the shape of y to (n_samples, ), for example using ravel().\n",
      "  return f(*args, **kwargs)\n"
     ]
    },
    {
     "output_type": "stream",
     "name": "stdout",
     "text": [
      "[CV 5/5] END ..................C=0.1, gamma=0.01, kernel=rbf; total time= 9.1min\n"
     ]
    },
    {
     "output_type": "stream",
     "name": "stderr",
     "text": [
      "D:\\Anaconda\\lib\\site-packages\\sklearn\\utils\\validation.py:63: DataConversionWarning: A column-vector y was passed when a 1d array was expected. Please change the shape of y to (n_samples, ), for example using ravel().\n",
      "  return f(*args, **kwargs)\n"
     ]
    },
    {
     "output_type": "stream",
     "name": "stdout",
     "text": [
      "[CV 1/5] END .................C=0.1, gamma=0.001, kernel=rbf; total time= 9.5min\n"
     ]
    },
    {
     "output_type": "stream",
     "name": "stderr",
     "text": [
      "D:\\Anaconda\\lib\\site-packages\\sklearn\\utils\\validation.py:63: DataConversionWarning: A column-vector y was passed when a 1d array was expected. Please change the shape of y to (n_samples, ), for example using ravel().\n",
      "  return f(*args, **kwargs)\n"
     ]
    },
    {
     "output_type": "stream",
     "name": "stdout",
     "text": [
      "[CV 2/5] END .................C=0.1, gamma=0.001, kernel=rbf; total time= 9.2min\n"
     ]
    },
    {
     "output_type": "stream",
     "name": "stderr",
     "text": [
      "D:\\Anaconda\\lib\\site-packages\\sklearn\\utils\\validation.py:63: DataConversionWarning: A column-vector y was passed when a 1d array was expected. Please change the shape of y to (n_samples, ), for example using ravel().\n",
      "  return f(*args, **kwargs)\n"
     ]
    },
    {
     "output_type": "stream",
     "name": "stdout",
     "text": [
      "[CV 3/5] END .................C=0.1, gamma=0.001, kernel=rbf; total time= 9.2min\n"
     ]
    },
    {
     "output_type": "stream",
     "name": "stderr",
     "text": [
      "D:\\Anaconda\\lib\\site-packages\\sklearn\\utils\\validation.py:63: DataConversionWarning: A column-vector y was passed when a 1d array was expected. Please change the shape of y to (n_samples, ), for example using ravel().\n",
      "  return f(*args, **kwargs)\n"
     ]
    },
    {
     "output_type": "stream",
     "name": "stdout",
     "text": [
      "[CV 4/5] END .................C=0.1, gamma=0.001, kernel=rbf; total time= 9.3min\n"
     ]
    },
    {
     "output_type": "stream",
     "name": "stderr",
     "text": [
      "D:\\Anaconda\\lib\\site-packages\\sklearn\\utils\\validation.py:63: DataConversionWarning: A column-vector y was passed when a 1d array was expected. Please change the shape of y to (n_samples, ), for example using ravel().\n",
      "  return f(*args, **kwargs)\n"
     ]
    },
    {
     "output_type": "stream",
     "name": "stdout",
     "text": [
      "[CV 5/5] END .................C=0.1, gamma=0.001, kernel=rbf; total time=10.4min\n"
     ]
    },
    {
     "output_type": "stream",
     "name": "stderr",
     "text": [
      "D:\\Anaconda\\lib\\site-packages\\sklearn\\utils\\validation.py:63: DataConversionWarning: A column-vector y was passed when a 1d array was expected. Please change the shape of y to (n_samples, ), for example using ravel().\n",
      "  return f(*args, **kwargs)\n"
     ]
    },
    {
     "output_type": "stream",
     "name": "stdout",
     "text": [
      "[CV 1/5] END ................C=0.1, gamma=0.0001, kernel=rbf; total time= 9.3min\n"
     ]
    },
    {
     "output_type": "stream",
     "name": "stderr",
     "text": [
      "D:\\Anaconda\\lib\\site-packages\\sklearn\\utils\\validation.py:63: DataConversionWarning: A column-vector y was passed when a 1d array was expected. Please change the shape of y to (n_samples, ), for example using ravel().\n",
      "  return f(*args, **kwargs)\n"
     ]
    },
    {
     "output_type": "stream",
     "name": "stdout",
     "text": [
      "[CV 2/5] END ................C=0.1, gamma=0.0001, kernel=rbf; total time= 9.0min\n"
     ]
    },
    {
     "output_type": "stream",
     "name": "stderr",
     "text": [
      "D:\\Anaconda\\lib\\site-packages\\sklearn\\utils\\validation.py:63: DataConversionWarning: A column-vector y was passed when a 1d array was expected. Please change the shape of y to (n_samples, ), for example using ravel().\n",
      "  return f(*args, **kwargs)\n"
     ]
    },
    {
     "output_type": "stream",
     "name": "stdout",
     "text": [
      "[CV 3/5] END ................C=0.1, gamma=0.0001, kernel=rbf; total time= 9.5min\n"
     ]
    },
    {
     "output_type": "stream",
     "name": "stderr",
     "text": [
      "D:\\Anaconda\\lib\\site-packages\\sklearn\\utils\\validation.py:63: DataConversionWarning: A column-vector y was passed when a 1d array was expected. Please change the shape of y to (n_samples, ), for example using ravel().\n",
      "  return f(*args, **kwargs)\n"
     ]
    },
    {
     "output_type": "stream",
     "name": "stdout",
     "text": [
      "[CV 4/5] END ................C=0.1, gamma=0.0001, kernel=rbf; total time= 9.4min\n"
     ]
    },
    {
     "output_type": "stream",
     "name": "stderr",
     "text": [
      "D:\\Anaconda\\lib\\site-packages\\sklearn\\utils\\validation.py:63: DataConversionWarning: A column-vector y was passed when a 1d array was expected. Please change the shape of y to (n_samples, ), for example using ravel().\n",
      "  return f(*args, **kwargs)\n"
     ]
    },
    {
     "output_type": "stream",
     "name": "stdout",
     "text": [
      "[CV 5/5] END ................C=0.1, gamma=0.0001, kernel=rbf; total time= 9.2min\n"
     ]
    },
    {
     "output_type": "stream",
     "name": "stderr",
     "text": [
      "D:\\Anaconda\\lib\\site-packages\\sklearn\\utils\\validation.py:63: DataConversionWarning: A column-vector y was passed when a 1d array was expected. Please change the shape of y to (n_samples, ), for example using ravel().\n",
      "  return f(*args, **kwargs)\n"
     ]
    }
   ],
   "metadata": {
    "ExecuteTime": {
     "end_time": "2019-05-21T10:49:27.308632Z",
     "start_time": "2019-05-21T10:39:04.167258Z"
    },
    "colab": {},
    "colab_type": "code",
    "id": "Plh9xoVyisVj"
   }
  },
  {
   "cell_type": "code",
   "execution_count": null,
   "source": [
    "clf.best_params_"
   ],
   "outputs": [],
   "metadata": {}
  },
  {
   "cell_type": "code",
   "execution_count": null,
   "source": [
    "clf.score(X_test, y_test)"
   ],
   "outputs": [],
   "metadata": {
    "ExecuteTime": {
     "end_time": "2019-05-21T10:52:09.655716Z",
     "start_time": "2019-05-21T10:49:27.308632Z"
    },
    "colab": {},
    "colab_type": "code",
    "id": "UDf4VXGkisVm"
   }
  },
  {
   "cell_type": "markdown",
   "source": [
    "# Boosted Trees"
   ],
   "metadata": {
    "colab_type": "text",
    "id": "9YFnh1NmisVo"
   }
  },
  {
   "cell_type": "code",
   "execution_count": 11,
   "source": [
    "param_grid = {'n_estimators':range(20,81,10),\r\n",
    " 'learning_rate':[1, 0.5, 0.25, 0.1, 0.05, 0.01],\r\n",
    "  'max_depth':range(5,16,2),\r\n",
    "  'min_samples_split':range(200,1001,200)}"
   ],
   "outputs": [],
   "metadata": {}
  },
  {
   "cell_type": "code",
   "execution_count": 16,
   "source": [
    "clf = GridSearchCV(estimator = GradientBoostingClassifier(max_features='sqrt', subsample=0.8, random_state=10), \r\n",
    "param_grid = param_grid,n_jobs=4, cv=3)\r\n",
    "clf = clf.fit(X_train,y_train)\r\n",
    "y_pred = clf.predict(X_test)\r\n",
    "print(classification_report(y_test,y_pred))"
   ],
   "outputs": [],
   "metadata": {
    "ExecuteTime": {
     "end_time": "2019-05-21T10:57:28.233875Z",
     "start_time": "2019-05-21T10:54:53.079659Z"
    },
    "colab": {},
    "colab_type": "code",
    "id": "b5FvzrKaisVp",
    "outputId": "31806fe8-5ef9-492a-dccb-2565db02a53a",
    "scrolled": true
   }
  },
  {
   "cell_type": "code",
   "execution_count": null,
   "source": [
    "clf.score(X_test, y_test)"
   ],
   "outputs": [],
   "metadata": {
    "ExecuteTime": {
     "end_time": "2019-05-21T10:57:29.141447Z",
     "start_time": "2019-05-21T10:57:28.234898Z"
    },
    "colab": {},
    "colab_type": "code",
    "id": "f1hssRFlisVs",
    "outputId": "6c2a91d4-35d1-4adc-db09-ff305c58b8ba"
   }
  },
  {
   "cell_type": "code",
   "execution_count": null,
   "source": [
    "clf = AdaBoostClassifier()\r\n",
    "clf = clf.fit(X_train_one_hot,y_train)\r\n",
    "y_pred = clf.predict(X_test_one_hot)\r\n",
    "print(classification_report(y_test,y_pred))"
   ],
   "outputs": [],
   "metadata": {
    "ExecuteTime": {
     "end_time": "2019-05-21T10:32:25.762313Z",
     "start_time": "2019-05-21T10:32:11.447315Z"
    },
    "colab": {},
    "colab_type": "code",
    "id": "qr2xZEjHisVx",
    "outputId": "7711cc1c-e56b-4f03-cbbf-53cb0becd70e",
    "scrolled": true
   }
  },
  {
   "cell_type": "code",
   "execution_count": null,
   "source": [
    "clf.score(X_test_one_hot, y_test)"
   ],
   "outputs": [],
   "metadata": {
    "ExecuteTime": {
     "end_time": "2019-05-21T10:32:26.756654Z",
     "start_time": "2019-05-21T10:32:25.764308Z"
    },
    "colab": {},
    "colab_type": "code",
    "id": "L-mqg9-yisV0",
    "outputId": "c24163b3-6e8f-40ad-ce3d-28b569e25413"
   }
  },
  {
   "cell_type": "markdown",
   "source": [
    "# Nearest centroid"
   ],
   "metadata": {
    "colab_type": "text",
    "id": "BKnWF9WrisV3"
   }
  },
  {
   "cell_type": "code",
   "execution_count": null,
   "source": [
    "clf = NearestCentroid()\r\n",
    "clf = clf.fit(X_train_one_hot,y_train)\r\n",
    "y_pred = clf.predict(X_test_one_hot)\r\n",
    "print(classification_report(y_test,y_pred))"
   ],
   "outputs": [],
   "metadata": {
    "ExecuteTime": {
     "end_time": "2019-04-24T09:08:16.746824Z",
     "start_time": "2019-04-24T09:08:16.312788Z"
    },
    "colab": {},
    "colab_type": "code",
    "id": "evlfpeLcisV4",
    "outputId": "c1e5e2f0-cba4-4a43-8625-ba3ebeab041f",
    "scrolled": true
   }
  },
  {
   "cell_type": "code",
   "execution_count": null,
   "source": [
    "clf.score(X_test_one_hot, y_test)"
   ],
   "outputs": [],
   "metadata": {
    "ExecuteTime": {
     "end_time": "2019-04-24T09:08:18.469337Z",
     "start_time": "2019-04-24T09:08:18.408501Z"
    },
    "colab": {},
    "colab_type": "code",
    "id": "vpaGkoIcisV7",
    "outputId": "f0c81516-0e9d-4390-82e3-b45e56ad0563"
   }
  },
  {
   "cell_type": "markdown",
   "source": [
    "# Nearest neighbor"
   ],
   "metadata": {
    "colab_type": "text",
    "id": "7QfrRy84isV_"
   }
  },
  {
   "cell_type": "code",
   "execution_count": null,
   "source": [
    "clf = neighbors.KNeighborsClassifier()\r\n",
    "clf = clf.fit(X_train_one_hot,y_train)\r\n",
    "y_pred = clf.predict(X_test_one_hot)\r\n",
    "print(classification_report(y_test,y_pred))"
   ],
   "outputs": [],
   "metadata": {
    "ExecuteTime": {
     "end_time": "2019-04-01T10:20:35.880699Z",
     "start_time": "2019-04-01T10:19:34.213349Z"
    },
    "colab": {},
    "colab_type": "code",
    "id": "3-N-dcRsisV_",
    "outputId": "bc6f75eb-cec9-4dbe-ede7-f4dd8e298886",
    "scrolled": true
   }
  },
  {
   "cell_type": "code",
   "execution_count": null,
   "source": [
    "clf.score(X_test_one_hot, y_test)"
   ],
   "outputs": [],
   "metadata": {
    "ExecuteTime": {
     "end_time": "2019-04-01T10:21:46.078806Z",
     "start_time": "2019-04-01T10:20:45.397515Z"
    },
    "colab": {},
    "colab_type": "code",
    "id": "1o0BnRO4isWB",
    "outputId": "20a983cd-e31f-43f2-9b07-3e4fa10be1a7"
   }
  },
  {
   "cell_type": "markdown",
   "source": [
    "# MLP sin embeddings"
   ],
   "metadata": {
    "colab_type": "text",
    "id": "8qAIFZa4isWD"
   }
  },
  {
   "cell_type": "code",
   "execution_count": null,
   "source": [
    "le = preprocessing.LabelEncoder()\r\n",
    "le.fit(y_train.values)\r\n",
    "Y_train_label = le.transform(y_train.values) \r\n",
    "y_train_one_hot = to_categorical(Y_train_label)\r\n",
    "display(y_train_one_hot)"
   ],
   "outputs": [],
   "metadata": {
    "ExecuteTime": {
     "end_time": "2019-03-08T12:41:51.654502Z",
     "start_time": "2019-03-08T12:41:51.628544Z"
    },
    "colab": {},
    "colab_type": "code",
    "id": "6fBjCvu7isWE",
    "outputId": "a4a9476c-710b-40c9-fe6f-2faf577deb3c"
   }
  },
  {
   "cell_type": "code",
   "execution_count": null,
   "source": [
    "y_test_label = le.transform(y_test.values) \r\n",
    "y_test_one_hot = to_categorical(y_test_label)\r\n",
    "display(y_test_one_hot)"
   ],
   "outputs": [],
   "metadata": {
    "ExecuteTime": {
     "end_time": "2019-03-08T12:41:52.253488Z",
     "start_time": "2019-03-08T12:41:52.244506Z"
    },
    "colab": {},
    "colab_type": "code",
    "id": "ECbZ8AYEisWH",
    "outputId": "45543cf6-bd9b-4a1f-b763-ec577bc36a18"
   }
  },
  {
   "cell_type": "code",
   "execution_count": null,
   "source": [
    "model = Sequential() \r\n",
    "model.add(Dense(300, activation='relu', input_dim=351))\r\n",
    "model.add(Dense(200, activation='relu'))\r\n",
    "model.add(Dense(100, activation='relu'))\r\n",
    "model.add(Dense(38)) \r\n",
    "optimizer = RMSprop(lr=0.001)\r\n",
    "model.compile(optimizer=optimizer, loss='mean_squared_error', metrics= ['accuracy'])"
   ],
   "outputs": [],
   "metadata": {
    "colab": {},
    "colab_type": "code",
    "id": "dQgT0j0fisWX"
   }
  },
  {
   "cell_type": "code",
   "execution_count": null,
   "source": [
    "hist = model.fit(X_train_one_hot,y_train_one_hot, epochs=70,validation_data=(X_test_one_hot, y_test_one_hot), batch_size=120)"
   ],
   "outputs": [],
   "metadata": {
    "colab": {},
    "colab_type": "code",
    "id": "sHepGhskisWZ",
    "outputId": "4a0b37b8-b4e5-4458-904e-4952b923a63b",
    "scrolled": true
   }
  },
  {
   "cell_type": "code",
   "execution_count": null,
   "source": [
    "plt.plot(hist.history['loss']) \r\n",
    "plt.plot(hist.history['val_loss']) \r\n",
    "plt.show()\r\n",
    "\r\n",
    "\r\n",
    "plt.plot(hist.history['acc']) \r\n",
    "plt.plot(hist.history['val_acc']) \r\n",
    "plt.show()"
   ],
   "outputs": [],
   "metadata": {
    "colab": {},
    "colab_type": "code",
    "id": "ENb3inRrisWa",
    "outputId": "557810df-9ccd-4ee1-a98a-dd1469566bca"
   }
  },
  {
   "cell_type": "markdown",
   "source": [
    "## Pruebas grid search"
   ],
   "metadata": {
    "colab_type": "text",
    "id": "q6jtSqYDisWd"
   }
  },
  {
   "cell_type": "code",
   "execution_count": null,
   "source": [
    "def create_model(neuronas1 = 25,neuronas2 =25,neuronas3 = 25):\r\n",
    "           \r\n",
    "    model = Sequential()\r\n",
    "    activation='relu'\r\n",
    "    init_mode='normal'\r\n",
    "    dropout_rate=0.0\r\n",
    "    weight_constraint=0\r\n",
    "    model.add(Dense(neuronas1, activation=activation, input_dim=374,kernel_initializer=init_mode))\r\n",
    "    model.add(Dense(neuronas2, activation=activation,kernel_initializer=init_mode))\r\n",
    "    model.add(Dense(neuronas3, activation=activation,kernel_initializer=init_mode))\r\n",
    "    model.add(Dropout(dropout_rate))\r\n",
    "    model.add(Dense(38,kernel_initializer=init_mode))\r\n",
    "    optimizer = RMSprop(lr=0.001)\r\n",
    "    model.compile(loss='mean_squared_error', optimizer=optimizer, metrics=['accuracy'])\r\n",
    "    return model\r\n",
    "\r\n",
    "seed = 7\r\n",
    "np.random.seed(seed)\r\n",
    "model = KerasClassifier(build_fn=create_model, verbose=1,batch_size=120, epochs = 70)"
   ],
   "outputs": [],
   "metadata": {
    "ExecuteTime": {
     "end_time": "2019-03-08T12:42:27.693405Z",
     "start_time": "2019-03-08T12:42:27.684429Z"
    },
    "colab": {},
    "colab_type": "code",
    "id": "PQ9lT0B-isWd",
    "outputId": "c3e368f8-2fc5-4048-b41d-4631ec791fc5"
   }
  },
  {
   "cell_type": "code",
   "execution_count": null,
   "source": [
    "neuronas1 = [25,75,100,150,200,250,300,350,400]\r\n",
    "neuronas2 = [25,75,100,150,200,250,300,350,400]\r\n",
    "neuronas3 = [25,75,100,150,200,250,300,350,400]\r\n",
    "param_grid = dict(neuronas1=neuronas1,neuronas2=neuronas2,neuronas3=neuronas3)\r\n",
    "grid = GridSearchCV(estimator=model, param_grid=param_grid, n_jobs=1, cv=2)\r\n",
    "grid_result = grid.fit(X_train_one_hot, y_train_one_hot)"
   ],
   "outputs": [],
   "metadata": {
    "ExecuteTime": {
     "end_time": "2019-03-08T12:42:37.692157Z",
     "start_time": "2019-03-08T12:42:29.453482Z"
    },
    "colab": {},
    "colab_type": "code",
    "id": "O9mnViBgisWh",
    "outputId": "46a914ef-ca18-42ea-f88a-3e48a4c498be",
    "scrolled": true
   }
  },
  {
   "cell_type": "code",
   "execution_count": null,
   "source": [
    "print(\"Best: %f using %s\" % (grid_result.best_score_, grid_result.best_params_))\r\n",
    "means = grid_result.cv_results_['mean_test_score']\r\n",
    "stds = grid_result.cv_results_['std_test_score']\r\n",
    "params = grid_result.cv_results_['params']\r\n",
    "for mean, stdev, param in zip(means, stds, params):\r\n",
    "    print(\"%f (%f) with: %r\" % (mean, stdev, param))"
   ],
   "outputs": [],
   "metadata": {
    "colab": {},
    "colab_type": "code",
    "id": "Te1l0Wu7isWk",
    "outputId": "e33d2a0c-ae0a-4dfc-b968-1d5a56531009"
   }
  }
 ],
 "metadata": {
  "colab": {
   "collapsed_sections": [],
   "name": "Algoritmos_ML.ipynb",
   "provenance": []
  },
  "kernelspec": {
   "name": "python3",
   "display_name": "Python 3.8.8 64-bit ('base': conda)"
  },
  "language_info": {
   "codemirror_mode": {
    "name": "ipython",
    "version": 3
   },
   "file_extension": ".py",
   "mimetype": "text/x-python",
   "name": "python",
   "nbconvert_exporter": "python",
   "pygments_lexer": "ipython3",
   "version": "3.8.8"
  },
  "toc": {
   "base_numbering": 1,
   "nav_menu": {},
   "number_sections": true,
   "sideBar": true,
   "skip_h1_title": false,
   "title_cell": "Table of Contents",
   "title_sidebar": "Contents",
   "toc_cell": false,
   "toc_position": {
    "height": "calc(100% - 180px)",
    "left": "10px",
    "top": "150px",
    "width": "384px"
   },
   "toc_section_display": true,
   "toc_window_display": true
  },
  "interpreter": {
   "hash": "07efdcd4b820c98a756949507a4d29d7862823915ec7477944641bea022f4f62"
  }
 },
 "nbformat": 4,
 "nbformat_minor": 4
}