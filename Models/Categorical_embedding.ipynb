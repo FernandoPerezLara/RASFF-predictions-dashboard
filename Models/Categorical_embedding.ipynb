{
 "cells": [
  {
   "cell_type": "markdown",
   "metadata": {
    "colab_type": "text",
    "id": "8Wj2_jhW4vsS"
   },
   "source": [
    "# Libraries"
   ]
  },
  {
   "cell_type": "code",
   "execution_count": 1,
   "metadata": {
    "ExecuteTime": {
     "end_time": "2019-11-07T09:58:33.466115Z",
     "start_time": "2019-11-07T09:58:33.460153Z"
    },
    "colab": {},
    "colab_type": "code",
    "id": "nuu3FCuL4vsU",
    "outputId": "cb6802cd-212f-45f8-8679-1ed6483d819b"
   },
   "outputs": [],
   "source": [
    "import numpy as np\n",
    "import pandas as pd\n",
    "import tensorflow as tf\n",
    "from IPython.display import Image\n",
    "import matplotlib.pyplot as plt\n",
    "import functools\n",
    "\n",
    "from keras.models import Sequential, Model\n",
    "from keras.layers import Dense, Dropout, Flatten, Input, MaxPooling1D, Conv1D, Embedding,Reshape, Concatenate,BatchNormalization,GlobalMaxPooling1D,GlobalAveragePooling1D\n",
    "from keras.layers.merge import Concatenate\n",
    "from keras.preprocessing import sequence\n",
    "from keras.optimizers import RMSprop, Adam\n",
    "from keras.preprocessing.sequence import pad_sequences\n",
    "from keras.utils import to_categorical\n",
    "from keras.utils import plot_model\n",
    "from keras import regularizers\n",
    "from keras import metrics\n",
    "from keras import backend as K\n",
    "from keras.wrappers.scikit_learn import KerasClassifier\n",
    "\n",
    "from sklearn import preprocessing\n",
    "from sklearn.model_selection import train_test_split\n",
    "from sklearn.preprocessing import OneHotEncoder\n",
    "from sklearn.preprocessing import LabelBinarizer\n",
    "from sklearn.model_selection import GridSearchCV \n",
    "from sklearn.metrics import classification_report\n"
   ]
  },
  {
   "cell_type": "markdown",
   "metadata": {
    "colab_type": "text",
    "id": "4Sfq8g5B4vsd"
   },
   "source": [
    "# Training Data"
   ]
  },
  {
   "cell_type": "code",
   "execution_count": 2,
   "metadata": {
    "ExecuteTime": {
     "end_time": "2019-11-07T09:58:34.347205Z",
     "start_time": "2019-11-07T09:58:34.022084Z"
    },
    "colab": {},
    "colab_type": "code",
    "id": "a7-UwfBS4vsg",
    "outputId": "bb505d90-dca2-42d5-fdfc-358b78371e5b",
    "scrolled": true
   },
   "outputs": [
    {
     "data": {
      "text/html": [
       "<div>\n",
       "<style scoped>\n",
       "    .dataframe tbody tr th:only-of-type {\n",
       "        vertical-align: middle;\n",
       "    }\n",
       "\n",
       "    .dataframe tbody tr th {\n",
       "        vertical-align: top;\n",
       "    }\n",
       "\n",
       "    .dataframe thead th {\n",
       "        text-align: right;\n",
       "    }\n",
       "</style>\n",
       "<table border=\"1\" class=\"dataframe\">\n",
       "  <thead>\n",
       "    <tr style=\"text-align: right;\">\n",
       "      <th></th>\n",
       "      <th>DATE_CASE</th>\n",
       "      <th>NOT_COUNTRY</th>\n",
       "      <th>PROD_CAT</th>\n",
       "      <th>TYPE</th>\n",
       "      <th>RISK_DECISION</th>\n",
       "      <th>ACTION_TAKEN</th>\n",
       "      <th>DISTRIBUTION_STAT</th>\n",
       "      <th>HAZARDS_CAT</th>\n",
       "      <th>COUNT_ORIGEN</th>\n",
       "      <th>COUNT_DESTIN</th>\n",
       "      <th>COUNT_CONCERN</th>\n",
       "    </tr>\n",
       "  </thead>\n",
       "  <tbody>\n",
       "    <tr>\n",
       "      <th>58400</th>\n",
       "      <td>2016-10-06</td>\n",
       "      <td>Belgium</td>\n",
       "      <td>compound feeds</td>\n",
       "      <td>feed</td>\n",
       "      <td>serious</td>\n",
       "      <td>withdrawal from the market</td>\n",
       "      <td>distribution to other member countries</td>\n",
       "      <td>environmental pollutants</td>\n",
       "      <td>Belgium</td>\n",
       "      <td>Belgium</td>\n",
       "      <td>INFOSAN</td>\n",
       "    </tr>\n",
       "    <tr>\n",
       "      <th>143169</th>\n",
       "      <td>2006-10-06</td>\n",
       "      <td>Spain</td>\n",
       "      <td>herbs and spices</td>\n",
       "      <td>food</td>\n",
       "      <td>undecided</td>\n",
       "      <td>re-dispatch</td>\n",
       "      <td>no distribution</td>\n",
       "      <td>food additives and flavourings</td>\n",
       "      <td>China</td>\n",
       "      <td></td>\n",
       "      <td>Spain</td>\n",
       "    </tr>\n",
       "    <tr>\n",
       "      <th>46841</th>\n",
       "      <td>2017-09-22</td>\n",
       "      <td>Netherlands</td>\n",
       "      <td>crustaceans and products thereof</td>\n",
       "      <td>food</td>\n",
       "      <td>serious</td>\n",
       "      <td>informing recipient(s)</td>\n",
       "      <td>distribution to other member countries</td>\n",
       "      <td>pathogenic micro-organisms</td>\n",
       "      <td>Netherlands</td>\n",
       "      <td>France</td>\n",
       "      <td></td>\n",
       "    </tr>\n",
       "    <tr>\n",
       "      <th>47784</th>\n",
       "      <td>2017-09-05</td>\n",
       "      <td>Netherlands</td>\n",
       "      <td>poultry meat and poultry meat products</td>\n",
       "      <td>food</td>\n",
       "      <td>serious</td>\n",
       "      <td>withdrawal from recipient(s)</td>\n",
       "      <td>distribution to other member countries</td>\n",
       "      <td>pathogenic micro-organisms</td>\n",
       "      <td>Poland</td>\n",
       "      <td>Greece</td>\n",
       "      <td>Netherlands</td>\n",
       "    </tr>\n",
       "    <tr>\n",
       "      <th>62155</th>\n",
       "      <td>2016-06-06</td>\n",
       "      <td>Poland</td>\n",
       "      <td>fruits and vegetables</td>\n",
       "      <td>food</td>\n",
       "      <td>undecided</td>\n",
       "      <td>destruction</td>\n",
       "      <td>product not (yet) placed on the market</td>\n",
       "      <td>pesticide residues</td>\n",
       "      <td>Egypt</td>\n",
       "      <td></td>\n",
       "      <td>Poland</td>\n",
       "    </tr>\n",
       "    <tr>\n",
       "      <th>...</th>\n",
       "      <td>...</td>\n",
       "      <td>...</td>\n",
       "      <td>...</td>\n",
       "      <td>...</td>\n",
       "      <td>...</td>\n",
       "      <td>...</td>\n",
       "      <td>...</td>\n",
       "      <td>...</td>\n",
       "      <td>...</td>\n",
       "      <td>...</td>\n",
       "      <td>...</td>\n",
       "    </tr>\n",
       "    <tr>\n",
       "      <th>90519</th>\n",
       "      <td>2013-07-19</td>\n",
       "      <td>Belgium</td>\n",
       "      <td>feed additives</td>\n",
       "      <td>feed</td>\n",
       "      <td>undecided</td>\n",
       "      <td>informing recipient(s)</td>\n",
       "      <td>distribution to other member countries</td>\n",
       "      <td>residues of veterinary medicinal products</td>\n",
       "      <td>India</td>\n",
       "      <td>Ukraine</td>\n",
       "      <td>Commission Services</td>\n",
       "    </tr>\n",
       "    <tr>\n",
       "      <th>26939</th>\n",
       "      <td>2018-12-14</td>\n",
       "      <td>United Kingdom</td>\n",
       "      <td>pet food</td>\n",
       "      <td>feed</td>\n",
       "      <td>not serious</td>\n",
       "      <td>recall from consumers</td>\n",
       "      <td>distribution to other member countries</td>\n",
       "      <td>poor or insufficient controls</td>\n",
       "      <td>United Kingdom</td>\n",
       "      <td>Ireland</td>\n",
       "      <td></td>\n",
       "    </tr>\n",
       "    <tr>\n",
       "      <th>67841</th>\n",
       "      <td>2015-11-17</td>\n",
       "      <td>Belgium</td>\n",
       "      <td>feed materials</td>\n",
       "      <td>feed</td>\n",
       "      <td>serious</td>\n",
       "      <td></td>\n",
       "      <td>no distribution from notifying country</td>\n",
       "      <td>composition</td>\n",
       "      <td>Ukraine</td>\n",
       "      <td>Belgium</td>\n",
       "      <td>INFOSAN</td>\n",
       "    </tr>\n",
       "    <tr>\n",
       "      <th>112032</th>\n",
       "      <td>2011-03-28</td>\n",
       "      <td>Greece</td>\n",
       "      <td>cereals and bakery products</td>\n",
       "      <td>food</td>\n",
       "      <td>undecided</td>\n",
       "      <td>recall from consumers</td>\n",
       "      <td>information on distribution not (yet) available</td>\n",
       "      <td>foreign bodies</td>\n",
       "      <td>Italy</td>\n",
       "      <td>Luxembourg</td>\n",
       "      <td></td>\n",
       "    </tr>\n",
       "    <tr>\n",
       "      <th>52361</th>\n",
       "      <td>2017-05-08</td>\n",
       "      <td>Spain</td>\n",
       "      <td>fish and fish products</td>\n",
       "      <td>food</td>\n",
       "      <td>serious</td>\n",
       "      <td>withdrawal from the market</td>\n",
       "      <td>distribution to other member countries</td>\n",
       "      <td>pathogenic micro-organisms</td>\n",
       "      <td>Spain</td>\n",
       "      <td>Croatia</td>\n",
       "      <td>INFOSAN</td>\n",
       "    </tr>\n",
       "  </tbody>\n",
       "</table>\n",
       "<p>168188 rows × 11 columns</p>\n",
       "</div>"
      ],
      "text/plain": [
       "         DATE_CASE     NOT_COUNTRY                                PROD_CAT  \\\n",
       "58400   2016-10-06         Belgium                          compound feeds   \n",
       "143169  2006-10-06           Spain                        herbs and spices   \n",
       "46841   2017-09-22     Netherlands        crustaceans and products thereof   \n",
       "47784   2017-09-05     Netherlands  poultry meat and poultry meat products   \n",
       "62155   2016-06-06          Poland                   fruits and vegetables   \n",
       "...            ...             ...                                     ...   \n",
       "90519   2013-07-19         Belgium                          feed additives   \n",
       "26939   2018-12-14  United Kingdom                                pet food   \n",
       "67841   2015-11-17         Belgium                          feed materials   \n",
       "112032  2011-03-28          Greece             cereals and bakery products   \n",
       "52361   2017-05-08           Spain                  fish and fish products   \n",
       "\n",
       "        TYPE RISK_DECISION                  ACTION_TAKEN  \\\n",
       "58400   feed       serious    withdrawal from the market   \n",
       "143169  food     undecided                   re-dispatch   \n",
       "46841   food       serious        informing recipient(s)   \n",
       "47784   food       serious  withdrawal from recipient(s)   \n",
       "62155   food     undecided                   destruction   \n",
       "...      ...           ...                           ...   \n",
       "90519   feed     undecided        informing recipient(s)   \n",
       "26939   feed   not serious         recall from consumers   \n",
       "67841   feed       serious                                 \n",
       "112032  food     undecided         recall from consumers   \n",
       "52361   food       serious    withdrawal from the market   \n",
       "\n",
       "                                      DISTRIBUTION_STAT  \\\n",
       "58400            distribution to other member countries   \n",
       "143169                                  no distribution   \n",
       "46841            distribution to other member countries   \n",
       "47784            distribution to other member countries   \n",
       "62155            product not (yet) placed on the market   \n",
       "...                                                 ...   \n",
       "90519            distribution to other member countries   \n",
       "26939            distribution to other member countries   \n",
       "67841            no distribution from notifying country   \n",
       "112032  information on distribution not (yet) available   \n",
       "52361            distribution to other member countries   \n",
       "\n",
       "                                      HAZARDS_CAT    COUNT_ORIGEN  \\\n",
       "58400                    environmental pollutants         Belgium   \n",
       "143169             food additives and flavourings           China   \n",
       "46841                  pathogenic micro-organisms     Netherlands   \n",
       "47784                  pathogenic micro-organisms          Poland   \n",
       "62155                          pesticide residues           Egypt   \n",
       "...                                           ...             ...   \n",
       "90519   residues of veterinary medicinal products           India   \n",
       "26939               poor or insufficient controls  United Kingdom   \n",
       "67841                                 composition         Ukraine   \n",
       "112032                             foreign bodies           Italy   \n",
       "52361                  pathogenic micro-organisms           Spain   \n",
       "\n",
       "       COUNT_DESTIN        COUNT_CONCERN  \n",
       "58400       Belgium              INFOSAN  \n",
       "143169                             Spain  \n",
       "46841        France                       \n",
       "47784        Greece          Netherlands  \n",
       "62155                             Poland  \n",
       "...             ...                  ...  \n",
       "90519       Ukraine  Commission Services  \n",
       "26939       Ireland                       \n",
       "67841       Belgium              INFOSAN  \n",
       "112032   Luxembourg                       \n",
       "52361       Croatia              INFOSAN  \n",
       "\n",
       "[168188 rows x 11 columns]"
      ]
     },
     "execution_count": 2,
     "metadata": {},
     "output_type": "execute_result"
    }
   ],
   "source": [
    "data = pd.read_csv('../splited_full_RASFF_DATA.csv', sep=';', \n",
    "                header=0, index_col = 0)\n",
    "data = data.sample(frac = 1)\n",
    "df = data\n",
    "df"
   ]
  },
  {
   "cell_type": "markdown",
   "metadata": {
    "colab_type": "text",
    "id": "9pPNjLsA4vsm"
   },
   "source": [
    "# Basic Pre-processing"
   ]
  },
  {
   "cell_type": "code",
   "execution_count": 3,
   "metadata": {
    "ExecuteTime": {
     "end_time": "2019-11-07T09:58:35.113167Z",
     "start_time": "2019-11-07T09:58:34.979538Z"
    },
    "colab": {},
    "colab_type": "code",
    "id": "6DOLl9014vso"
   },
   "outputs": [
    {
     "data": {
      "text/plain": [
       "168188"
      ]
     },
     "metadata": {},
     "output_type": "display_data"
    },
    {
     "data": {
      "text/plain": [
       "168187"
      ]
     },
     "metadata": {},
     "output_type": "display_data"
    }
   ],
   "source": [
    "display(len(df))\n",
    "df['HAZARDS_CAT'] = df['HAZARDS_CAT'].astype(str)\n",
    "df['DATE_CASE'] = df['DATE_CASE'].astype(str)\n",
    "df['DATE_CASE'] = pd.to_datetime(df.DATE_CASE, errors='coerce')\n",
    "df['DATE_CASE'] = df.DATE_CASE.dt.month\n",
    "df = df.dropna(subset=['DATE_CASE'])\n",
    "display(len(df))"
   ]
  },
  {
   "cell_type": "markdown",
   "metadata": {
    "colab_type": "text",
    "id": "ZCy43SqV4vss"
   },
   "source": [
    "# Features Selection"
   ]
  },
  {
   "cell_type": "code",
   "execution_count": 4,
   "metadata": {
    "ExecuteTime": {
     "end_time": "2019-11-07T09:58:39.169658Z",
     "start_time": "2019-11-07T09:58:39.161652Z"
    },
    "colab": {},
    "colab_type": "code",
    "id": "FIJhCA8f4vsu"
   },
   "outputs": [],
   "source": [
    "features = [0,1,6,8]\n",
    "target = [2]\n",
    "X = df.iloc[:,features]\n",
    "y = df.iloc[:,target]"
   ]
  },
  {
   "cell_type": "code",
   "execution_count": 5,
   "metadata": {
    "ExecuteTime": {
     "end_time": "2019-11-07T09:58:39.622387Z",
     "start_time": "2019-11-07T09:58:39.605432Z"
    },
    "colab": {},
    "colab_type": "code",
    "id": "60xhpgfs4vsy",
    "outputId": "f44ccac5-53f1-4dde-8495-7ba6df8702e8",
    "scrolled": true
   },
   "outputs": [
    {
     "data": {
      "text/html": [
       "<div>\n",
       "<style scoped>\n",
       "    .dataframe tbody tr th:only-of-type {\n",
       "        vertical-align: middle;\n",
       "    }\n",
       "\n",
       "    .dataframe tbody tr th {\n",
       "        vertical-align: top;\n",
       "    }\n",
       "\n",
       "    .dataframe thead th {\n",
       "        text-align: right;\n",
       "    }\n",
       "</style>\n",
       "<table border=\"1\" class=\"dataframe\">\n",
       "  <thead>\n",
       "    <tr style=\"text-align: right;\">\n",
       "      <th></th>\n",
       "      <th>DATE_CASE</th>\n",
       "      <th>NOT_COUNTRY</th>\n",
       "      <th>DISTRIBUTION_STAT</th>\n",
       "      <th>COUNT_ORIGEN</th>\n",
       "    </tr>\n",
       "  </thead>\n",
       "  <tbody>\n",
       "    <tr>\n",
       "      <th>58400</th>\n",
       "      <td>10.0</td>\n",
       "      <td>Belgium</td>\n",
       "      <td>distribution to other member countries</td>\n",
       "      <td>Belgium</td>\n",
       "    </tr>\n",
       "    <tr>\n",
       "      <th>143169</th>\n",
       "      <td>10.0</td>\n",
       "      <td>Spain</td>\n",
       "      <td>no distribution</td>\n",
       "      <td>China</td>\n",
       "    </tr>\n",
       "    <tr>\n",
       "      <th>46841</th>\n",
       "      <td>9.0</td>\n",
       "      <td>Netherlands</td>\n",
       "      <td>distribution to other member countries</td>\n",
       "      <td>Netherlands</td>\n",
       "    </tr>\n",
       "    <tr>\n",
       "      <th>47784</th>\n",
       "      <td>9.0</td>\n",
       "      <td>Netherlands</td>\n",
       "      <td>distribution to other member countries</td>\n",
       "      <td>Poland</td>\n",
       "    </tr>\n",
       "    <tr>\n",
       "      <th>62155</th>\n",
       "      <td>6.0</td>\n",
       "      <td>Poland</td>\n",
       "      <td>product not (yet) placed on the market</td>\n",
       "      <td>Egypt</td>\n",
       "    </tr>\n",
       "    <tr>\n",
       "      <th>...</th>\n",
       "      <td>...</td>\n",
       "      <td>...</td>\n",
       "      <td>...</td>\n",
       "      <td>...</td>\n",
       "    </tr>\n",
       "    <tr>\n",
       "      <th>90519</th>\n",
       "      <td>7.0</td>\n",
       "      <td>Belgium</td>\n",
       "      <td>distribution to other member countries</td>\n",
       "      <td>India</td>\n",
       "    </tr>\n",
       "    <tr>\n",
       "      <th>26939</th>\n",
       "      <td>12.0</td>\n",
       "      <td>United Kingdom</td>\n",
       "      <td>distribution to other member countries</td>\n",
       "      <td>United Kingdom</td>\n",
       "    </tr>\n",
       "    <tr>\n",
       "      <th>67841</th>\n",
       "      <td>11.0</td>\n",
       "      <td>Belgium</td>\n",
       "      <td>no distribution from notifying country</td>\n",
       "      <td>Ukraine</td>\n",
       "    </tr>\n",
       "    <tr>\n",
       "      <th>112032</th>\n",
       "      <td>3.0</td>\n",
       "      <td>Greece</td>\n",
       "      <td>information on distribution not (yet) available</td>\n",
       "      <td>Italy</td>\n",
       "    </tr>\n",
       "    <tr>\n",
       "      <th>52361</th>\n",
       "      <td>5.0</td>\n",
       "      <td>Spain</td>\n",
       "      <td>distribution to other member countries</td>\n",
       "      <td>Spain</td>\n",
       "    </tr>\n",
       "  </tbody>\n",
       "</table>\n",
       "<p>168187 rows × 4 columns</p>\n",
       "</div>"
      ],
      "text/plain": [
       "        DATE_CASE     NOT_COUNTRY  \\\n",
       "58400        10.0         Belgium   \n",
       "143169       10.0           Spain   \n",
       "46841         9.0     Netherlands   \n",
       "47784         9.0     Netherlands   \n",
       "62155         6.0          Poland   \n",
       "...           ...             ...   \n",
       "90519         7.0         Belgium   \n",
       "26939        12.0  United Kingdom   \n",
       "67841        11.0         Belgium   \n",
       "112032        3.0          Greece   \n",
       "52361         5.0           Spain   \n",
       "\n",
       "                                      DISTRIBUTION_STAT    COUNT_ORIGEN  \n",
       "58400            distribution to other member countries         Belgium  \n",
       "143169                                  no distribution           China  \n",
       "46841            distribution to other member countries     Netherlands  \n",
       "47784            distribution to other member countries          Poland  \n",
       "62155            product not (yet) placed on the market           Egypt  \n",
       "...                                                 ...             ...  \n",
       "90519            distribution to other member countries           India  \n",
       "26939            distribution to other member countries  United Kingdom  \n",
       "67841            no distribution from notifying country         Ukraine  \n",
       "112032  information on distribution not (yet) available           Italy  \n",
       "52361            distribution to other member countries           Spain  \n",
       "\n",
       "[168187 rows x 4 columns]"
      ]
     },
     "execution_count": 5,
     "metadata": {},
     "output_type": "execute_result"
    }
   ],
   "source": [
    "X"
   ]
  },
  {
   "cell_type": "code",
   "execution_count": 6,
   "metadata": {
    "ExecuteTime": {
     "end_time": "2019-11-07T09:58:42.208891Z",
     "start_time": "2019-11-07T09:58:42.196950Z"
    },
    "colab": {},
    "colab_type": "code",
    "id": "FQCg4xQ54vs4",
    "outputId": "ea6ee104-d2da-4bd1-c289-19bd86ea7253",
    "scrolled": true
   },
   "outputs": [
    {
     "data": {
      "text/html": [
       "<div>\n",
       "<style scoped>\n",
       "    .dataframe tbody tr th:only-of-type {\n",
       "        vertical-align: middle;\n",
       "    }\n",
       "\n",
       "    .dataframe tbody tr th {\n",
       "        vertical-align: top;\n",
       "    }\n",
       "\n",
       "    .dataframe thead th {\n",
       "        text-align: right;\n",
       "    }\n",
       "</style>\n",
       "<table border=\"1\" class=\"dataframe\">\n",
       "  <thead>\n",
       "    <tr style=\"text-align: right;\">\n",
       "      <th></th>\n",
       "      <th>PROD_CAT</th>\n",
       "    </tr>\n",
       "  </thead>\n",
       "  <tbody>\n",
       "    <tr>\n",
       "      <th>58400</th>\n",
       "      <td>compound feeds</td>\n",
       "    </tr>\n",
       "    <tr>\n",
       "      <th>143169</th>\n",
       "      <td>herbs and spices</td>\n",
       "    </tr>\n",
       "    <tr>\n",
       "      <th>46841</th>\n",
       "      <td>crustaceans and products thereof</td>\n",
       "    </tr>\n",
       "    <tr>\n",
       "      <th>47784</th>\n",
       "      <td>poultry meat and poultry meat products</td>\n",
       "    </tr>\n",
       "    <tr>\n",
       "      <th>62155</th>\n",
       "      <td>fruits and vegetables</td>\n",
       "    </tr>\n",
       "    <tr>\n",
       "      <th>...</th>\n",
       "      <td>...</td>\n",
       "    </tr>\n",
       "    <tr>\n",
       "      <th>90519</th>\n",
       "      <td>feed additives</td>\n",
       "    </tr>\n",
       "    <tr>\n",
       "      <th>26939</th>\n",
       "      <td>pet food</td>\n",
       "    </tr>\n",
       "    <tr>\n",
       "      <th>67841</th>\n",
       "      <td>feed materials</td>\n",
       "    </tr>\n",
       "    <tr>\n",
       "      <th>112032</th>\n",
       "      <td>cereals and bakery products</td>\n",
       "    </tr>\n",
       "    <tr>\n",
       "      <th>52361</th>\n",
       "      <td>fish and fish products</td>\n",
       "    </tr>\n",
       "  </tbody>\n",
       "</table>\n",
       "<p>168187 rows × 1 columns</p>\n",
       "</div>"
      ],
      "text/plain": [
       "                                      PROD_CAT\n",
       "58400                           compound feeds\n",
       "143169                        herbs and spices\n",
       "46841         crustaceans and products thereof\n",
       "47784   poultry meat and poultry meat products\n",
       "62155                    fruits and vegetables\n",
       "...                                        ...\n",
       "90519                           feed additives\n",
       "26939                                 pet food\n",
       "67841                           feed materials\n",
       "112032             cereals and bakery products\n",
       "52361                   fish and fish products\n",
       "\n",
       "[168187 rows x 1 columns]"
      ]
     },
     "execution_count": 6,
     "metadata": {},
     "output_type": "execute_result"
    }
   ],
   "source": [
    "y"
   ]
  },
  {
   "cell_type": "code",
   "execution_count": 7,
   "metadata": {
    "ExecuteTime": {
     "end_time": "2019-11-07T09:58:47.391416Z",
     "start_time": "2019-11-07T09:58:47.346535Z"
    },
    "colab": {},
    "colab_type": "code",
    "id": "lYMY6oXk4vs9"
   },
   "outputs": [],
   "source": [
    "ency = OneHotEncoder(handle_unknown='ignore', sparse = False)\n",
    "ency.fit(y.values)\n",
    "y_one_hot = ency.transform(y.values)"
   ]
  },
  {
   "cell_type": "markdown",
   "metadata": {
    "colab_type": "text",
    "id": "9pHebzer4vtB"
   },
   "source": [
    "# Test Data"
   ]
  },
  {
   "cell_type": "markdown",
   "metadata": {
    "colab_type": "text",
    "id": "6A-ocBgx4vtB"
   },
   "source": [
    "## Loaded"
   ]
  },
  {
   "cell_type": "code",
   "execution_count": 8,
   "metadata": {
    "ExecuteTime": {
     "end_time": "2019-11-07T09:58:50.434099Z",
     "start_time": "2019-11-07T09:58:50.374287Z"
    },
    "colab": {},
    "colab_type": "code",
    "id": "zxE6R8kd4vtC",
    "outputId": "1a598948-6c17-43fe-935d-1de27f80ed91"
   },
   "outputs": [
    {
     "data": {
      "text/plain": [
       "\"\\ndata = pd.read_csv('../splited_2019_RASFF_DATA_16092019.csv', sep=';', \\n                header=0, index_col = 0)\\ndata = data.sample(frac = 1)\\ntest = data\\ntest\\n\""
      ]
     },
     "execution_count": 8,
     "metadata": {},
     "output_type": "execute_result"
    }
   ],
   "source": [
    "#Este dataset que carga aquí no se usa nunca. Se sobreescriben sus variables.\n",
    "'''\n",
    "data = pd.read_csv('../splited_2019_RASFF_DATA_16092019.csv', sep=';', \n",
    "                header=0, index_col = 0)\n",
    "data = data.sample(frac = 1)\n",
    "test = data\n",
    "test\n",
    "'''"
   ]
  },
  {
   "cell_type": "markdown",
   "metadata": {
    "colab_type": "text",
    "id": "AwSriq4U4vtH"
   },
   "source": [
    "## Preprocessing"
   ]
  },
  {
   "cell_type": "code",
   "execution_count": 9,
   "metadata": {
    "ExecuteTime": {
     "end_time": "2019-11-07T09:58:51.753558Z",
     "start_time": "2019-11-07T09:58:51.747575Z"
    },
    "colab": {},
    "colab_type": "code",
    "id": "2zn9d1en4vtH"
   },
   "outputs": [
    {
     "data": {
      "text/plain": [
       "\"\\ntest['HAZARDS_CAT'] = test['HAZARDS_CAT'].astype(str)\\ntest['DATE_CASE'] = test['DATE_CASE'].astype(str)\\ntest['DATE_CASE'] =pd.to_datetime(test.DATE_CASE)\\ntest['DATE_CASE'] = test.DATE_CASE.dt.month\\n\""
      ]
     },
     "execution_count": 9,
     "metadata": {},
     "output_type": "execute_result"
    }
   ],
   "source": [
    "'''\n",
    "test['HAZARDS_CAT'] = test['HAZARDS_CAT'].astype(str)\n",
    "test['DATE_CASE'] = test['DATE_CASE'].astype(str)\n",
    "test['DATE_CASE'] =pd.to_datetime(test.DATE_CASE)\n",
    "test['DATE_CASE'] = test.DATE_CASE.dt.month\n",
    "'''"
   ]
  },
  {
   "cell_type": "markdown",
   "metadata": {
    "colab_type": "text",
    "id": "Z8W5dWUy4vtM"
   },
   "source": [
    "## Features"
   ]
  },
  {
   "cell_type": "code",
   "execution_count": 10,
   "metadata": {
    "ExecuteTime": {
     "end_time": "2019-11-07T09:59:05.912763Z",
     "start_time": "2019-11-07T09:59:05.907777Z"
    },
    "colab": {},
    "colab_type": "code",
    "id": "eCJiBJTd4vtN"
   },
   "outputs": [
    {
     "data": {
      "text/plain": [
       "'\\nX_val = test.iloc[:,features]\\ny_val = test.iloc[:,target]\\n'"
      ]
     },
     "execution_count": 10,
     "metadata": {},
     "output_type": "execute_result"
    }
   ],
   "source": [
    "features = [0,1,6,8]\n",
    "target = [2]\n",
    "'''\n",
    "X_val = test.iloc[:,features]\n",
    "y_val = test.iloc[:,target]\n",
    "'''"
   ]
  },
  {
   "cell_type": "code",
   "execution_count": 11,
   "metadata": {
    "ExecuteTime": {
     "end_time": "2019-11-07T09:59:06.840786Z",
     "start_time": "2019-11-07T09:59:06.834775Z"
    },
    "colab": {},
    "colab_type": "code",
    "id": "Yg_d5wdm4vtS"
   },
   "outputs": [],
   "source": [
    "#y_val_one_hot = ency.transform(y_val.values)"
   ]
  },
  {
   "cell_type": "markdown",
   "metadata": {
    "colab_type": "text",
    "id": "nIFN4glP4vtY"
   },
   "source": [
    "# Split train-test-val"
   ]
  },
  {
   "cell_type": "code",
   "execution_count": 12,
   "metadata": {
    "ExecuteTime": {
     "end_time": "2019-11-07T09:59:26.331998Z",
     "start_time": "2019-11-07T09:59:26.328009Z"
    },
    "colab": {},
    "colab_type": "code",
    "id": "4Ywg0ZnU4vta"
   },
   "outputs": [],
   "source": [
    "categoical_vars = ['DATE_CASE','NOT_COUNTRY','DISTRIBUTION_STAT','COUNT_ORIGEN']"
   ]
  },
  {
   "cell_type": "code",
   "execution_count": 13,
   "metadata": {
    "ExecuteTime": {
     "end_time": "2019-11-07T09:59:27.517648Z",
     "start_time": "2019-11-07T09:59:27.475766Z"
    },
    "colab": {},
    "colab_type": "code",
    "id": "3Cxjq3aw4vte"
   },
   "outputs": [],
   "source": [
    "X_train, X_test, y_train, y_test = train_test_split(X, y_one_hot, test_size=0.2)"
   ]
  },
  {
   "cell_type": "code",
   "execution_count": 14,
   "metadata": {
    "ExecuteTime": {
     "end_time": "2019-11-07T09:59:27.703560Z",
     "start_time": "2019-11-07T09:59:27.700592Z"
    },
    "colab": {},
    "colab_type": "code",
    "id": "AzlpUO974vti"
   },
   "outputs": [],
   "source": [
    "X_train, X_val, y_train, y_val = train_test_split(X_train, y_train, test_size=0.25, random_state=42,shuffle = True)"
   ]
  },
  {
   "cell_type": "markdown",
   "metadata": {
    "colab_type": "text",
    "id": "mHCmO2P94vtn"
   },
   "source": [
    "# Coding and conversion to lists for being able to introduce it into the model"
   ]
  },
  {
   "cell_type": "code",
   "execution_count": 15,
   "metadata": {
    "ExecuteTime": {
     "end_time": "2019-11-07T09:59:28.471661Z",
     "start_time": "2019-11-07T09:59:28.466702Z"
    },
    "colab": {},
    "colab_type": "code",
    "id": "kXmAc-Hd4vtn"
   },
   "outputs": [],
   "source": [
    "def preproc(X_train, X_test, Xvalidation_data):\n",
    "    input_list_train = []\n",
    "    input_list_test = []\n",
    "    input_list_testval = []\n",
    "    \n",
    "    for c in categoical_vars:\n",
    "        raw_vals = np.unique(X_train[c])\n",
    "        val_map = {}\n",
    "        for i in range(len(raw_vals)):\n",
    "            val_map[raw_vals[i]] = i       \n",
    "        \n",
    "        input_list_train.append(X_train[c].map(val_map).values)\n",
    "        input_list_test.append(X_test[c].map(val_map).fillna(0).values)\n",
    "        input_list_testval.append(X_val[c].map(val_map).fillna(0).values)\n",
    "\n",
    "    return input_list_train, input_list_test,input_list_testval"
   ]
  },
  {
   "cell_type": "code",
   "execution_count": 16,
   "metadata": {
    "ExecuteTime": {
     "end_time": "2019-11-07T09:59:29.786581Z",
     "start_time": "2019-11-07T09:59:29.588085Z"
    },
    "colab": {},
    "colab_type": "code",
    "id": "q3nDJ1jc4vtp"
   },
   "outputs": [],
   "source": [
    "input_list_train,input_list_test,input_list_testval = preproc(X_train,X_test, X_val)"
   ]
  },
  {
   "cell_type": "markdown",
   "metadata": {
    "colab_type": "text",
    "id": "lF4wpn6G4vtt"
   },
   "source": [
    "# Metrics Definition"
   ]
  },
  {
   "cell_type": "code",
   "execution_count": 17,
   "metadata": {
    "ExecuteTime": {
     "end_time": "2019-11-07T09:59:36.711059Z",
     "start_time": "2019-11-07T09:59:36.707069Z"
    },
    "colab": {},
    "colab_type": "code",
    "id": "kmXV0Hix4vtu"
   },
   "outputs": [],
   "source": [
    "top3_acc = functools.partial(metrics.top_k_categorical_accuracy, k=3)\n",
    "top3_acc.__name__ = 'top3_acc'\n",
    "\n",
    "top2_acc = functools.partial(metrics.top_k_categorical_accuracy, k=3)\n",
    "top2_acc.__name__ = 'top2_acc'"
   ]
  },
  {
   "cell_type": "code",
   "execution_count": 18,
   "metadata": {
    "ExecuteTime": {
     "end_time": "2019-11-07T09:59:37.063768Z",
     "start_time": "2019-11-07T09:59:37.060776Z"
    },
    "colab": {},
    "colab_type": "code",
    "id": "g0Es5YDS4vtx"
   },
   "outputs": [],
   "source": [
    "def top_1_categorical_accuracy(y_true, y_pred):\n",
    "    return metrics.top_k_categorical_accuracy(y_true, y_pred, k=1) "
   ]
  },
  {
   "cell_type": "code",
   "execution_count": 19,
   "metadata": {
    "ExecuteTime": {
     "end_time": "2019-11-07T09:59:37.431036Z",
     "start_time": "2019-11-07T09:59:37.427024Z"
    },
    "colab": {},
    "colab_type": "code",
    "id": "TwP5FXfl4vt0"
   },
   "outputs": [],
   "source": [
    "def top_2_categorical_accuracy(y_true, y_pred):\n",
    "    return metrics.top_k_categorical_accuracy(y_true, y_pred, k=2) "
   ]
  },
  {
   "cell_type": "code",
   "execution_count": 20,
   "metadata": {
    "ExecuteTime": {
     "end_time": "2019-11-07T09:59:37.813431Z",
     "start_time": "2019-11-07T09:59:37.811432Z"
    },
    "colab": {},
    "colab_type": "code",
    "id": "RXl1GIFG4vt4"
   },
   "outputs": [],
   "source": [
    "def top_3_categorical_accuracy(y_true, y_pred):\n",
    "    return metrics.top_k_categorical_accuracy(y_true, y_pred, k=3) "
   ]
  },
  {
   "cell_type": "markdown",
   "metadata": {
    "colab_type": "text",
    "id": "criCy0OW4vt9"
   },
   "source": [
    "# Embeddings + mlp Models (cases 1 and 3)"
   ]
  },
  {
   "cell_type": "code",
   "execution_count": 21,
   "metadata": {
    "ExecuteTime": {
     "end_time": "2019-11-07T11:20:14.437025Z",
     "start_time": "2019-11-07T11:20:14.205645Z"
    },
    "colab": {},
    "colab_type": "code",
    "id": "_OY6J3cX4vt9"
   },
   "outputs": [],
   "source": [
    "input_models=[]\n",
    "output_embeddings=[]\n",
    "\n",
    "for categorical_var in categoical_vars:\n",
    "    cat_emb_name= categorical_var.replace(\" \", \"\")+'_Embedding'\n",
    "    input_name= 'Input_' + categorical_var.replace(\" \", \"\")\n",
    "    no_of_unique_cat  = X_train[categorical_var].nunique()\n",
    "    embedding_size = int(min(np.ceil((no_of_unique_cat)/2), 50 ))\n",
    "   \n",
    "    input_model = Input(shape=(1,), name=input_name)\n",
    "    output_model = Embedding(no_of_unique_cat, embedding_size, name=cat_emb_name)(input_model)\n",
    "    output_model = Reshape(target_shape=(embedding_size,))(output_model)    \n",
    "    \n",
    "    input_models.append(input_model)\n",
    "    output_embeddings.append(output_model)\n",
    "  \n",
    "\n",
    "output = Concatenate()(output_embeddings)\n",
    "output = Dense(2048,activation=\"relu\")(output)\n",
    "output= Dropout(0.3)(output)\n",
    "output = Dense(1024,activation=\"relu\")(output)\n",
    "output= Dropout(0.2)(output)\n",
    "output = Dense(512,activation=\"relu\")(output)\n",
    "output= Dropout(0.2)(output)\n",
    "output = Dense(38, activation='softmax')(output)\n",
    "model = Model(inputs=input_models, outputs=output)"
   ]
  },
  {
   "cell_type": "code",
   "execution_count": 22,
   "metadata": {
    "colab": {},
    "colab_type": "code",
    "id": "O0WRB4Ln4vuC"
   },
   "outputs": [],
   "source": [
    "model.compile(loss='categorical_crossentropy', optimizer=\"adam\", metrics=['accuracy', top_1_categorical_accuracy,top_2_categorical_accuracy,top_3_categorical_accuracy])"
   ]
  },
  {
   "cell_type": "code",
   "execution_count": 23,
   "metadata": {},
   "outputs": [
    {
     "data": {
      "text/plain": [
       "(4, 100911)"
      ]
     },
     "metadata": {},
     "output_type": "display_data"
    },
    {
     "data": {
      "text/plain": [
       "(100911, 42)"
      ]
     },
     "metadata": {},
     "output_type": "display_data"
    },
    {
     "data": {
      "text/plain": [
       "(4, 33638)"
      ]
     },
     "metadata": {},
     "output_type": "display_data"
    },
    {
     "data": {
      "text/plain": [
       "(33638, 42)"
      ]
     },
     "metadata": {},
     "output_type": "display_data"
    }
   ],
   "source": [
    "display(np.array(input_list_train).shape)\n",
    "display(y_train.shape)\n",
    "display(np.array(input_list_test).shape)\n",
    "display(y_test.shape)\n"
   ]
  },
  {
   "cell_type": "code",
   "execution_count": 24,
   "metadata": {
    "ExecuteTime": {
     "end_time": "2019-11-07T11:22:01.539705Z",
     "start_time": "2019-11-07T11:20:15.149426Z"
    },
    "colab": {},
    "colab_type": "code",
    "id": "y5lTVZmY4vuF",
    "outputId": "df7d720b-a099-4d15-e28d-e7ebb639e227",
    "scrolled": true
   },
   "outputs": [
    {
     "name": "stdout",
     "output_type": "stream",
     "text": [
      "Epoch 1/5\n"
     ]
    },
    {
     "ename": "ValueError",
     "evalue": "in user code:\n\n    C:\\Users\\Nacho Moll\\AppData\\Roaming\\Python\\Python37\\site-packages\\tensorflow\\python\\keras\\engine\\training.py:571 train_function  *\n        outputs = self.distribute_strategy.run(\n    C:\\Users\\Nacho Moll\\AppData\\Roaming\\Python\\Python37\\site-packages\\tensorflow\\python\\distribute\\distribute_lib.py:951 run  **\n        return self._extended.call_for_each_replica(fn, args=args, kwargs=kwargs)\n    C:\\Users\\Nacho Moll\\AppData\\Roaming\\Python\\Python37\\site-packages\\tensorflow\\python\\distribute\\distribute_lib.py:2290 call_for_each_replica\n        return self._call_for_each_replica(fn, args, kwargs)\n    C:\\Users\\Nacho Moll\\AppData\\Roaming\\Python\\Python37\\site-packages\\tensorflow\\python\\distribute\\distribute_lib.py:2649 _call_for_each_replica\n        return fn(*args, **kwargs)\n    C:\\Users\\Nacho Moll\\AppData\\Roaming\\Python\\Python37\\site-packages\\tensorflow\\python\\keras\\engine\\training.py:533 train_step  **\n        y, y_pred, sample_weight, regularization_losses=self.losses)\n    C:\\Users\\Nacho Moll\\AppData\\Roaming\\Python\\Python37\\site-packages\\tensorflow\\python\\keras\\engine\\compile_utils.py:205 __call__\n        loss_value = loss_obj(y_t, y_p, sample_weight=sw)\n    C:\\Users\\Nacho Moll\\AppData\\Roaming\\Python\\Python37\\site-packages\\tensorflow\\python\\keras\\losses.py:143 __call__\n        losses = self.call(y_true, y_pred)\n    C:\\Users\\Nacho Moll\\AppData\\Roaming\\Python\\Python37\\site-packages\\tensorflow\\python\\keras\\losses.py:246 call\n        return self.fn(y_true, y_pred, **self._fn_kwargs)\n    C:\\Users\\Nacho Moll\\AppData\\Roaming\\Python\\Python37\\site-packages\\tensorflow\\python\\keras\\losses.py:1527 categorical_crossentropy\n        return K.categorical_crossentropy(y_true, y_pred, from_logits=from_logits)\n    C:\\Users\\Nacho Moll\\AppData\\Roaming\\Python\\Python37\\site-packages\\tensorflow\\python\\keras\\backend.py:4561 categorical_crossentropy\n        target.shape.assert_is_compatible_with(output.shape)\n    C:\\Users\\Nacho Moll\\AppData\\Roaming\\Python\\Python37\\site-packages\\tensorflow\\python\\framework\\tensor_shape.py:1117 assert_is_compatible_with\n        raise ValueError(\"Shapes %s and %s are incompatible\" % (self, other))\n\n    ValueError: Shapes (None, 42) and (None, 38) are incompatible\n",
     "output_type": "error",
     "traceback": [
      "\u001b[1;31m---------------------------------------------------------------------------\u001b[0m",
      "\u001b[1;31mValueError\u001b[0m                                Traceback (most recent call last)",
      "\u001b[1;32m<ipython-input-24-8923cf4859d7>\u001b[0m in \u001b[0;36m<module>\u001b[1;34m\u001b[0m\n\u001b[1;32m----> 1\u001b[1;33m \u001b[0mhist\u001b[0m \u001b[1;33m=\u001b[0m \u001b[0mmodel\u001b[0m\u001b[1;33m.\u001b[0m\u001b[0mfit\u001b[0m\u001b[1;33m(\u001b[0m\u001b[0minput_list_train\u001b[0m\u001b[1;33m,\u001b[0m\u001b[0my_train\u001b[0m\u001b[1;33m,\u001b[0m\u001b[0mvalidation_data\u001b[0m\u001b[1;33m=\u001b[0m\u001b[1;33m(\u001b[0m\u001b[0minput_list_test\u001b[0m\u001b[1;33m,\u001b[0m\u001b[0my_test\u001b[0m\u001b[1;33m)\u001b[0m \u001b[1;33m,\u001b[0m \u001b[0mepochs\u001b[0m \u001b[1;33m=\u001b[0m \u001b[1;36m5\u001b[0m \u001b[1;33m,\u001b[0m \u001b[0mbatch_size\u001b[0m \u001b[1;33m=\u001b[0m \u001b[1;36m64\u001b[0m\u001b[1;33m,\u001b[0m \u001b[0mverbose\u001b[0m\u001b[1;33m=\u001b[0m\u001b[1;36m1\u001b[0m\u001b[1;33m)\u001b[0m\u001b[1;33m\u001b[0m\u001b[1;33m\u001b[0m\u001b[0m\n\u001b[0m",
      "\u001b[1;32m~\\AppData\\Roaming\\Python\\Python37\\site-packages\\tensorflow\\python\\keras\\engine\\training.py\u001b[0m in \u001b[0;36m_method_wrapper\u001b[1;34m(self, *args, **kwargs)\u001b[0m\n\u001b[0;32m     64\u001b[0m   \u001b[1;32mdef\u001b[0m \u001b[0m_method_wrapper\u001b[0m\u001b[1;33m(\u001b[0m\u001b[0mself\u001b[0m\u001b[1;33m,\u001b[0m \u001b[1;33m*\u001b[0m\u001b[0margs\u001b[0m\u001b[1;33m,\u001b[0m \u001b[1;33m**\u001b[0m\u001b[0mkwargs\u001b[0m\u001b[1;33m)\u001b[0m\u001b[1;33m:\u001b[0m\u001b[1;33m\u001b[0m\u001b[1;33m\u001b[0m\u001b[0m\n\u001b[0;32m     65\u001b[0m     \u001b[1;32mif\u001b[0m \u001b[1;32mnot\u001b[0m \u001b[0mself\u001b[0m\u001b[1;33m.\u001b[0m\u001b[0m_in_multi_worker_mode\u001b[0m\u001b[1;33m(\u001b[0m\u001b[1;33m)\u001b[0m\u001b[1;33m:\u001b[0m  \u001b[1;31m# pylint: disable=protected-access\u001b[0m\u001b[1;33m\u001b[0m\u001b[1;33m\u001b[0m\u001b[0m\n\u001b[1;32m---> 66\u001b[1;33m       \u001b[1;32mreturn\u001b[0m \u001b[0mmethod\u001b[0m\u001b[1;33m(\u001b[0m\u001b[0mself\u001b[0m\u001b[1;33m,\u001b[0m \u001b[1;33m*\u001b[0m\u001b[0margs\u001b[0m\u001b[1;33m,\u001b[0m \u001b[1;33m**\u001b[0m\u001b[0mkwargs\u001b[0m\u001b[1;33m)\u001b[0m\u001b[1;33m\u001b[0m\u001b[1;33m\u001b[0m\u001b[0m\n\u001b[0m\u001b[0;32m     67\u001b[0m \u001b[1;33m\u001b[0m\u001b[0m\n\u001b[0;32m     68\u001b[0m     \u001b[1;31m# Running inside `run_distribute_coordinator` already.\u001b[0m\u001b[1;33m\u001b[0m\u001b[1;33m\u001b[0m\u001b[1;33m\u001b[0m\u001b[0m\n",
      "\u001b[1;32m~\\AppData\\Roaming\\Python\\Python37\\site-packages\\tensorflow\\python\\keras\\engine\\training.py\u001b[0m in \u001b[0;36mfit\u001b[1;34m(self, x, y, batch_size, epochs, verbose, callbacks, validation_split, validation_data, shuffle, class_weight, sample_weight, initial_epoch, steps_per_epoch, validation_steps, validation_batch_size, validation_freq, max_queue_size, workers, use_multiprocessing)\u001b[0m\n\u001b[0;32m    846\u001b[0m                 batch_size=batch_size):\n\u001b[0;32m    847\u001b[0m               \u001b[0mcallbacks\u001b[0m\u001b[1;33m.\u001b[0m\u001b[0mon_train_batch_begin\u001b[0m\u001b[1;33m(\u001b[0m\u001b[0mstep\u001b[0m\u001b[1;33m)\u001b[0m\u001b[1;33m\u001b[0m\u001b[1;33m\u001b[0m\u001b[0m\n\u001b[1;32m--> 848\u001b[1;33m               \u001b[0mtmp_logs\u001b[0m \u001b[1;33m=\u001b[0m \u001b[0mtrain_function\u001b[0m\u001b[1;33m(\u001b[0m\u001b[0miterator\u001b[0m\u001b[1;33m)\u001b[0m\u001b[1;33m\u001b[0m\u001b[1;33m\u001b[0m\u001b[0m\n\u001b[0m\u001b[0;32m    849\u001b[0m               \u001b[1;31m# Catch OutOfRangeError for Datasets of unknown size.\u001b[0m\u001b[1;33m\u001b[0m\u001b[1;33m\u001b[0m\u001b[1;33m\u001b[0m\u001b[0m\n\u001b[0;32m    850\u001b[0m               \u001b[1;31m# This blocks until the batch has finished executing.\u001b[0m\u001b[1;33m\u001b[0m\u001b[1;33m\u001b[0m\u001b[1;33m\u001b[0m\u001b[0m\n",
      "\u001b[1;32m~\\AppData\\Roaming\\Python\\Python37\\site-packages\\tensorflow\\python\\eager\\def_function.py\u001b[0m in \u001b[0;36m__call__\u001b[1;34m(self, *args, **kwds)\u001b[0m\n\u001b[0;32m    578\u001b[0m         \u001b[0mxla_context\u001b[0m\u001b[1;33m.\u001b[0m\u001b[0mExit\u001b[0m\u001b[1;33m(\u001b[0m\u001b[1;33m)\u001b[0m\u001b[1;33m\u001b[0m\u001b[1;33m\u001b[0m\u001b[0m\n\u001b[0;32m    579\u001b[0m     \u001b[1;32melse\u001b[0m\u001b[1;33m:\u001b[0m\u001b[1;33m\u001b[0m\u001b[1;33m\u001b[0m\u001b[0m\n\u001b[1;32m--> 580\u001b[1;33m       \u001b[0mresult\u001b[0m \u001b[1;33m=\u001b[0m \u001b[0mself\u001b[0m\u001b[1;33m.\u001b[0m\u001b[0m_call\u001b[0m\u001b[1;33m(\u001b[0m\u001b[1;33m*\u001b[0m\u001b[0margs\u001b[0m\u001b[1;33m,\u001b[0m \u001b[1;33m**\u001b[0m\u001b[0mkwds\u001b[0m\u001b[1;33m)\u001b[0m\u001b[1;33m\u001b[0m\u001b[1;33m\u001b[0m\u001b[0m\n\u001b[0m\u001b[0;32m    581\u001b[0m \u001b[1;33m\u001b[0m\u001b[0m\n\u001b[0;32m    582\u001b[0m     \u001b[1;32mif\u001b[0m \u001b[0mtracing_count\u001b[0m \u001b[1;33m==\u001b[0m \u001b[0mself\u001b[0m\u001b[1;33m.\u001b[0m\u001b[0m_get_tracing_count\u001b[0m\u001b[1;33m(\u001b[0m\u001b[1;33m)\u001b[0m\u001b[1;33m:\u001b[0m\u001b[1;33m\u001b[0m\u001b[1;33m\u001b[0m\u001b[0m\n",
      "\u001b[1;32m~\\AppData\\Roaming\\Python\\Python37\\site-packages\\tensorflow\\python\\eager\\def_function.py\u001b[0m in \u001b[0;36m_call\u001b[1;34m(self, *args, **kwds)\u001b[0m\n\u001b[0;32m    625\u001b[0m       \u001b[1;31m# This is the first call of __call__, so we have to initialize.\u001b[0m\u001b[1;33m\u001b[0m\u001b[1;33m\u001b[0m\u001b[1;33m\u001b[0m\u001b[0m\n\u001b[0;32m    626\u001b[0m       \u001b[0minitializers\u001b[0m \u001b[1;33m=\u001b[0m \u001b[1;33m[\u001b[0m\u001b[1;33m]\u001b[0m\u001b[1;33m\u001b[0m\u001b[1;33m\u001b[0m\u001b[0m\n\u001b[1;32m--> 627\u001b[1;33m       \u001b[0mself\u001b[0m\u001b[1;33m.\u001b[0m\u001b[0m_initialize\u001b[0m\u001b[1;33m(\u001b[0m\u001b[0margs\u001b[0m\u001b[1;33m,\u001b[0m \u001b[0mkwds\u001b[0m\u001b[1;33m,\u001b[0m \u001b[0madd_initializers_to\u001b[0m\u001b[1;33m=\u001b[0m\u001b[0minitializers\u001b[0m\u001b[1;33m)\u001b[0m\u001b[1;33m\u001b[0m\u001b[1;33m\u001b[0m\u001b[0m\n\u001b[0m\u001b[0;32m    628\u001b[0m     \u001b[1;32mfinally\u001b[0m\u001b[1;33m:\u001b[0m\u001b[1;33m\u001b[0m\u001b[1;33m\u001b[0m\u001b[0m\n\u001b[0;32m    629\u001b[0m       \u001b[1;31m# At this point we know that the initialization is complete (or less\u001b[0m\u001b[1;33m\u001b[0m\u001b[1;33m\u001b[0m\u001b[1;33m\u001b[0m\u001b[0m\n",
      "\u001b[1;32m~\\AppData\\Roaming\\Python\\Python37\\site-packages\\tensorflow\\python\\eager\\def_function.py\u001b[0m in \u001b[0;36m_initialize\u001b[1;34m(self, args, kwds, add_initializers_to)\u001b[0m\n\u001b[0;32m    504\u001b[0m     self._concrete_stateful_fn = (\n\u001b[0;32m    505\u001b[0m         self._stateful_fn._get_concrete_function_internal_garbage_collected(  # pylint: disable=protected-access\n\u001b[1;32m--> 506\u001b[1;33m             *args, **kwds))\n\u001b[0m\u001b[0;32m    507\u001b[0m \u001b[1;33m\u001b[0m\u001b[0m\n\u001b[0;32m    508\u001b[0m     \u001b[1;32mdef\u001b[0m \u001b[0minvalid_creator_scope\u001b[0m\u001b[1;33m(\u001b[0m\u001b[1;33m*\u001b[0m\u001b[0munused_args\u001b[0m\u001b[1;33m,\u001b[0m \u001b[1;33m**\u001b[0m\u001b[0munused_kwds\u001b[0m\u001b[1;33m)\u001b[0m\u001b[1;33m:\u001b[0m\u001b[1;33m\u001b[0m\u001b[1;33m\u001b[0m\u001b[0m\n",
      "\u001b[1;32m~\\AppData\\Roaming\\Python\\Python37\\site-packages\\tensorflow\\python\\eager\\function.py\u001b[0m in \u001b[0;36m_get_concrete_function_internal_garbage_collected\u001b[1;34m(self, *args, **kwargs)\u001b[0m\n\u001b[0;32m   2444\u001b[0m       \u001b[0margs\u001b[0m\u001b[1;33m,\u001b[0m \u001b[0mkwargs\u001b[0m \u001b[1;33m=\u001b[0m \u001b[1;32mNone\u001b[0m\u001b[1;33m,\u001b[0m \u001b[1;32mNone\u001b[0m\u001b[1;33m\u001b[0m\u001b[1;33m\u001b[0m\u001b[0m\n\u001b[0;32m   2445\u001b[0m     \u001b[1;32mwith\u001b[0m \u001b[0mself\u001b[0m\u001b[1;33m.\u001b[0m\u001b[0m_lock\u001b[0m\u001b[1;33m:\u001b[0m\u001b[1;33m\u001b[0m\u001b[1;33m\u001b[0m\u001b[0m\n\u001b[1;32m-> 2446\u001b[1;33m       \u001b[0mgraph_function\u001b[0m\u001b[1;33m,\u001b[0m \u001b[0m_\u001b[0m\u001b[1;33m,\u001b[0m \u001b[0m_\u001b[0m \u001b[1;33m=\u001b[0m \u001b[0mself\u001b[0m\u001b[1;33m.\u001b[0m\u001b[0m_maybe_define_function\u001b[0m\u001b[1;33m(\u001b[0m\u001b[0margs\u001b[0m\u001b[1;33m,\u001b[0m \u001b[0mkwargs\u001b[0m\u001b[1;33m)\u001b[0m\u001b[1;33m\u001b[0m\u001b[1;33m\u001b[0m\u001b[0m\n\u001b[0m\u001b[0;32m   2447\u001b[0m     \u001b[1;32mreturn\u001b[0m \u001b[0mgraph_function\u001b[0m\u001b[1;33m\u001b[0m\u001b[1;33m\u001b[0m\u001b[0m\n\u001b[0;32m   2448\u001b[0m \u001b[1;33m\u001b[0m\u001b[0m\n",
      "\u001b[1;32m~\\AppData\\Roaming\\Python\\Python37\\site-packages\\tensorflow\\python\\eager\\function.py\u001b[0m in \u001b[0;36m_maybe_define_function\u001b[1;34m(self, args, kwargs)\u001b[0m\n\u001b[0;32m   2775\u001b[0m \u001b[1;33m\u001b[0m\u001b[0m\n\u001b[0;32m   2776\u001b[0m       \u001b[0mself\u001b[0m\u001b[1;33m.\u001b[0m\u001b[0m_function_cache\u001b[0m\u001b[1;33m.\u001b[0m\u001b[0mmissed\u001b[0m\u001b[1;33m.\u001b[0m\u001b[0madd\u001b[0m\u001b[1;33m(\u001b[0m\u001b[0mcall_context_key\u001b[0m\u001b[1;33m)\u001b[0m\u001b[1;33m\u001b[0m\u001b[1;33m\u001b[0m\u001b[0m\n\u001b[1;32m-> 2777\u001b[1;33m       \u001b[0mgraph_function\u001b[0m \u001b[1;33m=\u001b[0m \u001b[0mself\u001b[0m\u001b[1;33m.\u001b[0m\u001b[0m_create_graph_function\u001b[0m\u001b[1;33m(\u001b[0m\u001b[0margs\u001b[0m\u001b[1;33m,\u001b[0m \u001b[0mkwargs\u001b[0m\u001b[1;33m)\u001b[0m\u001b[1;33m\u001b[0m\u001b[1;33m\u001b[0m\u001b[0m\n\u001b[0m\u001b[0;32m   2778\u001b[0m       \u001b[0mself\u001b[0m\u001b[1;33m.\u001b[0m\u001b[0m_function_cache\u001b[0m\u001b[1;33m.\u001b[0m\u001b[0mprimary\u001b[0m\u001b[1;33m[\u001b[0m\u001b[0mcache_key\u001b[0m\u001b[1;33m]\u001b[0m \u001b[1;33m=\u001b[0m \u001b[0mgraph_function\u001b[0m\u001b[1;33m\u001b[0m\u001b[1;33m\u001b[0m\u001b[0m\n\u001b[0;32m   2779\u001b[0m       \u001b[1;32mreturn\u001b[0m \u001b[0mgraph_function\u001b[0m\u001b[1;33m,\u001b[0m \u001b[0margs\u001b[0m\u001b[1;33m,\u001b[0m \u001b[0mkwargs\u001b[0m\u001b[1;33m\u001b[0m\u001b[1;33m\u001b[0m\u001b[0m\n",
      "\u001b[1;32m~\\AppData\\Roaming\\Python\\Python37\\site-packages\\tensorflow\\python\\eager\\function.py\u001b[0m in \u001b[0;36m_create_graph_function\u001b[1;34m(self, args, kwargs, override_flat_arg_shapes)\u001b[0m\n\u001b[0;32m   2665\u001b[0m             \u001b[0marg_names\u001b[0m\u001b[1;33m=\u001b[0m\u001b[0marg_names\u001b[0m\u001b[1;33m,\u001b[0m\u001b[1;33m\u001b[0m\u001b[1;33m\u001b[0m\u001b[0m\n\u001b[0;32m   2666\u001b[0m             \u001b[0moverride_flat_arg_shapes\u001b[0m\u001b[1;33m=\u001b[0m\u001b[0moverride_flat_arg_shapes\u001b[0m\u001b[1;33m,\u001b[0m\u001b[1;33m\u001b[0m\u001b[1;33m\u001b[0m\u001b[0m\n\u001b[1;32m-> 2667\u001b[1;33m             capture_by_value=self._capture_by_value),\n\u001b[0m\u001b[0;32m   2668\u001b[0m         \u001b[0mself\u001b[0m\u001b[1;33m.\u001b[0m\u001b[0m_function_attributes\u001b[0m\u001b[1;33m,\u001b[0m\u001b[1;33m\u001b[0m\u001b[1;33m\u001b[0m\u001b[0m\n\u001b[0;32m   2669\u001b[0m         \u001b[1;31m# Tell the ConcreteFunction to clean up its graph once it goes out of\u001b[0m\u001b[1;33m\u001b[0m\u001b[1;33m\u001b[0m\u001b[1;33m\u001b[0m\u001b[0m\n",
      "\u001b[1;32m~\\AppData\\Roaming\\Python\\Python37\\site-packages\\tensorflow\\python\\framework\\func_graph.py\u001b[0m in \u001b[0;36mfunc_graph_from_py_func\u001b[1;34m(name, python_func, args, kwargs, signature, func_graph, autograph, autograph_options, add_control_dependencies, arg_names, op_return_value, collections, capture_by_value, override_flat_arg_shapes)\u001b[0m\n\u001b[0;32m    979\u001b[0m         \u001b[0m_\u001b[0m\u001b[1;33m,\u001b[0m \u001b[0moriginal_func\u001b[0m \u001b[1;33m=\u001b[0m \u001b[0mtf_decorator\u001b[0m\u001b[1;33m.\u001b[0m\u001b[0munwrap\u001b[0m\u001b[1;33m(\u001b[0m\u001b[0mpython_func\u001b[0m\u001b[1;33m)\u001b[0m\u001b[1;33m\u001b[0m\u001b[1;33m\u001b[0m\u001b[0m\n\u001b[0;32m    980\u001b[0m \u001b[1;33m\u001b[0m\u001b[0m\n\u001b[1;32m--> 981\u001b[1;33m       \u001b[0mfunc_outputs\u001b[0m \u001b[1;33m=\u001b[0m \u001b[0mpython_func\u001b[0m\u001b[1;33m(\u001b[0m\u001b[1;33m*\u001b[0m\u001b[0mfunc_args\u001b[0m\u001b[1;33m,\u001b[0m \u001b[1;33m**\u001b[0m\u001b[0mfunc_kwargs\u001b[0m\u001b[1;33m)\u001b[0m\u001b[1;33m\u001b[0m\u001b[1;33m\u001b[0m\u001b[0m\n\u001b[0m\u001b[0;32m    982\u001b[0m \u001b[1;33m\u001b[0m\u001b[0m\n\u001b[0;32m    983\u001b[0m       \u001b[1;31m# invariant: `func_outputs` contains only Tensors, CompositeTensors,\u001b[0m\u001b[1;33m\u001b[0m\u001b[1;33m\u001b[0m\u001b[1;33m\u001b[0m\u001b[0m\n",
      "\u001b[1;32m~\\AppData\\Roaming\\Python\\Python37\\site-packages\\tensorflow\\python\\eager\\def_function.py\u001b[0m in \u001b[0;36mwrapped_fn\u001b[1;34m(*args, **kwds)\u001b[0m\n\u001b[0;32m    439\u001b[0m         \u001b[1;31m# __wrapped__ allows AutoGraph to swap in a converted function. We give\u001b[0m\u001b[1;33m\u001b[0m\u001b[1;33m\u001b[0m\u001b[1;33m\u001b[0m\u001b[0m\n\u001b[0;32m    440\u001b[0m         \u001b[1;31m# the function a weak reference to itself to avoid a reference cycle.\u001b[0m\u001b[1;33m\u001b[0m\u001b[1;33m\u001b[0m\u001b[1;33m\u001b[0m\u001b[0m\n\u001b[1;32m--> 441\u001b[1;33m         \u001b[1;32mreturn\u001b[0m \u001b[0mweak_wrapped_fn\u001b[0m\u001b[1;33m(\u001b[0m\u001b[1;33m)\u001b[0m\u001b[1;33m.\u001b[0m\u001b[0m__wrapped__\u001b[0m\u001b[1;33m(\u001b[0m\u001b[1;33m*\u001b[0m\u001b[0margs\u001b[0m\u001b[1;33m,\u001b[0m \u001b[1;33m**\u001b[0m\u001b[0mkwds\u001b[0m\u001b[1;33m)\u001b[0m\u001b[1;33m\u001b[0m\u001b[1;33m\u001b[0m\u001b[0m\n\u001b[0m\u001b[0;32m    442\u001b[0m     \u001b[0mweak_wrapped_fn\u001b[0m \u001b[1;33m=\u001b[0m \u001b[0mweakref\u001b[0m\u001b[1;33m.\u001b[0m\u001b[0mref\u001b[0m\u001b[1;33m(\u001b[0m\u001b[0mwrapped_fn\u001b[0m\u001b[1;33m)\u001b[0m\u001b[1;33m\u001b[0m\u001b[1;33m\u001b[0m\u001b[0m\n\u001b[0;32m    443\u001b[0m \u001b[1;33m\u001b[0m\u001b[0m\n",
      "\u001b[1;32m~\\AppData\\Roaming\\Python\\Python37\\site-packages\\tensorflow\\python\\framework\\func_graph.py\u001b[0m in \u001b[0;36mwrapper\u001b[1;34m(*args, **kwargs)\u001b[0m\n\u001b[0;32m    966\u001b[0m           \u001b[1;32mexcept\u001b[0m \u001b[0mException\u001b[0m \u001b[1;32mas\u001b[0m \u001b[0me\u001b[0m\u001b[1;33m:\u001b[0m  \u001b[1;31m# pylint:disable=broad-except\u001b[0m\u001b[1;33m\u001b[0m\u001b[1;33m\u001b[0m\u001b[0m\n\u001b[0;32m    967\u001b[0m             \u001b[1;32mif\u001b[0m \u001b[0mhasattr\u001b[0m\u001b[1;33m(\u001b[0m\u001b[0me\u001b[0m\u001b[1;33m,\u001b[0m \u001b[1;34m\"ag_error_metadata\"\u001b[0m\u001b[1;33m)\u001b[0m\u001b[1;33m:\u001b[0m\u001b[1;33m\u001b[0m\u001b[1;33m\u001b[0m\u001b[0m\n\u001b[1;32m--> 968\u001b[1;33m               \u001b[1;32mraise\u001b[0m \u001b[0me\u001b[0m\u001b[1;33m.\u001b[0m\u001b[0mag_error_metadata\u001b[0m\u001b[1;33m.\u001b[0m\u001b[0mto_exception\u001b[0m\u001b[1;33m(\u001b[0m\u001b[0me\u001b[0m\u001b[1;33m)\u001b[0m\u001b[1;33m\u001b[0m\u001b[1;33m\u001b[0m\u001b[0m\n\u001b[0m\u001b[0;32m    969\u001b[0m             \u001b[1;32melse\u001b[0m\u001b[1;33m:\u001b[0m\u001b[1;33m\u001b[0m\u001b[1;33m\u001b[0m\u001b[0m\n\u001b[0;32m    970\u001b[0m               \u001b[1;32mraise\u001b[0m\u001b[1;33m\u001b[0m\u001b[1;33m\u001b[0m\u001b[0m\n",
      "\u001b[1;31mValueError\u001b[0m: in user code:\n\n    C:\\Users\\Nacho Moll\\AppData\\Roaming\\Python\\Python37\\site-packages\\tensorflow\\python\\keras\\engine\\training.py:571 train_function  *\n        outputs = self.distribute_strategy.run(\n    C:\\Users\\Nacho Moll\\AppData\\Roaming\\Python\\Python37\\site-packages\\tensorflow\\python\\distribute\\distribute_lib.py:951 run  **\n        return self._extended.call_for_each_replica(fn, args=args, kwargs=kwargs)\n    C:\\Users\\Nacho Moll\\AppData\\Roaming\\Python\\Python37\\site-packages\\tensorflow\\python\\distribute\\distribute_lib.py:2290 call_for_each_replica\n        return self._call_for_each_replica(fn, args, kwargs)\n    C:\\Users\\Nacho Moll\\AppData\\Roaming\\Python\\Python37\\site-packages\\tensorflow\\python\\distribute\\distribute_lib.py:2649 _call_for_each_replica\n        return fn(*args, **kwargs)\n    C:\\Users\\Nacho Moll\\AppData\\Roaming\\Python\\Python37\\site-packages\\tensorflow\\python\\keras\\engine\\training.py:533 train_step  **\n        y, y_pred, sample_weight, regularization_losses=self.losses)\n    C:\\Users\\Nacho Moll\\AppData\\Roaming\\Python\\Python37\\site-packages\\tensorflow\\python\\keras\\engine\\compile_utils.py:205 __call__\n        loss_value = loss_obj(y_t, y_p, sample_weight=sw)\n    C:\\Users\\Nacho Moll\\AppData\\Roaming\\Python\\Python37\\site-packages\\tensorflow\\python\\keras\\losses.py:143 __call__\n        losses = self.call(y_true, y_pred)\n    C:\\Users\\Nacho Moll\\AppData\\Roaming\\Python\\Python37\\site-packages\\tensorflow\\python\\keras\\losses.py:246 call\n        return self.fn(y_true, y_pred, **self._fn_kwargs)\n    C:\\Users\\Nacho Moll\\AppData\\Roaming\\Python\\Python37\\site-packages\\tensorflow\\python\\keras\\losses.py:1527 categorical_crossentropy\n        return K.categorical_crossentropy(y_true, y_pred, from_logits=from_logits)\n    C:\\Users\\Nacho Moll\\AppData\\Roaming\\Python\\Python37\\site-packages\\tensorflow\\python\\keras\\backend.py:4561 categorical_crossentropy\n        target.shape.assert_is_compatible_with(output.shape)\n    C:\\Users\\Nacho Moll\\AppData\\Roaming\\Python\\Python37\\site-packages\\tensorflow\\python\\framework\\tensor_shape.py:1117 assert_is_compatible_with\n        raise ValueError(\"Shapes %s and %s are incompatible\" % (self, other))\n\n    ValueError: Shapes (None, 42) and (None, 38) are incompatible\n"
     ]
    }
   ],
   "source": [
    " hist = model.fit(input_list_train,y_train,validation_data=(input_list_test,y_test) , epochs = 5 , batch_size = 64, verbose=1)"
   ]
  },
  {
   "cell_type": "code",
   "execution_count": null,
   "metadata": {
    "ExecuteTime": {
     "end_time": "2019-11-07T10:04:57.607967Z",
     "start_time": "2019-11-07T10:04:57.603000Z"
    },
    "colab": {},
    "colab_type": "code",
    "id": "_pISyeDB4vuI",
    "outputId": "b29ab044-1aab-40f2-cfd3-b84e3838cab0",
    "scrolled": true
   },
   "outputs": [],
   "source": [
    "model.summary()"
   ]
  },
  {
   "cell_type": "markdown",
   "metadata": {
    "colab_type": "text",
    "id": "EC9JKLqh4vuL"
   },
   "source": [
    "## Mean Efficiencies"
   ]
  },
  {
   "cell_type": "code",
   "execution_count": null,
   "metadata": {
    "ExecuteTime": {
     "end_time": "2019-11-04T13:16:54.409763Z",
     "start_time": "2019-11-04T13:13:02.303336Z"
    },
    "colab": {},
    "colab_type": "code",
    "id": "B5n8TZuh4vuL",
    "scrolled": true
   },
   "outputs": [],
   "source": [
    "historials = []\n",
    "evaluations = []\n",
    "for i in range (1,6):\n",
    "    model.compile(loss='categorical_crossentropy', optimizer=\"adam\", metrics=['accuracy', top_1_categorical_accuracy,top_2_categorical_accuracy,top_3_categorical_accuracy])\n",
    "    hist = model.fit(input_list_train,y_train,validation_data=(input_list_test,y_test) , epochs = 25 , batch_size = 64, verbose=0)\n",
    "    historials.append(hist)\n",
    "    #evaluation = model.evaluate(x = input_list_testval, y =  y_val_one_hot)\n",
    "    evaluation = model.evaluate(x = input_list_testval, y =  y_val)\n",
    "    evaluations. append(evaluation)\n",
    "    model.save (\"model\"+str(i)+\".h5\")"
   ]
  },
  {
   "cell_type": "code",
   "execution_count": null,
   "metadata": {
    "ExecuteTime": {
     "end_time": "2019-11-04T09:50:26.330206Z",
     "start_time": "2019-11-04T09:50:26.326244Z"
    },
    "colab": {},
    "colab_type": "code",
    "id": "m9isVZio4vuP"
   },
   "outputs": [],
   "source": [
    "suma = 0\n",
    "for i in evaluations:\n",
    "    suma = suma + i[2]\n",
    "print(suma/5)"
   ]
  },
  {
   "cell_type": "code",
   "execution_count": null,
   "metadata": {
    "ExecuteTime": {
     "end_time": "2019-11-04T13:08:17.064591Z",
     "start_time": "2019-11-04T13:08:16.592853Z"
    },
    "colab": {},
    "colab_type": "code",
    "id": "SnCSpyFE4vuS",
    "outputId": "7b9394d5-1328-4fce-c268-f1afa890b03a"
   },
   "outputs": [],
   "source": [
    "model.evaluate(x = input_list_testval, y = y_val)"
   ]
  },
  {
   "cell_type": "markdown",
   "metadata": {
    "colab_type": "text",
    "id": "QFaq9XwP4vuT"
   },
   "source": [
    "## Training Charts"
   ]
  },
  {
   "cell_type": "code",
   "execution_count": null,
   "metadata": {
    "ExecuteTime": {
     "end_time": "2019-10-30T12:16:38.992828Z",
     "start_time": "2019-10-30T12:16:38.988858Z"
    },
    "colab": {},
    "colab_type": "code",
    "id": "TgmXgnHY4vuU",
    "outputId": "788dea65-bdde-4e22-a099-a46a53ba42ff"
   },
   "outputs": [],
   "source": [
    "model.metrics_names"
   ]
  },
  {
   "cell_type": "code",
   "execution_count": null,
   "metadata": {
    "ExecuteTime": {
     "end_time": "2019-07-05T11:42:59.144102Z",
     "start_time": "2019-07-05T11:42:58.905719Z"
    },
    "colab": {},
    "colab_type": "code",
    "id": "XRuyJXBI4vuY",
    "outputId": "ac433aa9-647a-4f3f-aa51-c8c4af9ed15b"
   },
   "outputs": [],
   "source": [
    "plt.plot(hist.history['loss'], label = 'loss') \n",
    "plt.plot(hist.history['val_loss'], label = 'val_loss') \n",
    "plt.legend()\n",
    "plt.show()\n",
    "\n",
    "\n",
    "plt.plot(hist.history['acc'], label = 'acc') \n",
    "plt.plot(hist.history['val_top_1_categorical_accuracy'], label = 'val_acc') \n",
    "plt.legend()\n",
    "plt.show()"
   ]
  },
  {
   "cell_type": "markdown",
   "metadata": {
    "colab_type": "text",
    "id": "N0pua58Q4vub"
   },
   "source": [
    "## Embeddings Representation Test"
   ]
  },
  {
   "cell_type": "code",
   "execution_count": null,
   "metadata": {
    "ExecuteTime": {
     "end_time": "2019-07-05T11:43:04.340600Z",
     "start_time": "2019-07-05T11:43:04.329611Z"
    },
    "colab": {},
    "colab_type": "code",
    "id": "m3_DWMGh4vub"
   },
   "outputs": [],
   "source": [
    "embeddings = model.layers[14].get_weights()[0]\n",
    "embeddings"
   ]
  },
  {
   "cell_type": "code",
   "execution_count": null,
   "metadata": {
    "ExecuteTime": {
     "end_time": "2019-03-26T10:21:21.612119Z",
     "start_time": "2019-03-26T10:21:21.607154Z"
    },
    "colab": {},
    "colab_type": "code",
    "id": "VMkPf37i4vud",
    "outputId": "98989f33-34f2-4807-d5dc-8e30a75d7b54"
   },
   "outputs": [],
   "source": [
    "embeddings[:,1]"
   ]
  },
  {
   "cell_type": "code",
   "execution_count": null,
   "metadata": {
    "ExecuteTime": {
     "end_time": "2019-03-26T10:21:38.651481Z",
     "start_time": "2019-03-26T10:21:38.567680Z"
    },
    "colab": {},
    "colab_type": "code",
    "id": "Bt8H91Xu4vug",
    "outputId": "5a00cea7-9cd0-412f-86cb-82512a0d593f"
   },
   "outputs": [],
   "source": [
    "import matplotlib.pyplot as plt\n",
    "plt.scatter(embeddings[:,0],embeddings[:,1]) \n",
    "plt.show()"
   ]
  },
  {
   "cell_type": "code",
   "execution_count": null,
   "metadata": {
    "ExecuteTime": {
     "end_time": "2019-03-26T10:32:35.858897Z",
     "start_time": "2019-03-26T10:32:35.736602Z"
    },
    "colab": {},
    "colab_type": "code",
    "id": "RcBBmqJX4vum",
    "outputId": "77690fa5-9080-44e4-f530-686f42c4e94b"
   },
   "outputs": [],
   "source": [
    "y = embeddings[:,0]\n",
    "z = embeddings[:,1]\n",
    "n = [6, 4, 1, 10,8,5,11,3,12,7,2,9]\n",
    "\n",
    "fig, ax = plt.subplots()\n",
    "ax.scatter(z, y)\n",
    "\n",
    "for i, txt in enumerate(n):\n",
    "    ax.annotate(txt, (z[i], y[i]))"
   ]
  },
  {
   "cell_type": "markdown",
   "metadata": {
    "colab_type": "text",
    "id": "Qk0OUmnL4vup"
   },
   "source": [
    "## Models Figure "
   ]
  },
  {
   "cell_type": "code",
   "execution_count": null,
   "metadata": {
    "ExecuteTime": {
     "end_time": "2019-05-28T12:45:15.959328Z",
     "start_time": "2019-05-28T12:45:15.607243Z"
    },
    "colab": {},
    "colab_type": "code",
    "id": "fh0Lno3Y4vup",
    "outputId": "060907b2-3ade-4d29-c76b-9013d6127663",
    "scrolled": true
   },
   "outputs": [],
   "source": [
    "plot_model(model, to_file='model3.png',show_shapes=True,show_layer_names=True)\n",
    "Image(retina=True, filename='model3.png')"
   ]
  },
  {
   "cell_type": "markdown",
   "metadata": {
    "colab_type": "text",
    "id": "J_PADux24vus"
   },
   "source": [
    "## Predictions and inverse transformations (converting the numerical prediction to the predicted category)"
   ]
  },
  {
   "cell_type": "code",
   "execution_count": null,
   "metadata": {
    "ExecuteTime": {
     "end_time": "2019-10-30T11:19:03.982854Z",
     "start_time": "2019-10-30T11:19:03.233830Z"
    },
    "colab": {},
    "colab_type": "code",
    "id": "w_RKDViY4vus",
    "outputId": "1367f275-2ec4-40fa-9056-2a2b6a149866",
    "scrolled": false
   },
   "outputs": [],
   "source": [
    "prediction = model.predict(input_list_test)\n",
    "prediction[0]"
   ]
  },
  {
   "cell_type": "code",
   "execution_count": null,
   "metadata": {
    "ExecuteTime": {
     "end_time": "2019-05-29T08:28:57.560215Z",
     "start_time": "2019-05-29T08:28:57.554231Z"
    },
    "colab": {},
    "colab_type": "code",
    "id": "C1Pu0Kiz4vuu",
    "outputId": "9f14a765-2404-4a52-8c60-a807852195bb",
    "scrolled": true
   },
   "outputs": [],
   "source": [
    "pred = np.around(prediction[12],decimals = 2)\n",
    "pred"
   ]
  },
  {
   "cell_type": "code",
   "execution_count": null,
   "metadata": {
    "ExecuteTime": {
     "end_time": "2019-05-29T08:29:08.534489Z",
     "start_time": "2019-05-29T08:29:08.529503Z"
    },
    "colab": {},
    "colab_type": "code",
    "id": "zyG-Bs4x4vux",
    "outputId": "973b0c41-b617-43f4-d50f-93587dce273b"
   },
   "outputs": [],
   "source": [
    "np.where(pred == 0.97)"
   ]
  },
  {
   "cell_type": "code",
   "execution_count": null,
   "metadata": {
    "ExecuteTime": {
     "end_time": "2019-05-29T08:29:16.262711Z",
     "start_time": "2019-05-29T08:29:16.258721Z"
    },
    "colab": {},
    "colab_type": "code",
    "id": "0cuu7prL4vuz"
   },
   "outputs": [],
   "source": [
    "pred[25] = 1"
   ]
  },
  {
   "cell_type": "code",
   "execution_count": null,
   "metadata": {
    "ExecuteTime": {
     "end_time": "2019-05-29T08:29:30.871409Z",
     "start_time": "2019-05-29T08:29:30.866446Z"
    },
    "colab": {},
    "colab_type": "code",
    "id": "mkNcOio44vu0",
    "outputId": "872c74dd-2ed9-49d3-8fb7-8a2e155d01f5"
   },
   "outputs": [],
   "source": [
    "ency.inverse_transform(np.around(pred.reshape(1, -1),decimals = 3)) #Prediction"
   ]
  },
  {
   "cell_type": "code",
   "execution_count": null,
   "metadata": {
    "ExecuteTime": {
     "end_time": "2019-05-29T08:29:45.430401Z",
     "start_time": "2019-05-29T08:29:45.426409Z"
    },
    "colab": {},
    "colab_type": "code",
    "id": "ETaxNiqL4vu2",
    "outputId": "7d729b9d-98ed-4d49-86d4-5cf0c6d0d6cd"
   },
   "outputs": [],
   "source": [
    "ency.inverse_transform(np.around(y_test[25].reshape(1, -1),decimals = 1)) #Reality"
   ]
  },
  {
   "cell_type": "markdown",
   "metadata": {
    "colab_type": "text",
    "id": "QP8Cvw294vu5"
   },
   "source": [
    "## Grid search tests"
   ]
  },
  {
   "cell_type": "code",
   "execution_count": null,
   "metadata": {
    "ExecuteTime": {
     "end_time": "2019-03-13T15:00:35.110033Z",
     "start_time": "2019-03-13T15:00:35.101028Z"
    },
    "colab": {},
    "colab_type": "code",
    "id": "2snO_9VV4vu6"
   },
   "outputs": [],
   "source": [
    "def create_model(activation = 'relu' ):\n",
    "    input_models=[]\n",
    "    output_embeddings=[]\n",
    "\n",
    "    for categorical_var in categoical_vars:\n",
    "        \n",
    "        cat_emb_name= categorical_var.replace(\" \", \"\")+'_Embedding'\n",
    "        input_name= 'Input_' + categorical_var.replace(\" \", \"\")\n",
    "        no_of_unique_cat  = X_train[categorical_var].nunique()\n",
    "        embedding_size = int(min(np.ceil((no_of_unique_cat)/2), 50 ))\n",
    "        input_model = Input(shape=(1,), name=input_name)\n",
    "        output_model = Embedding(no_of_unique_cat, embedding_size, name=cat_emb_name)(input_model)\n",
    "        output_model = Reshape(target_shape=(embedding_size,))(output_model)    \n",
    "        input_models.append(input_model)\n",
    "        output_embeddings.append(output_model)\n",
    "\n",
    "\n",
    "\n",
    "    output = Concatenate()(output_embeddings)\n",
    "    output = Dense(2500,activation=activation)(output)\n",
    "    output= Dropout(0.5)(output)\n",
    "    output = Dense(1500,activation=activation)(output)\n",
    "    output= Dropout(0.4)(output)\n",
    "    output = Dense(1000,activation=activation)(output)\n",
    "    output= Dropout(0.3)(output)\n",
    "    output = Dense(38, activation='softmax')(output)\n",
    "    model = Model(inputs=input_models, outputs=output)\n",
    "    model.compile(loss='categorical_crossentropy', optimizer=\"adam\", metrics=['categorical_accuracy'])\n",
    "    return model"
   ]
  },
  {
   "cell_type": "code",
   "execution_count": null,
   "metadata": {
    "ExecuteTime": {
     "end_time": "2019-03-13T15:00:35.944821Z",
     "start_time": "2019-03-13T15:00:35.940857Z"
    },
    "colab": {},
    "colab_type": "code",
    "id": "XP4UChhy4vu8"
   },
   "outputs": [],
   "source": [
    "model = KerasClassifier(build_fn=create_model, verbose=1,batch_size = 512, epochs = 1000)"
   ]
  },
  {
   "cell_type": "code",
   "execution_count": null,
   "metadata": {
    "ExecuteTime": {
     "end_time": "2019-03-13T15:00:37.088910Z",
     "start_time": "2019-03-13T15:00:37.084944Z"
    },
    "colab": {},
    "colab_type": "code",
    "id": "8VE399cu4vu_"
   },
   "outputs": [],
   "source": [
    "activation = ['softmax', 'softplus', 'softsign', 'relu', 'tanh', 'sigmoid', 'hard_sigmoid', 'linear']\n",
    "param_grid = dict(activation = activation)"
   ]
  },
  {
   "cell_type": "code",
   "execution_count": null,
   "metadata": {
    "ExecuteTime": {
     "end_time": "2019-03-13T15:00:52.023002Z",
     "start_time": "2019-03-13T15:00:51.989065Z"
    },
    "colab": {},
    "colab_type": "code",
    "id": "j4B13A_j4vvB"
   },
   "outputs": [],
   "source": [
    "grid = GridSearchCV(estimator=model, param_grid=param_grid, n_jobs=1, cv=2)\n",
    "grid_result = grid.fit(input_list_train,y_train,validation_data=(input_list_test,y_test))"
   ]
  },
  {
   "cell_type": "markdown",
   "metadata": {
    "colab_type": "text",
    "id": "9gwf03tj4vvD"
   },
   "source": [
    "# Embeddings Model + conv (case 2)"
   ]
  },
  {
   "cell_type": "code",
   "execution_count": null,
   "metadata": {
    "ExecuteTime": {
     "end_time": "2019-11-07T10:41:35.504028Z",
     "start_time": "2019-11-07T10:41:34.992375Z"
    },
    "colab": {},
    "colab_type": "code",
    "id": "-tzSKRMw4vvD"
   },
   "outputs": [],
   "source": [
    "input_models=[]\n",
    "output_embeddings=[]\n",
    "\n",
    "for categorical_var in categoical_vars:\n",
    "    \n",
    "    cat_emb_name= categorical_var.replace(\" \", \"\")+'_Embedding'\n",
    "    input_name= 'Input_' + categorical_var.replace(\" \", \"\")\n",
    "    no_of_unique_cat  = X_train[categorical_var].nunique()\n",
    "    embedding_size = int(min(np.ceil((no_of_unique_cat)/2), 50 ))\n",
    "    input_model = Input(shape=(1,), name=input_name)\n",
    "    output_model = Embedding(no_of_unique_cat, embedding_size, name=cat_emb_name)(input_model)\n",
    "    output_model = Reshape(target_shape=(embedding_size,))(output_model)    \n",
    "    input_models.append(input_model)\n",
    "    output_embeddings.append(output_model)\n",
    "\n",
    "output = Concatenate()(output_embeddings)\n",
    "\n",
    "output = Reshape(input_shape=(100,), target_shape=(100, 1))(output)\n",
    "\n",
    "\n",
    "output = Conv1D(filters=128,kernel_size=4, activation = \"relu\")(output)\n",
    "output = Conv1D(filters=128,kernel_size=4, activation = \"relu\")(output)\n",
    "output = BatchNormalization()(output)\n",
    "output = MaxPooling1D(pool_size=2)(output)\n",
    "\n",
    "output = Conv1D(filters=256,kernel_size=3, activation = \"relu\")(output)\n",
    "output = Conv1D(filters=256,kernel_size=3, activation = \"relu\")(output)\n",
    "output = BatchNormalization()(output)\n",
    "output = GlobalMaxPooling1D()(output)\n",
    "\n",
    "\n",
    "output = Dense(512, activation = \"relu\")(output)\n",
    "\n",
    "output = Dense(256, activation = \"relu\")(output)\n",
    "\n",
    "output = Dense(35, activation='softmax')(output)\n",
    "\n",
    "model = Model(inputs=input_models, outputs=output)\n",
    "\n",
    "\n",
    "model.compile(loss='categorical_crossentropy', optimizer=\"adam\", metrics=[top_1_categorical_accuracy,top_2_categorical_accuracy,top_3_categorical_accuracy])"
   ]
  },
  {
   "cell_type": "code",
   "execution_count": null,
   "metadata": {
    "ExecuteTime": {
     "end_time": "2019-11-07T10:41:35.781580Z",
     "start_time": "2019-11-07T10:41:35.775620Z"
    },
    "colab": {},
    "colab_type": "code",
    "id": "vcFBb8o14vvG",
    "outputId": "2c66122e-012d-473d-f2b2-3fe901323838"
   },
   "outputs": [],
   "source": [
    "model.summary()"
   ]
  },
  {
   "cell_type": "code",
   "execution_count": null,
   "metadata": {
    "ExecuteTime": {
     "end_time": "2019-11-07T10:41:36.988927Z",
     "start_time": "2019-11-07T10:41:36.543652Z"
    },
    "colab": {},
    "colab_type": "code",
    "id": "jgIWNjKd4vvI"
   },
   "outputs": [],
   "source": [
    "plot_model(model, to_file='model2.png',show_shapes=True,show_layer_names=True)\n",
    "Image(retina=True, filename='model2.png')"
   ]
  },
  {
   "cell_type": "code",
   "execution_count": null,
   "metadata": {
    "ExecuteTime": {
     "end_time": "2019-11-07T10:55:12.499089Z",
     "start_time": "2019-11-07T10:48:30.464147Z"
    },
    "colab": {},
    "colab_type": "code",
    "id": "61trnQV_4vvL",
    "outputId": "e16857a3-7aff-4c86-96fa-720495f896d4",
    "scrolled": true
   },
   "outputs": [],
   "source": [
    "hist = model.fit(input_list_train,y_train,validation_data=(input_list_test,y_test) , epochs =  25, batch_size = 64, verbose= 1)"
   ]
  },
  {
   "cell_type": "code",
   "execution_count": null,
   "metadata": {
    "ExecuteTime": {
     "end_time": "2019-05-29T10:35:41.668398Z",
     "start_time": "2019-05-29T10:35:41.518798Z"
    },
    "colab": {},
    "colab_type": "code",
    "id": "6g_T791_4vvN",
    "outputId": "dbf2d852-d7ea-41dc-f06d-a6809a916856"
   },
   "outputs": [],
   "source": [
    "model.evaluate(x = input_list_testval, y = y_val)"
   ]
  },
  {
   "cell_type": "code",
   "execution_count": null,
   "metadata": {
    "ExecuteTime": {
     "end_time": "2019-04-24T14:51:28.498386Z",
     "start_time": "2019-04-24T14:51:28.351524Z"
    },
    "colab": {},
    "colab_type": "code",
    "id": "1JJH3Qi14vvP"
   },
   "outputs": [],
   "source": [
    "plt.plot(hist.history['loss'], label = 'loss') \n",
    "plt.plot(hist.history['val_loss'], label = 'val_loss') \n",
    "plt.legend()\n",
    "plt.show()\n",
    "\n",
    "\n",
    "plt.plot(hist.history['categorical_accuracy'], label = 'acc') \n",
    "plt.plot(hist.history['val_categorical_accuracy'], label = 'val_acc') \n",
    "plt.legend()\n",
    "plt.show()"
   ]
  },
  {
   "cell_type": "code",
   "execution_count": null,
   "metadata": {},
   "outputs": [],
   "source": []
  }
 ],
 "metadata": {
  "colab": {
   "collapsed_sections": [],
   "name": "Categorical embedding.ipynb",
   "provenance": [],
   "toc_visible": true
  },
  "kernelspec": {
   "display_name": "Python 3",
   "language": "python",
   "name": "python3"
  },
  "language_info": {
   "codemirror_mode": {
    "name": "ipython",
    "version": 3
   },
   "file_extension": ".py",
   "mimetype": "text/x-python",
   "name": "python",
   "nbconvert_exporter": "python",
   "pygments_lexer": "ipython3",
   "version": "3.7.4"
  },
  "toc": {
   "base_numbering": 1,
   "nav_menu": {},
   "number_sections": true,
   "sideBar": true,
   "skip_h1_title": false,
   "title_cell": "Table of Contents",
   "title_sidebar": "Contents",
   "toc_cell": false,
   "toc_position": {},
   "toc_section_display": true,
   "toc_window_display": false
  }
 },
 "nbformat": 4,
 "nbformat_minor": 1
}
