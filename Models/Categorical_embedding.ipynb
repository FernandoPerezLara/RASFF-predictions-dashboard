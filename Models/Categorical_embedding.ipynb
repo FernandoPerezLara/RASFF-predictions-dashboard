{
 "cells": [
  {
   "cell_type": "markdown",
   "metadata": {
    "colab_type": "text",
    "id": "8Wj2_jhW4vsS"
   },
   "source": [
    "# Libraries"
   ]
  },
  {
   "cell_type": "code",
   "execution_count": 1,
   "metadata": {
    "ExecuteTime": {
     "end_time": "2019-11-07T09:58:33.466115Z",
     "start_time": "2019-11-07T09:58:33.460153Z"
    },
    "colab": {},
    "colab_type": "code",
    "id": "nuu3FCuL4vsU",
    "outputId": "cb6802cd-212f-45f8-8679-1ed6483d819b"
   },
   "outputs": [],
   "source": [
    "import numpy as np\n",
    "import pandas as pd\n",
    "import tensorflow as tf\n",
    "from IPython.display import Image\n",
    "import matplotlib.pyplot as plt\n",
    "import functools\n",
    "\n",
    "from keras.models import Sequential, Model\n",
    "from keras.layers import Dense, Dropout, Flatten, Input, MaxPooling1D, Conv1D, Embedding,Reshape, Concatenate,BatchNormalization,GlobalMaxPooling1D,GlobalAveragePooling1D\n",
    "from keras.layers.merge import Concatenate\n",
    "from keras.preprocessing import sequence\n",
    "from keras.optimizers import RMSprop, Adam\n",
    "from keras.preprocessing.sequence import pad_sequences\n",
    "from keras.utils import to_categorical\n",
    "from keras.utils import plot_model\n",
    "from keras import regularizers\n",
    "from keras import metrics\n",
    "from keras import backend as K\n",
    "from keras.wrappers.scikit_learn import KerasClassifier\n",
    "\n",
    "from sklearn import preprocessing\n",
    "from sklearn.model_selection import train_test_split\n",
    "from sklearn.preprocessing import OneHotEncoder\n",
    "from sklearn.preprocessing import LabelBinarizer\n",
    "from sklearn.model_selection import GridSearchCV \n",
    "from sklearn.metrics import classification_report\n"
   ]
  },
  {
   "cell_type": "markdown",
   "metadata": {
    "colab_type": "text",
    "id": "4Sfq8g5B4vsd"
   },
   "source": [
    "# Training Data"
   ]
  },
  {
   "cell_type": "code",
   "execution_count": 2,
   "metadata": {
    "ExecuteTime": {
     "end_time": "2019-11-07T09:58:34.347205Z",
     "start_time": "2019-11-07T09:58:34.022084Z"
    },
    "colab": {},
    "colab_type": "code",
    "id": "a7-UwfBS4vsg",
    "outputId": "bb505d90-dca2-42d5-fdfc-358b78371e5b",
    "scrolled": true
   },
   "outputs": [
    {
     "ename": "FileNotFoundError",
     "evalue": "[Errno 2] No such file or directory: '../splited_RASFF_DATA.csv'",
     "output_type": "error",
     "traceback": [
      "\u001b[1;31m---------------------------------------------------------------------------\u001b[0m",
      "\u001b[1;31mFileNotFoundError\u001b[0m                         Traceback (most recent call last)",
      "\u001b[1;32m<ipython-input-2-05a9d372a141>\u001b[0m in \u001b[0;36m<module>\u001b[1;34m\u001b[0m\n\u001b[0;32m      1\u001b[0m data = pd.read_csv('../splited_RASFF_DATA.csv', sep=';', \n\u001b[1;32m----> 2\u001b[1;33m                 header=0, index_col = 0)\n\u001b[0m\u001b[0;32m      3\u001b[0m \u001b[0mdata\u001b[0m \u001b[1;33m=\u001b[0m \u001b[0mdata\u001b[0m\u001b[1;33m.\u001b[0m\u001b[0msample\u001b[0m\u001b[1;33m(\u001b[0m\u001b[0mfrac\u001b[0m \u001b[1;33m=\u001b[0m \u001b[1;36m1\u001b[0m\u001b[1;33m)\u001b[0m\u001b[1;33m\u001b[0m\u001b[1;33m\u001b[0m\u001b[0m\n\u001b[0;32m      4\u001b[0m \u001b[0mdf\u001b[0m \u001b[1;33m=\u001b[0m \u001b[0mdata\u001b[0m\u001b[1;33m\u001b[0m\u001b[1;33m\u001b[0m\u001b[0m\n\u001b[0;32m      5\u001b[0m \u001b[0mdf\u001b[0m\u001b[1;33m\u001b[0m\u001b[1;33m\u001b[0m\u001b[0m\n",
      "\u001b[1;32mL:\\Anaconda\\lib\\site-packages\\pandas\\io\\parsers.py\u001b[0m in \u001b[0;36mread_csv\u001b[1;34m(filepath_or_buffer, sep, delimiter, header, names, index_col, usecols, squeeze, prefix, mangle_dupe_cols, dtype, engine, converters, true_values, false_values, skipinitialspace, skiprows, skipfooter, nrows, na_values, keep_default_na, na_filter, verbose, skip_blank_lines, parse_dates, infer_datetime_format, keep_date_col, date_parser, dayfirst, cache_dates, iterator, chunksize, compression, thousands, decimal, lineterminator, quotechar, quoting, doublequote, escapechar, comment, encoding, dialect, error_bad_lines, warn_bad_lines, delim_whitespace, low_memory, memory_map, float_precision)\u001b[0m\n\u001b[0;32m    684\u001b[0m     )\n\u001b[0;32m    685\u001b[0m \u001b[1;33m\u001b[0m\u001b[0m\n\u001b[1;32m--> 686\u001b[1;33m     \u001b[1;32mreturn\u001b[0m \u001b[0m_read\u001b[0m\u001b[1;33m(\u001b[0m\u001b[0mfilepath_or_buffer\u001b[0m\u001b[1;33m,\u001b[0m \u001b[0mkwds\u001b[0m\u001b[1;33m)\u001b[0m\u001b[1;33m\u001b[0m\u001b[1;33m\u001b[0m\u001b[0m\n\u001b[0m\u001b[0;32m    687\u001b[0m \u001b[1;33m\u001b[0m\u001b[0m\n\u001b[0;32m    688\u001b[0m \u001b[1;33m\u001b[0m\u001b[0m\n",
      "\u001b[1;32mL:\\Anaconda\\lib\\site-packages\\pandas\\io\\parsers.py\u001b[0m in \u001b[0;36m_read\u001b[1;34m(filepath_or_buffer, kwds)\u001b[0m\n\u001b[0;32m    450\u001b[0m \u001b[1;33m\u001b[0m\u001b[0m\n\u001b[0;32m    451\u001b[0m     \u001b[1;31m# Create the parser.\u001b[0m\u001b[1;33m\u001b[0m\u001b[1;33m\u001b[0m\u001b[1;33m\u001b[0m\u001b[0m\n\u001b[1;32m--> 452\u001b[1;33m     \u001b[0mparser\u001b[0m \u001b[1;33m=\u001b[0m \u001b[0mTextFileReader\u001b[0m\u001b[1;33m(\u001b[0m\u001b[0mfp_or_buf\u001b[0m\u001b[1;33m,\u001b[0m \u001b[1;33m**\u001b[0m\u001b[0mkwds\u001b[0m\u001b[1;33m)\u001b[0m\u001b[1;33m\u001b[0m\u001b[1;33m\u001b[0m\u001b[0m\n\u001b[0m\u001b[0;32m    453\u001b[0m \u001b[1;33m\u001b[0m\u001b[0m\n\u001b[0;32m    454\u001b[0m     \u001b[1;32mif\u001b[0m \u001b[0mchunksize\u001b[0m \u001b[1;32mor\u001b[0m \u001b[0miterator\u001b[0m\u001b[1;33m:\u001b[0m\u001b[1;33m\u001b[0m\u001b[1;33m\u001b[0m\u001b[0m\n",
      "\u001b[1;32mL:\\Anaconda\\lib\\site-packages\\pandas\\io\\parsers.py\u001b[0m in \u001b[0;36m__init__\u001b[1;34m(self, f, engine, **kwds)\u001b[0m\n\u001b[0;32m    944\u001b[0m             \u001b[0mself\u001b[0m\u001b[1;33m.\u001b[0m\u001b[0moptions\u001b[0m\u001b[1;33m[\u001b[0m\u001b[1;34m\"has_index_names\"\u001b[0m\u001b[1;33m]\u001b[0m \u001b[1;33m=\u001b[0m \u001b[0mkwds\u001b[0m\u001b[1;33m[\u001b[0m\u001b[1;34m\"has_index_names\"\u001b[0m\u001b[1;33m]\u001b[0m\u001b[1;33m\u001b[0m\u001b[1;33m\u001b[0m\u001b[0m\n\u001b[0;32m    945\u001b[0m \u001b[1;33m\u001b[0m\u001b[0m\n\u001b[1;32m--> 946\u001b[1;33m         \u001b[0mself\u001b[0m\u001b[1;33m.\u001b[0m\u001b[0m_make_engine\u001b[0m\u001b[1;33m(\u001b[0m\u001b[0mself\u001b[0m\u001b[1;33m.\u001b[0m\u001b[0mengine\u001b[0m\u001b[1;33m)\u001b[0m\u001b[1;33m\u001b[0m\u001b[1;33m\u001b[0m\u001b[0m\n\u001b[0m\u001b[0;32m    947\u001b[0m \u001b[1;33m\u001b[0m\u001b[0m\n\u001b[0;32m    948\u001b[0m     \u001b[1;32mdef\u001b[0m \u001b[0mclose\u001b[0m\u001b[1;33m(\u001b[0m\u001b[0mself\u001b[0m\u001b[1;33m)\u001b[0m\u001b[1;33m:\u001b[0m\u001b[1;33m\u001b[0m\u001b[1;33m\u001b[0m\u001b[0m\n",
      "\u001b[1;32mL:\\Anaconda\\lib\\site-packages\\pandas\\io\\parsers.py\u001b[0m in \u001b[0;36m_make_engine\u001b[1;34m(self, engine)\u001b[0m\n\u001b[0;32m   1176\u001b[0m     \u001b[1;32mdef\u001b[0m \u001b[0m_make_engine\u001b[0m\u001b[1;33m(\u001b[0m\u001b[0mself\u001b[0m\u001b[1;33m,\u001b[0m \u001b[0mengine\u001b[0m\u001b[1;33m=\u001b[0m\u001b[1;34m\"c\"\u001b[0m\u001b[1;33m)\u001b[0m\u001b[1;33m:\u001b[0m\u001b[1;33m\u001b[0m\u001b[1;33m\u001b[0m\u001b[0m\n\u001b[0;32m   1177\u001b[0m         \u001b[1;32mif\u001b[0m \u001b[0mengine\u001b[0m \u001b[1;33m==\u001b[0m \u001b[1;34m\"c\"\u001b[0m\u001b[1;33m:\u001b[0m\u001b[1;33m\u001b[0m\u001b[1;33m\u001b[0m\u001b[0m\n\u001b[1;32m-> 1178\u001b[1;33m             \u001b[0mself\u001b[0m\u001b[1;33m.\u001b[0m\u001b[0m_engine\u001b[0m \u001b[1;33m=\u001b[0m \u001b[0mCParserWrapper\u001b[0m\u001b[1;33m(\u001b[0m\u001b[0mself\u001b[0m\u001b[1;33m.\u001b[0m\u001b[0mf\u001b[0m\u001b[1;33m,\u001b[0m \u001b[1;33m**\u001b[0m\u001b[0mself\u001b[0m\u001b[1;33m.\u001b[0m\u001b[0moptions\u001b[0m\u001b[1;33m)\u001b[0m\u001b[1;33m\u001b[0m\u001b[1;33m\u001b[0m\u001b[0m\n\u001b[0m\u001b[0;32m   1179\u001b[0m         \u001b[1;32melse\u001b[0m\u001b[1;33m:\u001b[0m\u001b[1;33m\u001b[0m\u001b[1;33m\u001b[0m\u001b[0m\n\u001b[0;32m   1180\u001b[0m             \u001b[1;32mif\u001b[0m \u001b[0mengine\u001b[0m \u001b[1;33m==\u001b[0m \u001b[1;34m\"python\"\u001b[0m\u001b[1;33m:\u001b[0m\u001b[1;33m\u001b[0m\u001b[1;33m\u001b[0m\u001b[0m\n",
      "\u001b[1;32mL:\\Anaconda\\lib\\site-packages\\pandas\\io\\parsers.py\u001b[0m in \u001b[0;36m__init__\u001b[1;34m(self, src, **kwds)\u001b[0m\n\u001b[0;32m   2006\u001b[0m         \u001b[0mkwds\u001b[0m\u001b[1;33m[\u001b[0m\u001b[1;34m\"usecols\"\u001b[0m\u001b[1;33m]\u001b[0m \u001b[1;33m=\u001b[0m \u001b[0mself\u001b[0m\u001b[1;33m.\u001b[0m\u001b[0musecols\u001b[0m\u001b[1;33m\u001b[0m\u001b[1;33m\u001b[0m\u001b[0m\n\u001b[0;32m   2007\u001b[0m \u001b[1;33m\u001b[0m\u001b[0m\n\u001b[1;32m-> 2008\u001b[1;33m         \u001b[0mself\u001b[0m\u001b[1;33m.\u001b[0m\u001b[0m_reader\u001b[0m \u001b[1;33m=\u001b[0m \u001b[0mparsers\u001b[0m\u001b[1;33m.\u001b[0m\u001b[0mTextReader\u001b[0m\u001b[1;33m(\u001b[0m\u001b[0msrc\u001b[0m\u001b[1;33m,\u001b[0m \u001b[1;33m**\u001b[0m\u001b[0mkwds\u001b[0m\u001b[1;33m)\u001b[0m\u001b[1;33m\u001b[0m\u001b[1;33m\u001b[0m\u001b[0m\n\u001b[0m\u001b[0;32m   2009\u001b[0m         \u001b[0mself\u001b[0m\u001b[1;33m.\u001b[0m\u001b[0munnamed_cols\u001b[0m \u001b[1;33m=\u001b[0m \u001b[0mself\u001b[0m\u001b[1;33m.\u001b[0m\u001b[0m_reader\u001b[0m\u001b[1;33m.\u001b[0m\u001b[0munnamed_cols\u001b[0m\u001b[1;33m\u001b[0m\u001b[1;33m\u001b[0m\u001b[0m\n\u001b[0;32m   2010\u001b[0m \u001b[1;33m\u001b[0m\u001b[0m\n",
      "\u001b[1;32mpandas\\_libs\\parsers.pyx\u001b[0m in \u001b[0;36mpandas._libs.parsers.TextReader.__cinit__\u001b[1;34m()\u001b[0m\n",
      "\u001b[1;32mpandas\\_libs\\parsers.pyx\u001b[0m in \u001b[0;36mpandas._libs.parsers.TextReader._setup_parser_source\u001b[1;34m()\u001b[0m\n",
      "\u001b[1;31mFileNotFoundError\u001b[0m: [Errno 2] No such file or directory: '../splited_RASFF_DATA.csv'"
     ]
    }
   ],
   "source": [
    "data = pd.read_csv('../splited_RASFF_DATA.csv', sep=';', \n",
    "                header=0, index_col = 0)\n",
    "data = data.sample(frac = 1)\n",
    "df = data\n",
    "df"
   ]
  },
  {
   "cell_type": "markdown",
   "metadata": {
    "colab_type": "text",
    "id": "9pPNjLsA4vsm"
   },
   "source": [
    "# Basic Pre-processing"
   ]
  },
  {
   "cell_type": "code",
   "execution_count": 3,
   "metadata": {
    "ExecuteTime": {
     "end_time": "2019-11-07T09:58:35.113167Z",
     "start_time": "2019-11-07T09:58:34.979538Z"
    },
    "colab": {},
    "colab_type": "code",
    "id": "6DOLl9014vso"
   },
   "outputs": [],
   "source": [
    "df['HAZARDS_CAT'] = df['HAZARDS_CAT'].astype(str)\n",
    "df['DATE_CASE'] = df['DATE_CASE'].astype(str)\n",
    "df['DATE_CASE'] =pd.to_datetime(df.DATE_CASE)\n",
    "df['DATE_CASE'] = df.DATE_CASE.dt.month"
   ]
  },
  {
   "cell_type": "markdown",
   "metadata": {
    "colab_type": "text",
    "id": "ZCy43SqV4vss"
   },
   "source": [
    "# Features Selection"
   ]
  },
  {
   "cell_type": "code",
   "execution_count": 4,
   "metadata": {
    "ExecuteTime": {
     "end_time": "2019-11-07T09:58:39.169658Z",
     "start_time": "2019-11-07T09:58:39.161652Z"
    },
    "colab": {},
    "colab_type": "code",
    "id": "FIJhCA8f4vsu"
   },
   "outputs": [],
   "source": [
    "features = [0,1,6,8]\n",
    "target = [2]\n",
    "X = df.iloc[:,features]\n",
    "y = df.iloc[:,target]"
   ]
  },
  {
   "cell_type": "code",
   "execution_count": 5,
   "metadata": {
    "ExecuteTime": {
     "end_time": "2019-11-07T09:58:39.622387Z",
     "start_time": "2019-11-07T09:58:39.605432Z"
    },
    "colab": {},
    "colab_type": "code",
    "id": "60xhpgfs4vsy",
    "outputId": "f44ccac5-53f1-4dde-8495-7ba6df8702e8",
    "scrolled": true
   },
   "outputs": [
    {
     "data": {
      "text/html": [
       "<div>\n",
       "<style scoped>\n",
       "    .dataframe tbody tr th:only-of-type {\n",
       "        vertical-align: middle;\n",
       "    }\n",
       "\n",
       "    .dataframe tbody tr th {\n",
       "        vertical-align: top;\n",
       "    }\n",
       "\n",
       "    .dataframe thead th {\n",
       "        text-align: right;\n",
       "    }\n",
       "</style>\n",
       "<table border=\"1\" class=\"dataframe\">\n",
       "  <thead>\n",
       "    <tr style=\"text-align: right;\">\n",
       "      <th></th>\n",
       "      <th>DATE_CASE</th>\n",
       "      <th>NOT_COUNTRY</th>\n",
       "      <th>DISTRIBUTION_STAT</th>\n",
       "      <th>COUNT_ORIGEN</th>\n",
       "    </tr>\n",
       "  </thead>\n",
       "  <tbody>\n",
       "    <tr>\n",
       "      <th>33221</th>\n",
       "      <td>7</td>\n",
       "      <td>Netherlands</td>\n",
       "      <td>distribution to other member countries</td>\n",
       "      <td>United States</td>\n",
       "    </tr>\n",
       "    <tr>\n",
       "      <th>114570</th>\n",
       "      <td>9</td>\n",
       "      <td>Austria</td>\n",
       "      <td>distribution on the market (possible)</td>\n",
       "      <td>Taiwan</td>\n",
       "    </tr>\n",
       "    <tr>\n",
       "      <th>99242</th>\n",
       "      <td>9</td>\n",
       "      <td>Italy</td>\n",
       "      <td>distribution on the market (possible)</td>\n",
       "      <td>Germany</td>\n",
       "    </tr>\n",
       "    <tr>\n",
       "      <th>60993</th>\n",
       "      <td>9</td>\n",
       "      <td>Germany</td>\n",
       "      <td>distribution to other member countries</td>\n",
       "      <td>United States</td>\n",
       "    </tr>\n",
       "    <tr>\n",
       "      <th>26886</th>\n",
       "      <td>12</td>\n",
       "      <td>Spain</td>\n",
       "      <td>product not (yet) placed on the market</td>\n",
       "      <td>Seychelles</td>\n",
       "    </tr>\n",
       "    <tr>\n",
       "      <th>...</th>\n",
       "      <td>...</td>\n",
       "      <td>...</td>\n",
       "      <td>...</td>\n",
       "      <td>...</td>\n",
       "    </tr>\n",
       "    <tr>\n",
       "      <th>106339</th>\n",
       "      <td>9</td>\n",
       "      <td>United Kingdom</td>\n",
       "      <td>no distribution</td>\n",
       "      <td>United States</td>\n",
       "    </tr>\n",
       "    <tr>\n",
       "      <th>17333</th>\n",
       "      <td>6</td>\n",
       "      <td>Sweden</td>\n",
       "      <td>distribution to other member countries</td>\n",
       "      <td>Poland</td>\n",
       "    </tr>\n",
       "    <tr>\n",
       "      <th>77404</th>\n",
       "      <td>2</td>\n",
       "      <td>Germany</td>\n",
       "      <td>distribution to other member countries</td>\n",
       "      <td>Romania</td>\n",
       "    </tr>\n",
       "    <tr>\n",
       "      <th>36814</th>\n",
       "      <td>3</td>\n",
       "      <td>Greece</td>\n",
       "      <td>product not (yet) placed on the market</td>\n",
       "      <td>Nigeria</td>\n",
       "    </tr>\n",
       "    <tr>\n",
       "      <th>66970</th>\n",
       "      <td>3</td>\n",
       "      <td>Slovenia</td>\n",
       "      <td>distribution to other member countries</td>\n",
       "      <td>Italy</td>\n",
       "    </tr>\n",
       "  </tbody>\n",
       "</table>\n",
       "<p>141529 rows × 4 columns</p>\n",
       "</div>"
      ],
      "text/plain": [
       "        DATE_CASE     NOT_COUNTRY                       DISTRIBUTION_STAT  \\\n",
       "33221           7     Netherlands  distribution to other member countries   \n",
       "114570          9         Austria   distribution on the market (possible)   \n",
       "99242           9           Italy   distribution on the market (possible)   \n",
       "60993           9         Germany  distribution to other member countries   \n",
       "26886          12           Spain  product not (yet) placed on the market   \n",
       "...           ...             ...                                     ...   \n",
       "106339          9  United Kingdom                         no distribution   \n",
       "17333           6          Sweden  distribution to other member countries   \n",
       "77404           2         Germany  distribution to other member countries   \n",
       "36814           3          Greece  product not (yet) placed on the market   \n",
       "66970           3        Slovenia  distribution to other member countries   \n",
       "\n",
       "         COUNT_ORIGEN  \n",
       "33221   United States  \n",
       "114570         Taiwan  \n",
       "99242         Germany  \n",
       "60993   United States  \n",
       "26886      Seychelles  \n",
       "...               ...  \n",
       "106339  United States  \n",
       "17333          Poland  \n",
       "77404         Romania  \n",
       "36814         Nigeria  \n",
       "66970           Italy  \n",
       "\n",
       "[141529 rows x 4 columns]"
      ]
     },
     "execution_count": 5,
     "metadata": {},
     "output_type": "execute_result"
    }
   ],
   "source": [
    "X"
   ]
  },
  {
   "cell_type": "code",
   "execution_count": 6,
   "metadata": {
    "ExecuteTime": {
     "end_time": "2019-11-07T09:58:42.208891Z",
     "start_time": "2019-11-07T09:58:42.196950Z"
    },
    "colab": {},
    "colab_type": "code",
    "id": "FQCg4xQ54vs4",
    "outputId": "ea6ee104-d2da-4bd1-c289-19bd86ea7253",
    "scrolled": true
   },
   "outputs": [
    {
     "data": {
      "text/html": [
       "<div>\n",
       "<style scoped>\n",
       "    .dataframe tbody tr th:only-of-type {\n",
       "        vertical-align: middle;\n",
       "    }\n",
       "\n",
       "    .dataframe tbody tr th {\n",
       "        vertical-align: top;\n",
       "    }\n",
       "\n",
       "    .dataframe thead th {\n",
       "        text-align: right;\n",
       "    }\n",
       "</style>\n",
       "<table border=\"1\" class=\"dataframe\">\n",
       "  <thead>\n",
       "    <tr style=\"text-align: right;\">\n",
       "      <th></th>\n",
       "      <th>PROD_CAT</th>\n",
       "    </tr>\n",
       "  </thead>\n",
       "  <tbody>\n",
       "    <tr>\n",
       "      <th>33221</th>\n",
       "      <td>cereals and bakery products</td>\n",
       "    </tr>\n",
       "    <tr>\n",
       "      <th>114570</th>\n",
       "      <td>food contact materials</td>\n",
       "    </tr>\n",
       "    <tr>\n",
       "      <th>99242</th>\n",
       "      <td>milk and milk products</td>\n",
       "    </tr>\n",
       "    <tr>\n",
       "      <th>60993</th>\n",
       "      <td>dietetic foods, food supplements, fortified foods</td>\n",
       "    </tr>\n",
       "    <tr>\n",
       "      <th>26886</th>\n",
       "      <td>fish and fish products</td>\n",
       "    </tr>\n",
       "    <tr>\n",
       "      <th>...</th>\n",
       "      <td>...</td>\n",
       "    </tr>\n",
       "    <tr>\n",
       "      <th>106339</th>\n",
       "      <td>nuts, nut products and seeds</td>\n",
       "    </tr>\n",
       "    <tr>\n",
       "      <th>17333</th>\n",
       "      <td>fruits and vegetables</td>\n",
       "    </tr>\n",
       "    <tr>\n",
       "      <th>77404</th>\n",
       "      <td>prepared dishes and snacks</td>\n",
       "    </tr>\n",
       "    <tr>\n",
       "      <th>36814</th>\n",
       "      <td>nuts, nut products and seeds</td>\n",
       "    </tr>\n",
       "    <tr>\n",
       "      <th>66970</th>\n",
       "      <td>food additives and flavourings</td>\n",
       "    </tr>\n",
       "  </tbody>\n",
       "</table>\n",
       "<p>141529 rows × 1 columns</p>\n",
       "</div>"
      ],
      "text/plain": [
       "                                                 PROD_CAT\n",
       "33221                         cereals and bakery products\n",
       "114570                             food contact materials\n",
       "99242                              milk and milk products\n",
       "60993   dietetic foods, food supplements, fortified foods\n",
       "26886                              fish and fish products\n",
       "...                                                   ...\n",
       "106339                       nuts, nut products and seeds\n",
       "17333                               fruits and vegetables\n",
       "77404                          prepared dishes and snacks\n",
       "36814                        nuts, nut products and seeds\n",
       "66970                      food additives and flavourings\n",
       "\n",
       "[141529 rows x 1 columns]"
      ]
     },
     "execution_count": 6,
     "metadata": {},
     "output_type": "execute_result"
    }
   ],
   "source": [
    "y"
   ]
  },
  {
   "cell_type": "code",
   "execution_count": 7,
   "metadata": {
    "ExecuteTime": {
     "end_time": "2019-11-07T09:58:47.391416Z",
     "start_time": "2019-11-07T09:58:47.346535Z"
    },
    "colab": {},
    "colab_type": "code",
    "id": "lYMY6oXk4vs9"
   },
   "outputs": [],
   "source": [
    "ency = OneHotEncoder(handle_unknown='ignore', sparse = False)\n",
    "ency.fit(y.values)\n",
    "y_one_hot = ency.transform(y.values)"
   ]
  },
  {
   "cell_type": "markdown",
   "metadata": {
    "colab_type": "text",
    "id": "9pHebzer4vtB"
   },
   "source": [
    "# Test Data"
   ]
  },
  {
   "cell_type": "markdown",
   "metadata": {
    "colab_type": "text",
    "id": "6A-ocBgx4vtB"
   },
   "source": [
    "## Loaded"
   ]
  },
  {
   "cell_type": "code",
   "execution_count": 8,
   "metadata": {
    "ExecuteTime": {
     "end_time": "2019-11-07T09:58:50.434099Z",
     "start_time": "2019-11-07T09:58:50.374287Z"
    },
    "colab": {},
    "colab_type": "code",
    "id": "zxE6R8kd4vtC",
    "outputId": "1a598948-6c17-43fe-935d-1de27f80ed91"
   },
   "outputs": [
    {
     "data": {
      "text/html": [
       "<div>\n",
       "<style scoped>\n",
       "    .dataframe tbody tr th:only-of-type {\n",
       "        vertical-align: middle;\n",
       "    }\n",
       "\n",
       "    .dataframe tbody tr th {\n",
       "        vertical-align: top;\n",
       "    }\n",
       "\n",
       "    .dataframe thead th {\n",
       "        text-align: right;\n",
       "    }\n",
       "</style>\n",
       "<table border=\"1\" class=\"dataframe\">\n",
       "  <thead>\n",
       "    <tr style=\"text-align: right;\">\n",
       "      <th></th>\n",
       "      <th>DATE_CASE</th>\n",
       "      <th>NOT_COUNTRY</th>\n",
       "      <th>PROD_CAT</th>\n",
       "      <th>TYPE</th>\n",
       "      <th>RISK_DECISION</th>\n",
       "      <th>ACTION_TAKEN</th>\n",
       "      <th>DISTRIBUTION_STAT</th>\n",
       "      <th>HAZARDS_CAT</th>\n",
       "      <th>COUNT_ORIGEN</th>\n",
       "      <th>COUNT_DESTIN</th>\n",
       "      <th>COUNT_CONCERN</th>\n",
       "    </tr>\n",
       "  </thead>\n",
       "  <tbody>\n",
       "    <tr>\n",
       "      <th>215</th>\n",
       "      <td>2019-09-02</td>\n",
       "      <td>Italy</td>\n",
       "      <td>bivalve molluscs and products thereof</td>\n",
       "      <td>food</td>\n",
       "      <td>not serious</td>\n",
       "      <td>withdrawal from recipient(s)</td>\n",
       "      <td>distribution to other member countries</td>\n",
       "      <td>microbial contaminants (other)</td>\n",
       "      <td>Spain</td>\n",
       "      <td>Croatia</td>\n",
       "      <td></td>\n",
       "    </tr>\n",
       "    <tr>\n",
       "      <th>8023</th>\n",
       "      <td>2019-02-05</td>\n",
       "      <td>Belgium</td>\n",
       "      <td>prepared dishes and snacks</td>\n",
       "      <td>food</td>\n",
       "      <td>serious</td>\n",
       "      <td>import not authorised</td>\n",
       "      <td>distribution to other member countries</td>\n",
       "      <td>foreign bodies</td>\n",
       "      <td>Belgium</td>\n",
       "      <td>Luxembourg</td>\n",
       "      <td></td>\n",
       "    </tr>\n",
       "    <tr>\n",
       "      <th>8276</th>\n",
       "      <td>2019-01-30</td>\n",
       "      <td>Ireland</td>\n",
       "      <td>herbs and spices</td>\n",
       "      <td>food</td>\n",
       "      <td>serious</td>\n",
       "      <td>withdrawal from recipient(s)</td>\n",
       "      <td>distribution to other member countries</td>\n",
       "      <td>environmental pollutants</td>\n",
       "      <td>Czech Republic</td>\n",
       "      <td>Hungary</td>\n",
       "      <td>Denmark</td>\n",
       "    </tr>\n",
       "    <tr>\n",
       "      <th>9222</th>\n",
       "      <td>2019-01-21</td>\n",
       "      <td>Germany</td>\n",
       "      <td>fruits and vegetables</td>\n",
       "      <td>food</td>\n",
       "      <td>serious</td>\n",
       "      <td>withdrawal from the market</td>\n",
       "      <td>distribution to other member countries</td>\n",
       "      <td>composition</td>\n",
       "      <td>South Korea</td>\n",
       "      <td>Germany</td>\n",
       "      <td>INFOSAN</td>\n",
       "    </tr>\n",
       "    <tr>\n",
       "      <th>328</th>\n",
       "      <td>2019-08-30</td>\n",
       "      <td>Germany</td>\n",
       "      <td>feed materials</td>\n",
       "      <td>feed</td>\n",
       "      <td>serious</td>\n",
       "      <td>official detention</td>\n",
       "      <td>product not (yet) placed on the market</td>\n",
       "      <td>mycotoxins</td>\n",
       "      <td>Argentina</td>\n",
       "      <td></td>\n",
       "      <td>Germany</td>\n",
       "    </tr>\n",
       "    <tr>\n",
       "      <th>...</th>\n",
       "      <td>...</td>\n",
       "      <td>...</td>\n",
       "      <td>...</td>\n",
       "      <td>...</td>\n",
       "      <td>...</td>\n",
       "      <td>...</td>\n",
       "      <td>...</td>\n",
       "      <td>...</td>\n",
       "      <td>...</td>\n",
       "      <td>...</td>\n",
       "      <td>...</td>\n",
       "    </tr>\n",
       "    <tr>\n",
       "      <th>6410</th>\n",
       "      <td>2019-03-13</td>\n",
       "      <td>Poland</td>\n",
       "      <td>milk and milk products</td>\n",
       "      <td>food</td>\n",
       "      <td>serious</td>\n",
       "      <td>public warning - press release</td>\n",
       "      <td>distribution to other member countries</td>\n",
       "      <td>pathogenic micro-organisms</td>\n",
       "      <td>Poland</td>\n",
       "      <td>France</td>\n",
       "      <td>United Kingdom</td>\n",
       "    </tr>\n",
       "    <tr>\n",
       "      <th>4968</th>\n",
       "      <td>2019-04-18</td>\n",
       "      <td>Germany</td>\n",
       "      <td>nuts, nut products and seeds</td>\n",
       "      <td>food</td>\n",
       "      <td>serious</td>\n",
       "      <td>informing consignor</td>\n",
       "      <td>distribution restricted to notifying country</td>\n",
       "      <td>pathogenic micro-organisms</td>\n",
       "      <td>United States</td>\n",
       "      <td>Germany</td>\n",
       "      <td>INFOSAN</td>\n",
       "    </tr>\n",
       "    <tr>\n",
       "      <th>5705</th>\n",
       "      <td>2019-04-03</td>\n",
       "      <td>United Kingdom</td>\n",
       "      <td>poultry meat and poultry meat products</td>\n",
       "      <td>food</td>\n",
       "      <td>serious</td>\n",
       "      <td>re-dispatch</td>\n",
       "      <td>product not (yet) placed on the market</td>\n",
       "      <td>pathogenic micro-organisms</td>\n",
       "      <td>Brazil</td>\n",
       "      <td></td>\n",
       "      <td>United Kingdom</td>\n",
       "    </tr>\n",
       "    <tr>\n",
       "      <th>9439</th>\n",
       "      <td>2019-01-18</td>\n",
       "      <td>Hungary</td>\n",
       "      <td>dietetic foods, food supplements, fortified foods</td>\n",
       "      <td>food</td>\n",
       "      <td>serious</td>\n",
       "      <td>withdrawal from the market</td>\n",
       "      <td>distribution to other member countries</td>\n",
       "      <td>environmental pollutants</td>\n",
       "      <td>China</td>\n",
       "      <td>Romania</td>\n",
       "      <td>Germany</td>\n",
       "    </tr>\n",
       "    <tr>\n",
       "      <th>8995</th>\n",
       "      <td>2019-02-04</td>\n",
       "      <td>United Kingdom</td>\n",
       "      <td>pet food</td>\n",
       "      <td>feed</td>\n",
       "      <td>undecided</td>\n",
       "      <td>recall from consumers</td>\n",
       "      <td>distribution to other member countries</td>\n",
       "      <td>composition</td>\n",
       "      <td>United States</td>\n",
       "      <td>United Kingdom</td>\n",
       "      <td>Austria</td>\n",
       "    </tr>\n",
       "  </tbody>\n",
       "</table>\n",
       "<p>9835 rows × 11 columns</p>\n",
       "</div>"
      ],
      "text/plain": [
       "       DATE_CASE     NOT_COUNTRY  \\\n",
       "215   2019-09-02           Italy   \n",
       "8023  2019-02-05         Belgium   \n",
       "8276  2019-01-30         Ireland   \n",
       "9222  2019-01-21         Germany   \n",
       "328   2019-08-30         Germany   \n",
       "...          ...             ...   \n",
       "6410  2019-03-13          Poland   \n",
       "4968  2019-04-18         Germany   \n",
       "5705  2019-04-03  United Kingdom   \n",
       "9439  2019-01-18         Hungary   \n",
       "8995  2019-02-04  United Kingdom   \n",
       "\n",
       "                                               PROD_CAT  TYPE RISK_DECISION  \\\n",
       "215               bivalve molluscs and products thereof  food   not serious   \n",
       "8023                         prepared dishes and snacks  food       serious   \n",
       "8276                                   herbs and spices  food       serious   \n",
       "9222                              fruits and vegetables  food       serious   \n",
       "328                                      feed materials  feed       serious   \n",
       "...                                                 ...   ...           ...   \n",
       "6410                             milk and milk products  food       serious   \n",
       "4968                       nuts, nut products and seeds  food       serious   \n",
       "5705             poultry meat and poultry meat products  food       serious   \n",
       "9439  dietetic foods, food supplements, fortified foods  food       serious   \n",
       "8995                                           pet food  feed     undecided   \n",
       "\n",
       "                        ACTION_TAKEN  \\\n",
       "215     withdrawal from recipient(s)   \n",
       "8023           import not authorised   \n",
       "8276    withdrawal from recipient(s)   \n",
       "9222      withdrawal from the market   \n",
       "328               official detention   \n",
       "...                              ...   \n",
       "6410  public warning - press release   \n",
       "4968             informing consignor   \n",
       "5705                     re-dispatch   \n",
       "9439      withdrawal from the market   \n",
       "8995           recall from consumers   \n",
       "\n",
       "                                 DISTRIBUTION_STAT  \\\n",
       "215         distribution to other member countries   \n",
       "8023        distribution to other member countries   \n",
       "8276        distribution to other member countries   \n",
       "9222        distribution to other member countries   \n",
       "328         product not (yet) placed on the market   \n",
       "...                                            ...   \n",
       "6410        distribution to other member countries   \n",
       "4968  distribution restricted to notifying country   \n",
       "5705        product not (yet) placed on the market   \n",
       "9439        distribution to other member countries   \n",
       "8995        distribution to other member countries   \n",
       "\n",
       "                         HAZARDS_CAT    COUNT_ORIGEN    COUNT_DESTIN  \\\n",
       "215   microbial contaminants (other)           Spain         Croatia   \n",
       "8023                  foreign bodies         Belgium      Luxembourg   \n",
       "8276        environmental pollutants  Czech Republic         Hungary   \n",
       "9222                     composition     South Korea         Germany   \n",
       "328                       mycotoxins       Argentina                   \n",
       "...                              ...             ...             ...   \n",
       "6410      pathogenic micro-organisms          Poland          France   \n",
       "4968      pathogenic micro-organisms   United States         Germany   \n",
       "5705      pathogenic micro-organisms          Brazil                   \n",
       "9439        environmental pollutants           China         Romania   \n",
       "8995                     composition   United States  United Kingdom   \n",
       "\n",
       "       COUNT_CONCERN  \n",
       "215                   \n",
       "8023                  \n",
       "8276         Denmark  \n",
       "9222         INFOSAN  \n",
       "328          Germany  \n",
       "...              ...  \n",
       "6410  United Kingdom  \n",
       "4968         INFOSAN  \n",
       "5705  United Kingdom  \n",
       "9439         Germany  \n",
       "8995         Austria  \n",
       "\n",
       "[9835 rows x 11 columns]"
      ]
     },
     "execution_count": 8,
     "metadata": {},
     "output_type": "execute_result"
    }
   ],
   "source": [
    "#Este dataset que carga aquí no se usa nunca. Se sobreescriben sus variables.\n",
    "'''\n",
    "data = pd.read_csv('../splited_2019_RASFF_DATA_16092019.csv', sep=';', \n",
    "                header=0, index_col = 0)\n",
    "data = data.sample(frac = 1)\n",
    "test = data\n",
    "test\n",
    "'''"
   ]
  },
  {
   "cell_type": "markdown",
   "metadata": {
    "colab_type": "text",
    "id": "AwSriq4U4vtH"
   },
   "source": [
    "## Preprocessing"
   ]
  },
  {
   "cell_type": "code",
   "execution_count": 9,
   "metadata": {
    "ExecuteTime": {
     "end_time": "2019-11-07T09:58:51.753558Z",
     "start_time": "2019-11-07T09:58:51.747575Z"
    },
    "colab": {},
    "colab_type": "code",
    "id": "2zn9d1en4vtH"
   },
   "outputs": [],
   "source": [
    "'''\n",
    "test['HAZARDS_CAT'] = test['HAZARDS_CAT'].astype(str)\n",
    "test['DATE_CASE'] = test['DATE_CASE'].astype(str)\n",
    "test['DATE_CASE'] =pd.to_datetime(test.DATE_CASE)\n",
    "test['DATE_CASE'] = test.DATE_CASE.dt.month\n",
    "'''"
   ]
  },
  {
   "cell_type": "markdown",
   "metadata": {
    "colab_type": "text",
    "id": "Z8W5dWUy4vtM"
   },
   "source": [
    "## Features"
   ]
  },
  {
   "cell_type": "code",
   "execution_count": 10,
   "metadata": {
    "ExecuteTime": {
     "end_time": "2019-11-07T09:59:05.912763Z",
     "start_time": "2019-11-07T09:59:05.907777Z"
    },
    "colab": {},
    "colab_type": "code",
    "id": "eCJiBJTd4vtN"
   },
   "outputs": [],
   "source": [
    "features = [0,1,6,8]\n",
    "target = [2]\n",
    "'''\n",
    "X_val = test.iloc[:,features]\n",
    "y_val = test.iloc[:,target]\n",
    "'''"
   ]
  },
  {
   "cell_type": "code",
   "execution_count": 11,
   "metadata": {
    "ExecuteTime": {
     "end_time": "2019-11-07T09:59:06.840786Z",
     "start_time": "2019-11-07T09:59:06.834775Z"
    },
    "colab": {},
    "colab_type": "code",
    "id": "Yg_d5wdm4vtS"
   },
   "outputs": [],
   "source": [
    "y_val_one_hot = ency.transform(y_val.values)"
   ]
  },
  {
   "cell_type": "markdown",
   "metadata": {
    "colab_type": "text",
    "id": "nIFN4glP4vtY"
   },
   "source": [
    "# Split train-test-val"
   ]
  },
  {
   "cell_type": "code",
   "execution_count": 12,
   "metadata": {
    "ExecuteTime": {
     "end_time": "2019-11-07T09:59:26.331998Z",
     "start_time": "2019-11-07T09:59:26.328009Z"
    },
    "colab": {},
    "colab_type": "code",
    "id": "4Ywg0ZnU4vta"
   },
   "outputs": [],
   "source": [
    "categoical_vars = ['DATE_CASE','NOT_COUNTRY','DISTRIBUTION_STAT','COUNT_ORIGEN']"
   ]
  },
  {
   "cell_type": "code",
   "execution_count": 13,
   "metadata": {
    "ExecuteTime": {
     "end_time": "2019-11-07T09:59:27.517648Z",
     "start_time": "2019-11-07T09:59:27.475766Z"
    },
    "colab": {},
    "colab_type": "code",
    "id": "3Cxjq3aw4vte"
   },
   "outputs": [],
   "source": [
    "X_train, X_test, y_train, y_test = train_test_split(X, y_one_hot, test_size=0.2)"
   ]
  },
  {
   "cell_type": "code",
   "execution_count": 14,
   "metadata": {
    "ExecuteTime": {
     "end_time": "2019-11-07T09:59:27.703560Z",
     "start_time": "2019-11-07T09:59:27.700592Z"
    },
    "colab": {},
    "colab_type": "code",
    "id": "AzlpUO974vti"
   },
   "outputs": [],
   "source": [
    "X_train, X_val, y_train, y_val = train_test_split(X_train, y_train, test_size=0.25, random_state=42,shuffle = True)"
   ]
  },
  {
   "cell_type": "markdown",
   "metadata": {
    "colab_type": "text",
    "id": "mHCmO2P94vtn"
   },
   "source": [
    "# Coding and conversion to lists for being able to introduce it into the model"
   ]
  },
  {
   "cell_type": "code",
   "execution_count": 15,
   "metadata": {
    "ExecuteTime": {
     "end_time": "2019-11-07T09:59:28.471661Z",
     "start_time": "2019-11-07T09:59:28.466702Z"
    },
    "colab": {},
    "colab_type": "code",
    "id": "kXmAc-Hd4vtn"
   },
   "outputs": [],
   "source": [
    "def preproc(X_train, X_test, Xvalidation_data):\n",
    "    input_list_train = []\n",
    "    input_list_test = []\n",
    "    input_list_testval = []\n",
    "    \n",
    "    for c in categoical_vars:\n",
    "        raw_vals = np.unique(X_train[c])\n",
    "        val_map = {}\n",
    "        for i in range(len(raw_vals)):\n",
    "            val_map[raw_vals[i]] = i       \n",
    "        \n",
    "        input_list_train.append(X_train[c].map(val_map).values)\n",
    "        input_list_test.append(X_test[c].map(val_map).fillna(0).values)\n",
    "            input_list_testval.append(X_val[c].map(val_map).fillna(0).values)\n",
    "\n",
    "    return input_list_train, input_list_test,input_list_testval"
   ]
  },
  {
   "cell_type": "code",
   "execution_count": 16,
   "metadata": {
    "ExecuteTime": {
     "end_time": "2019-11-07T09:59:29.786581Z",
     "start_time": "2019-11-07T09:59:29.588085Z"
    },
    "colab": {},
    "colab_type": "code",
    "id": "q3nDJ1jc4vtp"
   },
   "outputs": [],
   "source": [
    "input_list_train,input_list_test,input_list_testval = preproc(X_train,X_test, X_val)"
   ]
  },
  {
   "cell_type": "markdown",
   "metadata": {
    "colab_type": "text",
    "id": "lF4wpn6G4vtt"
   },
   "source": [
    "# Metrics Definition"
   ]
  },
  {
   "cell_type": "code",
   "execution_count": 17,
   "metadata": {
    "ExecuteTime": {
     "end_time": "2019-11-07T09:59:36.711059Z",
     "start_time": "2019-11-07T09:59:36.707069Z"
    },
    "colab": {},
    "colab_type": "code",
    "id": "kmXV0Hix4vtu"
   },
   "outputs": [],
   "source": [
    "top3_acc = functools.partial(metrics.top_k_categorical_accuracy, k=3)\n",
    "top3_acc.__name__ = 'top3_acc'\n",
    "\n",
    "top2_acc = functools.partial(metrics.top_k_categorical_accuracy, k=3)\n",
    "top2_acc.__name__ = 'top2_acc'"
   ]
  },
  {
   "cell_type": "code",
   "execution_count": 18,
   "metadata": {
    "ExecuteTime": {
     "end_time": "2019-11-07T09:59:37.063768Z",
     "start_time": "2019-11-07T09:59:37.060776Z"
    },
    "colab": {},
    "colab_type": "code",
    "id": "g0Es5YDS4vtx"
   },
   "outputs": [],
   "source": [
    "def top_1_categorical_accuracy(y_true, y_pred):\n",
    "    return metrics.top_k_categorical_accuracy(y_true, y_pred, k=1) "
   ]
  },
  {
   "cell_type": "code",
   "execution_count": 19,
   "metadata": {
    "ExecuteTime": {
     "end_time": "2019-11-07T09:59:37.431036Z",
     "start_time": "2019-11-07T09:59:37.427024Z"
    },
    "colab": {},
    "colab_type": "code",
    "id": "TwP5FXfl4vt0"
   },
   "outputs": [],
   "source": [
    "def top_2_categorical_accuracy(y_true, y_pred):\n",
    "    return metrics.top_k_categorical_accuracy(y_true, y_pred, k=2) "
   ]
  },
  {
   "cell_type": "code",
   "execution_count": 20,
   "metadata": {
    "ExecuteTime": {
     "end_time": "2019-11-07T09:59:37.813431Z",
     "start_time": "2019-11-07T09:59:37.811432Z"
    },
    "colab": {},
    "colab_type": "code",
    "id": "RXl1GIFG4vt4"
   },
   "outputs": [],
   "source": [
    "def top_3_categorical_accuracy(y_true, y_pred):\n",
    "    return metrics.top_k_categorical_accuracy(y_true, y_pred, k=3) "
   ]
  },
  {
   "cell_type": "markdown",
   "metadata": {
    "colab_type": "text",
    "id": "criCy0OW4vt9"
   },
   "source": [
    "# Embeddings + mlp Models (cases 1 and 3)"
   ]
  },
  {
   "cell_type": "code",
   "execution_count": 21,
   "metadata": {
    "ExecuteTime": {
     "end_time": "2019-11-07T11:20:14.437025Z",
     "start_time": "2019-11-07T11:20:14.205645Z"
    },
    "colab": {},
    "colab_type": "code",
    "id": "_OY6J3cX4vt9"
   },
   "outputs": [],
   "source": [
    "input_models=[]\n",
    "output_embeddings=[]\n",
    "\n",
    "for categorical_var in categoical_vars:\n",
    "    cat_emb_name= categorical_var.replace(\" \", \"\")+'_Embedding'\n",
    "    input_name= 'Input_' + categorical_var.replace(\" \", \"\")\n",
    "    no_of_unique_cat  = X_train[categorical_var].nunique()\n",
    "    embedding_size = int(min(np.ceil((no_of_unique_cat)/2), 50 ))\n",
    "   \n",
    "    input_model = Input(shape=(1,), name=input_name)\n",
    "    output_model = Embedding(no_of_unique_cat, embedding_size, name=cat_emb_name)(input_model)\n",
    "    output_model = Reshape(target_shape=(embedding_size,))(output_model)    \n",
    "    \n",
    "    input_models.append(input_model)\n",
    "    output_embeddings.append(output_model)\n",
    "  \n",
    "\n",
    "output = Concatenate()(output_embeddings)\n",
    "output = Dense(2048,activation=\"relu\")(output)\n",
    "output= Dropout(0.3)(output)\n",
    "output = Dense(1024,activation=\"relu\")(output)\n",
    "output= Dropout(0.2)(output)\n",
    "output = Dense(512,activation=\"relu\")(output)\n",
    "output= Dropout(0.2)(output)\n",
    "output = Dense(38, activation='softmax')(output)\n",
    "model = Model(inputs=input_models, outputs=output)"
   ]
  },
  {
   "cell_type": "code",
   "execution_count": 22,
   "metadata": {
    "colab": {},
    "colab_type": "code",
    "id": "O0WRB4Ln4vuC"
   },
   "outputs": [],
   "source": [
    "model.compile(loss='categorical_crossentropy', optimizer=\"adam\", metrics=['accuracy', top_1_categorical_accuracy,top_2_categorical_accuracy,top_3_categorical_accuracy])"
   ]
  },
  {
   "cell_type": "code",
   "execution_count": 23,
   "metadata": {
    "ExecuteTime": {
     "end_time": "2019-11-07T11:22:01.539705Z",
     "start_time": "2019-11-07T11:20:15.149426Z"
    },
    "colab": {},
    "colab_type": "code",
    "id": "y5lTVZmY4vuF",
    "outputId": "df7d720b-a099-4d15-e28d-e7ebb639e227",
    "scrolled": true
   },
   "outputs": [
    {
     "name": "stdout",
     "output_type": "stream",
     "text": [
      "Epoch 1/5\n",
      "1327/1327 [==============================] - 22s 17ms/step - loss: 2.0725 - accuracy: 0.4326 - top_1_categorical_accuracy: 0.4326 - top_2_categorical_accuracy: 0.5604 - top_3_categorical_accuracy: 0.6400 - val_loss: 1.7501 - val_accuracy: 0.5160 - val_top_1_categorical_accuracy: 0.5160 - val_top_2_categorical_accuracy: 0.6459 - val_top_3_categorical_accuracy: 0.7183\n",
      "Epoch 2/5\n",
      "1327/1327 [==============================] - 22s 16ms/step - loss: 1.6500 - accuracy: 0.5382 - top_1_categorical_accuracy: 0.5382 - top_2_categorical_accuracy: 0.6693 - top_3_categorical_accuracy: 0.7397 - val_loss: 1.5060 - val_accuracy: 0.5789 - val_top_1_categorical_accuracy: 0.5789 - val_top_2_categorical_accuracy: 0.7061 - val_top_3_categorical_accuracy: 0.7715- top_1_categorical_accuracy: 0.5359 - top_2_categorical_accuracy: 0.6668 - top\n",
      "Epoch 3/5\n",
      "1327/1327 [==============================] - 21s 16ms/step - loss: 1.4496 - accuracy: 0.5883 - top_1_categorical_accuracy: 0.5883 - top_2_categorical_accuracy: 0.7191 - top_3_categorical_accuracy: 0.7865 - val_loss: 1.3786 - val_accuracy: 0.6142 - val_top_1_categorical_accuracy: 0.6142 - val_top_2_categorical_accuracy: 0.7393 - val_top_3_categorical_accuracy: 0.8040\n",
      "Epoch 4/5\n",
      "1327/1327 [==============================] - 21s 16ms/step - loss: 1.3169 - accuracy: 0.6222 - top_1_categorical_accuracy: 0.6222 - top_2_categorical_accuracy: 0.7513 - top_3_categorical_accuracy: 0.8148 - val_loss: 1.2875 - val_accuracy: 0.6294 - val_top_1_categorical_accuracy: 0.6294 - val_top_2_categorical_accuracy: 0.7608 - val_top_3_categorical_accuracy: 0.8220\n",
      "Epoch 5/5\n",
      "1327/1327 [==============================] - 21s 16ms/step - loss: 1.2142 - accuracy: 0.6428 - top_1_categorical_accuracy: 0.6428 - top_2_categorical_accuracy: 0.7749 - top_3_categorical_accuracy: 0.8373 - val_loss: 1.2315 - val_accuracy: 0.6475 - val_top_1_categorical_accuracy: 0.6475 - val_top_2_categorical_accuracy: 0.7747 - val_top_3_categorical_accuracy: 0.8320\n"
     ]
    }
   ],
   "source": [
    " hist = model.fit(input_list_train,y_train,validation_data=(input_list_test,y_test) , epochs = 5 , batch_size = 64, verbose=1)"
   ]
  },
  {
   "cell_type": "code",
   "execution_count": 24,
   "metadata": {
    "ExecuteTime": {
     "end_time": "2019-11-07T10:04:57.607967Z",
     "start_time": "2019-11-07T10:04:57.603000Z"
    },
    "colab": {},
    "colab_type": "code",
    "id": "_pISyeDB4vuI",
    "outputId": "b29ab044-1aab-40f2-cfd3-b84e3838cab0",
    "scrolled": true
   },
   "outputs": [
    {
     "name": "stdout",
     "output_type": "stream",
     "text": [
      "Model: \"model\"\n",
      "__________________________________________________________________________________________________\n",
      "Layer (type)                    Output Shape         Param #     Connected to                     \n",
      "==================================================================================================\n",
      "Input_DATE_CASE (InputLayer)    [(None, 1)]          0                                            \n",
      "__________________________________________________________________________________________________\n",
      "Input_NOT_COUNTRY (InputLayer)  [(None, 1)]          0                                            \n",
      "__________________________________________________________________________________________________\n",
      "Input_DISTRIBUTION_STAT (InputL [(None, 1)]          0                                            \n",
      "__________________________________________________________________________________________________\n",
      "Input_COUNT_ORIGEN (InputLayer) [(None, 1)]          0                                            \n",
      "__________________________________________________________________________________________________\n",
      "DATE_CASE_Embedding (Embedding) (None, 1, 6)         72          Input_DATE_CASE[0][0]            \n",
      "__________________________________________________________________________________________________\n",
      "NOT_COUNTRY_Embedding (Embeddin (None, 1, 16)        512         Input_NOT_COUNTRY[0][0]          \n",
      "__________________________________________________________________________________________________\n",
      "DISTRIBUTION_STAT_Embedding (Em (None, 1, 9)         153         Input_DISTRIBUTION_STAT[0][0]    \n",
      "__________________________________________________________________________________________________\n",
      "COUNT_ORIGEN_Embedding (Embeddi (None, 1, 50)        9150        Input_COUNT_ORIGEN[0][0]         \n",
      "__________________________________________________________________________________________________\n",
      "reshape (Reshape)               (None, 6)            0           DATE_CASE_Embedding[0][0]        \n",
      "__________________________________________________________________________________________________\n",
      "reshape_1 (Reshape)             (None, 16)           0           NOT_COUNTRY_Embedding[0][0]      \n",
      "__________________________________________________________________________________________________\n",
      "reshape_2 (Reshape)             (None, 9)            0           DISTRIBUTION_STAT_Embedding[0][0]\n",
      "__________________________________________________________________________________________________\n",
      "reshape_3 (Reshape)             (None, 50)           0           COUNT_ORIGEN_Embedding[0][0]     \n",
      "__________________________________________________________________________________________________\n",
      "concatenate (Concatenate)       (None, 81)           0           reshape[0][0]                    \n",
      "                                                                 reshape_1[0][0]                  \n",
      "                                                                 reshape_2[0][0]                  \n",
      "                                                                 reshape_3[0][0]                  \n",
      "__________________________________________________________________________________________________\n",
      "dense (Dense)                   (None, 2048)         167936      concatenate[0][0]                \n",
      "__________________________________________________________________________________________________\n",
      "dropout (Dropout)               (None, 2048)         0           dense[0][0]                      \n",
      "__________________________________________________________________________________________________\n",
      "dense_1 (Dense)                 (None, 1024)         2098176     dropout[0][0]                    \n",
      "__________________________________________________________________________________________________\n",
      "dropout_1 (Dropout)             (None, 1024)         0           dense_1[0][0]                    \n",
      "__________________________________________________________________________________________________\n",
      "dense_2 (Dense)                 (None, 512)          524800      dropout_1[0][0]                  \n",
      "__________________________________________________________________________________________________\n",
      "dropout_2 (Dropout)             (None, 512)          0           dense_2[0][0]                    \n",
      "__________________________________________________________________________________________________\n",
      "dense_3 (Dense)                 (None, 38)           19494       dropout_2[0][0]                  \n",
      "==================================================================================================\n",
      "Total params: 2,820,293\n",
      "Trainable params: 2,820,293\n",
      "Non-trainable params: 0\n",
      "__________________________________________________________________________________________________\n"
     ]
    }
   ],
   "source": [
    "model.summary()"
   ]
  },
  {
   "cell_type": "markdown",
   "metadata": {
    "colab_type": "text",
    "id": "EC9JKLqh4vuL"
   },
   "source": [
    "## Mean Efficiencies"
   ]
  },
  {
   "cell_type": "code",
   "execution_count": 26,
   "metadata": {
    "ExecuteTime": {
     "end_time": "2019-11-04T13:16:54.409763Z",
     "start_time": "2019-11-04T13:13:02.303336Z"
    },
    "colab": {},
    "colab_type": "code",
    "id": "B5n8TZuh4vuL",
    "scrolled": true
   },
   "outputs": [
    {
     "name": "stdout",
     "output_type": "stream",
     "text": [
      "885/885 [==============================] - 2s 3ms/step - loss: 1.3858 - accuracy: 0.6940 - top_1_categorical_accuracy: 0.6940 - top_2_categorical_accuracy: 0.8160 - top_3_categorical_accuracy: 0.8676\n",
      "885/885 [==============================] - 2s 3ms/step - loss: 1.4838 - accuracy: 0.6928 - top_1_categorical_accuracy: 0.6928 - top_2_categorical_accuracy: 0.8178 - top_3_categorical_accuracy: 0.8672\n",
      "885/885 [==============================] - 3s 3ms/step - loss: 1.5711 - accuracy: 0.6959 - top_1_categorical_accuracy: 0.6959 - top_2_categorical_accuracy: 0.8175 - top_3_categorical_accuracy: 0.8678\n",
      "885/885 [==============================] - 2s 3ms/step - loss: 1.6367 - accuracy: 0.6937 - top_1_categorical_accuracy: 0.6937 - top_2_categorical_accuracy: 0.8175 - top_3_categorical_accuracy: 0.8660\n",
      "885/885 [==============================] - 2s 3ms/step - loss: 1.5779 - accuracy: 0.6947 - top_1_categorical_accuracy: 0.6947 - top_2_categorical_accuracy: 0.8162 - top_3_categorical_accuracy: 0.8654\n"
     ]
    }
   ],
   "source": [
    "historials = []\n",
    "evaluations = []\n",
    "for i in range (1,6):\n",
    "    model.compile(loss='categorical_crossentropy', optimizer=\"adam\", metrics=['accuracy', top_1_categorical_accuracy,top_2_categorical_accuracy,top_3_categorical_accuracy])\n",
    "    hist = model.fit(input_list_train,y_train,validation_data=(input_list_test,y_test) , epochs = 25 , batch_size = 64, verbose=0)\n",
    "    historials.append(hist)\n",
    "    #evaluation = model.evaluate(x = input_list_testval, y =  y_val_one_hot)\n",
    "    evaluation = model.evaluate(x = input_list_testval, y =  y_val)\n",
    "    evaluations. append(evaluation)\n",
    "    model.save (\"model\"+str(i)+\".h5\")"
   ]
  },
  {
   "cell_type": "code",
   "execution_count": 27,
   "metadata": {
    "ExecuteTime": {
     "end_time": "2019-11-04T09:50:26.330206Z",
     "start_time": "2019-11-04T09:50:26.326244Z"
    },
    "colab": {},
    "colab_type": "code",
    "id": "m9isVZio4vuP"
   },
   "outputs": [
    {
     "name": "stdout",
     "output_type": "stream",
     "text": [
      "0.6942273616790772\n"
     ]
    }
   ],
   "source": [
    "suma = 0\n",
    "for i in evaluations:\n",
    "    suma = suma + i[2]\n",
    "print(suma/5)"
   ]
  },
  {
   "cell_type": "code",
   "execution_count": 28,
   "metadata": {
    "ExecuteTime": {
     "end_time": "2019-11-04T13:08:17.064591Z",
     "start_time": "2019-11-04T13:08:16.592853Z"
    },
    "colab": {},
    "colab_type": "code",
    "id": "SnCSpyFE4vuS",
    "outputId": "7b9394d5-1328-4fce-c268-f1afa890b03a"
   },
   "outputs": [
    {
     "name": "stdout",
     "output_type": "stream",
     "text": [
      "885/885 [==============================] - 2s 3ms/step - loss: 1.5779 - accuracy: 0.6947 - top_1_categorical_accuracy: 0.6947 - top_2_categorical_accuracy: 0.8162 - top_3_categorical_accuracy: 0.8654\n"
     ]
    },
    {
     "data": {
      "text/plain": [
       "[1.5778902769088745,\n",
       " 0.6946936845779419,\n",
       " 0.6946936845779419,\n",
       " 0.8162227272987366,\n",
       " 0.8653642535209656]"
      ]
     },
     "execution_count": 28,
     "metadata": {},
     "output_type": "execute_result"
    }
   ],
   "source": [
    "model.evaluate(x = input_list_testval, y = y_val)"
   ]
  },
  {
   "cell_type": "markdown",
   "metadata": {
    "colab_type": "text",
    "id": "QFaq9XwP4vuT"
   },
   "source": [
    "## Training Charts"
   ]
  },
  {
   "cell_type": "code",
   "execution_count": 29,
   "metadata": {
    "ExecuteTime": {
     "end_time": "2019-10-30T12:16:38.992828Z",
     "start_time": "2019-10-30T12:16:38.988858Z"
    },
    "colab": {},
    "colab_type": "code",
    "id": "TgmXgnHY4vuU",
    "outputId": "788dea65-bdde-4e22-a099-a46a53ba42ff"
   },
   "outputs": [
    {
     "data": {
      "text/plain": [
       "['loss',\n",
       " 'accuracy',\n",
       " 'top_1_categorical_accuracy',\n",
       " 'top_2_categorical_accuracy',\n",
       " 'top_3_categorical_accuracy']"
      ]
     },
     "execution_count": 29,
     "metadata": {},
     "output_type": "execute_result"
    }
   ],
   "source": [
    "model.metrics_names"
   ]
  },
  {
   "cell_type": "code",
   "execution_count": 30,
   "metadata": {
    "ExecuteTime": {
     "end_time": "2019-07-05T11:42:59.144102Z",
     "start_time": "2019-07-05T11:42:58.905719Z"
    },
    "colab": {},
    "colab_type": "code",
    "id": "XRuyJXBI4vuY",
    "outputId": "ac433aa9-647a-4f3f-aa51-c8c4af9ed15b"
   },
   "outputs": [
    {
     "data": {
      "image/png": "[encoded data removed]",
      "text/plain": [
       "<Figure size 432x288 with 1 Axes>"
      ]
     },
     "metadata": {
      "needs_background": "light"
     },
     "output_type": "display_data"
    },
    {
     "ename": "KeyError",
     "evalue": "'acc'",
     "output_type": "error",
     "traceback": [
      "\u001b[1;31m---------------------------------------------------------------------------\u001b[0m",
      "\u001b[1;31mKeyError\u001b[0m                                  Traceback (most recent call last)",
      "\u001b[1;32m<ipython-input-30-761f60af3549>\u001b[0m in \u001b[0;36m<module>\u001b[1;34m\u001b[0m\n\u001b[0;32m      5\u001b[0m \u001b[1;33m\u001b[0m\u001b[0m\n\u001b[0;32m      6\u001b[0m \u001b[1;33m\u001b[0m\u001b[0m\n\u001b[1;32m----> 7\u001b[1;33m \u001b[0mplt\u001b[0m\u001b[1;33m.\u001b[0m\u001b[0mplot\u001b[0m\u001b[1;33m(\u001b[0m\u001b[0mhist\u001b[0m\u001b[1;33m.\u001b[0m\u001b[0mhistory\u001b[0m\u001b[1;33m[\u001b[0m\u001b[1;34m'acc'\u001b[0m\u001b[1;33m]\u001b[0m\u001b[1;33m,\u001b[0m \u001b[0mlabel\u001b[0m \u001b[1;33m=\u001b[0m \u001b[1;34m'acc'\u001b[0m\u001b[1;33m)\u001b[0m\u001b[1;33m\u001b[0m\u001b[1;33m\u001b[0m\u001b[0m\n\u001b[0m\u001b[0;32m      8\u001b[0m \u001b[0mplt\u001b[0m\u001b[1;33m.\u001b[0m\u001b[0mplot\u001b[0m\u001b[1;33m(\u001b[0m\u001b[0mhist\u001b[0m\u001b[1;33m.\u001b[0m\u001b[0mhistory\u001b[0m\u001b[1;33m[\u001b[0m\u001b[1;34m'val_top_1_categorical_accuracy'\u001b[0m\u001b[1;33m]\u001b[0m\u001b[1;33m,\u001b[0m \u001b[0mlabel\u001b[0m \u001b[1;33m=\u001b[0m \u001b[1;34m'val_acc'\u001b[0m\u001b[1;33m)\u001b[0m\u001b[1;33m\u001b[0m\u001b[1;33m\u001b[0m\u001b[0m\n\u001b[0;32m      9\u001b[0m \u001b[0mplt\u001b[0m\u001b[1;33m.\u001b[0m\u001b[0mlegend\u001b[0m\u001b[1;33m(\u001b[0m\u001b[1;33m)\u001b[0m\u001b[1;33m\u001b[0m\u001b[1;33m\u001b[0m\u001b[0m\n",
      "\u001b[1;31mKeyError\u001b[0m: 'acc'"
     ]
    }
   ],
   "source": [
    "plt.plot(hist.history['loss'], label = 'loss') \n",
    "plt.plot(hist.history['val_loss'], label = 'val_loss') \n",
    "plt.legend()\n",
    "plt.show()\n",
    "\n",
    "\n",
    "plt.plot(hist.history['acc'], label = 'acc') \n",
    "plt.plot(hist.history['val_top_1_categorical_accuracy'], label = 'val_acc') \n",
    "plt.legend()\n",
    "plt.show()"
   ]
  },
  {
   "cell_type": "markdown",
   "metadata": {
    "colab_type": "text",
    "id": "N0pua58Q4vub"
   },
   "source": [
    "## Embeddings Representation Test"
   ]
  },
  {
   "cell_type": "code",
   "execution_count": null,
   "metadata": {
    "ExecuteTime": {
     "end_time": "2019-07-05T11:43:04.340600Z",
     "start_time": "2019-07-05T11:43:04.329611Z"
    },
    "colab": {},
    "colab_type": "code",
    "id": "m3_DWMGh4vub"
   },
   "outputs": [],
   "source": [
    "embeddings = model.layers[14].get_weights()[0]\n",
    "embeddings"
   ]
  },
  {
   "cell_type": "code",
   "execution_count": null,
   "metadata": {
    "ExecuteTime": {
     "end_time": "2019-03-26T10:21:21.612119Z",
     "start_time": "2019-03-26T10:21:21.607154Z"
    },
    "colab": {},
    "colab_type": "code",
    "id": "VMkPf37i4vud",
    "outputId": "98989f33-34f2-4807-d5dc-8e30a75d7b54"
   },
   "outputs": [],
   "source": [
    "embeddings[:,1]"
   ]
  },
  {
   "cell_type": "code",
   "execution_count": null,
   "metadata": {
    "ExecuteTime": {
     "end_time": "2019-03-26T10:21:38.651481Z",
     "start_time": "2019-03-26T10:21:38.567680Z"
    },
    "colab": {},
    "colab_type": "code",
    "id": "Bt8H91Xu4vug",
    "outputId": "5a00cea7-9cd0-412f-86cb-82512a0d593f"
   },
   "outputs": [],
   "source": [
    "import matplotlib.pyplot as plt\n",
    "plt.scatter(embeddings[:,0],embeddings[:,1]) \n",
    "plt.show()"
   ]
  },
  {
   "cell_type": "code",
   "execution_count": null,
   "metadata": {
    "ExecuteTime": {
     "end_time": "2019-03-26T10:32:35.858897Z",
     "start_time": "2019-03-26T10:32:35.736602Z"
    },
    "colab": {},
    "colab_type": "code",
    "id": "RcBBmqJX4vum",
    "outputId": "77690fa5-9080-44e4-f530-686f42c4e94b"
   },
   "outputs": [],
   "source": [
    "y = embeddings[:,0]\n",
    "z = embeddings[:,1]\n",
    "n = [6, 4, 1, 10,8,5,11,3,12,7,2,9]\n",
    "\n",
    "fig, ax = plt.subplots()\n",
    "ax.scatter(z, y)\n",
    "\n",
    "for i, txt in enumerate(n):\n",
    "    ax.annotate(txt, (z[i], y[i]))"
   ]
  },
  {
   "cell_type": "markdown",
   "metadata": {
    "colab_type": "text",
    "id": "Qk0OUmnL4vup"
   },
   "source": [
    "## Models Figure "
   ]
  },
  {
   "cell_type": "code",
   "execution_count": null,
   "metadata": {
    "ExecuteTime": {
     "end_time": "2019-05-28T12:45:15.959328Z",
     "start_time": "2019-05-28T12:45:15.607243Z"
    },
    "colab": {},
    "colab_type": "code",
    "id": "fh0Lno3Y4vup",
    "outputId": "060907b2-3ade-4d29-c76b-9013d6127663",
    "scrolled": true
   },
   "outputs": [],
   "source": [
    "plot_model(model, to_file='model3.png',show_shapes=True,show_layer_names=True)\n",
    "Image(retina=True, filename='model3.png')"
   ]
  },
  {
   "cell_type": "markdown",
   "metadata": {
    "colab_type": "text",
    "id": "J_PADux24vus"
   },
   "source": [
    "## Predictions and inverse transformations (converting the numerical prediction to the predicted category)"
   ]
  },
  {
   "cell_type": "code",
   "execution_count": null,
   "metadata": {
    "ExecuteTime": {
     "end_time": "2019-10-30T11:19:03.982854Z",
     "start_time": "2019-10-30T11:19:03.233830Z"
    },
    "colab": {},
    "colab_type": "code",
    "id": "w_RKDViY4vus",
    "outputId": "1367f275-2ec4-40fa-9056-2a2b6a149866",
    "scrolled": false
   },
   "outputs": [],
   "source": [
    "prediction = model.predict(input_list_test)\n",
    "prediction[0]"
   ]
  },
  {
   "cell_type": "code",
   "execution_count": null,
   "metadata": {
    "ExecuteTime": {
     "end_time": "2019-05-29T08:28:57.560215Z",
     "start_time": "2019-05-29T08:28:57.554231Z"
    },
    "colab": {},
    "colab_type": "code",
    "id": "C1Pu0Kiz4vuu",
    "outputId": "9f14a765-2404-4a52-8c60-a807852195bb",
    "scrolled": true
   },
   "outputs": [],
   "source": [
    "pred = np.around(prediction[12],decimals = 2)\n",
    "pred"
   ]
  },
  {
   "cell_type": "code",
   "execution_count": null,
   "metadata": {
    "ExecuteTime": {
     "end_time": "2019-05-29T08:29:08.534489Z",
     "start_time": "2019-05-29T08:29:08.529503Z"
    },
    "colab": {},
    "colab_type": "code",
    "id": "zyG-Bs4x4vux",
    "outputId": "973b0c41-b617-43f4-d50f-93587dce273b"
   },
   "outputs": [],
   "source": [
    "np.where(pred == 0.97)"
   ]
  },
  {
   "cell_type": "code",
   "execution_count": null,
   "metadata": {
    "ExecuteTime": {
     "end_time": "2019-05-29T08:29:16.262711Z",
     "start_time": "2019-05-29T08:29:16.258721Z"
    },
    "colab": {},
    "colab_type": "code",
    "id": "0cuu7prL4vuz"
   },
   "outputs": [],
   "source": [
    "pred[25] = 1"
   ]
  },
  {
   "cell_type": "code",
   "execution_count": null,
   "metadata": {
    "ExecuteTime": {
     "end_time": "2019-05-29T08:29:30.871409Z",
     "start_time": "2019-05-29T08:29:30.866446Z"
    },
    "colab": {},
    "colab_type": "code",
    "id": "mkNcOio44vu0",
    "outputId": "872c74dd-2ed9-49d3-8fb7-8a2e155d01f5"
   },
   "outputs": [],
   "source": [
    "ency.inverse_transform(np.around(pred.reshape(1, -1),decimals = 3)) #Prediction"
   ]
  },
  {
   "cell_type": "code",
   "execution_count": null,
   "metadata": {
    "ExecuteTime": {
     "end_time": "2019-05-29T08:29:45.430401Z",
     "start_time": "2019-05-29T08:29:45.426409Z"
    },
    "colab": {},
    "colab_type": "code",
    "id": "ETaxNiqL4vu2",
    "outputId": "7d729b9d-98ed-4d49-86d4-5cf0c6d0d6cd"
   },
   "outputs": [],
   "source": [
    "ency.inverse_transform(np.around(y_test[25].reshape(1, -1),decimals = 1)) #Reality"
   ]
  },
  {
   "cell_type": "markdown",
   "metadata": {
    "colab_type": "text",
    "id": "QP8Cvw294vu5"
   },
   "source": [
    "## Grid search tests"
   ]
  },
  {
   "cell_type": "code",
   "execution_count": null,
   "metadata": {
    "ExecuteTime": {
     "end_time": "2019-03-13T15:00:35.110033Z",
     "start_time": "2019-03-13T15:00:35.101028Z"
    },
    "colab": {},
    "colab_type": "code",
    "id": "2snO_9VV4vu6"
   },
   "outputs": [],
   "source": [
    "def create_model(activation = 'relu' ):\n",
    "    input_models=[]\n",
    "    output_embeddings=[]\n",
    "\n",
    "    for categorical_var in categoical_vars:\n",
    "        \n",
    "        cat_emb_name= categorical_var.replace(\" \", \"\")+'_Embedding'\n",
    "        input_name= 'Input_' + categorical_var.replace(\" \", \"\")\n",
    "        no_of_unique_cat  = X_train[categorical_var].nunique()\n",
    "        embedding_size = int(min(np.ceil((no_of_unique_cat)/2), 50 ))\n",
    "        input_model = Input(shape=(1,), name=input_name)\n",
    "        output_model = Embedding(no_of_unique_cat, embedding_size, name=cat_emb_name)(input_model)\n",
    "        output_model = Reshape(target_shape=(embedding_size,))(output_model)    \n",
    "        input_models.append(input_model)\n",
    "        output_embeddings.append(output_model)\n",
    "\n",
    "\n",
    "\n",
    "    output = Concatenate()(output_embeddings)\n",
    "    output = Dense(2500,activation=activation)(output)\n",
    "    output= Dropout(0.5)(output)\n",
    "    output = Dense(1500,activation=activation)(output)\n",
    "    output= Dropout(0.4)(output)\n",
    "    output = Dense(1000,activation=activation)(output)\n",
    "    output= Dropout(0.3)(output)\n",
    "    output = Dense(38, activation='softmax')(output)\n",
    "    model = Model(inputs=input_models, outputs=output)\n",
    "    model.compile(loss='categorical_crossentropy', optimizer=\"adam\", metrics=['categorical_accuracy'])\n",
    "    return model"
   ]
  },
  {
   "cell_type": "code",
   "execution_count": null,
   "metadata": {
    "ExecuteTime": {
     "end_time": "2019-03-13T15:00:35.944821Z",
     "start_time": "2019-03-13T15:00:35.940857Z"
    },
    "colab": {},
    "colab_type": "code",
    "id": "XP4UChhy4vu8"
   },
   "outputs": [],
   "source": [
    "model = KerasClassifier(build_fn=create_model, verbose=1,batch_size = 512, epochs = 1000)"
   ]
  },
  {
   "cell_type": "code",
   "execution_count": null,
   "metadata": {
    "ExecuteTime": {
     "end_time": "2019-03-13T15:00:37.088910Z",
     "start_time": "2019-03-13T15:00:37.084944Z"
    },
    "colab": {},
    "colab_type": "code",
    "id": "8VE399cu4vu_"
   },
   "outputs": [],
   "source": [
    "activation = ['softmax', 'softplus', 'softsign', 'relu', 'tanh', 'sigmoid', 'hard_sigmoid', 'linear']\n",
    "param_grid = dict(activation = activation)"
   ]
  },
  {
   "cell_type": "code",
   "execution_count": null,
   "metadata": {
    "ExecuteTime": {
     "end_time": "2019-03-13T15:00:52.023002Z",
     "start_time": "2019-03-13T15:00:51.989065Z"
    },
    "colab": {},
    "colab_type": "code",
    "id": "j4B13A_j4vvB"
   },
   "outputs": [],
   "source": [
    "grid = GridSearchCV(estimator=model, param_grid=param_grid, n_jobs=1, cv=2)\n",
    "grid_result = grid.fit(input_list_train,y_train,validation_data=(input_list_test,y_test))"
   ]
  },
  {
   "cell_type": "markdown",
   "metadata": {
    "colab_type": "text",
    "id": "9gwf03tj4vvD"
   },
   "source": [
    "# Embeddings Model + conv (case 2)"
   ]
  },
  {
   "cell_type": "code",
   "execution_count": null,
   "metadata": {
    "ExecuteTime": {
     "end_time": "2019-11-07T10:41:35.504028Z",
     "start_time": "2019-11-07T10:41:34.992375Z"
    },
    "colab": {},
    "colab_type": "code",
    "id": "-tzSKRMw4vvD"
   },
   "outputs": [],
   "source": [
    "input_models=[]\n",
    "output_embeddings=[]\n",
    "\n",
    "for categorical_var in categoical_vars:\n",
    "    \n",
    "    cat_emb_name= categorical_var.replace(\" \", \"\")+'_Embedding'\n",
    "    input_name= 'Input_' + categorical_var.replace(\" \", \"\")\n",
    "    no_of_unique_cat  = X_train[categorical_var].nunique()\n",
    "    embedding_size = int(min(np.ceil((no_of_unique_cat)/2), 50 ))\n",
    "    input_model = Input(shape=(1,), name=input_name)\n",
    "    output_model = Embedding(no_of_unique_cat, embedding_size, name=cat_emb_name)(input_model)\n",
    "    output_model = Reshape(target_shape=(embedding_size,))(output_model)    \n",
    "    input_models.append(input_model)\n",
    "    output_embeddings.append(output_model)\n",
    "\n",
    "output = Concatenate()(output_embeddings)\n",
    "\n",
    "output = Reshape(input_shape=(100,), target_shape=(100, 1))(output)\n",
    "\n",
    "\n",
    "output = Conv1D(filters=128,kernel_size=4, activation = \"relu\")(output)\n",
    "output = Conv1D(filters=128,kernel_size=4, activation = \"relu\")(output)\n",
    "output = BatchNormalization()(output)\n",
    "output = MaxPooling1D(pool_size=2)(output)\n",
    "\n",
    "output = Conv1D(filters=256,kernel_size=3, activation = \"relu\")(output)\n",
    "output = Conv1D(filters=256,kernel_size=3, activation = \"relu\")(output)\n",
    "output = BatchNormalization()(output)\n",
    "output = GlobalMaxPooling1D()(output)\n",
    "\n",
    "\n",
    "output = Dense(512, activation = \"relu\")(output)\n",
    "\n",
    "output = Dense(256, activation = \"relu\")(output)\n",
    "\n",
    "output = Dense(35, activation='softmax')(output)\n",
    "\n",
    "model = Model(inputs=input_models, outputs=output)\n",
    "\n",
    "\n",
    "model.compile(loss='categorical_crossentropy', optimizer=\"adam\", metrics=[top_1_categorical_accuracy,top_2_categorical_accuracy,top_3_categorical_accuracy])"
   ]
  },
  {
   "cell_type": "code",
   "execution_count": null,
   "metadata": {
    "ExecuteTime": {
     "end_time": "2019-11-07T10:41:35.781580Z",
     "start_time": "2019-11-07T10:41:35.775620Z"
    },
    "colab": {},
    "colab_type": "code",
    "id": "vcFBb8o14vvG",
    "outputId": "2c66122e-012d-473d-f2b2-3fe901323838"
   },
   "outputs": [],
   "source": [
    "model.summary()"
   ]
  },
  {
   "cell_type": "code",
   "execution_count": null,
   "metadata": {
    "ExecuteTime": {
     "end_time": "2019-11-07T10:41:36.988927Z",
     "start_time": "2019-11-07T10:41:36.543652Z"
    },
    "colab": {},
    "colab_type": "code",
    "id": "jgIWNjKd4vvI"
   },
   "outputs": [],
   "source": [
    "plot_model(model, to_file='model2.png',show_shapes=True,show_layer_names=True)\n",
    "Image(retina=True, filename='model2.png')"
   ]
  },
  {
   "cell_type": "code",
   "execution_count": null,
   "metadata": {
    "ExecuteTime": {
     "end_time": "2019-11-07T10:55:12.499089Z",
     "start_time": "2019-11-07T10:48:30.464147Z"
    },
    "colab": {},
    "colab_type": "code",
    "id": "61trnQV_4vvL",
    "outputId": "e16857a3-7aff-4c86-96fa-720495f896d4",
    "scrolled": true
   },
   "outputs": [],
   "source": [
    "hist = model.fit(input_list_train,y_train,validation_data=(input_list_test,y_test) , epochs =  25, batch_size = 64, verbose= 1)"
   ]
  },
  {
   "cell_type": "code",
   "execution_count": null,
   "metadata": {
    "ExecuteTime": {
     "end_time": "2019-05-29T10:35:41.668398Z",
     "start_time": "2019-05-29T10:35:41.518798Z"
    },
    "colab": {},
    "colab_type": "code",
    "id": "6g_T791_4vvN",
    "outputId": "dbf2d852-d7ea-41dc-f06d-a6809a916856"
   },
   "outputs": [],
   "source": [
    "model.evaluate(x = input_list_testval, y = y_val)"
   ]
  },
  {
   "cell_type": "code",
   "execution_count": null,
   "metadata": {
    "ExecuteTime": {
     "end_time": "2019-04-24T14:51:28.498386Z",
     "start_time": "2019-04-24T14:51:28.351524Z"
    },
    "colab": {},
    "colab_type": "code",
    "id": "1JJH3Qi14vvP"
   },
   "outputs": [],
   "source": [
    "plt.plot(hist.history['loss'], label = 'loss') \n",
    "plt.plot(hist.history['val_loss'], label = 'val_loss') \n",
    "plt.legend()\n",
    "plt.show()\n",
    "\n",
    "\n",
    "plt.plot(hist.history['categorical_accuracy'], label = 'acc') \n",
    "plt.plot(hist.history['val_categorical_accuracy'], label = 'val_acc') \n",
    "plt.legend()\n",
    "plt.show()"
   ]
  },
  {
   "cell_type": "code",
   "execution_count": null,
   "metadata": {},
   "outputs": [],
   "source": []
  }
 ],
 "metadata": {
  "colab": {
   "collapsed_sections": [],
   "name": "Categorical embedding.ipynb",
   "provenance": [],
   "toc_visible": true
  },
  "kernelspec": {
   "display_name": "Python 3",
   "language": "python",
   "name": "python3"
  },
  "language_info": {
   "codemirror_mode": {
    "name": "ipython",
    "version": 3
   },
   "file_extension": ".py",
   "mimetype": "text/x-python",
   "name": "python",
   "nbconvert_exporter": "python",
   "pygments_lexer": "ipython3",
   "version": "3.7.4"
  },
  "toc": {
   "base_numbering": 1,
   "nav_menu": {},
   "number_sections": true,
   "sideBar": true,
   "skip_h1_title": false,
   "title_cell": "Table of Contents",
   "title_sidebar": "Contents",
   "toc_cell": false,
   "toc_position": {},
   "toc_section_display": true,
   "toc_window_display": false
  }
 },
 "nbformat": 4,
 "nbformat_minor": 1
}
