{
 "cells": [
  {
   "cell_type": "code",
   "execution_count": 1,
   "metadata": {
    "ExecuteTime": {
     "end_time": "2019-05-28T11:09:44.092446Z",
     "start_time": "2019-05-28T11:09:40.569420Z"
    }
   },
   "outputs": [],
   "source": [
    "import numpy as np\n",
    "import pandas as pd\n",
    "import scipy.stats as stats"
   ]
  },
  {
   "cell_type": "code",
   "execution_count": 2,
   "metadata": {},
   "outputs": [],
   "source": [
    "data = pd.read_csv('../2004-2018_ALERTS.csv', sep=';', \n",
    "                   header=0, index_col = 0)\n",
    "data['DATE_CASE'] =pd.to_datetime(data.DATE_CASE, yearfirst=True, format = '%Y/%m/%d')"
   ]
  },
  {
   "cell_type": "code",
   "execution_count": 3,
   "metadata": {},
   "outputs": [],
   "source": [
    "columns = list(data)\n",
    "bad_columns = ['NUMBER','REF','SUBJET']\n",
    "q = 0.95 # % of confidence\n",
    "p_dict = {}"
   ]
  },
  {
   "cell_type": "code",
   "execution_count": 4,
   "metadata": {
    "ExecuteTime": {
     "end_time": "2019-05-28T11:36:25.630569Z",
     "start_time": "2019-05-28T11:29:29.594996Z"
    },
    "scrolled": true
   },
   "outputs": [
    {
     "name": "stdout",
     "output_type": "stream",
     "text": [
      "['CLASSIF', 'DATE_CASE', 'NOT_COUNTRY', 'PROD_CAT', 'TYPE', 'RISK_DECISION', 'ACTION_TAKEN', 'DISTRIBUTION_STAT', 'PRODUCT', 'HAZARDS', 'HAZARDS_CAT', 'COUNT_ORIGEN', 'COUNT_DESTIN', 'COUNT_CONCERN']\n"
     ]
    }
   ],
   "source": [
    "for b in bad_columns:\n",
    "    columns.remove(b)\n",
    "print(columns)\n",
    "for a in columns:\n",
    "    for i in columns:\n",
    "        equal = False\n",
    "        if a == i:\n",
    "            equal = True\n",
    "        if equal == False :\n",
    "            key = a + \" con \" + i\n",
    "            selected_data = pd.DataFrame(data.groupby([a,i]).size()).unstack(level=-1)[0]\n",
    "            selected_data.loc[i + '_Totals']= selected_data.sum()\n",
    "            selected_data[a + '_Totals'] = selected_data.sum(axis=1)\n",
    "            selected_data = selected_data.fillna(0)\n",
    "            selected_wo_totals = selected_data.iloc[0:len(selected_data.index)-1,0:len(selected_data.columns)-1]\n",
    "            x = len(selected_wo_totals.index)\n",
    "            y = len(selected_wo_totals.columns)\n",
    "            expected =  np.outer(selected_data[a + '_Totals'][0:x], selected_data.loc[i + '_Totals'][0:y]) / selected_data.iloc[x,y]\n",
    "            expected = pd.DataFrame(expected)\n",
    "            expected.columns = list(selected_wo_totals)\n",
    "            expected.index = selected_wo_totals.index.tolist()\n",
    "            chi_squared_stat_table = (((selected_wo_totals-expected)**2)/expected)\n",
    "            chi_squared_stat = (((selected_wo_totals-expected)**2)/expected).sum().sum()\n",
    "            dof = (x-1)*(y-1)\n",
    "            crit = stats.chi2.ppf(q = q, df = dof)   # Find the critical value for q confidence*\n",
    "            p_value = 1 - stats.chi2.cdf(x=chi_squared_stat, df=dof)\n",
    "            conti = stats.chi2_contingency(observed=selected_wo_totals)\n",
    "            p_dict[key] = conti[1]"
   ]
  },
  {
   "cell_type": "code",
   "execution_count": 5,
   "metadata": {
    "ExecuteTime": {
     "end_time": "2019-05-28T11:37:16.282987Z",
     "start_time": "2019-05-28T11:37:16.267053Z"
    },
    "scrolled": true
   },
   "outputs": [
    {
     "data": {
      "text/html": [
       "<div>\n",
       "<style scoped>\n",
       "    .dataframe tbody tr th:only-of-type {\n",
       "        vertical-align: middle;\n",
       "    }\n",
       "\n",
       "    .dataframe tbody tr th {\n",
       "        vertical-align: top;\n",
       "    }\n",
       "\n",
       "    .dataframe thead th {\n",
       "        text-align: right;\n",
       "    }\n",
       "</style>\n",
       "<table border=\"1\" class=\"dataframe\">\n",
       "  <thead>\n",
       "    <tr style=\"text-align: right;\">\n",
       "      <th></th>\n",
       "      <th>0</th>\n",
       "      <th>1</th>\n",
       "    </tr>\n",
       "  </thead>\n",
       "  <tbody>\n",
       "    <tr>\n",
       "      <th>0</th>\n",
       "      <td>CLASSIF con DATE_CASE</td>\n",
       "      <td>0.000000e+00</td>\n",
       "    </tr>\n",
       "    <tr>\n",
       "      <th>113</th>\n",
       "      <td>PRODUCT con HAZARDS_CAT</td>\n",
       "      <td>0.000000e+00</td>\n",
       "    </tr>\n",
       "    <tr>\n",
       "      <th>114</th>\n",
       "      <td>PRODUCT con COUNT_ORIGEN</td>\n",
       "      <td>0.000000e+00</td>\n",
       "    </tr>\n",
       "    <tr>\n",
       "      <th>115</th>\n",
       "      <td>PRODUCT con COUNT_DESTIN</td>\n",
       "      <td>0.000000e+00</td>\n",
       "    </tr>\n",
       "    <tr>\n",
       "      <th>117</th>\n",
       "      <td>HAZARDS con CLASSIF</td>\n",
       "      <td>0.000000e+00</td>\n",
       "    </tr>\n",
       "    <tr>\n",
       "      <th>...</th>\n",
       "      <td>...</td>\n",
       "      <td>...</td>\n",
       "    </tr>\n",
       "    <tr>\n",
       "      <th>53</th>\n",
       "      <td>TYPE con DATE_CASE</td>\n",
       "      <td>1.647631e-126</td>\n",
       "    </tr>\n",
       "    <tr>\n",
       "      <th>161</th>\n",
       "      <td>COUNT_DESTIN con RISK_DECISION</td>\n",
       "      <td>1.915048e-86</td>\n",
       "    </tr>\n",
       "    <tr>\n",
       "      <th>76</th>\n",
       "      <td>RISK_DECISION con COUNT_DESTIN</td>\n",
       "      <td>1.915048e-86</td>\n",
       "    </tr>\n",
       "    <tr>\n",
       "      <th>116</th>\n",
       "      <td>PRODUCT con COUNT_CONCERN</td>\n",
       "      <td>1.000000e+00</td>\n",
       "    </tr>\n",
       "    <tr>\n",
       "      <th>177</th>\n",
       "      <td>COUNT_CONCERN con PRODUCT</td>\n",
       "      <td>1.000000e+00</td>\n",
       "    </tr>\n",
       "  </tbody>\n",
       "</table>\n",
       "<p>182 rows × 2 columns</p>\n",
       "</div>"
      ],
      "text/plain": [
       "                                  0              1\n",
       "0             CLASSIF con DATE_CASE   0.000000e+00\n",
       "113         PRODUCT con HAZARDS_CAT   0.000000e+00\n",
       "114        PRODUCT con COUNT_ORIGEN   0.000000e+00\n",
       "115        PRODUCT con COUNT_DESTIN   0.000000e+00\n",
       "117             HAZARDS con CLASSIF   0.000000e+00\n",
       "..                              ...            ...\n",
       "53               TYPE con DATE_CASE  1.647631e-126\n",
       "161  COUNT_DESTIN con RISK_DECISION   1.915048e-86\n",
       "76   RISK_DECISION con COUNT_DESTIN   1.915048e-86\n",
       "116       PRODUCT con COUNT_CONCERN   1.000000e+00\n",
       "177       COUNT_CONCERN con PRODUCT   1.000000e+00\n",
       "\n",
       "[182 rows x 2 columns]"
      ]
     },
     "execution_count": 5,
     "metadata": {},
     "output_type": "execute_result"
    }
   ],
   "source": [
    "df_p = pd.DataFrame(list(p_dict.items()))\n",
    "df_p.sort_values(by=[1])"
   ]
  }
 ],
 "metadata": {
  "kernelspec": {
   "display_name": "Python 3",
   "language": "python",
   "name": "python3"
  },
  "language_info": {
   "codemirror_mode": {
    "name": "ipython",
    "version": 3
   },
   "file_extension": ".py",
   "mimetype": "text/x-python",
   "name": "python",
   "nbconvert_exporter": "python",
   "pygments_lexer": "ipython3",
   "version": "3.7.4"
  },
  "toc": {
   "base_numbering": 1,
   "nav_menu": {},
   "number_sections": true,
   "sideBar": true,
   "skip_h1_title": false,
   "title_cell": "Table of Contents",
   "title_sidebar": "Contents",
   "toc_cell": false,
   "toc_position": {},
   "toc_section_display": true,
   "toc_window_display": false
  }
 },
 "nbformat": 4,
 "nbformat_minor": 2
}
